{
  "nbformat": 4,
  "nbformat_minor": 0,
  "metadata": {
    "kernelspec": {
      "display_name": "Python 3",
      "language": "python",
      "name": "python3"
    },
    "language_info": {
      "codemirror_mode": {
        "name": "ipython",
        "version": 3
      },
      "file_extension": ".py",
      "mimetype": "text/x-python",
      "name": "python",
      "nbconvert_exporter": "python",
      "pygments_lexer": "ipython3",
      "version": "3.7.3"
    },
    "colab": {
      "name": "ecomm_analytics.ipynb",
      "provenance": [],
      "toc_visible": true
    }
  },
  "cells": [
    {
      "cell_type": "markdown",
      "metadata": {
        "id": "b8bxbi8v5-f4"
      },
      "source": [
        "# Online marketplace analytics"
      ]
    },
    {
      "cell_type": "markdown",
      "metadata": {
        "id": "jqJYK62s5-f-"
      },
      "source": [
        "Есть данные с бразильского маркетплейса. Они лежат в ClickHouse на удаленном сервере.\n",
        "\n",
        "Таблицы:\n",
        "* vk.orders\n",
        "* vk.products\n",
        "* vk.customers\n",
        "\n",
        "Для получения описания столбцов можно использовать [DESCRIBE TABLE](https://clickhouse.tech/docs/ru/sql-reference/statements/misc/#misc-describe-table)\n",
        "ClickHouse – колоночная база данных для хранения широких денормализованных таблиц. Поскольку у нас в день пишется в таблицу легко пишется >10кк строк, с ними необходимо работать максимально аккуратно. Поэтому введем следующие ограничения:\n",
        "* Никаких SELECT *\n",
        "* Максимально агрегировать данные в самом ClickHouse\n",
        "\n",
        "Полезный референс по функциям [тут](https://clickhouse.tech/docs/ru/sql-reference/aggregate-functions/reference/).\n",
        "\n",
        "Необходимо провести анализ покупок. Можно использовать любые данные и любые разрезы. Задание творческое, поэтому лучше всего ограничить себя по времени, чтобы не слишком зарываться.\n",
        "Оформить в виде *.ipynb максимально просто, чтобы любой менеджер мог его понять."
      ]
    },
    {
      "cell_type": "code",
      "metadata": {
        "id": "an29o_2W5-gB"
      },
      "source": [
        "# Сюда вставить свои логин/пароль, полученные от HR\n",
        "user = ''\n",
        "password = ''\n",
        "\n",
        "import requests\n",
        "import pandas as pd\n",
        "from io import StringIO\n",
        "from requests.auth import HTTPBasicAuth\n",
        "\n",
        "def get_df(query: str, user: str = user, password: str = password) -> pd.DataFrame:\n",
        "    ''''''\n",
        "    resp = requests.post(\n",
        "        'https://clickhouse.kkmagician.com/', \n",
        "        data=(query + \" FORMAT TSVWithNames\").encode('utf-8'), \n",
        "        auth=HTTPBasicAuth(user, password)\n",
        "    )\n",
        "\n",
        "    if resp.status_code == 200:\n",
        "        df = pd.read_csv(StringIO(resp.text), sep='\\t')\n",
        "        return df\n",
        "    else:\n",
        "        raise ValueError(resp.text)"
      ],
      "execution_count": null,
      "outputs": []
    },
    {
      "cell_type": "code",
      "metadata": {
        "id": "RjZuRvII5-gD"
      },
      "source": [
        "import plotly.express as px\n",
        "\n",
        "%matplotlib inline\n",
        "import matplotlib.pyplot as plt\n",
        "import seaborn as sns"
      ],
      "execution_count": null,
      "outputs": []
    },
    {
      "cell_type": "markdown",
      "metadata": {
        "id": "ievXO8aw5-gE"
      },
      "source": [
        "## Описание таблиц"
      ]
    },
    {
      "cell_type": "code",
      "metadata": {
        "id": "3CoLe2hN5-gF",
        "outputId": "0ff4341c-aec3-4cf7-ac80-c677dd799a35"
      },
      "source": [
        "get_df('describe vk.customers')"
      ],
      "execution_count": null,
      "outputs": [
        {
          "data": {
            "text/html": [
              "<div>\n",
              "<style scoped>\n",
              "    .dataframe tbody tr th:only-of-type {\n",
              "        vertical-align: middle;\n",
              "    }\n",
              "\n",
              "    .dataframe tbody tr th {\n",
              "        vertical-align: top;\n",
              "    }\n",
              "\n",
              "    .dataframe thead th {\n",
              "        text-align: right;\n",
              "    }\n",
              "</style>\n",
              "<table border=\"1\" class=\"dataframe\">\n",
              "  <thead>\n",
              "    <tr style=\"text-align: right;\">\n",
              "      <th></th>\n",
              "      <th>name</th>\n",
              "      <th>type</th>\n",
              "      <th>default_type</th>\n",
              "      <th>default_expression</th>\n",
              "      <th>comment</th>\n",
              "      <th>codec_expression</th>\n",
              "      <th>ttl_expression</th>\n",
              "    </tr>\n",
              "  </thead>\n",
              "  <tbody>\n",
              "    <tr>\n",
              "      <th>0</th>\n",
              "      <td>customer_id</td>\n",
              "      <td>UInt64</td>\n",
              "      <td>NaN</td>\n",
              "      <td>NaN</td>\n",
              "      <td>ID пользователя</td>\n",
              "      <td>NaN</td>\n",
              "      <td>NaN</td>\n",
              "    </tr>\n",
              "    <tr>\n",
              "      <th>1</th>\n",
              "      <td>customer_zip_code_prefix</td>\n",
              "      <td>Int32</td>\n",
              "      <td>NaN</td>\n",
              "      <td>NaN</td>\n",
              "      <td>Префикс индекса адреса пользователя. Можно исп...</td>\n",
              "      <td>NaN</td>\n",
              "      <td>NaN</td>\n",
              "    </tr>\n",
              "    <tr>\n",
              "      <th>2</th>\n",
              "      <td>customer_state</td>\n",
              "      <td>LowCardinality(String)</td>\n",
              "      <td>NaN</td>\n",
              "      <td>NaN</td>\n",
              "      <td>Штат, в котором проживает пользователь</td>\n",
              "      <td>NaN</td>\n",
              "      <td>NaN</td>\n",
              "    </tr>\n",
              "  </tbody>\n",
              "</table>\n",
              "</div>"
            ],
            "text/plain": [
              "                       name                    type  default_type  \\\n",
              "0               customer_id                  UInt64           NaN   \n",
              "1  customer_zip_code_prefix                   Int32           NaN   \n",
              "2            customer_state  LowCardinality(String)           NaN   \n",
              "\n",
              "   default_expression                                            comment  \\\n",
              "0                 NaN                                    ID пользователя   \n",
              "1                 NaN  Префикс индекса адреса пользователя. Можно исп...   \n",
              "2                 NaN             Штат, в котором проживает пользователь   \n",
              "\n",
              "   codec_expression  ttl_expression  \n",
              "0               NaN             NaN  \n",
              "1               NaN             NaN  \n",
              "2               NaN             NaN  "
            ]
          },
          "execution_count": 4,
          "metadata": {},
          "output_type": "execute_result"
        }
      ]
    },
    {
      "cell_type": "code",
      "metadata": {
        "id": "dH9O30N75-gH",
        "outputId": "b1fd54bf-8c5b-4c75-9a4a-66d032e45577"
      },
      "source": [
        "get_df('describe vk.orders')"
      ],
      "execution_count": null,
      "outputs": [
        {
          "data": {
            "text/html": [
              "<div>\n",
              "<style scoped>\n",
              "    .dataframe tbody tr th:only-of-type {\n",
              "        vertical-align: middle;\n",
              "    }\n",
              "\n",
              "    .dataframe tbody tr th {\n",
              "        vertical-align: top;\n",
              "    }\n",
              "\n",
              "    .dataframe thead th {\n",
              "        text-align: right;\n",
              "    }\n",
              "</style>\n",
              "<table border=\"1\" class=\"dataframe\">\n",
              "  <thead>\n",
              "    <tr style=\"text-align: right;\">\n",
              "      <th></th>\n",
              "      <th>name</th>\n",
              "      <th>type</th>\n",
              "      <th>default_type</th>\n",
              "      <th>default_expression</th>\n",
              "      <th>comment</th>\n",
              "      <th>codec_expression</th>\n",
              "      <th>ttl_expression</th>\n",
              "    </tr>\n",
              "  </thead>\n",
              "  <tbody>\n",
              "    <tr>\n",
              "      <th>0</th>\n",
              "      <td>order_id</td>\n",
              "      <td>UInt64</td>\n",
              "      <td>NaN</td>\n",
              "      <td>NaN</td>\n",
              "      <td>NaN</td>\n",
              "      <td>NaN</td>\n",
              "      <td>NaN</td>\n",
              "    </tr>\n",
              "    <tr>\n",
              "      <th>1</th>\n",
              "      <td>order_status</td>\n",
              "      <td>LowCardinality(String)</td>\n",
              "      <td>NaN</td>\n",
              "      <td>NaN</td>\n",
              "      <td>Последний статус заказа (т.к. это история, бол...</td>\n",
              "      <td>NaN</td>\n",
              "      <td>NaN</td>\n",
              "    </tr>\n",
              "    <tr>\n",
              "      <th>2</th>\n",
              "      <td>order_purchase_timestamp</td>\n",
              "      <td>DateTime</td>\n",
              "      <td>NaN</td>\n",
              "      <td>NaN</td>\n",
              "      <td>Время, когда пользователь совершил заказ</td>\n",
              "      <td>NaN</td>\n",
              "      <td>NaN</td>\n",
              "    </tr>\n",
              "    <tr>\n",
              "      <th>3</th>\n",
              "      <td>order_approved_at</td>\n",
              "      <td>DateTime</td>\n",
              "      <td>NaN</td>\n",
              "      <td>NaN</td>\n",
              "      <td>Время, когда магазин подтвердил заказ</td>\n",
              "      <td>NaN</td>\n",
              "      <td>NaN</td>\n",
              "    </tr>\n",
              "    <tr>\n",
              "      <th>4</th>\n",
              "      <td>order_delivered_carrier_date</td>\n",
              "      <td>DateTime</td>\n",
              "      <td>NaN</td>\n",
              "      <td>NaN</td>\n",
              "      <td>Время, когда заказ был доставлен службой доставки</td>\n",
              "      <td>NaN</td>\n",
              "      <td>NaN</td>\n",
              "    </tr>\n",
              "    <tr>\n",
              "      <th>5</th>\n",
              "      <td>order_delivered_customer_date</td>\n",
              "      <td>DateTime</td>\n",
              "      <td>NaN</td>\n",
              "      <td>NaN</td>\n",
              "      <td>Время, когда доставка была подтверждена пользо...</td>\n",
              "      <td>NaN</td>\n",
              "      <td>NaN</td>\n",
              "    </tr>\n",
              "    <tr>\n",
              "      <th>6</th>\n",
              "      <td>order_estimated_delivery_date</td>\n",
              "      <td>DateTime</td>\n",
              "      <td>NaN</td>\n",
              "      <td>NaN</td>\n",
              "      <td>Оценка даты доставки заказа на момент его сове...</td>\n",
              "      <td>NaN</td>\n",
              "      <td>NaN</td>\n",
              "    </tr>\n",
              "    <tr>\n",
              "      <th>7</th>\n",
              "      <td>customer_id</td>\n",
              "      <td>UInt64</td>\n",
              "      <td>NaN</td>\n",
              "      <td>NaN</td>\n",
              "      <td>NaN</td>\n",
              "      <td>NaN</td>\n",
              "      <td>NaN</td>\n",
              "    </tr>\n",
              "    <tr>\n",
              "      <th>8</th>\n",
              "      <td>order_item_id</td>\n",
              "      <td>UInt16</td>\n",
              "      <td>NaN</td>\n",
              "      <td>NaN</td>\n",
              "      <td>Порядковый номер товара в заказе</td>\n",
              "      <td>NaN</td>\n",
              "      <td>NaN</td>\n",
              "    </tr>\n",
              "    <tr>\n",
              "      <th>9</th>\n",
              "      <td>product_id</td>\n",
              "      <td>UInt64</td>\n",
              "      <td>NaN</td>\n",
              "      <td>NaN</td>\n",
              "      <td>NaN</td>\n",
              "      <td>NaN</td>\n",
              "      <td>NaN</td>\n",
              "    </tr>\n",
              "    <tr>\n",
              "      <th>10</th>\n",
              "      <td>seller_id</td>\n",
              "      <td>UInt64</td>\n",
              "      <td>NaN</td>\n",
              "      <td>NaN</td>\n",
              "      <td>ID магазина</td>\n",
              "      <td>NaN</td>\n",
              "      <td>NaN</td>\n",
              "    </tr>\n",
              "    <tr>\n",
              "      <th>11</th>\n",
              "      <td>price</td>\n",
              "      <td>Float32</td>\n",
              "      <td>NaN</td>\n",
              "      <td>NaN</td>\n",
              "      <td>Стоимость товара в бразильских рублях</td>\n",
              "      <td>NaN</td>\n",
              "      <td>NaN</td>\n",
              "    </tr>\n",
              "  </tbody>\n",
              "</table>\n",
              "</div>"
            ],
            "text/plain": [
              "                             name                    type  default_type  \\\n",
              "0                        order_id                  UInt64           NaN   \n",
              "1                    order_status  LowCardinality(String)           NaN   \n",
              "2        order_purchase_timestamp                DateTime           NaN   \n",
              "3               order_approved_at                DateTime           NaN   \n",
              "4    order_delivered_carrier_date                DateTime           NaN   \n",
              "5   order_delivered_customer_date                DateTime           NaN   \n",
              "6   order_estimated_delivery_date                DateTime           NaN   \n",
              "7                     customer_id                  UInt64           NaN   \n",
              "8                   order_item_id                  UInt16           NaN   \n",
              "9                      product_id                  UInt64           NaN   \n",
              "10                      seller_id                  UInt64           NaN   \n",
              "11                          price                 Float32           NaN   \n",
              "\n",
              "    default_expression                                            comment  \\\n",
              "0                  NaN                                                NaN   \n",
              "1                  NaN  Последний статус заказа (т.к. это история, бол...   \n",
              "2                  NaN           Время, когда пользователь совершил заказ   \n",
              "3                  NaN              Время, когда магазин подтвердил заказ   \n",
              "4                  NaN  Время, когда заказ был доставлен службой доставки   \n",
              "5                  NaN  Время, когда доставка была подтверждена пользо...   \n",
              "6                  NaN  Оценка даты доставки заказа на момент его сове...   \n",
              "7                  NaN                                                NaN   \n",
              "8                  NaN                   Порядковый номер товара в заказе   \n",
              "9                  NaN                                                NaN   \n",
              "10                 NaN                                        ID магазина   \n",
              "11                 NaN              Стоимость товара в бразильских рублях   \n",
              "\n",
              "    codec_expression  ttl_expression  \n",
              "0                NaN             NaN  \n",
              "1                NaN             NaN  \n",
              "2                NaN             NaN  \n",
              "3                NaN             NaN  \n",
              "4                NaN             NaN  \n",
              "5                NaN             NaN  \n",
              "6                NaN             NaN  \n",
              "7                NaN             NaN  \n",
              "8                NaN             NaN  \n",
              "9                NaN             NaN  \n",
              "10               NaN             NaN  \n",
              "11               NaN             NaN  "
            ]
          },
          "execution_count": 5,
          "metadata": {},
          "output_type": "execute_result"
        }
      ]
    },
    {
      "cell_type": "code",
      "metadata": {
        "id": "TF4VBorE5-gJ",
        "outputId": "8968dfb0-9c56-4ae1-e6b2-b7be9e8b4dea"
      },
      "source": [
        "get_df('describe vk.products')"
      ],
      "execution_count": null,
      "outputs": [
        {
          "data": {
            "text/html": [
              "<div>\n",
              "<style scoped>\n",
              "    .dataframe tbody tr th:only-of-type {\n",
              "        vertical-align: middle;\n",
              "    }\n",
              "\n",
              "    .dataframe tbody tr th {\n",
              "        vertical-align: top;\n",
              "    }\n",
              "\n",
              "    .dataframe thead th {\n",
              "        text-align: right;\n",
              "    }\n",
              "</style>\n",
              "<table border=\"1\" class=\"dataframe\">\n",
              "  <thead>\n",
              "    <tr style=\"text-align: right;\">\n",
              "      <th></th>\n",
              "      <th>name</th>\n",
              "      <th>type</th>\n",
              "      <th>default_type</th>\n",
              "      <th>default_expression</th>\n",
              "      <th>comment</th>\n",
              "      <th>codec_expression</th>\n",
              "      <th>ttl_expression</th>\n",
              "    </tr>\n",
              "  </thead>\n",
              "  <tbody>\n",
              "    <tr>\n",
              "      <th>0</th>\n",
              "      <td>product_id</td>\n",
              "      <td>UInt64</td>\n",
              "      <td>NaN</td>\n",
              "      <td>NaN</td>\n",
              "      <td>NaN</td>\n",
              "      <td>NaN</td>\n",
              "      <td>NaN</td>\n",
              "    </tr>\n",
              "    <tr>\n",
              "      <th>1</th>\n",
              "      <td>product_name_length</td>\n",
              "      <td>UInt16</td>\n",
              "      <td>NaN</td>\n",
              "      <td>NaN</td>\n",
              "      <td>Длина названия товара в символах</td>\n",
              "      <td>NaN</td>\n",
              "      <td>NaN</td>\n",
              "    </tr>\n",
              "    <tr>\n",
              "      <th>2</th>\n",
              "      <td>product_description_length</td>\n",
              "      <td>UInt32</td>\n",
              "      <td>NaN</td>\n",
              "      <td>NaN</td>\n",
              "      <td>Длина описания товара в символах</td>\n",
              "      <td>NaN</td>\n",
              "      <td>NaN</td>\n",
              "    </tr>\n",
              "    <tr>\n",
              "      <th>3</th>\n",
              "      <td>product_photos_qty</td>\n",
              "      <td>UInt16</td>\n",
              "      <td>NaN</td>\n",
              "      <td>NaN</td>\n",
              "      <td>Количество фото у товара</td>\n",
              "      <td>NaN</td>\n",
              "      <td>NaN</td>\n",
              "    </tr>\n",
              "    <tr>\n",
              "      <th>4</th>\n",
              "      <td>product_weight_g</td>\n",
              "      <td>UInt32</td>\n",
              "      <td>NaN</td>\n",
              "      <td>NaN</td>\n",
              "      <td>NaN</td>\n",
              "      <td>NaN</td>\n",
              "      <td>NaN</td>\n",
              "    </tr>\n",
              "    <tr>\n",
              "      <th>5</th>\n",
              "      <td>product_length_cm</td>\n",
              "      <td>UInt32</td>\n",
              "      <td>NaN</td>\n",
              "      <td>NaN</td>\n",
              "      <td>NaN</td>\n",
              "      <td>NaN</td>\n",
              "      <td>NaN</td>\n",
              "    </tr>\n",
              "    <tr>\n",
              "      <th>6</th>\n",
              "      <td>product_height_cm</td>\n",
              "      <td>UInt32</td>\n",
              "      <td>NaN</td>\n",
              "      <td>NaN</td>\n",
              "      <td>NaN</td>\n",
              "      <td>NaN</td>\n",
              "      <td>NaN</td>\n",
              "    </tr>\n",
              "    <tr>\n",
              "      <th>7</th>\n",
              "      <td>product_width_cm</td>\n",
              "      <td>UInt32</td>\n",
              "      <td>NaN</td>\n",
              "      <td>NaN</td>\n",
              "      <td>NaN</td>\n",
              "      <td>NaN</td>\n",
              "      <td>NaN</td>\n",
              "    </tr>\n",
              "    <tr>\n",
              "      <th>8</th>\n",
              "      <td>product_category_name</td>\n",
              "      <td>LowCardinality(String)</td>\n",
              "      <td>NaN</td>\n",
              "      <td>NaN</td>\n",
              "      <td>Категория товара</td>\n",
              "      <td>NaN</td>\n",
              "      <td>NaN</td>\n",
              "    </tr>\n",
              "  </tbody>\n",
              "</table>\n",
              "</div>"
            ],
            "text/plain": [
              "                         name                    type  default_type  \\\n",
              "0                  product_id                  UInt64           NaN   \n",
              "1         product_name_length                  UInt16           NaN   \n",
              "2  product_description_length                  UInt32           NaN   \n",
              "3          product_photos_qty                  UInt16           NaN   \n",
              "4            product_weight_g                  UInt32           NaN   \n",
              "5           product_length_cm                  UInt32           NaN   \n",
              "6           product_height_cm                  UInt32           NaN   \n",
              "7            product_width_cm                  UInt32           NaN   \n",
              "8       product_category_name  LowCardinality(String)           NaN   \n",
              "\n",
              "   default_expression                           comment  codec_expression  \\\n",
              "0                 NaN                               NaN               NaN   \n",
              "1                 NaN  Длина названия товара в символах               NaN   \n",
              "2                 NaN  Длина описания товара в символах               NaN   \n",
              "3                 NaN          Количество фото у товара               NaN   \n",
              "4                 NaN                               NaN               NaN   \n",
              "5                 NaN                               NaN               NaN   \n",
              "6                 NaN                               NaN               NaN   \n",
              "7                 NaN                               NaN               NaN   \n",
              "8                 NaN                  Категория товара               NaN   \n",
              "\n",
              "   ttl_expression  \n",
              "0             NaN  \n",
              "1             NaN  \n",
              "2             NaN  \n",
              "3             NaN  \n",
              "4             NaN  \n",
              "5             NaN  \n",
              "6             NaN  \n",
              "7             NaN  \n",
              "8             NaN  "
            ]
          },
          "execution_count": 6,
          "metadata": {},
          "output_type": "execute_result"
        }
      ]
    },
    {
      "cell_type": "markdown",
      "metadata": {
        "id": "wae0KNYe5-gL"
      },
      "source": [
        "## Аудитория маркетплейса"
      ]
    },
    {
      "cell_type": "code",
      "metadata": {
        "id": "aTAEa1kp5-gM"
      },
      "source": [
        "#Запрос: Среднее число клиентов по штатам\n",
        "cust_by_state = get_df('select customer_state,\\\n",
        "                               uniqExact(customer_id) as num_cust\\\n",
        "                        from vk.customers\\\n",
        "                        group by customer_state\\\n",
        "                        order by num_cust desc')"
      ],
      "execution_count": null,
      "outputs": []
    },
    {
      "cell_type": "code",
      "metadata": {
        "colab": {
          "base_uri": "https://localhost:8080/",
          "height": 542
        },
        "id": "F8mWK5ey5-gO",
        "outputId": "a1e97e22-e58e-47e7-cc8d-1794d21ad2ab"
      },
      "source": [
        "#График: Среднее число клиентов по штатам\n",
        "fig = px.bar(cust_by_state, x='customer_state', y='num_cust', labels={\n",
        "                     \"customer_state\": \"Штат\",\n",
        "                     \"num_cust\": \"Число покупателей\"\n",
        "                 }, title = 'Среднее число покупателей по штатам')\n",
        "fig.show()"
      ],
      "execution_count": null,
      "outputs": [
        {
          "output_type": "display_data",
          "data": {
            "text/html": [
              "<html>\n",
              "<head><meta charset=\"utf-8\" /></head>\n",
              "<body>\n",
              "    <div>\n",
              "            <script src=\"https://cdnjs.cloudflare.com/ajax/libs/mathjax/2.7.5/MathJax.js?config=TeX-AMS-MML_SVG\"></script><script type=\"text/javascript\">if (window.MathJax) {MathJax.Hub.Config({SVG: {font: \"STIX-Web\"}});}</script>\n",
              "                <script type=\"text/javascript\">window.PlotlyConfig = {MathJaxConfig: 'local'};</script>\n",
              "        <script src=\"https://cdn.plot.ly/plotly-latest.min.js\"></script>    \n",
              "            <div id=\"862462a7-e55f-4139-8981-da9db8fedb96\" class=\"plotly-graph-div\" style=\"height:525px; width:100%;\"></div>\n",
              "            <script type=\"text/javascript\">\n",
              "                \n",
              "                    window.PLOTLYENV=window.PLOTLYENV || {};\n",
              "                    \n",
              "                if (document.getElementById(\"862462a7-e55f-4139-8981-da9db8fedb96\")) {\n",
              "                    Plotly.newPlot(\n",
              "                        '862462a7-e55f-4139-8981-da9db8fedb96',\n",
              "                        [{\"alignmentgroup\": \"True\", \"hoverlabel\": {\"namelength\": 0}, \"hovertemplate\": \"\\u0428\\u0442\\u0430\\u0442=%{x}<br>\\u0427\\u0438\\u0441\\u043b\\u043e \\u043f\\u043e\\u043a\\u0443\\u043f\\u0430\\u0442\\u0435\\u043b\\u0435\\u0439=%{y}\", \"legendgroup\": \"\", \"marker\": {\"color\": \"#636efa\"}, \"name\": \"\", \"offsetgroup\": \"\", \"orientation\": \"v\", \"showlegend\": false, \"textposition\": \"auto\", \"type\": \"bar\", \"x\": [\"SP\", \"RJ\", \"MG\", \"RS\", \"PR\", \"SC\", \"BA\", \"DF\", \"ES\", \"GO\", \"PE\", \"CE\", \"PA\", \"MT\", \"MA\", \"MS\", \"PB\", \"PI\", \"RN\", \"AL\", \"SE\", \"TO\", \"RO\", \"AM\", \"AC\", \"AP\", \"RR\"], \"xaxis\": \"x\", \"y\": [40302, 12380, 11251, 5276, 4878, 3530, 3275, 2071, 1963, 1950, 1605, 1312, 949, 876, 725, 693, 517, 482, 474, 400, 342, 273, 240, 143, 77, 67, 45], \"yaxis\": \"y\"}],\n",
              "                        {\"barmode\": \"relative\", \"legend\": {\"tracegroupgap\": 0}, \"template\": {\"data\": {\"bar\": [{\"error_x\": {\"color\": \"#2a3f5f\"}, \"error_y\": {\"color\": \"#2a3f5f\"}, \"marker\": {\"line\": {\"color\": \"#E5ECF6\", \"width\": 0.5}}, \"type\": \"bar\"}], \"barpolar\": [{\"marker\": {\"line\": {\"color\": \"#E5ECF6\", \"width\": 0.5}}, \"type\": \"barpolar\"}], \"carpet\": [{\"aaxis\": {\"endlinecolor\": \"#2a3f5f\", \"gridcolor\": \"white\", \"linecolor\": \"white\", \"minorgridcolor\": \"white\", \"startlinecolor\": \"#2a3f5f\"}, \"baxis\": {\"endlinecolor\": \"#2a3f5f\", \"gridcolor\": \"white\", \"linecolor\": \"white\", \"minorgridcolor\": \"white\", \"startlinecolor\": \"#2a3f5f\"}, \"type\": \"carpet\"}], \"choropleth\": [{\"colorbar\": {\"outlinewidth\": 0, \"ticks\": \"\"}, \"type\": \"choropleth\"}], \"contour\": [{\"colorbar\": {\"outlinewidth\": 0, \"ticks\": \"\"}, \"colorscale\": [[0.0, \"#0d0887\"], [0.1111111111111111, \"#46039f\"], [0.2222222222222222, \"#7201a8\"], [0.3333333333333333, \"#9c179e\"], [0.4444444444444444, \"#bd3786\"], [0.5555555555555556, \"#d8576b\"], [0.6666666666666666, \"#ed7953\"], [0.7777777777777778, \"#fb9f3a\"], [0.8888888888888888, \"#fdca26\"], [1.0, \"#f0f921\"]], \"type\": \"contour\"}], \"contourcarpet\": [{\"colorbar\": {\"outlinewidth\": 0, \"ticks\": \"\"}, \"type\": \"contourcarpet\"}], \"heatmap\": [{\"colorbar\": {\"outlinewidth\": 0, \"ticks\": \"\"}, \"colorscale\": [[0.0, \"#0d0887\"], [0.1111111111111111, \"#46039f\"], [0.2222222222222222, \"#7201a8\"], [0.3333333333333333, \"#9c179e\"], [0.4444444444444444, \"#bd3786\"], [0.5555555555555556, \"#d8576b\"], [0.6666666666666666, \"#ed7953\"], [0.7777777777777778, \"#fb9f3a\"], [0.8888888888888888, \"#fdca26\"], [1.0, \"#f0f921\"]], \"type\": \"heatmap\"}], \"heatmapgl\": [{\"colorbar\": {\"outlinewidth\": 0, \"ticks\": \"\"}, \"colorscale\": [[0.0, \"#0d0887\"], [0.1111111111111111, \"#46039f\"], [0.2222222222222222, \"#7201a8\"], [0.3333333333333333, \"#9c179e\"], [0.4444444444444444, \"#bd3786\"], [0.5555555555555556, \"#d8576b\"], [0.6666666666666666, \"#ed7953\"], [0.7777777777777778, \"#fb9f3a\"], [0.8888888888888888, \"#fdca26\"], [1.0, \"#f0f921\"]], \"type\": \"heatmapgl\"}], \"histogram\": [{\"marker\": {\"colorbar\": {\"outlinewidth\": 0, \"ticks\": \"\"}}, \"type\": \"histogram\"}], \"histogram2d\": [{\"colorbar\": {\"outlinewidth\": 0, \"ticks\": \"\"}, \"colorscale\": [[0.0, \"#0d0887\"], [0.1111111111111111, \"#46039f\"], [0.2222222222222222, \"#7201a8\"], [0.3333333333333333, \"#9c179e\"], [0.4444444444444444, \"#bd3786\"], [0.5555555555555556, \"#d8576b\"], [0.6666666666666666, \"#ed7953\"], [0.7777777777777778, \"#fb9f3a\"], [0.8888888888888888, \"#fdca26\"], [1.0, \"#f0f921\"]], \"type\": \"histogram2d\"}], \"histogram2dcontour\": [{\"colorbar\": {\"outlinewidth\": 0, \"ticks\": \"\"}, \"colorscale\": [[0.0, \"#0d0887\"], [0.1111111111111111, \"#46039f\"], [0.2222222222222222, \"#7201a8\"], [0.3333333333333333, \"#9c179e\"], [0.4444444444444444, \"#bd3786\"], [0.5555555555555556, \"#d8576b\"], [0.6666666666666666, \"#ed7953\"], [0.7777777777777778, \"#fb9f3a\"], [0.8888888888888888, \"#fdca26\"], [1.0, \"#f0f921\"]], \"type\": \"histogram2dcontour\"}], \"mesh3d\": [{\"colorbar\": {\"outlinewidth\": 0, \"ticks\": \"\"}, \"type\": \"mesh3d\"}], \"parcoords\": [{\"line\": {\"colorbar\": {\"outlinewidth\": 0, \"ticks\": \"\"}}, \"type\": \"parcoords\"}], \"pie\": [{\"automargin\": true, \"type\": \"pie\"}], \"scatter\": [{\"marker\": {\"colorbar\": {\"outlinewidth\": 0, \"ticks\": \"\"}}, \"type\": \"scatter\"}], \"scatter3d\": [{\"line\": {\"colorbar\": {\"outlinewidth\": 0, \"ticks\": \"\"}}, \"marker\": {\"colorbar\": {\"outlinewidth\": 0, \"ticks\": \"\"}}, \"type\": \"scatter3d\"}], \"scattercarpet\": [{\"marker\": {\"colorbar\": {\"outlinewidth\": 0, \"ticks\": \"\"}}, \"type\": \"scattercarpet\"}], \"scattergeo\": [{\"marker\": {\"colorbar\": {\"outlinewidth\": 0, \"ticks\": \"\"}}, \"type\": \"scattergeo\"}], \"scattergl\": [{\"marker\": {\"colorbar\": {\"outlinewidth\": 0, \"ticks\": \"\"}}, \"type\": \"scattergl\"}], \"scattermapbox\": [{\"marker\": {\"colorbar\": {\"outlinewidth\": 0, \"ticks\": \"\"}}, \"type\": \"scattermapbox\"}], \"scatterpolar\": [{\"marker\": {\"colorbar\": {\"outlinewidth\": 0, \"ticks\": \"\"}}, \"type\": \"scatterpolar\"}], \"scatterpolargl\": [{\"marker\": {\"colorbar\": {\"outlinewidth\": 0, \"ticks\": \"\"}}, \"type\": \"scatterpolargl\"}], \"scatterternary\": [{\"marker\": {\"colorbar\": {\"outlinewidth\": 0, \"ticks\": \"\"}}, \"type\": \"scatterternary\"}], \"surface\": [{\"colorbar\": {\"outlinewidth\": 0, \"ticks\": \"\"}, \"colorscale\": [[0.0, \"#0d0887\"], [0.1111111111111111, \"#46039f\"], [0.2222222222222222, \"#7201a8\"], [0.3333333333333333, \"#9c179e\"], [0.4444444444444444, \"#bd3786\"], [0.5555555555555556, \"#d8576b\"], [0.6666666666666666, \"#ed7953\"], [0.7777777777777778, \"#fb9f3a\"], [0.8888888888888888, \"#fdca26\"], [1.0, \"#f0f921\"]], \"type\": \"surface\"}], \"table\": [{\"cells\": {\"fill\": {\"color\": \"#EBF0F8\"}, \"line\": {\"color\": \"white\"}}, \"header\": {\"fill\": {\"color\": \"#C8D4E3\"}, \"line\": {\"color\": \"white\"}}, \"type\": \"table\"}]}, \"layout\": {\"annotationdefaults\": {\"arrowcolor\": \"#2a3f5f\", \"arrowhead\": 0, \"arrowwidth\": 1}, \"coloraxis\": {\"colorbar\": {\"outlinewidth\": 0, \"ticks\": \"\"}}, \"colorscale\": {\"diverging\": [[0, \"#8e0152\"], [0.1, \"#c51b7d\"], [0.2, \"#de77ae\"], [0.3, \"#f1b6da\"], [0.4, \"#fde0ef\"], [0.5, \"#f7f7f7\"], [0.6, \"#e6f5d0\"], [0.7, \"#b8e186\"], [0.8, \"#7fbc41\"], [0.9, \"#4d9221\"], [1, \"#276419\"]], \"sequential\": [[0.0, \"#0d0887\"], [0.1111111111111111, \"#46039f\"], [0.2222222222222222, \"#7201a8\"], [0.3333333333333333, \"#9c179e\"], [0.4444444444444444, \"#bd3786\"], [0.5555555555555556, \"#d8576b\"], [0.6666666666666666, \"#ed7953\"], [0.7777777777777778, \"#fb9f3a\"], [0.8888888888888888, \"#fdca26\"], [1.0, \"#f0f921\"]], \"sequentialminus\": [[0.0, \"#0d0887\"], [0.1111111111111111, \"#46039f\"], [0.2222222222222222, \"#7201a8\"], [0.3333333333333333, \"#9c179e\"], [0.4444444444444444, \"#bd3786\"], [0.5555555555555556, \"#d8576b\"], [0.6666666666666666, \"#ed7953\"], [0.7777777777777778, \"#fb9f3a\"], [0.8888888888888888, \"#fdca26\"], [1.0, \"#f0f921\"]]}, \"colorway\": [\"#636efa\", \"#EF553B\", \"#00cc96\", \"#ab63fa\", \"#FFA15A\", \"#19d3f3\", \"#FF6692\", \"#B6E880\", \"#FF97FF\", \"#FECB52\"], \"font\": {\"color\": \"#2a3f5f\"}, \"geo\": {\"bgcolor\": \"white\", \"lakecolor\": \"white\", \"landcolor\": \"#E5ECF6\", \"showlakes\": true, \"showland\": true, \"subunitcolor\": \"white\"}, \"hoverlabel\": {\"align\": \"left\"}, \"hovermode\": \"closest\", \"mapbox\": {\"style\": \"light\"}, \"paper_bgcolor\": \"white\", \"plot_bgcolor\": \"#E5ECF6\", \"polar\": {\"angularaxis\": {\"gridcolor\": \"white\", \"linecolor\": \"white\", \"ticks\": \"\"}, \"bgcolor\": \"#E5ECF6\", \"radialaxis\": {\"gridcolor\": \"white\", \"linecolor\": \"white\", \"ticks\": \"\"}}, \"scene\": {\"xaxis\": {\"backgroundcolor\": \"#E5ECF6\", \"gridcolor\": \"white\", \"gridwidth\": 2, \"linecolor\": \"white\", \"showbackground\": true, \"ticks\": \"\", \"zerolinecolor\": \"white\"}, \"yaxis\": {\"backgroundcolor\": \"#E5ECF6\", \"gridcolor\": \"white\", \"gridwidth\": 2, \"linecolor\": \"white\", \"showbackground\": true, \"ticks\": \"\", \"zerolinecolor\": \"white\"}, \"zaxis\": {\"backgroundcolor\": \"#E5ECF6\", \"gridcolor\": \"white\", \"gridwidth\": 2, \"linecolor\": \"white\", \"showbackground\": true, \"ticks\": \"\", \"zerolinecolor\": \"white\"}}, \"shapedefaults\": {\"line\": {\"color\": \"#2a3f5f\"}}, \"ternary\": {\"aaxis\": {\"gridcolor\": \"white\", \"linecolor\": \"white\", \"ticks\": \"\"}, \"baxis\": {\"gridcolor\": \"white\", \"linecolor\": \"white\", \"ticks\": \"\"}, \"bgcolor\": \"#E5ECF6\", \"caxis\": {\"gridcolor\": \"white\", \"linecolor\": \"white\", \"ticks\": \"\"}}, \"title\": {\"x\": 0.05}, \"xaxis\": {\"automargin\": true, \"gridcolor\": \"white\", \"linecolor\": \"white\", \"ticks\": \"\", \"title\": {\"standoff\": 15}, \"zerolinecolor\": \"white\", \"zerolinewidth\": 2}, \"yaxis\": {\"automargin\": true, \"gridcolor\": \"white\", \"linecolor\": \"white\", \"ticks\": \"\", \"title\": {\"standoff\": 15}, \"zerolinecolor\": \"white\", \"zerolinewidth\": 2}}}, \"title\": {\"text\": \"\\u0421\\u0440\\u0435\\u0434\\u043d\\u0435\\u0435 \\u0447\\u0438\\u0441\\u043b\\u043e \\u043f\\u043e\\u043a\\u0443\\u043f\\u0430\\u0442\\u0435\\u043b\\u0435\\u0439 \\u043f\\u043e \\u0448\\u0442\\u0430\\u0442\\u0430\\u043c\"}, \"xaxis\": {\"anchor\": \"y\", \"domain\": [0.0, 1.0], \"title\": {\"text\": \"\\u0428\\u0442\\u0430\\u0442\"}}, \"yaxis\": {\"anchor\": \"x\", \"domain\": [0.0, 1.0], \"title\": {\"text\": \"\\u0427\\u0438\\u0441\\u043b\\u043e \\u043f\\u043e\\u043a\\u0443\\u043f\\u0430\\u0442\\u0435\\u043b\\u0435\\u0439\"}}},\n",
              "                        {\"responsive\": true}\n",
              "                    ).then(function(){\n",
              "                            \n",
              "var gd = document.getElementById('862462a7-e55f-4139-8981-da9db8fedb96');\n",
              "var x = new MutationObserver(function (mutations, observer) {{\n",
              "        var display = window.getComputedStyle(gd).display;\n",
              "        if (!display || display === 'none') {{\n",
              "            console.log([gd, 'removed!']);\n",
              "            Plotly.purge(gd);\n",
              "            observer.disconnect();\n",
              "        }}\n",
              "}});\n",
              "\n",
              "// Listen for the removal of the full notebook cells\n",
              "var notebookContainer = gd.closest('#notebook-container');\n",
              "if (notebookContainer) {{\n",
              "    x.observe(notebookContainer, {childList: true});\n",
              "}}\n",
              "\n",
              "// Listen for the clearing of the current output cell\n",
              "var outputEl = gd.closest('.output');\n",
              "if (outputEl) {{\n",
              "    x.observe(outputEl, {childList: true});\n",
              "}}\n",
              "\n",
              "                        })\n",
              "                };\n",
              "                \n",
              "            </script>\n",
              "        </div>\n",
              "</body>\n",
              "</html>"
            ]
          },
          "metadata": {}
        }
      ]
    },
    {
      "cell_type": "code",
      "metadata": {
        "id": "8UZsYdoL5-gQ"
      },
      "source": [
        "#Число активных клиентов в месяц (данные)\n",
        "MAU_all = get_df('select toStartOfMonth(r.order_purchase_timestamp) as so_month,\\\n",
        "                         uniqExact(l.customer_id) as num_cust\\\n",
        "                  from vk.customers as l\\\n",
        "                  join vk.orders as r\\\n",
        "                  on l.customer_id = r.customer_id\\\n",
        "                  group by so_month\\\n",
        "                  order by so_month asc')"
      ],
      "execution_count": null,
      "outputs": []
    },
    {
      "cell_type": "code",
      "metadata": {
        "colab": {
          "base_uri": "https://localhost:8080/",
          "height": 542
        },
        "id": "XR2n2t7V5-gS",
        "outputId": "a09ec0cd-1c46-4cdf-eaa7-d5341197c8b1"
      },
      "source": [
        "#Число активных клиентов в месяц (график)\n",
        "fig = px.line(MAU_all[MAU_all.so_month < '2018-09-01'], x=\"so_month\", y=\"num_cust\",\\\n",
        "              labels={\n",
        "                     \"so_month\": \"\",\n",
        "                     \"num_cust\": \"Число покупателей\"\n",
        "                 }, title='Число активных покупателей по месяцам')\n",
        "fig.show()"
      ],
      "execution_count": null,
      "outputs": [
        {
          "output_type": "display_data",
          "data": {
            "text/html": [
              "<html>\n",
              "<head><meta charset=\"utf-8\" /></head>\n",
              "<body>\n",
              "    <div>\n",
              "            <script src=\"https://cdnjs.cloudflare.com/ajax/libs/mathjax/2.7.5/MathJax.js?config=TeX-AMS-MML_SVG\"></script><script type=\"text/javascript\">if (window.MathJax) {MathJax.Hub.Config({SVG: {font: \"STIX-Web\"}});}</script>\n",
              "                <script type=\"text/javascript\">window.PlotlyConfig = {MathJaxConfig: 'local'};</script>\n",
              "        <script src=\"https://cdn.plot.ly/plotly-latest.min.js\"></script>    \n",
              "            <div id=\"31974eca-5a2a-40d1-9620-c47c4a487443\" class=\"plotly-graph-div\" style=\"height:525px; width:100%;\"></div>\n",
              "            <script type=\"text/javascript\">\n",
              "                \n",
              "                    window.PLOTLYENV=window.PLOTLYENV || {};\n",
              "                    \n",
              "                if (document.getElementById(\"31974eca-5a2a-40d1-9620-c47c4a487443\")) {\n",
              "                    Plotly.newPlot(\n",
              "                        '31974eca-5a2a-40d1-9620-c47c4a487443',\n",
              "                        [{\"hoverlabel\": {\"namelength\": 0}, \"hovertemplate\": \"=%{x}<br>\\u0427\\u0438\\u0441\\u043b\\u043e \\u043f\\u043e\\u043a\\u0443\\u043f\\u0430\\u0442\\u0435\\u043b\\u0435\\u0439=%{y}\", \"legendgroup\": \"\", \"line\": {\"color\": \"#636efa\", \"dash\": \"solid\"}, \"mode\": \"lines\", \"name\": \"\", \"showlegend\": false, \"type\": \"scatter\", \"x\": [\"2016-09-01\", \"2016-10-01\", \"2016-12-01\", \"2017-01-01\", \"2017-02-01\", \"2017-03-01\", \"2017-04-01\", \"2017-05-01\", \"2017-06-01\", \"2017-07-01\", \"2017-08-01\", \"2017-09-01\", \"2017-10-01\", \"2017-11-01\", \"2017-12-01\", \"2018-01-01\", \"2018-02-01\", \"2018-03-01\", \"2018-04-01\", \"2018-05-01\", \"2018-06-01\", \"2018-07-01\", \"2018-08-01\"], \"xaxis\": \"x\", \"y\": [3, 305, 1, 755, 1708, 2601, 2359, 3588, 3154, 3894, 4211, 4170, 4501, 7342, 5557, 7120, 6537, 7096, 6878, 6795, 6121, 6211, 6411], \"yaxis\": \"y\"}],\n",
              "                        {\"legend\": {\"tracegroupgap\": 0}, \"template\": {\"data\": {\"bar\": [{\"error_x\": {\"color\": \"#2a3f5f\"}, \"error_y\": {\"color\": \"#2a3f5f\"}, \"marker\": {\"line\": {\"color\": \"#E5ECF6\", \"width\": 0.5}}, \"type\": \"bar\"}], \"barpolar\": [{\"marker\": {\"line\": {\"color\": \"#E5ECF6\", \"width\": 0.5}}, \"type\": \"barpolar\"}], \"carpet\": [{\"aaxis\": {\"endlinecolor\": \"#2a3f5f\", \"gridcolor\": \"white\", \"linecolor\": \"white\", \"minorgridcolor\": \"white\", \"startlinecolor\": \"#2a3f5f\"}, \"baxis\": {\"endlinecolor\": \"#2a3f5f\", \"gridcolor\": \"white\", \"linecolor\": \"white\", \"minorgridcolor\": \"white\", \"startlinecolor\": \"#2a3f5f\"}, \"type\": \"carpet\"}], \"choropleth\": [{\"colorbar\": {\"outlinewidth\": 0, \"ticks\": \"\"}, \"type\": \"choropleth\"}], \"contour\": [{\"colorbar\": {\"outlinewidth\": 0, \"ticks\": \"\"}, \"colorscale\": [[0.0, \"#0d0887\"], [0.1111111111111111, \"#46039f\"], [0.2222222222222222, \"#7201a8\"], [0.3333333333333333, \"#9c179e\"], [0.4444444444444444, \"#bd3786\"], [0.5555555555555556, \"#d8576b\"], [0.6666666666666666, \"#ed7953\"], [0.7777777777777778, \"#fb9f3a\"], [0.8888888888888888, \"#fdca26\"], [1.0, \"#f0f921\"]], \"type\": \"contour\"}], \"contourcarpet\": [{\"colorbar\": {\"outlinewidth\": 0, \"ticks\": \"\"}, \"type\": \"contourcarpet\"}], \"heatmap\": [{\"colorbar\": {\"outlinewidth\": 0, \"ticks\": \"\"}, \"colorscale\": [[0.0, \"#0d0887\"], [0.1111111111111111, \"#46039f\"], [0.2222222222222222, \"#7201a8\"], [0.3333333333333333, \"#9c179e\"], [0.4444444444444444, \"#bd3786\"], [0.5555555555555556, \"#d8576b\"], [0.6666666666666666, \"#ed7953\"], [0.7777777777777778, \"#fb9f3a\"], [0.8888888888888888, \"#fdca26\"], [1.0, \"#f0f921\"]], \"type\": \"heatmap\"}], \"heatmapgl\": [{\"colorbar\": {\"outlinewidth\": 0, \"ticks\": \"\"}, \"colorscale\": [[0.0, \"#0d0887\"], [0.1111111111111111, \"#46039f\"], [0.2222222222222222, \"#7201a8\"], [0.3333333333333333, \"#9c179e\"], [0.4444444444444444, \"#bd3786\"], [0.5555555555555556, \"#d8576b\"], [0.6666666666666666, \"#ed7953\"], [0.7777777777777778, \"#fb9f3a\"], [0.8888888888888888, \"#fdca26\"], [1.0, \"#f0f921\"]], \"type\": \"heatmapgl\"}], \"histogram\": [{\"marker\": {\"colorbar\": {\"outlinewidth\": 0, \"ticks\": \"\"}}, \"type\": \"histogram\"}], \"histogram2d\": [{\"colorbar\": {\"outlinewidth\": 0, \"ticks\": \"\"}, \"colorscale\": [[0.0, \"#0d0887\"], [0.1111111111111111, \"#46039f\"], [0.2222222222222222, \"#7201a8\"], [0.3333333333333333, \"#9c179e\"], [0.4444444444444444, \"#bd3786\"], [0.5555555555555556, \"#d8576b\"], [0.6666666666666666, \"#ed7953\"], [0.7777777777777778, \"#fb9f3a\"], [0.8888888888888888, \"#fdca26\"], [1.0, \"#f0f921\"]], \"type\": \"histogram2d\"}], \"histogram2dcontour\": [{\"colorbar\": {\"outlinewidth\": 0, \"ticks\": \"\"}, \"colorscale\": [[0.0, \"#0d0887\"], [0.1111111111111111, \"#46039f\"], [0.2222222222222222, \"#7201a8\"], [0.3333333333333333, \"#9c179e\"], [0.4444444444444444, \"#bd3786\"], [0.5555555555555556, \"#d8576b\"], [0.6666666666666666, \"#ed7953\"], [0.7777777777777778, \"#fb9f3a\"], [0.8888888888888888, \"#fdca26\"], [1.0, \"#f0f921\"]], \"type\": \"histogram2dcontour\"}], \"mesh3d\": [{\"colorbar\": {\"outlinewidth\": 0, \"ticks\": \"\"}, \"type\": \"mesh3d\"}], \"parcoords\": [{\"line\": {\"colorbar\": {\"outlinewidth\": 0, \"ticks\": \"\"}}, \"type\": \"parcoords\"}], \"pie\": [{\"automargin\": true, \"type\": \"pie\"}], \"scatter\": [{\"marker\": {\"colorbar\": {\"outlinewidth\": 0, \"ticks\": \"\"}}, \"type\": \"scatter\"}], \"scatter3d\": [{\"line\": {\"colorbar\": {\"outlinewidth\": 0, \"ticks\": \"\"}}, \"marker\": {\"colorbar\": {\"outlinewidth\": 0, \"ticks\": \"\"}}, \"type\": \"scatter3d\"}], \"scattercarpet\": [{\"marker\": {\"colorbar\": {\"outlinewidth\": 0, \"ticks\": \"\"}}, \"type\": \"scattercarpet\"}], \"scattergeo\": [{\"marker\": {\"colorbar\": {\"outlinewidth\": 0, \"ticks\": \"\"}}, \"type\": \"scattergeo\"}], \"scattergl\": [{\"marker\": {\"colorbar\": {\"outlinewidth\": 0, \"ticks\": \"\"}}, \"type\": \"scattergl\"}], \"scattermapbox\": [{\"marker\": {\"colorbar\": {\"outlinewidth\": 0, \"ticks\": \"\"}}, \"type\": \"scattermapbox\"}], \"scatterpolar\": [{\"marker\": {\"colorbar\": {\"outlinewidth\": 0, \"ticks\": \"\"}}, \"type\": \"scatterpolar\"}], \"scatterpolargl\": [{\"marker\": {\"colorbar\": {\"outlinewidth\": 0, \"ticks\": \"\"}}, \"type\": \"scatterpolargl\"}], \"scatterternary\": [{\"marker\": {\"colorbar\": {\"outlinewidth\": 0, \"ticks\": \"\"}}, \"type\": \"scatterternary\"}], \"surface\": [{\"colorbar\": {\"outlinewidth\": 0, \"ticks\": \"\"}, \"colorscale\": [[0.0, \"#0d0887\"], [0.1111111111111111, \"#46039f\"], [0.2222222222222222, \"#7201a8\"], [0.3333333333333333, \"#9c179e\"], [0.4444444444444444, \"#bd3786\"], [0.5555555555555556, \"#d8576b\"], [0.6666666666666666, \"#ed7953\"], [0.7777777777777778, \"#fb9f3a\"], [0.8888888888888888, \"#fdca26\"], [1.0, \"#f0f921\"]], \"type\": \"surface\"}], \"table\": [{\"cells\": {\"fill\": {\"color\": \"#EBF0F8\"}, \"line\": {\"color\": \"white\"}}, \"header\": {\"fill\": {\"color\": \"#C8D4E3\"}, \"line\": {\"color\": \"white\"}}, \"type\": \"table\"}]}, \"layout\": {\"annotationdefaults\": {\"arrowcolor\": \"#2a3f5f\", \"arrowhead\": 0, \"arrowwidth\": 1}, \"coloraxis\": {\"colorbar\": {\"outlinewidth\": 0, \"ticks\": \"\"}}, \"colorscale\": {\"diverging\": [[0, \"#8e0152\"], [0.1, \"#c51b7d\"], [0.2, \"#de77ae\"], [0.3, \"#f1b6da\"], [0.4, \"#fde0ef\"], [0.5, \"#f7f7f7\"], [0.6, \"#e6f5d0\"], [0.7, \"#b8e186\"], [0.8, \"#7fbc41\"], [0.9, \"#4d9221\"], [1, \"#276419\"]], \"sequential\": [[0.0, \"#0d0887\"], [0.1111111111111111, \"#46039f\"], [0.2222222222222222, \"#7201a8\"], [0.3333333333333333, \"#9c179e\"], [0.4444444444444444, \"#bd3786\"], [0.5555555555555556, \"#d8576b\"], [0.6666666666666666, \"#ed7953\"], [0.7777777777777778, \"#fb9f3a\"], [0.8888888888888888, \"#fdca26\"], [1.0, \"#f0f921\"]], \"sequentialminus\": [[0.0, \"#0d0887\"], [0.1111111111111111, \"#46039f\"], [0.2222222222222222, \"#7201a8\"], [0.3333333333333333, \"#9c179e\"], [0.4444444444444444, \"#bd3786\"], [0.5555555555555556, \"#d8576b\"], [0.6666666666666666, \"#ed7953\"], [0.7777777777777778, \"#fb9f3a\"], [0.8888888888888888, \"#fdca26\"], [1.0, \"#f0f921\"]]}, \"colorway\": [\"#636efa\", \"#EF553B\", \"#00cc96\", \"#ab63fa\", \"#FFA15A\", \"#19d3f3\", \"#FF6692\", \"#B6E880\", \"#FF97FF\", \"#FECB52\"], \"font\": {\"color\": \"#2a3f5f\"}, \"geo\": {\"bgcolor\": \"white\", \"lakecolor\": \"white\", \"landcolor\": \"#E5ECF6\", \"showlakes\": true, \"showland\": true, \"subunitcolor\": \"white\"}, \"hoverlabel\": {\"align\": \"left\"}, \"hovermode\": \"closest\", \"mapbox\": {\"style\": \"light\"}, \"paper_bgcolor\": \"white\", \"plot_bgcolor\": \"#E5ECF6\", \"polar\": {\"angularaxis\": {\"gridcolor\": \"white\", \"linecolor\": \"white\", \"ticks\": \"\"}, \"bgcolor\": \"#E5ECF6\", \"radialaxis\": {\"gridcolor\": \"white\", \"linecolor\": \"white\", \"ticks\": \"\"}}, \"scene\": {\"xaxis\": {\"backgroundcolor\": \"#E5ECF6\", \"gridcolor\": \"white\", \"gridwidth\": 2, \"linecolor\": \"white\", \"showbackground\": true, \"ticks\": \"\", \"zerolinecolor\": \"white\"}, \"yaxis\": {\"backgroundcolor\": \"#E5ECF6\", \"gridcolor\": \"white\", \"gridwidth\": 2, \"linecolor\": \"white\", \"showbackground\": true, \"ticks\": \"\", \"zerolinecolor\": \"white\"}, \"zaxis\": {\"backgroundcolor\": \"#E5ECF6\", \"gridcolor\": \"white\", \"gridwidth\": 2, \"linecolor\": \"white\", \"showbackground\": true, \"ticks\": \"\", \"zerolinecolor\": \"white\"}}, \"shapedefaults\": {\"line\": {\"color\": \"#2a3f5f\"}}, \"ternary\": {\"aaxis\": {\"gridcolor\": \"white\", \"linecolor\": \"white\", \"ticks\": \"\"}, \"baxis\": {\"gridcolor\": \"white\", \"linecolor\": \"white\", \"ticks\": \"\"}, \"bgcolor\": \"#E5ECF6\", \"caxis\": {\"gridcolor\": \"white\", \"linecolor\": \"white\", \"ticks\": \"\"}}, \"title\": {\"x\": 0.05}, \"xaxis\": {\"automargin\": true, \"gridcolor\": \"white\", \"linecolor\": \"white\", \"ticks\": \"\", \"title\": {\"standoff\": 15}, \"zerolinecolor\": \"white\", \"zerolinewidth\": 2}, \"yaxis\": {\"automargin\": true, \"gridcolor\": \"white\", \"linecolor\": \"white\", \"ticks\": \"\", \"title\": {\"standoff\": 15}, \"zerolinecolor\": \"white\", \"zerolinewidth\": 2}}}, \"title\": {\"text\": \"\\u0427\\u0438\\u0441\\u043b\\u043e \\u0430\\u043a\\u0442\\u0438\\u0432\\u043d\\u044b\\u0445 \\u043f\\u043e\\u043a\\u0443\\u043f\\u0430\\u0442\\u0435\\u043b\\u0435\\u0439 \\u043f\\u043e \\u043c\\u0435\\u0441\\u044f\\u0446\\u0430\\u043c\"}, \"xaxis\": {\"anchor\": \"y\", \"domain\": [0.0, 1.0], \"title\": {\"text\": \"\"}}, \"yaxis\": {\"anchor\": \"x\", \"domain\": [0.0, 1.0], \"title\": {\"text\": \"\\u0427\\u0438\\u0441\\u043b\\u043e \\u043f\\u043e\\u043a\\u0443\\u043f\\u0430\\u0442\\u0435\\u043b\\u0435\\u0439\"}}},\n",
              "                        {\"responsive\": true}\n",
              "                    ).then(function(){\n",
              "                            \n",
              "var gd = document.getElementById('31974eca-5a2a-40d1-9620-c47c4a487443');\n",
              "var x = new MutationObserver(function (mutations, observer) {{\n",
              "        var display = window.getComputedStyle(gd).display;\n",
              "        if (!display || display === 'none') {{\n",
              "            console.log([gd, 'removed!']);\n",
              "            Plotly.purge(gd);\n",
              "            observer.disconnect();\n",
              "        }}\n",
              "}});\n",
              "\n",
              "// Listen for the removal of the full notebook cells\n",
              "var notebookContainer = gd.closest('#notebook-container');\n",
              "if (notebookContainer) {{\n",
              "    x.observe(notebookContainer, {childList: true});\n",
              "}}\n",
              "\n",
              "// Listen for the clearing of the current output cell\n",
              "var outputEl = gd.closest('.output');\n",
              "if (outputEl) {{\n",
              "    x.observe(outputEl, {childList: true});\n",
              "}}\n",
              "\n",
              "                        })\n",
              "                };\n",
              "                \n",
              "            </script>\n",
              "        </div>\n",
              "</body>\n",
              "</html>"
            ]
          },
          "metadata": {}
        }
      ]
    },
    {
      "cell_type": "code",
      "metadata": {
        "id": "jdrcwRNz5-gT"
      },
      "source": [
        "#Число активных покупателей по штатам (данные)\n",
        "MAU_by_states = get_df('select toStartOfMonth(r.order_purchase_timestamp) as so_month,\\\n",
        "                                l.customer_state as state,\\\n",
        "                                 uniqExact(l.customer_id) as num_cust\\\n",
        "                          from vk.customers as l\\\n",
        "                          join vk.orders as r\\\n",
        "                          on l.customer_id = r.customer_id\\\n",
        "                          group by state, so_month\\\n",
        "                          order by so_month asc, num_cust desc')"
      ],
      "execution_count": null,
      "outputs": []
    },
    {
      "cell_type": "code",
      "metadata": {
        "id": "oO3X4peF5-gU"
      },
      "source": [
        "#Возьмем данные только по штатам с наибольшим числом покупателей\n",
        "MAU_top_states = MAU_by_states.query('state in [\"SP\", \"RJ\", \"MG\"]')"
      ],
      "execution_count": null,
      "outputs": []
    },
    {
      "cell_type": "code",
      "metadata": {
        "colab": {
          "base_uri": "https://localhost:8080/",
          "height": 542
        },
        "id": "aIKqexw85-gU",
        "outputId": "add9da1c-eb30-40e2-d572-a6e77221dff9"
      },
      "source": [
        "#И посмотрим на динамику числа клиентов в этих штатах\n",
        "fig = px.line(MAU_top_states[MAU_top_states.so_month < '2018-09-01'], x=\"so_month\", y=\"num_cust\", color = 'state',\\\n",
        "              labels={\n",
        "                     \"so_month\": \"\",\n",
        "                     \"num_cust\": \"Число покупателей\",\n",
        "                     \"state\":\"Штат\"\n",
        "                 },\n",
        "              title='Динамика числа покупателей в Топ-3 штатах по числу покупателей')\n",
        "fig.show()"
      ],
      "execution_count": null,
      "outputs": [
        {
          "output_type": "display_data",
          "data": {
            "text/html": [
              "<html>\n",
              "<head><meta charset=\"utf-8\" /></head>\n",
              "<body>\n",
              "    <div>\n",
              "            <script src=\"https://cdnjs.cloudflare.com/ajax/libs/mathjax/2.7.5/MathJax.js?config=TeX-AMS-MML_SVG\"></script><script type=\"text/javascript\">if (window.MathJax) {MathJax.Hub.Config({SVG: {font: \"STIX-Web\"}});}</script>\n",
              "                <script type=\"text/javascript\">window.PlotlyConfig = {MathJaxConfig: 'local'};</script>\n",
              "        <script src=\"https://cdn.plot.ly/plotly-latest.min.js\"></script>    \n",
              "            <div id=\"85845519-51bc-44f9-a0d7-033baeef6fb1\" class=\"plotly-graph-div\" style=\"height:525px; width:100%;\"></div>\n",
              "            <script type=\"text/javascript\">\n",
              "                \n",
              "                    window.PLOTLYENV=window.PLOTLYENV || {};\n",
              "                    \n",
              "                if (document.getElementById(\"85845519-51bc-44f9-a0d7-033baeef6fb1\")) {\n",
              "                    Plotly.newPlot(\n",
              "                        '85845519-51bc-44f9-a0d7-033baeef6fb1',\n",
              "                        [{\"hoverlabel\": {\"namelength\": 0}, \"hovertemplate\": \"\\u0428\\u0442\\u0430\\u0442=SP<br>=%{x}<br>\\u0427\\u0438\\u0441\\u043b\\u043e \\u043f\\u043e\\u043a\\u0443\\u043f\\u0430\\u0442\\u0435\\u043b\\u0435\\u0439=%{y}\", \"legendgroup\": \"\\u0428\\u0442\\u0430\\u0442=SP\", \"line\": {\"color\": \"#636efa\", \"dash\": \"solid\"}, \"mode\": \"lines\", \"name\": \"\\u0428\\u0442\\u0430\\u0442=SP\", \"showlegend\": true, \"type\": \"scatter\", \"x\": [\"2016-09-01\", \"2016-10-01\", \"2017-01-01\", \"2017-02-01\", \"2017-03-01\", \"2017-04-01\", \"2017-05-01\", \"2017-06-01\", \"2017-07-01\", \"2017-08-01\", \"2017-09-01\", \"2017-10-01\", \"2017-11-01\", \"2017-12-01\", \"2018-01-01\", \"2018-02-01\", \"2018-03-01\", \"2018-04-01\", \"2018-05-01\", \"2018-06-01\", \"2018-07-01\", \"2018-08-01\"], \"xaxis\": \"x\", \"y\": [1, 108, 290, 624, 982, 891, 1378, 1291, 1547, 1672, 1595, 1745, 2915, 2309, 2981, 2619, 2986, 3035, 3165, 2754, 2745, 3197], \"yaxis\": \"y\"}, {\"hoverlabel\": {\"namelength\": 0}, \"hovertemplate\": \"\\u0428\\u0442\\u0430\\u0442=RJ<br>=%{x}<br>\\u0427\\u0438\\u0441\\u043b\\u043e \\u043f\\u043e\\u043a\\u0443\\u043f\\u0430\\u0442\\u0435\\u043b\\u0435\\u0439=%{y}\", \"legendgroup\": \"\\u0428\\u0442\\u0430\\u0442=RJ\", \"line\": {\"color\": \"#EF553B\", \"dash\": \"solid\"}, \"mode\": \"lines\", \"name\": \"\\u0428\\u0442\\u0430\\u0442=RJ\", \"showlegend\": true, \"type\": \"scatter\", \"x\": [\"2016-10-01\", \"2017-01-01\", \"2017-02-01\", \"2017-03-01\", \"2017-04-01\", \"2017-05-01\", \"2017-06-01\", \"2017-07-01\", \"2017-08-01\", \"2017-09-01\", \"2017-10-01\", \"2017-11-01\", \"2017-12-01\", \"2018-01-01\", \"2018-02-01\", \"2018-03-01\", \"2018-04-01\", \"2018-05-01\", \"2018-06-01\", \"2018-07-01\", \"2018-08-01\"], \"xaxis\": \"x\", \"y\": [48, 90, 245, 386, 327, 477, 401, 550, 548, 596, 645, 1026, 773, 873, 897, 892, 823, 822, 712, 705, 737], \"yaxis\": \"y\"}, {\"hoverlabel\": {\"namelength\": 0}, \"hovertemplate\": \"\\u0428\\u0442\\u0430\\u0442=MG<br>=%{x}<br>\\u0427\\u0438\\u0441\\u043b\\u043e \\u043f\\u043e\\u043a\\u0443\\u043f\\u0430\\u0442\\u0435\\u043b\\u0435\\u0439=%{y}\", \"legendgroup\": \"\\u0428\\u0442\\u0430\\u0442=MG\", \"line\": {\"color\": \"#00cc96\", \"dash\": \"solid\"}, \"mode\": \"lines\", \"name\": \"\\u0428\\u0442\\u0430\\u0442=MG\", \"showlegend\": true, \"type\": \"scatter\", \"x\": [\"2016-10-01\", \"2017-01-01\", \"2017-02-01\", \"2017-03-01\", \"2017-04-01\", \"2017-05-01\", \"2017-06-01\", \"2017-07-01\", \"2017-08-01\", \"2017-09-01\", \"2017-10-01\", \"2017-11-01\", \"2017-12-01\", \"2018-01-01\", \"2018-02-01\", \"2018-03-01\", \"2018-04-01\", \"2018-05-01\", \"2018-06-01\", \"2018-07-01\", \"2018-08-01\"], \"xaxis\": \"x\", \"y\": [39, 104, 245, 347, 271, 417, 352, 439, 461, 494, 542, 923, 671, 845, 783, 862, 780, 756, 706, 646, 701], \"yaxis\": \"y\"}],\n",
              "                        {\"legend\": {\"tracegroupgap\": 0}, \"template\": {\"data\": {\"bar\": [{\"error_x\": {\"color\": \"#2a3f5f\"}, \"error_y\": {\"color\": \"#2a3f5f\"}, \"marker\": {\"line\": {\"color\": \"#E5ECF6\", \"width\": 0.5}}, \"type\": \"bar\"}], \"barpolar\": [{\"marker\": {\"line\": {\"color\": \"#E5ECF6\", \"width\": 0.5}}, \"type\": \"barpolar\"}], \"carpet\": [{\"aaxis\": {\"endlinecolor\": \"#2a3f5f\", \"gridcolor\": \"white\", \"linecolor\": \"white\", \"minorgridcolor\": \"white\", \"startlinecolor\": \"#2a3f5f\"}, \"baxis\": {\"endlinecolor\": \"#2a3f5f\", \"gridcolor\": \"white\", \"linecolor\": \"white\", \"minorgridcolor\": \"white\", \"startlinecolor\": \"#2a3f5f\"}, \"type\": \"carpet\"}], \"choropleth\": [{\"colorbar\": {\"outlinewidth\": 0, \"ticks\": \"\"}, \"type\": \"choropleth\"}], \"contour\": [{\"colorbar\": {\"outlinewidth\": 0, \"ticks\": \"\"}, \"colorscale\": [[0.0, \"#0d0887\"], [0.1111111111111111, \"#46039f\"], [0.2222222222222222, \"#7201a8\"], [0.3333333333333333, \"#9c179e\"], [0.4444444444444444, \"#bd3786\"], [0.5555555555555556, \"#d8576b\"], [0.6666666666666666, \"#ed7953\"], [0.7777777777777778, \"#fb9f3a\"], [0.8888888888888888, \"#fdca26\"], [1.0, \"#f0f921\"]], \"type\": \"contour\"}], \"contourcarpet\": [{\"colorbar\": {\"outlinewidth\": 0, \"ticks\": \"\"}, \"type\": \"contourcarpet\"}], \"heatmap\": [{\"colorbar\": {\"outlinewidth\": 0, \"ticks\": \"\"}, \"colorscale\": [[0.0, \"#0d0887\"], [0.1111111111111111, \"#46039f\"], [0.2222222222222222, \"#7201a8\"], [0.3333333333333333, \"#9c179e\"], [0.4444444444444444, \"#bd3786\"], [0.5555555555555556, \"#d8576b\"], [0.6666666666666666, \"#ed7953\"], [0.7777777777777778, \"#fb9f3a\"], [0.8888888888888888, \"#fdca26\"], [1.0, \"#f0f921\"]], \"type\": \"heatmap\"}], \"heatmapgl\": [{\"colorbar\": {\"outlinewidth\": 0, \"ticks\": \"\"}, \"colorscale\": [[0.0, \"#0d0887\"], [0.1111111111111111, \"#46039f\"], [0.2222222222222222, \"#7201a8\"], [0.3333333333333333, \"#9c179e\"], [0.4444444444444444, \"#bd3786\"], [0.5555555555555556, \"#d8576b\"], [0.6666666666666666, \"#ed7953\"], [0.7777777777777778, \"#fb9f3a\"], [0.8888888888888888, \"#fdca26\"], [1.0, \"#f0f921\"]], \"type\": \"heatmapgl\"}], \"histogram\": [{\"marker\": {\"colorbar\": {\"outlinewidth\": 0, \"ticks\": \"\"}}, \"type\": \"histogram\"}], \"histogram2d\": [{\"colorbar\": {\"outlinewidth\": 0, \"ticks\": \"\"}, \"colorscale\": [[0.0, \"#0d0887\"], [0.1111111111111111, \"#46039f\"], [0.2222222222222222, \"#7201a8\"], [0.3333333333333333, \"#9c179e\"], [0.4444444444444444, \"#bd3786\"], [0.5555555555555556, \"#d8576b\"], [0.6666666666666666, \"#ed7953\"], [0.7777777777777778, \"#fb9f3a\"], [0.8888888888888888, \"#fdca26\"], [1.0, \"#f0f921\"]], \"type\": \"histogram2d\"}], \"histogram2dcontour\": [{\"colorbar\": {\"outlinewidth\": 0, \"ticks\": \"\"}, \"colorscale\": [[0.0, \"#0d0887\"], [0.1111111111111111, \"#46039f\"], [0.2222222222222222, \"#7201a8\"], [0.3333333333333333, \"#9c179e\"], [0.4444444444444444, \"#bd3786\"], [0.5555555555555556, \"#d8576b\"], [0.6666666666666666, \"#ed7953\"], [0.7777777777777778, \"#fb9f3a\"], [0.8888888888888888, \"#fdca26\"], [1.0, \"#f0f921\"]], \"type\": \"histogram2dcontour\"}], \"mesh3d\": [{\"colorbar\": {\"outlinewidth\": 0, \"ticks\": \"\"}, \"type\": \"mesh3d\"}], \"parcoords\": [{\"line\": {\"colorbar\": {\"outlinewidth\": 0, \"ticks\": \"\"}}, \"type\": \"parcoords\"}], \"pie\": [{\"automargin\": true, \"type\": \"pie\"}], \"scatter\": [{\"marker\": {\"colorbar\": {\"outlinewidth\": 0, \"ticks\": \"\"}}, \"type\": \"scatter\"}], \"scatter3d\": [{\"line\": {\"colorbar\": {\"outlinewidth\": 0, \"ticks\": \"\"}}, \"marker\": {\"colorbar\": {\"outlinewidth\": 0, \"ticks\": \"\"}}, \"type\": \"scatter3d\"}], \"scattercarpet\": [{\"marker\": {\"colorbar\": {\"outlinewidth\": 0, \"ticks\": \"\"}}, \"type\": \"scattercarpet\"}], \"scattergeo\": [{\"marker\": {\"colorbar\": {\"outlinewidth\": 0, \"ticks\": \"\"}}, \"type\": \"scattergeo\"}], \"scattergl\": [{\"marker\": {\"colorbar\": {\"outlinewidth\": 0, \"ticks\": \"\"}}, \"type\": \"scattergl\"}], \"scattermapbox\": [{\"marker\": {\"colorbar\": {\"outlinewidth\": 0, \"ticks\": \"\"}}, \"type\": \"scattermapbox\"}], \"scatterpolar\": [{\"marker\": {\"colorbar\": {\"outlinewidth\": 0, \"ticks\": \"\"}}, \"type\": \"scatterpolar\"}], \"scatterpolargl\": [{\"marker\": {\"colorbar\": {\"outlinewidth\": 0, \"ticks\": \"\"}}, \"type\": \"scatterpolargl\"}], \"scatterternary\": [{\"marker\": {\"colorbar\": {\"outlinewidth\": 0, \"ticks\": \"\"}}, \"type\": \"scatterternary\"}], \"surface\": [{\"colorbar\": {\"outlinewidth\": 0, \"ticks\": \"\"}, \"colorscale\": [[0.0, \"#0d0887\"], [0.1111111111111111, \"#46039f\"], [0.2222222222222222, \"#7201a8\"], [0.3333333333333333, \"#9c179e\"], [0.4444444444444444, \"#bd3786\"], [0.5555555555555556, \"#d8576b\"], [0.6666666666666666, \"#ed7953\"], [0.7777777777777778, \"#fb9f3a\"], [0.8888888888888888, \"#fdca26\"], [1.0, \"#f0f921\"]], \"type\": \"surface\"}], \"table\": [{\"cells\": {\"fill\": {\"color\": \"#EBF0F8\"}, \"line\": {\"color\": \"white\"}}, \"header\": {\"fill\": {\"color\": \"#C8D4E3\"}, \"line\": {\"color\": \"white\"}}, \"type\": \"table\"}]}, \"layout\": {\"annotationdefaults\": {\"arrowcolor\": \"#2a3f5f\", \"arrowhead\": 0, \"arrowwidth\": 1}, \"coloraxis\": {\"colorbar\": {\"outlinewidth\": 0, \"ticks\": \"\"}}, \"colorscale\": {\"diverging\": [[0, \"#8e0152\"], [0.1, \"#c51b7d\"], [0.2, \"#de77ae\"], [0.3, \"#f1b6da\"], [0.4, \"#fde0ef\"], [0.5, \"#f7f7f7\"], [0.6, \"#e6f5d0\"], [0.7, \"#b8e186\"], [0.8, \"#7fbc41\"], [0.9, \"#4d9221\"], [1, \"#276419\"]], \"sequential\": [[0.0, \"#0d0887\"], [0.1111111111111111, \"#46039f\"], [0.2222222222222222, \"#7201a8\"], [0.3333333333333333, \"#9c179e\"], [0.4444444444444444, \"#bd3786\"], [0.5555555555555556, \"#d8576b\"], [0.6666666666666666, \"#ed7953\"], [0.7777777777777778, \"#fb9f3a\"], [0.8888888888888888, \"#fdca26\"], [1.0, \"#f0f921\"]], \"sequentialminus\": [[0.0, \"#0d0887\"], [0.1111111111111111, \"#46039f\"], [0.2222222222222222, \"#7201a8\"], [0.3333333333333333, \"#9c179e\"], [0.4444444444444444, \"#bd3786\"], [0.5555555555555556, \"#d8576b\"], [0.6666666666666666, \"#ed7953\"], [0.7777777777777778, \"#fb9f3a\"], [0.8888888888888888, \"#fdca26\"], [1.0, \"#f0f921\"]]}, \"colorway\": [\"#636efa\", \"#EF553B\", \"#00cc96\", \"#ab63fa\", \"#FFA15A\", \"#19d3f3\", \"#FF6692\", \"#B6E880\", \"#FF97FF\", \"#FECB52\"], \"font\": {\"color\": \"#2a3f5f\"}, \"geo\": {\"bgcolor\": \"white\", \"lakecolor\": \"white\", \"landcolor\": \"#E5ECF6\", \"showlakes\": true, \"showland\": true, \"subunitcolor\": \"white\"}, \"hoverlabel\": {\"align\": \"left\"}, \"hovermode\": \"closest\", \"mapbox\": {\"style\": \"light\"}, \"paper_bgcolor\": \"white\", \"plot_bgcolor\": \"#E5ECF6\", \"polar\": {\"angularaxis\": {\"gridcolor\": \"white\", \"linecolor\": \"white\", \"ticks\": \"\"}, \"bgcolor\": \"#E5ECF6\", \"radialaxis\": {\"gridcolor\": \"white\", \"linecolor\": \"white\", \"ticks\": \"\"}}, \"scene\": {\"xaxis\": {\"backgroundcolor\": \"#E5ECF6\", \"gridcolor\": \"white\", \"gridwidth\": 2, \"linecolor\": \"white\", \"showbackground\": true, \"ticks\": \"\", \"zerolinecolor\": \"white\"}, \"yaxis\": {\"backgroundcolor\": \"#E5ECF6\", \"gridcolor\": \"white\", \"gridwidth\": 2, \"linecolor\": \"white\", \"showbackground\": true, \"ticks\": \"\", \"zerolinecolor\": \"white\"}, \"zaxis\": {\"backgroundcolor\": \"#E5ECF6\", \"gridcolor\": \"white\", \"gridwidth\": 2, \"linecolor\": \"white\", \"showbackground\": true, \"ticks\": \"\", \"zerolinecolor\": \"white\"}}, \"shapedefaults\": {\"line\": {\"color\": \"#2a3f5f\"}}, \"ternary\": {\"aaxis\": {\"gridcolor\": \"white\", \"linecolor\": \"white\", \"ticks\": \"\"}, \"baxis\": {\"gridcolor\": \"white\", \"linecolor\": \"white\", \"ticks\": \"\"}, \"bgcolor\": \"#E5ECF6\", \"caxis\": {\"gridcolor\": \"white\", \"linecolor\": \"white\", \"ticks\": \"\"}}, \"title\": {\"x\": 0.05}, \"xaxis\": {\"automargin\": true, \"gridcolor\": \"white\", \"linecolor\": \"white\", \"ticks\": \"\", \"title\": {\"standoff\": 15}, \"zerolinecolor\": \"white\", \"zerolinewidth\": 2}, \"yaxis\": {\"automargin\": true, \"gridcolor\": \"white\", \"linecolor\": \"white\", \"ticks\": \"\", \"title\": {\"standoff\": 15}, \"zerolinecolor\": \"white\", \"zerolinewidth\": 2}}}, \"title\": {\"text\": \"\\u0414\\u0438\\u043d\\u0430\\u043c\\u0438\\u043a\\u0430 \\u0447\\u0438\\u0441\\u043b\\u0430 \\u043f\\u043e\\u043a\\u0443\\u043f\\u0430\\u0442\\u0435\\u043b\\u0435\\u0439 \\u0432 \\u0422\\u043e\\u043f-3 \\u0448\\u0442\\u0430\\u0442\\u0430\\u0445 \\u043f\\u043e \\u0447\\u0438\\u0441\\u043b\\u0443 \\u043f\\u043e\\u043a\\u0443\\u043f\\u0430\\u0442\\u0435\\u043b\\u0435\\u0439\"}, \"xaxis\": {\"anchor\": \"y\", \"domain\": [0.0, 1.0], \"title\": {\"text\": \"\"}}, \"yaxis\": {\"anchor\": \"x\", \"domain\": [0.0, 1.0], \"title\": {\"text\": \"\\u0427\\u0438\\u0441\\u043b\\u043e \\u043f\\u043e\\u043a\\u0443\\u043f\\u0430\\u0442\\u0435\\u043b\\u0435\\u0439\"}}},\n",
              "                        {\"responsive\": true}\n",
              "                    ).then(function(){\n",
              "                            \n",
              "var gd = document.getElementById('85845519-51bc-44f9-a0d7-033baeef6fb1');\n",
              "var x = new MutationObserver(function (mutations, observer) {{\n",
              "        var display = window.getComputedStyle(gd).display;\n",
              "        if (!display || display === 'none') {{\n",
              "            console.log([gd, 'removed!']);\n",
              "            Plotly.purge(gd);\n",
              "            observer.disconnect();\n",
              "        }}\n",
              "}});\n",
              "\n",
              "// Listen for the removal of the full notebook cells\n",
              "var notebookContainer = gd.closest('#notebook-container');\n",
              "if (notebookContainer) {{\n",
              "    x.observe(notebookContainer, {childList: true});\n",
              "}}\n",
              "\n",
              "// Listen for the clearing of the current output cell\n",
              "var outputEl = gd.closest('.output');\n",
              "if (outputEl) {{\n",
              "    x.observe(outputEl, {childList: true});\n",
              "}}\n",
              "\n",
              "                        })\n",
              "                };\n",
              "                \n",
              "            </script>\n",
              "        </div>\n",
              "</body>\n",
              "</html>"
            ]
          },
          "metadata": {}
        }
      ]
    },
    {
      "cell_type": "code",
      "metadata": {
        "id": "ymJXCsZe5-gW"
      },
      "source": [
        "#Также проверим динамику дневной аудитории маркетплейса\n",
        "DAU_all = get_df('select toStartOfDay(r.order_purchase_timestamp) as so_day,\\\n",
        "                         uniqExact(l.customer_id) as num_cust\\\n",
        "                  from vk.customers as l\\\n",
        "                  join vk.orders as r\\\n",
        "                  on l.customer_id = r.customer_id\\\n",
        "                  group by so_day\\\n",
        "                  order by so_day asc')"
      ],
      "execution_count": null,
      "outputs": []
    },
    {
      "cell_type": "code",
      "metadata": {
        "colab": {
          "base_uri": "https://localhost:8080/",
          "height": 542
        },
        "id": "1CtynBpj5-gX",
        "outputId": "37bbf5e7-92f9-468e-89c0-0f39336a8051"
      },
      "source": [
        "fig = px.line(DAU_all[DAU_all.so_day < '2018-09-01'], x=\"so_day\", y=\"num_cust\",\\\n",
        "              labels={\n",
        "                     \"so_day\": \"\",\n",
        "                     \"num_cust\": \"Число покупателей\"\n",
        "                 },title='Число покупателей в день')\n",
        "fig.show()"
      ],
      "execution_count": null,
      "outputs": [
        {
          "output_type": "display_data",
          "data": {
            "text/html": [
              "<html>\n",
              "<head><meta charset=\"utf-8\" /></head>\n",
              "<body>\n",
              "    <div>\n",
              "            <script src=\"https://cdnjs.cloudflare.com/ajax/libs/mathjax/2.7.5/MathJax.js?config=TeX-AMS-MML_SVG\"></script><script type=\"text/javascript\">if (window.MathJax) {MathJax.Hub.Config({SVG: {font: \"STIX-Web\"}});}</script>\n",
              "                <script type=\"text/javascript\">window.PlotlyConfig = {MathJaxConfig: 'local'};</script>\n",
              "        <script src=\"https://cdn.plot.ly/plotly-latest.min.js\"></script>    \n",
              "            <div id=\"2ba3e284-43e2-484f-9820-1b1c40ff1e7c\" class=\"plotly-graph-div\" style=\"height:525px; width:100%;\"></div>\n",
              "            <script type=\"text/javascript\">\n",
              "                \n",
              "                    window.PLOTLYENV=window.PLOTLYENV || {};\n",
              "                    \n",
              "                if (document.getElementById(\"2ba3e284-43e2-484f-9820-1b1c40ff1e7c\")) {\n",
              "                    Plotly.newPlot(\n",
              "                        '2ba3e284-43e2-484f-9820-1b1c40ff1e7c',\n",
              "                        [{\"hoverlabel\": {\"namelength\": 0}, \"hovertemplate\": \"=%{x}<br>\\u0427\\u0438\\u0441\\u043b\\u043e \\u043f\\u043e\\u043a\\u0443\\u043f\\u0430\\u0442\\u0435\\u043b\\u0435\\u0439=%{y}\", \"legendgroup\": \"\", \"line\": {\"color\": \"#636efa\", \"dash\": \"solid\"}, \"mode\": \"lines\", \"name\": \"\", \"showlegend\": false, \"type\": \"scatter\", \"x\": [\"2016-09-04 00:00:00\", \"2016-09-05 00:00:00\", \"2016-09-15 00:00:00\", \"2016-10-02 00:00:00\", \"2016-10-03 00:00:00\", \"2016-10-04 00:00:00\", \"2016-10-05 00:00:00\", \"2016-10-06 00:00:00\", \"2016-10-07 00:00:00\", \"2016-10-08 00:00:00\", \"2016-10-09 00:00:00\", \"2016-10-10 00:00:00\", \"2016-12-23 00:00:00\", \"2017-01-05 00:00:00\", \"2017-01-06 00:00:00\", \"2017-01-07 00:00:00\", \"2017-01-08 00:00:00\", \"2017-01-09 00:00:00\", \"2017-01-10 00:00:00\", \"2017-01-11 00:00:00\", \"2017-01-12 00:00:00\", \"2017-01-13 00:00:00\", \"2017-01-14 00:00:00\", \"2017-01-15 00:00:00\", \"2017-01-16 00:00:00\", \"2017-01-17 00:00:00\", \"2017-01-18 00:00:00\", \"2017-01-19 00:00:00\", \"2017-01-20 00:00:00\", \"2017-01-21 00:00:00\", \"2017-01-22 00:00:00\", \"2017-01-23 00:00:00\", \"2017-01-24 00:00:00\", \"2017-01-25 00:00:00\", \"2017-01-26 00:00:00\", \"2017-01-27 00:00:00\", \"2017-01-28 00:00:00\", \"2017-01-29 00:00:00\", \"2017-01-30 00:00:00\", \"2017-01-31 00:00:00\", \"2017-02-01 00:00:00\", \"2017-02-02 00:00:00\", \"2017-02-03 00:00:00\", \"2017-02-04 00:00:00\", \"2017-02-05 00:00:00\", \"2017-02-06 00:00:00\", \"2017-02-07 00:00:00\", \"2017-02-08 00:00:00\", \"2017-02-09 00:00:00\", \"2017-02-10 00:00:00\", \"2017-02-11 00:00:00\", \"2017-02-12 00:00:00\", \"2017-02-13 00:00:00\", \"2017-02-14 00:00:00\", \"2017-02-15 00:00:00\", \"2017-02-16 00:00:00\", \"2017-02-17 00:00:00\", \"2017-02-18 00:00:00\", \"2017-02-19 00:00:00\", \"2017-02-20 00:00:00\", \"2017-02-21 00:00:00\", \"2017-02-22 00:00:00\", \"2017-02-23 00:00:00\", \"2017-02-24 00:00:00\", \"2017-02-25 00:00:00\", \"2017-02-26 00:00:00\", \"2017-02-27 00:00:00\", \"2017-02-28 00:00:00\", \"2017-03-01 00:00:00\", \"2017-03-02 00:00:00\", \"2017-03-03 00:00:00\", \"2017-03-04 00:00:00\", \"2017-03-05 00:00:00\", \"2017-03-06 00:00:00\", \"2017-03-07 00:00:00\", \"2017-03-08 00:00:00\", \"2017-03-09 00:00:00\", \"2017-03-10 00:00:00\", \"2017-03-11 00:00:00\", \"2017-03-12 00:00:00\", \"2017-03-13 00:00:00\", \"2017-03-14 00:00:00\", \"2017-03-15 00:00:00\", \"2017-03-16 00:00:00\", \"2017-03-17 00:00:00\", \"2017-03-18 00:00:00\", \"2017-03-19 00:00:00\", \"2017-03-20 00:00:00\", \"2017-03-21 00:00:00\", \"2017-03-22 00:00:00\", \"2017-03-23 00:00:00\", \"2017-03-24 00:00:00\", \"2017-03-25 00:00:00\", \"2017-03-26 00:00:00\", \"2017-03-27 00:00:00\", \"2017-03-28 00:00:00\", \"2017-03-29 00:00:00\", \"2017-03-30 00:00:00\", \"2017-03-31 00:00:00\", \"2017-04-01 00:00:00\", \"2017-04-02 00:00:00\", \"2017-04-03 00:00:00\", \"2017-04-04 00:00:00\", \"2017-04-05 00:00:00\", \"2017-04-06 00:00:00\", \"2017-04-07 00:00:00\", \"2017-04-08 00:00:00\", \"2017-04-09 00:00:00\", \"2017-04-10 00:00:00\", \"2017-04-11 00:00:00\", \"2017-04-12 00:00:00\", \"2017-04-13 00:00:00\", \"2017-04-14 00:00:00\", \"2017-04-15 00:00:00\", \"2017-04-16 00:00:00\", \"2017-04-17 00:00:00\", \"2017-04-18 00:00:00\", \"2017-04-19 00:00:00\", \"2017-04-20 00:00:00\", \"2017-04-21 00:00:00\", \"2017-04-22 00:00:00\", \"2017-04-23 00:00:00\", \"2017-04-24 00:00:00\", \"2017-04-25 00:00:00\", \"2017-04-26 00:00:00\", \"2017-04-27 00:00:00\", \"2017-04-28 00:00:00\", \"2017-04-29 00:00:00\", \"2017-04-30 00:00:00\", \"2017-05-01 00:00:00\", \"2017-05-02 00:00:00\", \"2017-05-03 00:00:00\", \"2017-05-04 00:00:00\", \"2017-05-05 00:00:00\", \"2017-05-06 00:00:00\", \"2017-05-07 00:00:00\", \"2017-05-08 00:00:00\", \"2017-05-09 00:00:00\", \"2017-05-10 00:00:00\", \"2017-05-11 00:00:00\", \"2017-05-12 00:00:00\", \"2017-05-13 00:00:00\", \"2017-05-14 00:00:00\", \"2017-05-15 00:00:00\", \"2017-05-16 00:00:00\", \"2017-05-17 00:00:00\", \"2017-05-18 00:00:00\", \"2017-05-19 00:00:00\", \"2017-05-20 00:00:00\", \"2017-05-21 00:00:00\", \"2017-05-22 00:00:00\", \"2017-05-23 00:00:00\", \"2017-05-24 00:00:00\", \"2017-05-25 00:00:00\", \"2017-05-26 00:00:00\", \"2017-05-27 00:00:00\", \"2017-05-28 00:00:00\", \"2017-05-29 00:00:00\", \"2017-05-30 00:00:00\", \"2017-05-31 00:00:00\", \"2017-06-01 00:00:00\", \"2017-06-02 00:00:00\", \"2017-06-03 00:00:00\", \"2017-06-04 00:00:00\", \"2017-06-05 00:00:00\", \"2017-06-06 00:00:00\", \"2017-06-07 00:00:00\", \"2017-06-08 00:00:00\", \"2017-06-09 00:00:00\", \"2017-06-10 00:00:00\", \"2017-06-11 00:00:00\", \"2017-06-12 00:00:00\", \"2017-06-13 00:00:00\", \"2017-06-14 00:00:00\", \"2017-06-15 00:00:00\", \"2017-06-16 00:00:00\", \"2017-06-17 00:00:00\", \"2017-06-18 00:00:00\", \"2017-06-19 00:00:00\", \"2017-06-20 00:00:00\", \"2017-06-21 00:00:00\", \"2017-06-22 00:00:00\", \"2017-06-23 00:00:00\", \"2017-06-24 00:00:00\", \"2017-06-25 00:00:00\", \"2017-06-26 00:00:00\", \"2017-06-27 00:00:00\", \"2017-06-28 00:00:00\", \"2017-06-29 00:00:00\", \"2017-06-30 00:00:00\", \"2017-07-01 00:00:00\", \"2017-07-02 00:00:00\", \"2017-07-03 00:00:00\", \"2017-07-04 00:00:00\", \"2017-07-05 00:00:00\", \"2017-07-06 00:00:00\", \"2017-07-07 00:00:00\", \"2017-07-08 00:00:00\", \"2017-07-09 00:00:00\", \"2017-07-10 00:00:00\", \"2017-07-11 00:00:00\", \"2017-07-12 00:00:00\", \"2017-07-13 00:00:00\", \"2017-07-14 00:00:00\", \"2017-07-15 00:00:00\", \"2017-07-16 00:00:00\", \"2017-07-17 00:00:00\", \"2017-07-18 00:00:00\", \"2017-07-19 00:00:00\", \"2017-07-20 00:00:00\", \"2017-07-21 00:00:00\", \"2017-07-22 00:00:00\", \"2017-07-23 00:00:00\", \"2017-07-24 00:00:00\", \"2017-07-25 00:00:00\", \"2017-07-26 00:00:00\", \"2017-07-27 00:00:00\", \"2017-07-28 00:00:00\", \"2017-07-29 00:00:00\", \"2017-07-30 00:00:00\", \"2017-07-31 00:00:00\", \"2017-08-01 00:00:00\", \"2017-08-02 00:00:00\", \"2017-08-03 00:00:00\", \"2017-08-04 00:00:00\", \"2017-08-05 00:00:00\", \"2017-08-06 00:00:00\", \"2017-08-07 00:00:00\", \"2017-08-08 00:00:00\", \"2017-08-09 00:00:00\", \"2017-08-10 00:00:00\", \"2017-08-11 00:00:00\", \"2017-08-12 00:00:00\", \"2017-08-13 00:00:00\", \"2017-08-14 00:00:00\", \"2017-08-15 00:00:00\", \"2017-08-16 00:00:00\", \"2017-08-17 00:00:00\", \"2017-08-18 00:00:00\", \"2017-08-19 00:00:00\", \"2017-08-20 00:00:00\", \"2017-08-21 00:00:00\", \"2017-08-22 00:00:00\", \"2017-08-23 00:00:00\", \"2017-08-24 00:00:00\", \"2017-08-25 00:00:00\", \"2017-08-26 00:00:00\", \"2017-08-27 00:00:00\", \"2017-08-28 00:00:00\", \"2017-08-29 00:00:00\", \"2017-08-30 00:00:00\", \"2017-08-31 00:00:00\", \"2017-09-01 00:00:00\", \"2017-09-02 00:00:00\", \"2017-09-03 00:00:00\", \"2017-09-04 00:00:00\", \"2017-09-05 00:00:00\", \"2017-09-06 00:00:00\", \"2017-09-07 00:00:00\", \"2017-09-08 00:00:00\", \"2017-09-09 00:00:00\", \"2017-09-10 00:00:00\", \"2017-09-11 00:00:00\", \"2017-09-12 00:00:00\", \"2017-09-13 00:00:00\", \"2017-09-14 00:00:00\", \"2017-09-15 00:00:00\", \"2017-09-16 00:00:00\", \"2017-09-17 00:00:00\", \"2017-09-18 00:00:00\", \"2017-09-19 00:00:00\", \"2017-09-20 00:00:00\", \"2017-09-21 00:00:00\", \"2017-09-22 00:00:00\", \"2017-09-23 00:00:00\", \"2017-09-24 00:00:00\", \"2017-09-25 00:00:00\", \"2017-09-26 00:00:00\", \"2017-09-27 00:00:00\", \"2017-09-28 00:00:00\", \"2017-09-29 00:00:00\", \"2017-09-30 00:00:00\", \"2017-10-01 00:00:00\", \"2017-10-02 00:00:00\", \"2017-10-03 00:00:00\", \"2017-10-04 00:00:00\", \"2017-10-05 00:00:00\", \"2017-10-06 00:00:00\", \"2017-10-07 00:00:00\", \"2017-10-08 00:00:00\", \"2017-10-09 00:00:00\", \"2017-10-10 00:00:00\", \"2017-10-11 00:00:00\", \"2017-10-12 00:00:00\", \"2017-10-13 00:00:00\", \"2017-10-14 00:00:00\", \"2017-10-15 00:00:00\", \"2017-10-16 00:00:00\", \"2017-10-17 00:00:00\", \"2017-10-18 00:00:00\", \"2017-10-19 00:00:00\", \"2017-10-20 00:00:00\", \"2017-10-21 00:00:00\", \"2017-10-22 00:00:00\", \"2017-10-23 00:00:00\", \"2017-10-24 00:00:00\", \"2017-10-25 00:00:00\", \"2017-10-26 00:00:00\", \"2017-10-27 00:00:00\", \"2017-10-28 00:00:00\", \"2017-10-29 00:00:00\", \"2017-10-30 00:00:00\", \"2017-10-31 00:00:00\", \"2017-11-01 00:00:00\", \"2017-11-02 00:00:00\", \"2017-11-03 00:00:00\", \"2017-11-04 00:00:00\", \"2017-11-05 00:00:00\", \"2017-11-06 00:00:00\", \"2017-11-07 00:00:00\", \"2017-11-08 00:00:00\", \"2017-11-09 00:00:00\", \"2017-11-10 00:00:00\", \"2017-11-11 00:00:00\", \"2017-11-12 00:00:00\", \"2017-11-13 00:00:00\", \"2017-11-14 00:00:00\", \"2017-11-15 00:00:00\", \"2017-11-16 00:00:00\", \"2017-11-17 00:00:00\", \"2017-11-18 00:00:00\", \"2017-11-19 00:00:00\", \"2017-11-20 00:00:00\", \"2017-11-21 00:00:00\", \"2017-11-22 00:00:00\", \"2017-11-23 00:00:00\", \"2017-11-24 00:00:00\", \"2017-11-25 00:00:00\", \"2017-11-26 00:00:00\", \"2017-11-27 00:00:00\", \"2017-11-28 00:00:00\", \"2017-11-29 00:00:00\", \"2017-11-30 00:00:00\", \"2017-12-01 00:00:00\", \"2017-12-02 00:00:00\", \"2017-12-03 00:00:00\", \"2017-12-04 00:00:00\", \"2017-12-05 00:00:00\", \"2017-12-06 00:00:00\", \"2017-12-07 00:00:00\", \"2017-12-08 00:00:00\", \"2017-12-09 00:00:00\", \"2017-12-10 00:00:00\", \"2017-12-11 00:00:00\", \"2017-12-12 00:00:00\", \"2017-12-13 00:00:00\", \"2017-12-14 00:00:00\", \"2017-12-15 00:00:00\", \"2017-12-16 00:00:00\", \"2017-12-17 00:00:00\", \"2017-12-18 00:00:00\", \"2017-12-19 00:00:00\", \"2017-12-20 00:00:00\", \"2017-12-21 00:00:00\", \"2017-12-22 00:00:00\", \"2017-12-23 00:00:00\", \"2017-12-24 00:00:00\", \"2017-12-25 00:00:00\", \"2017-12-26 00:00:00\", \"2017-12-27 00:00:00\", \"2017-12-28 00:00:00\", \"2017-12-29 00:00:00\", \"2017-12-30 00:00:00\", \"2017-12-31 00:00:00\", \"2018-01-01 00:00:00\", \"2018-01-02 00:00:00\", \"2018-01-03 00:00:00\", \"2018-01-04 00:00:00\", \"2018-01-05 00:00:00\", \"2018-01-06 00:00:00\", \"2018-01-07 00:00:00\", \"2018-01-08 00:00:00\", \"2018-01-09 00:00:00\", \"2018-01-10 00:00:00\", \"2018-01-11 00:00:00\", \"2018-01-12 00:00:00\", \"2018-01-13 00:00:00\", \"2018-01-14 00:00:00\", \"2018-01-15 00:00:00\", \"2018-01-16 00:00:00\", \"2018-01-17 00:00:00\", \"2018-01-18 00:00:00\", \"2018-01-19 00:00:00\", \"2018-01-20 00:00:00\", \"2018-01-21 00:00:00\", \"2018-01-22 00:00:00\", \"2018-01-23 00:00:00\", \"2018-01-24 00:00:00\", \"2018-01-25 00:00:00\", \"2018-01-26 00:00:00\", \"2018-01-27 00:00:00\", \"2018-01-28 00:00:00\", \"2018-01-29 00:00:00\", \"2018-01-30 00:00:00\", \"2018-01-31 00:00:00\", \"2018-02-01 00:00:00\", \"2018-02-02 00:00:00\", \"2018-02-03 00:00:00\", \"2018-02-04 00:00:00\", \"2018-02-05 00:00:00\", \"2018-02-06 00:00:00\", \"2018-02-07 00:00:00\", \"2018-02-08 00:00:00\", \"2018-02-09 00:00:00\", \"2018-02-10 00:00:00\", \"2018-02-11 00:00:00\", \"2018-02-12 00:00:00\", \"2018-02-13 00:00:00\", \"2018-02-14 00:00:00\", \"2018-02-15 00:00:00\", \"2018-02-16 00:00:00\", \"2018-02-17 00:00:00\", \"2018-02-18 00:00:00\", \"2018-02-19 00:00:00\", \"2018-02-20 00:00:00\", \"2018-02-21 00:00:00\", \"2018-02-22 00:00:00\", \"2018-02-23 00:00:00\", \"2018-02-24 00:00:00\", \"2018-02-25 00:00:00\", \"2018-02-26 00:00:00\", \"2018-02-27 00:00:00\", \"2018-02-28 00:00:00\", \"2018-03-01 00:00:00\", \"2018-03-02 00:00:00\", \"2018-03-03 00:00:00\", \"2018-03-04 00:00:00\", \"2018-03-05 00:00:00\", \"2018-03-06 00:00:00\", \"2018-03-07 00:00:00\", \"2018-03-08 00:00:00\", \"2018-03-09 00:00:00\", \"2018-03-10 00:00:00\", \"2018-03-11 00:00:00\", \"2018-03-12 00:00:00\", \"2018-03-13 00:00:00\", \"2018-03-14 00:00:00\", \"2018-03-15 00:00:00\", \"2018-03-16 00:00:00\", \"2018-03-17 00:00:00\", \"2018-03-18 00:00:00\", \"2018-03-19 00:00:00\", \"2018-03-20 00:00:00\", \"2018-03-21 00:00:00\", \"2018-03-22 00:00:00\", \"2018-03-23 00:00:00\", \"2018-03-24 00:00:00\", \"2018-03-25 00:00:00\", \"2018-03-26 00:00:00\", \"2018-03-27 00:00:00\", \"2018-03-28 00:00:00\", \"2018-03-29 00:00:00\", \"2018-03-30 00:00:00\", \"2018-03-31 00:00:00\", \"2018-04-01 00:00:00\", \"2018-04-02 00:00:00\", \"2018-04-03 00:00:00\", \"2018-04-04 00:00:00\", \"2018-04-05 00:00:00\", \"2018-04-06 00:00:00\", \"2018-04-07 00:00:00\", \"2018-04-08 00:00:00\", \"2018-04-09 00:00:00\", \"2018-04-10 00:00:00\", \"2018-04-11 00:00:00\", \"2018-04-12 00:00:00\", \"2018-04-13 00:00:00\", \"2018-04-14 00:00:00\", \"2018-04-15 00:00:00\", \"2018-04-16 00:00:00\", \"2018-04-17 00:00:00\", \"2018-04-18 00:00:00\", \"2018-04-19 00:00:00\", \"2018-04-20 00:00:00\", \"2018-04-21 00:00:00\", \"2018-04-22 00:00:00\", \"2018-04-23 00:00:00\", \"2018-04-24 00:00:00\", \"2018-04-25 00:00:00\", \"2018-04-26 00:00:00\", \"2018-04-27 00:00:00\", \"2018-04-28 00:00:00\", \"2018-04-29 00:00:00\", \"2018-04-30 00:00:00\", \"2018-05-01 00:00:00\", \"2018-05-02 00:00:00\", \"2018-05-03 00:00:00\", \"2018-05-04 00:00:00\", \"2018-05-05 00:00:00\", \"2018-05-06 00:00:00\", \"2018-05-07 00:00:00\", \"2018-05-08 00:00:00\", \"2018-05-09 00:00:00\", \"2018-05-10 00:00:00\", \"2018-05-11 00:00:00\", \"2018-05-12 00:00:00\", \"2018-05-13 00:00:00\", \"2018-05-14 00:00:00\", \"2018-05-15 00:00:00\", \"2018-05-16 00:00:00\", \"2018-05-17 00:00:00\", \"2018-05-18 00:00:00\", \"2018-05-19 00:00:00\", \"2018-05-20 00:00:00\", \"2018-05-21 00:00:00\", \"2018-05-22 00:00:00\", \"2018-05-23 00:00:00\", \"2018-05-24 00:00:00\", \"2018-05-25 00:00:00\", \"2018-05-26 00:00:00\", \"2018-05-27 00:00:00\", \"2018-05-28 00:00:00\", \"2018-05-29 00:00:00\", \"2018-05-30 00:00:00\", \"2018-05-31 00:00:00\", \"2018-06-01 00:00:00\", \"2018-06-02 00:00:00\", \"2018-06-03 00:00:00\", \"2018-06-04 00:00:00\", \"2018-06-05 00:00:00\", \"2018-06-06 00:00:00\", \"2018-06-07 00:00:00\", \"2018-06-08 00:00:00\", \"2018-06-09 00:00:00\", \"2018-06-10 00:00:00\", \"2018-06-11 00:00:00\", \"2018-06-12 00:00:00\", \"2018-06-13 00:00:00\", \"2018-06-14 00:00:00\", \"2018-06-15 00:00:00\", \"2018-06-16 00:00:00\", \"2018-06-17 00:00:00\", \"2018-06-18 00:00:00\", \"2018-06-19 00:00:00\", \"2018-06-20 00:00:00\", \"2018-06-21 00:00:00\", \"2018-06-22 00:00:00\", \"2018-06-23 00:00:00\", \"2018-06-24 00:00:00\", \"2018-06-25 00:00:00\", \"2018-06-26 00:00:00\", \"2018-06-27 00:00:00\", \"2018-06-28 00:00:00\", \"2018-06-29 00:00:00\", \"2018-06-30 00:00:00\", \"2018-07-01 00:00:00\", \"2018-07-02 00:00:00\", \"2018-07-03 00:00:00\", \"2018-07-04 00:00:00\", \"2018-07-05 00:00:00\", \"2018-07-06 00:00:00\", \"2018-07-07 00:00:00\", \"2018-07-08 00:00:00\", \"2018-07-09 00:00:00\", \"2018-07-10 00:00:00\", \"2018-07-11 00:00:00\", \"2018-07-12 00:00:00\", \"2018-07-13 00:00:00\", \"2018-07-14 00:00:00\", \"2018-07-15 00:00:00\", \"2018-07-16 00:00:00\", \"2018-07-17 00:00:00\", \"2018-07-18 00:00:00\", \"2018-07-19 00:00:00\", \"2018-07-20 00:00:00\", \"2018-07-21 00:00:00\", \"2018-07-22 00:00:00\", \"2018-07-23 00:00:00\", \"2018-07-24 00:00:00\", \"2018-07-25 00:00:00\", \"2018-07-26 00:00:00\", \"2018-07-27 00:00:00\", \"2018-07-28 00:00:00\", \"2018-07-29 00:00:00\", \"2018-07-30 00:00:00\", \"2018-07-31 00:00:00\", \"2018-08-01 00:00:00\", \"2018-08-02 00:00:00\", \"2018-08-03 00:00:00\", \"2018-08-04 00:00:00\", \"2018-08-05 00:00:00\", \"2018-08-06 00:00:00\", \"2018-08-07 00:00:00\", \"2018-08-08 00:00:00\", \"2018-08-09 00:00:00\", \"2018-08-10 00:00:00\", \"2018-08-11 00:00:00\", \"2018-08-12 00:00:00\", \"2018-08-13 00:00:00\", \"2018-08-14 00:00:00\", \"2018-08-15 00:00:00\", \"2018-08-16 00:00:00\", \"2018-08-17 00:00:00\", \"2018-08-18 00:00:00\", \"2018-08-19 00:00:00\", \"2018-08-20 00:00:00\", \"2018-08-21 00:00:00\", \"2018-08-22 00:00:00\", \"2018-08-23 00:00:00\", \"2018-08-24 00:00:00\", \"2018-08-25 00:00:00\", \"2018-08-26 00:00:00\", \"2018-08-27 00:00:00\", \"2018-08-28 00:00:00\", \"2018-08-29 00:00:00\"], \"xaxis\": \"x\", \"y\": [1, 1, 1, 1, 8, 60, 42, 49, 45, 39, 26, 36, 1, 18, 4, 4, 5, 5, 6, 12, 13, 11, 17, 13, 18, 31, 33, 28, 28, 21, 30, 39, 40, 62, 82, 60, 29, 34, 49, 65, 65, 68, 57, 66, 74, 79, 107, 90, 76, 66, 45, 63, 76, 70, 60, 52, 45, 50, 39, 63, 41, 59, 57, 62, 42, 45, 43, 55, 94, 68, 69, 74, 71, 99, 80, 78, 90, 85, 71, 62, 109, 99, 106, 103, 64, 73, 56, 114, 91, 104, 109, 75, 72, 64, 108, 101, 73, 74, 70, 64, 64, 72, 96, 93, 94, 83, 65, 70, 87, 77, 63, 59, 53, 52, 48, 65, 71, 96, 91, 68, 82, 85, 115, 111, 125, 79, 98, 73, 68, 113, 125, 102, 106, 108, 104, 107, 121, 124, 113, 125, 110, 72, 112, 151, 148, 140, 123, 139, 71, 144, 145, 125, 138, 104, 77, 80, 98, 157, 102, 126, 122, 124, 89, 100, 144, 129, 123, 134, 104, 75, 110, 125, 124, 126, 103, 96, 73, 88, 152, 92, 35, 87, 106, 75, 102, 69, 140, 119, 108, 93, 80, 104, 116, 121, 137, 146, 117, 82, 90, 137, 161, 149, 135, 147, 98, 111, 160, 186, 147, 141, 111, 84, 103, 158, 149, 120, 122, 129, 112, 116, 143, 164, 155, 145, 138, 113, 107, 155, 145, 142, 151, 135, 95, 92, 153, 189, 169, 153, 145, 108, 102, 175, 132, 109, 124, 119, 93, 116, 150, 136, 173, 147, 155, 102, 125, 144, 154, 139, 96, 113, 103, 134, 178, 200, 203, 164, 149, 128, 123, 180, 151, 160, 150, 133, 84, 109, 133, 178, 142, 142, 114, 109, 126, 142, 195, 155, 140, 124, 102, 122, 189, 178, 152, 139, 150, 116, 120, 193, 194, 174, 172, 120, 108, 154, 156, 163, 151, 142, 131, 83, 127, 143, 156, 108, 121, 137, 110, 136, 190, 156, 172, 188, 163, 154, 172, 201, 187, 184, 222, 187, 143, 155, 224, 225, 195, 273, 1151, 491, 383, 396, 373, 318, 261, 267, 213, 231, 327, 274, 269, 225, 214, 153, 183, 264, 256, 213, 198, 191, 130, 130, 207, 173, 170, 142, 110, 106, 59, 88, 168, 166, 146, 132, 96, 74, 73, 203, 221, 253, 207, 214, 195, 290, 250, 277, 263, 238, 214, 227, 302, 298, 280, 232, 230, 181, 193, 305, 259, 240, 228, 226, 150, 153, 243, 253, 250, 229, 210, 192, 200, 265, 263, 242, 226, 208, 171, 167, 211, 218, 283, 275, 210, 200, 199, 256, 286, 255, 274, 227, 185, 232, 288, 288, 307, 272, 259, 206, 231, 258, 269, 255, 230, 202, 190, 217, 230, 226, 197, 285, 249, 179, 210, 299, 295, 282, 252, 218, 165, 189, 270, 244, 219, 194, 165, 165, 207, 281, 246, 255, 264, 189, 163, 184, 251, 200, 273, 254, 202, 144, 221, 279, 264, 279, 290, 196, 156, 199, 284, 269, 283, 254, 241, 169, 171, 240, 255, 294, 301, 265, 197, 209, 369, 327, 340, 277, 246, 204, 205, 364, 351, 356, 226, 234, 137, 161, 204, 199, 132, 114, 103, 99, 98, 143, 149, 140, 132, 182, 142, 190, 222, 195, 226, 223, 198, 172, 193, 294, 246, 259, 212, 185, 164, 152, 245, 231, 217, 233, 179, 150, 199, 240, 242, 214, 242, 173, 123, 161, 195, 216, 255, 194, 121, 91, 121, 148, 132, 127, 120, 167, 147, 152, 242, 216, 296, 249, 248, 184, 213, 305, 268, 267, 246, 188, 174, 187, 284, 320, 309, 299, 314, 245, 275, 372, 365, 313, 283, 252, 186, 197, 287, 313, 285, 317, 253, 196, 203, 252, 239, 185, 142, 98, 69, 73, 66, 39, 11], \"yaxis\": \"y\"}],\n",
              "                        {\"legend\": {\"tracegroupgap\": 0}, \"template\": {\"data\": {\"bar\": [{\"error_x\": {\"color\": \"#2a3f5f\"}, \"error_y\": {\"color\": \"#2a3f5f\"}, \"marker\": {\"line\": {\"color\": \"#E5ECF6\", \"width\": 0.5}}, \"type\": \"bar\"}], \"barpolar\": [{\"marker\": {\"line\": {\"color\": \"#E5ECF6\", \"width\": 0.5}}, \"type\": \"barpolar\"}], \"carpet\": [{\"aaxis\": {\"endlinecolor\": \"#2a3f5f\", \"gridcolor\": \"white\", \"linecolor\": \"white\", \"minorgridcolor\": \"white\", \"startlinecolor\": \"#2a3f5f\"}, \"baxis\": {\"endlinecolor\": \"#2a3f5f\", \"gridcolor\": \"white\", \"linecolor\": \"white\", \"minorgridcolor\": \"white\", \"startlinecolor\": \"#2a3f5f\"}, \"type\": \"carpet\"}], \"choropleth\": [{\"colorbar\": {\"outlinewidth\": 0, \"ticks\": \"\"}, \"type\": \"choropleth\"}], \"contour\": [{\"colorbar\": {\"outlinewidth\": 0, \"ticks\": \"\"}, \"colorscale\": [[0.0, \"#0d0887\"], [0.1111111111111111, \"#46039f\"], [0.2222222222222222, \"#7201a8\"], [0.3333333333333333, \"#9c179e\"], [0.4444444444444444, \"#bd3786\"], [0.5555555555555556, \"#d8576b\"], [0.6666666666666666, \"#ed7953\"], [0.7777777777777778, \"#fb9f3a\"], [0.8888888888888888, \"#fdca26\"], [1.0, \"#f0f921\"]], \"type\": \"contour\"}], \"contourcarpet\": [{\"colorbar\": {\"outlinewidth\": 0, \"ticks\": \"\"}, \"type\": \"contourcarpet\"}], \"heatmap\": [{\"colorbar\": {\"outlinewidth\": 0, \"ticks\": \"\"}, \"colorscale\": [[0.0, \"#0d0887\"], [0.1111111111111111, \"#46039f\"], [0.2222222222222222, \"#7201a8\"], [0.3333333333333333, \"#9c179e\"], [0.4444444444444444, \"#bd3786\"], [0.5555555555555556, \"#d8576b\"], [0.6666666666666666, \"#ed7953\"], [0.7777777777777778, \"#fb9f3a\"], [0.8888888888888888, \"#fdca26\"], [1.0, \"#f0f921\"]], \"type\": \"heatmap\"}], \"heatmapgl\": [{\"colorbar\": {\"outlinewidth\": 0, \"ticks\": \"\"}, \"colorscale\": [[0.0, \"#0d0887\"], [0.1111111111111111, \"#46039f\"], [0.2222222222222222, \"#7201a8\"], [0.3333333333333333, \"#9c179e\"], [0.4444444444444444, \"#bd3786\"], [0.5555555555555556, \"#d8576b\"], [0.6666666666666666, \"#ed7953\"], [0.7777777777777778, \"#fb9f3a\"], [0.8888888888888888, \"#fdca26\"], [1.0, \"#f0f921\"]], \"type\": \"heatmapgl\"}], \"histogram\": [{\"marker\": {\"colorbar\": {\"outlinewidth\": 0, \"ticks\": \"\"}}, \"type\": \"histogram\"}], \"histogram2d\": [{\"colorbar\": {\"outlinewidth\": 0, \"ticks\": \"\"}, \"colorscale\": [[0.0, \"#0d0887\"], [0.1111111111111111, \"#46039f\"], [0.2222222222222222, \"#7201a8\"], [0.3333333333333333, \"#9c179e\"], [0.4444444444444444, \"#bd3786\"], [0.5555555555555556, \"#d8576b\"], [0.6666666666666666, \"#ed7953\"], [0.7777777777777778, \"#fb9f3a\"], [0.8888888888888888, \"#fdca26\"], [1.0, \"#f0f921\"]], \"type\": \"histogram2d\"}], \"histogram2dcontour\": [{\"colorbar\": {\"outlinewidth\": 0, \"ticks\": \"\"}, \"colorscale\": [[0.0, \"#0d0887\"], [0.1111111111111111, \"#46039f\"], [0.2222222222222222, \"#7201a8\"], [0.3333333333333333, \"#9c179e\"], [0.4444444444444444, \"#bd3786\"], [0.5555555555555556, \"#d8576b\"], [0.6666666666666666, \"#ed7953\"], [0.7777777777777778, \"#fb9f3a\"], [0.8888888888888888, \"#fdca26\"], [1.0, \"#f0f921\"]], \"type\": \"histogram2dcontour\"}], \"mesh3d\": [{\"colorbar\": {\"outlinewidth\": 0, \"ticks\": \"\"}, \"type\": \"mesh3d\"}], \"parcoords\": [{\"line\": {\"colorbar\": {\"outlinewidth\": 0, \"ticks\": \"\"}}, \"type\": \"parcoords\"}], \"pie\": [{\"automargin\": true, \"type\": \"pie\"}], \"scatter\": [{\"marker\": {\"colorbar\": {\"outlinewidth\": 0, \"ticks\": \"\"}}, \"type\": \"scatter\"}], \"scatter3d\": [{\"line\": {\"colorbar\": {\"outlinewidth\": 0, \"ticks\": \"\"}}, \"marker\": {\"colorbar\": {\"outlinewidth\": 0, \"ticks\": \"\"}}, \"type\": \"scatter3d\"}], \"scattercarpet\": [{\"marker\": {\"colorbar\": {\"outlinewidth\": 0, \"ticks\": \"\"}}, \"type\": \"scattercarpet\"}], \"scattergeo\": [{\"marker\": {\"colorbar\": {\"outlinewidth\": 0, \"ticks\": \"\"}}, \"type\": \"scattergeo\"}], \"scattergl\": [{\"marker\": {\"colorbar\": {\"outlinewidth\": 0, \"ticks\": \"\"}}, \"type\": \"scattergl\"}], \"scattermapbox\": [{\"marker\": {\"colorbar\": {\"outlinewidth\": 0, \"ticks\": \"\"}}, \"type\": \"scattermapbox\"}], \"scatterpolar\": [{\"marker\": {\"colorbar\": {\"outlinewidth\": 0, \"ticks\": \"\"}}, \"type\": \"scatterpolar\"}], \"scatterpolargl\": [{\"marker\": {\"colorbar\": {\"outlinewidth\": 0, \"ticks\": \"\"}}, \"type\": \"scatterpolargl\"}], \"scatterternary\": [{\"marker\": {\"colorbar\": {\"outlinewidth\": 0, \"ticks\": \"\"}}, \"type\": \"scatterternary\"}], \"surface\": [{\"colorbar\": {\"outlinewidth\": 0, \"ticks\": \"\"}, \"colorscale\": [[0.0, \"#0d0887\"], [0.1111111111111111, \"#46039f\"], [0.2222222222222222, \"#7201a8\"], [0.3333333333333333, \"#9c179e\"], [0.4444444444444444, \"#bd3786\"], [0.5555555555555556, \"#d8576b\"], [0.6666666666666666, \"#ed7953\"], [0.7777777777777778, \"#fb9f3a\"], [0.8888888888888888, \"#fdca26\"], [1.0, \"#f0f921\"]], \"type\": \"surface\"}], \"table\": [{\"cells\": {\"fill\": {\"color\": \"#EBF0F8\"}, \"line\": {\"color\": \"white\"}}, \"header\": {\"fill\": {\"color\": \"#C8D4E3\"}, \"line\": {\"color\": \"white\"}}, \"type\": \"table\"}]}, \"layout\": {\"annotationdefaults\": {\"arrowcolor\": \"#2a3f5f\", \"arrowhead\": 0, \"arrowwidth\": 1}, \"coloraxis\": {\"colorbar\": {\"outlinewidth\": 0, \"ticks\": \"\"}}, \"colorscale\": {\"diverging\": [[0, \"#8e0152\"], [0.1, \"#c51b7d\"], [0.2, \"#de77ae\"], [0.3, \"#f1b6da\"], [0.4, \"#fde0ef\"], [0.5, \"#f7f7f7\"], [0.6, \"#e6f5d0\"], [0.7, \"#b8e186\"], [0.8, \"#7fbc41\"], [0.9, \"#4d9221\"], [1, \"#276419\"]], \"sequential\": [[0.0, \"#0d0887\"], [0.1111111111111111, \"#46039f\"], [0.2222222222222222, \"#7201a8\"], [0.3333333333333333, \"#9c179e\"], [0.4444444444444444, \"#bd3786\"], [0.5555555555555556, \"#d8576b\"], [0.6666666666666666, \"#ed7953\"], [0.7777777777777778, \"#fb9f3a\"], [0.8888888888888888, \"#fdca26\"], [1.0, \"#f0f921\"]], \"sequentialminus\": [[0.0, \"#0d0887\"], [0.1111111111111111, \"#46039f\"], [0.2222222222222222, \"#7201a8\"], [0.3333333333333333, \"#9c179e\"], [0.4444444444444444, \"#bd3786\"], [0.5555555555555556, \"#d8576b\"], [0.6666666666666666, \"#ed7953\"], [0.7777777777777778, \"#fb9f3a\"], [0.8888888888888888, \"#fdca26\"], [1.0, \"#f0f921\"]]}, \"colorway\": [\"#636efa\", \"#EF553B\", \"#00cc96\", \"#ab63fa\", \"#FFA15A\", \"#19d3f3\", \"#FF6692\", \"#B6E880\", \"#FF97FF\", \"#FECB52\"], \"font\": {\"color\": \"#2a3f5f\"}, \"geo\": {\"bgcolor\": \"white\", \"lakecolor\": \"white\", \"landcolor\": \"#E5ECF6\", \"showlakes\": true, \"showland\": true, \"subunitcolor\": \"white\"}, \"hoverlabel\": {\"align\": \"left\"}, \"hovermode\": \"closest\", \"mapbox\": {\"style\": \"light\"}, \"paper_bgcolor\": \"white\", \"plot_bgcolor\": \"#E5ECF6\", \"polar\": {\"angularaxis\": {\"gridcolor\": \"white\", \"linecolor\": \"white\", \"ticks\": \"\"}, \"bgcolor\": \"#E5ECF6\", \"radialaxis\": {\"gridcolor\": \"white\", \"linecolor\": \"white\", \"ticks\": \"\"}}, \"scene\": {\"xaxis\": {\"backgroundcolor\": \"#E5ECF6\", \"gridcolor\": \"white\", \"gridwidth\": 2, \"linecolor\": \"white\", \"showbackground\": true, \"ticks\": \"\", \"zerolinecolor\": \"white\"}, \"yaxis\": {\"backgroundcolor\": \"#E5ECF6\", \"gridcolor\": \"white\", \"gridwidth\": 2, \"linecolor\": \"white\", \"showbackground\": true, \"ticks\": \"\", \"zerolinecolor\": \"white\"}, \"zaxis\": {\"backgroundcolor\": \"#E5ECF6\", \"gridcolor\": \"white\", \"gridwidth\": 2, \"linecolor\": \"white\", \"showbackground\": true, \"ticks\": \"\", \"zerolinecolor\": \"white\"}}, \"shapedefaults\": {\"line\": {\"color\": \"#2a3f5f\"}}, \"ternary\": {\"aaxis\": {\"gridcolor\": \"white\", \"linecolor\": \"white\", \"ticks\": \"\"}, \"baxis\": {\"gridcolor\": \"white\", \"linecolor\": \"white\", \"ticks\": \"\"}, \"bgcolor\": \"#E5ECF6\", \"caxis\": {\"gridcolor\": \"white\", \"linecolor\": \"white\", \"ticks\": \"\"}}, \"title\": {\"x\": 0.05}, \"xaxis\": {\"automargin\": true, \"gridcolor\": \"white\", \"linecolor\": \"white\", \"ticks\": \"\", \"title\": {\"standoff\": 15}, \"zerolinecolor\": \"white\", \"zerolinewidth\": 2}, \"yaxis\": {\"automargin\": true, \"gridcolor\": \"white\", \"linecolor\": \"white\", \"ticks\": \"\", \"title\": {\"standoff\": 15}, \"zerolinecolor\": \"white\", \"zerolinewidth\": 2}}}, \"title\": {\"text\": \"\\u0427\\u0438\\u0441\\u043b\\u043e \\u043f\\u043e\\u043a\\u0443\\u043f\\u0430\\u0442\\u0435\\u043b\\u0435\\u0439 \\u0432 \\u0434\\u0435\\u043d\\u044c\"}, \"xaxis\": {\"anchor\": \"y\", \"domain\": [0.0, 1.0], \"title\": {\"text\": \"\"}}, \"yaxis\": {\"anchor\": \"x\", \"domain\": [0.0, 1.0], \"title\": {\"text\": \"\\u0427\\u0438\\u0441\\u043b\\u043e \\u043f\\u043e\\u043a\\u0443\\u043f\\u0430\\u0442\\u0435\\u043b\\u0435\\u0439\"}}},\n",
              "                        {\"responsive\": true}\n",
              "                    ).then(function(){\n",
              "                            \n",
              "var gd = document.getElementById('2ba3e284-43e2-484f-9820-1b1c40ff1e7c');\n",
              "var x = new MutationObserver(function (mutations, observer) {{\n",
              "        var display = window.getComputedStyle(gd).display;\n",
              "        if (!display || display === 'none') {{\n",
              "            console.log([gd, 'removed!']);\n",
              "            Plotly.purge(gd);\n",
              "            observer.disconnect();\n",
              "        }}\n",
              "}});\n",
              "\n",
              "// Listen for the removal of the full notebook cells\n",
              "var notebookContainer = gd.closest('#notebook-container');\n",
              "if (notebookContainer) {{\n",
              "    x.observe(notebookContainer, {childList: true});\n",
              "}}\n",
              "\n",
              "// Listen for the clearing of the current output cell\n",
              "var outputEl = gd.closest('.output');\n",
              "if (outputEl) {{\n",
              "    x.observe(outputEl, {childList: true});\n",
              "}}\n",
              "\n",
              "                        })\n",
              "                };\n",
              "                \n",
              "            </script>\n",
              "        </div>\n",
              "</body>\n",
              "</html>"
            ]
          },
          "metadata": {}
        }
      ]
    },
    {
      "cell_type": "markdown",
      "metadata": {
        "id": "u-pbpz5V5-gZ"
      },
      "source": [
        "В динамике по дням уже можно видеть пик более 1000 покупателей в день 1 ноября при всех значениях, не превышающих 400 чел. Проверим, есть ли этот пик в Топ-3 штатах."
      ]
    },
    {
      "cell_type": "code",
      "metadata": {
        "id": "ezguUClB5-gZ"
      },
      "source": [
        "#Аналогичным образом получим данные в динамике в разбивке по штатам\n",
        "DAU_by_states = get_df('select toStartOfDay(r.order_purchase_timestamp) as so_day,\\\n",
        "                                l.customer_state as state,\\\n",
        "                                 uniqExact(l.customer_id) as num_cust\\\n",
        "                          from vk.customers as l\\\n",
        "                          join vk.orders as r\\\n",
        "                          on l.customer_id = r.customer_id\\\n",
        "                          group by state, so_day\\\n",
        "                          order by so_day asc, num_cust desc')"
      ],
      "execution_count": null,
      "outputs": []
    },
    {
      "cell_type": "code",
      "metadata": {
        "id": "vptdJW965-gb"
      },
      "source": [
        "#Выберем Топ-3 штата\n",
        "DAU_top_states = DAU_by_states.query('state in [\"SP\", \"RJ\", \"MG\"]')"
      ],
      "execution_count": null,
      "outputs": []
    },
    {
      "cell_type": "code",
      "metadata": {
        "colab": {
          "base_uri": "https://localhost:8080/",
          "height": 542
        },
        "id": "LsBVneXY5-gc",
        "outputId": "88589aa4-28bb-4b01-d4df-fc318450aaf8"
      },
      "source": [
        "#Построим график\n",
        "fig = px.line(DAU_top_states[DAU_top_states.so_day < '2018-09-01'], x=\"so_day\", y=\"num_cust\", color = 'state',\\\n",
        "              labels={\n",
        "                     \"so_day\": \"\",\n",
        "                     \"num_cust\": \"Число покупателей\",\n",
        "                     \"state\":\"Штат\"\n",
        "                 },\n",
        "              title='Число покупателей в день в Топ-3 штатах по числу клиентов')\n",
        "fig.show()"
      ],
      "execution_count": null,
      "outputs": [
        {
          "output_type": "display_data",
          "data": {
            "text/html": [
              "<html>\n",
              "<head><meta charset=\"utf-8\" /></head>\n",
              "<body>\n",
              "    <div>\n",
              "            <script src=\"https://cdnjs.cloudflare.com/ajax/libs/mathjax/2.7.5/MathJax.js?config=TeX-AMS-MML_SVG\"></script><script type=\"text/javascript\">if (window.MathJax) {MathJax.Hub.Config({SVG: {font: \"STIX-Web\"}});}</script>\n",
              "                <script type=\"text/javascript\">window.PlotlyConfig = {MathJaxConfig: 'local'};</script>\n",
              "        <script src=\"https://cdn.plot.ly/plotly-latest.min.js\"></script>    \n",
              "            <div id=\"9a589151-fc3c-4148-83e6-eeb9e8b69269\" class=\"plotly-graph-div\" style=\"height:525px; width:100%;\"></div>\n",
              "            <script type=\"text/javascript\">\n",
              "                \n",
              "                    window.PLOTLYENV=window.PLOTLYENV || {};\n",
              "                    \n",
              "                if (document.getElementById(\"9a589151-fc3c-4148-83e6-eeb9e8b69269\")) {\n",
              "                    Plotly.newPlot(\n",
              "                        '9a589151-fc3c-4148-83e6-eeb9e8b69269',\n",
              "                        [{\"hoverlabel\": {\"namelength\": 0}, \"hovertemplate\": \"\\u0428\\u0442\\u0430\\u0442=SP<br>=%{x}<br>\\u0427\\u0438\\u0441\\u043b\\u043e \\u043f\\u043e\\u043a\\u0443\\u043f\\u0430\\u0442\\u0435\\u043b\\u0435\\u0439=%{y}\", \"legendgroup\": \"\\u0428\\u0442\\u0430\\u0442=SP\", \"line\": {\"color\": \"#636efa\", \"dash\": \"solid\"}, \"mode\": \"lines\", \"name\": \"\\u0428\\u0442\\u0430\\u0442=SP\", \"showlegend\": true, \"type\": \"scattergl\", \"x\": [\"2016-09-15 00:00:00\", \"2016-10-02 00:00:00\", \"2016-10-03 00:00:00\", \"2016-10-04 00:00:00\", \"2016-10-05 00:00:00\", \"2016-10-06 00:00:00\", \"2016-10-07 00:00:00\", \"2016-10-08 00:00:00\", \"2016-10-09 00:00:00\", \"2016-10-10 00:00:00\", \"2017-01-05 00:00:00\", \"2017-01-06 00:00:00\", \"2017-01-07 00:00:00\", \"2017-01-08 00:00:00\", \"2017-01-09 00:00:00\", \"2017-01-10 00:00:00\", \"2017-01-11 00:00:00\", \"2017-01-12 00:00:00\", \"2017-01-13 00:00:00\", \"2017-01-14 00:00:00\", \"2017-01-15 00:00:00\", \"2017-01-16 00:00:00\", \"2017-01-17 00:00:00\", \"2017-01-18 00:00:00\", \"2017-01-19 00:00:00\", \"2017-01-20 00:00:00\", \"2017-01-21 00:00:00\", \"2017-01-22 00:00:00\", \"2017-01-23 00:00:00\", \"2017-01-24 00:00:00\", \"2017-01-25 00:00:00\", \"2017-01-26 00:00:00\", \"2017-01-27 00:00:00\", \"2017-01-28 00:00:00\", \"2017-01-29 00:00:00\", \"2017-01-30 00:00:00\", \"2017-01-31 00:00:00\", \"2017-02-01 00:00:00\", \"2017-02-02 00:00:00\", \"2017-02-03 00:00:00\", \"2017-02-04 00:00:00\", \"2017-02-05 00:00:00\", \"2017-02-06 00:00:00\", \"2017-02-07 00:00:00\", \"2017-02-08 00:00:00\", \"2017-02-09 00:00:00\", \"2017-02-10 00:00:00\", \"2017-02-11 00:00:00\", \"2017-02-12 00:00:00\", \"2017-02-13 00:00:00\", \"2017-02-14 00:00:00\", \"2017-02-15 00:00:00\", \"2017-02-16 00:00:00\", \"2017-02-17 00:00:00\", \"2017-02-18 00:00:00\", \"2017-02-19 00:00:00\", \"2017-02-20 00:00:00\", \"2017-02-21 00:00:00\", \"2017-02-22 00:00:00\", \"2017-02-23 00:00:00\", \"2017-02-24 00:00:00\", \"2017-02-25 00:00:00\", \"2017-02-26 00:00:00\", \"2017-02-27 00:00:00\", \"2017-02-28 00:00:00\", \"2017-03-01 00:00:00\", \"2017-03-02 00:00:00\", \"2017-03-03 00:00:00\", \"2017-03-04 00:00:00\", \"2017-03-05 00:00:00\", \"2017-03-06 00:00:00\", \"2017-03-07 00:00:00\", \"2017-03-08 00:00:00\", \"2017-03-09 00:00:00\", \"2017-03-10 00:00:00\", \"2017-03-11 00:00:00\", \"2017-03-12 00:00:00\", \"2017-03-13 00:00:00\", \"2017-03-14 00:00:00\", \"2017-03-15 00:00:00\", \"2017-03-16 00:00:00\", \"2017-03-17 00:00:00\", \"2017-03-18 00:00:00\", \"2017-03-19 00:00:00\", \"2017-03-20 00:00:00\", \"2017-03-21 00:00:00\", \"2017-03-22 00:00:00\", \"2017-03-23 00:00:00\", \"2017-03-24 00:00:00\", \"2017-03-25 00:00:00\", \"2017-03-26 00:00:00\", \"2017-03-27 00:00:00\", \"2017-03-28 00:00:00\", \"2017-03-29 00:00:00\", \"2017-03-30 00:00:00\", \"2017-03-31 00:00:00\", \"2017-04-01 00:00:00\", \"2017-04-02 00:00:00\", \"2017-04-03 00:00:00\", \"2017-04-04 00:00:00\", \"2017-04-05 00:00:00\", \"2017-04-06 00:00:00\", \"2017-04-07 00:00:00\", \"2017-04-08 00:00:00\", \"2017-04-09 00:00:00\", \"2017-04-10 00:00:00\", \"2017-04-11 00:00:00\", \"2017-04-12 00:00:00\", \"2017-04-13 00:00:00\", \"2017-04-14 00:00:00\", \"2017-04-15 00:00:00\", \"2017-04-16 00:00:00\", \"2017-04-17 00:00:00\", \"2017-04-18 00:00:00\", \"2017-04-19 00:00:00\", \"2017-04-20 00:00:00\", \"2017-04-21 00:00:00\", \"2017-04-22 00:00:00\", \"2017-04-23 00:00:00\", \"2017-04-24 00:00:00\", \"2017-04-25 00:00:00\", \"2017-04-26 00:00:00\", \"2017-04-27 00:00:00\", \"2017-04-28 00:00:00\", \"2017-04-29 00:00:00\", \"2017-04-30 00:00:00\", \"2017-05-01 00:00:00\", \"2017-05-02 00:00:00\", \"2017-05-03 00:00:00\", \"2017-05-04 00:00:00\", \"2017-05-05 00:00:00\", \"2017-05-06 00:00:00\", \"2017-05-07 00:00:00\", \"2017-05-08 00:00:00\", \"2017-05-09 00:00:00\", \"2017-05-10 00:00:00\", \"2017-05-11 00:00:00\", \"2017-05-12 00:00:00\", \"2017-05-13 00:00:00\", \"2017-05-14 00:00:00\", \"2017-05-15 00:00:00\", \"2017-05-16 00:00:00\", \"2017-05-17 00:00:00\", \"2017-05-18 00:00:00\", \"2017-05-19 00:00:00\", \"2017-05-20 00:00:00\", \"2017-05-21 00:00:00\", \"2017-05-22 00:00:00\", \"2017-05-23 00:00:00\", \"2017-05-24 00:00:00\", \"2017-05-25 00:00:00\", \"2017-05-26 00:00:00\", \"2017-05-27 00:00:00\", \"2017-05-28 00:00:00\", \"2017-05-29 00:00:00\", \"2017-05-30 00:00:00\", \"2017-05-31 00:00:00\", \"2017-06-01 00:00:00\", \"2017-06-02 00:00:00\", \"2017-06-03 00:00:00\", \"2017-06-04 00:00:00\", \"2017-06-05 00:00:00\", \"2017-06-06 00:00:00\", \"2017-06-07 00:00:00\", \"2017-06-08 00:00:00\", \"2017-06-09 00:00:00\", \"2017-06-10 00:00:00\", \"2017-06-11 00:00:00\", \"2017-06-12 00:00:00\", \"2017-06-13 00:00:00\", \"2017-06-14 00:00:00\", \"2017-06-15 00:00:00\", \"2017-06-16 00:00:00\", \"2017-06-17 00:00:00\", \"2017-06-18 00:00:00\", \"2017-06-19 00:00:00\", \"2017-06-20 00:00:00\", \"2017-06-21 00:00:00\", \"2017-06-22 00:00:00\", \"2017-06-23 00:00:00\", \"2017-06-24 00:00:00\", \"2017-06-25 00:00:00\", \"2017-06-26 00:00:00\", \"2017-06-27 00:00:00\", \"2017-06-28 00:00:00\", \"2017-06-29 00:00:00\", \"2017-06-30 00:00:00\", \"2017-07-01 00:00:00\", \"2017-07-02 00:00:00\", \"2017-07-03 00:00:00\", \"2017-07-04 00:00:00\", \"2017-07-05 00:00:00\", \"2017-07-06 00:00:00\", \"2017-07-07 00:00:00\", \"2017-07-08 00:00:00\", \"2017-07-09 00:00:00\", \"2017-07-10 00:00:00\", \"2017-07-11 00:00:00\", \"2017-07-12 00:00:00\", \"2017-07-13 00:00:00\", \"2017-07-14 00:00:00\", \"2017-07-15 00:00:00\", \"2017-07-16 00:00:00\", \"2017-07-17 00:00:00\", \"2017-07-18 00:00:00\", \"2017-07-19 00:00:00\", \"2017-07-20 00:00:00\", \"2017-07-21 00:00:00\", \"2017-07-22 00:00:00\", \"2017-07-23 00:00:00\", \"2017-07-24 00:00:00\", \"2017-07-25 00:00:00\", \"2017-07-26 00:00:00\", \"2017-07-27 00:00:00\", \"2017-07-28 00:00:00\", \"2017-07-29 00:00:00\", \"2017-07-30 00:00:00\", \"2017-07-31 00:00:00\", \"2017-08-01 00:00:00\", \"2017-08-02 00:00:00\", \"2017-08-03 00:00:00\", \"2017-08-04 00:00:00\", \"2017-08-05 00:00:00\", \"2017-08-06 00:00:00\", \"2017-08-07 00:00:00\", \"2017-08-08 00:00:00\", \"2017-08-09 00:00:00\", \"2017-08-10 00:00:00\", \"2017-08-11 00:00:00\", \"2017-08-12 00:00:00\", \"2017-08-13 00:00:00\", \"2017-08-14 00:00:00\", \"2017-08-15 00:00:00\", \"2017-08-16 00:00:00\", \"2017-08-17 00:00:00\", \"2017-08-18 00:00:00\", \"2017-08-19 00:00:00\", \"2017-08-20 00:00:00\", \"2017-08-21 00:00:00\", \"2017-08-22 00:00:00\", \"2017-08-23 00:00:00\", \"2017-08-24 00:00:00\", \"2017-08-25 00:00:00\", \"2017-08-26 00:00:00\", \"2017-08-27 00:00:00\", \"2017-08-28 00:00:00\", \"2017-08-29 00:00:00\", \"2017-08-30 00:00:00\", \"2017-08-31 00:00:00\", \"2017-09-01 00:00:00\", \"2017-09-02 00:00:00\", \"2017-09-03 00:00:00\", \"2017-09-04 00:00:00\", \"2017-09-05 00:00:00\", \"2017-09-06 00:00:00\", \"2017-09-07 00:00:00\", \"2017-09-08 00:00:00\", \"2017-09-09 00:00:00\", \"2017-09-10 00:00:00\", \"2017-09-11 00:00:00\", \"2017-09-12 00:00:00\", \"2017-09-13 00:00:00\", \"2017-09-14 00:00:00\", \"2017-09-15 00:00:00\", \"2017-09-16 00:00:00\", \"2017-09-17 00:00:00\", \"2017-09-18 00:00:00\", \"2017-09-19 00:00:00\", \"2017-09-20 00:00:00\", \"2017-09-21 00:00:00\", \"2017-09-22 00:00:00\", \"2017-09-23 00:00:00\", \"2017-09-24 00:00:00\", \"2017-09-25 00:00:00\", \"2017-09-26 00:00:00\", \"2017-09-27 00:00:00\", \"2017-09-28 00:00:00\", \"2017-09-29 00:00:00\", \"2017-09-30 00:00:00\", \"2017-10-01 00:00:00\", \"2017-10-02 00:00:00\", \"2017-10-03 00:00:00\", \"2017-10-04 00:00:00\", \"2017-10-05 00:00:00\", \"2017-10-06 00:00:00\", \"2017-10-07 00:00:00\", \"2017-10-08 00:00:00\", \"2017-10-09 00:00:00\", \"2017-10-10 00:00:00\", \"2017-10-11 00:00:00\", \"2017-10-12 00:00:00\", \"2017-10-13 00:00:00\", \"2017-10-14 00:00:00\", \"2017-10-15 00:00:00\", \"2017-10-16 00:00:00\", \"2017-10-17 00:00:00\", \"2017-10-18 00:00:00\", \"2017-10-19 00:00:00\", \"2017-10-20 00:00:00\", \"2017-10-21 00:00:00\", \"2017-10-22 00:00:00\", \"2017-10-23 00:00:00\", \"2017-10-24 00:00:00\", \"2017-10-25 00:00:00\", \"2017-10-26 00:00:00\", \"2017-10-27 00:00:00\", \"2017-10-28 00:00:00\", \"2017-10-29 00:00:00\", \"2017-10-30 00:00:00\", \"2017-10-31 00:00:00\", \"2017-11-01 00:00:00\", \"2017-11-02 00:00:00\", \"2017-11-03 00:00:00\", \"2017-11-04 00:00:00\", \"2017-11-05 00:00:00\", \"2017-11-06 00:00:00\", \"2017-11-07 00:00:00\", \"2017-11-08 00:00:00\", \"2017-11-09 00:00:00\", \"2017-11-10 00:00:00\", \"2017-11-11 00:00:00\", \"2017-11-12 00:00:00\", \"2017-11-13 00:00:00\", \"2017-11-14 00:00:00\", \"2017-11-15 00:00:00\", \"2017-11-16 00:00:00\", \"2017-11-17 00:00:00\", \"2017-11-18 00:00:00\", \"2017-11-19 00:00:00\", \"2017-11-20 00:00:00\", \"2017-11-21 00:00:00\", \"2017-11-22 00:00:00\", \"2017-11-23 00:00:00\", \"2017-11-24 00:00:00\", \"2017-11-25 00:00:00\", \"2017-11-26 00:00:00\", \"2017-11-27 00:00:00\", \"2017-11-28 00:00:00\", \"2017-11-29 00:00:00\", \"2017-11-30 00:00:00\", \"2017-12-01 00:00:00\", \"2017-12-02 00:00:00\", \"2017-12-03 00:00:00\", \"2017-12-04 00:00:00\", \"2017-12-05 00:00:00\", \"2017-12-06 00:00:00\", \"2017-12-07 00:00:00\", \"2017-12-08 00:00:00\", \"2017-12-09 00:00:00\", \"2017-12-10 00:00:00\", \"2017-12-11 00:00:00\", \"2017-12-12 00:00:00\", \"2017-12-13 00:00:00\", \"2017-12-14 00:00:00\", \"2017-12-15 00:00:00\", \"2017-12-16 00:00:00\", \"2017-12-17 00:00:00\", \"2017-12-18 00:00:00\", \"2017-12-19 00:00:00\", \"2017-12-20 00:00:00\", \"2017-12-21 00:00:00\", \"2017-12-22 00:00:00\", \"2017-12-23 00:00:00\", \"2017-12-24 00:00:00\", \"2017-12-25 00:00:00\", \"2017-12-26 00:00:00\", \"2017-12-27 00:00:00\", \"2017-12-28 00:00:00\", \"2017-12-29 00:00:00\", \"2017-12-30 00:00:00\", \"2017-12-31 00:00:00\", \"2018-01-01 00:00:00\", \"2018-01-02 00:00:00\", \"2018-01-03 00:00:00\", \"2018-01-04 00:00:00\", \"2018-01-05 00:00:00\", \"2018-01-06 00:00:00\", \"2018-01-07 00:00:00\", \"2018-01-08 00:00:00\", \"2018-01-09 00:00:00\", \"2018-01-10 00:00:00\", \"2018-01-11 00:00:00\", \"2018-01-12 00:00:00\", \"2018-01-13 00:00:00\", \"2018-01-14 00:00:00\", \"2018-01-15 00:00:00\", \"2018-01-16 00:00:00\", \"2018-01-17 00:00:00\", \"2018-01-18 00:00:00\", \"2018-01-19 00:00:00\", \"2018-01-20 00:00:00\", \"2018-01-21 00:00:00\", \"2018-01-22 00:00:00\", \"2018-01-23 00:00:00\", \"2018-01-24 00:00:00\", \"2018-01-25 00:00:00\", \"2018-01-26 00:00:00\", \"2018-01-27 00:00:00\", \"2018-01-28 00:00:00\", \"2018-01-29 00:00:00\", \"2018-01-30 00:00:00\", \"2018-01-31 00:00:00\", \"2018-02-01 00:00:00\", \"2018-02-02 00:00:00\", \"2018-02-03 00:00:00\", \"2018-02-04 00:00:00\", \"2018-02-05 00:00:00\", \"2018-02-06 00:00:00\", \"2018-02-07 00:00:00\", \"2018-02-08 00:00:00\", \"2018-02-09 00:00:00\", \"2018-02-10 00:00:00\", \"2018-02-11 00:00:00\", \"2018-02-12 00:00:00\", \"2018-02-13 00:00:00\", \"2018-02-14 00:00:00\", \"2018-02-15 00:00:00\", \"2018-02-16 00:00:00\", \"2018-02-17 00:00:00\", \"2018-02-18 00:00:00\", \"2018-02-19 00:00:00\", \"2018-02-20 00:00:00\", \"2018-02-21 00:00:00\", \"2018-02-22 00:00:00\", \"2018-02-23 00:00:00\", \"2018-02-24 00:00:00\", \"2018-02-25 00:00:00\", \"2018-02-26 00:00:00\", \"2018-02-27 00:00:00\", \"2018-02-28 00:00:00\", \"2018-03-01 00:00:00\", \"2018-03-02 00:00:00\", \"2018-03-03 00:00:00\", \"2018-03-04 00:00:00\", \"2018-03-05 00:00:00\", \"2018-03-06 00:00:00\", \"2018-03-07 00:00:00\", \"2018-03-08 00:00:00\", \"2018-03-09 00:00:00\", \"2018-03-10 00:00:00\", \"2018-03-11 00:00:00\", \"2018-03-12 00:00:00\", \"2018-03-13 00:00:00\", \"2018-03-14 00:00:00\", \"2018-03-15 00:00:00\", \"2018-03-16 00:00:00\", \"2018-03-17 00:00:00\", \"2018-03-18 00:00:00\", \"2018-03-19 00:00:00\", \"2018-03-20 00:00:00\", \"2018-03-21 00:00:00\", \"2018-03-22 00:00:00\", \"2018-03-23 00:00:00\", \"2018-03-24 00:00:00\", \"2018-03-25 00:00:00\", \"2018-03-26 00:00:00\", \"2018-03-27 00:00:00\", \"2018-03-28 00:00:00\", \"2018-03-29 00:00:00\", \"2018-03-30 00:00:00\", \"2018-03-31 00:00:00\", \"2018-04-01 00:00:00\", \"2018-04-02 00:00:00\", \"2018-04-03 00:00:00\", \"2018-04-04 00:00:00\", \"2018-04-05 00:00:00\", \"2018-04-06 00:00:00\", \"2018-04-07 00:00:00\", \"2018-04-08 00:00:00\", \"2018-04-09 00:00:00\", \"2018-04-10 00:00:00\", \"2018-04-11 00:00:00\", \"2018-04-12 00:00:00\", \"2018-04-13 00:00:00\", \"2018-04-14 00:00:00\", \"2018-04-15 00:00:00\", \"2018-04-16 00:00:00\", \"2018-04-17 00:00:00\", \"2018-04-18 00:00:00\", \"2018-04-19 00:00:00\", \"2018-04-20 00:00:00\", \"2018-04-21 00:00:00\", \"2018-04-22 00:00:00\", \"2018-04-23 00:00:00\", \"2018-04-24 00:00:00\", \"2018-04-25 00:00:00\", \"2018-04-26 00:00:00\", \"2018-04-27 00:00:00\", \"2018-04-28 00:00:00\", \"2018-04-29 00:00:00\", \"2018-04-30 00:00:00\", \"2018-05-01 00:00:00\", \"2018-05-02 00:00:00\", \"2018-05-03 00:00:00\", \"2018-05-04 00:00:00\", \"2018-05-05 00:00:00\", \"2018-05-06 00:00:00\", \"2018-05-07 00:00:00\", \"2018-05-08 00:00:00\", \"2018-05-09 00:00:00\", \"2018-05-10 00:00:00\", \"2018-05-11 00:00:00\", \"2018-05-12 00:00:00\", \"2018-05-13 00:00:00\", \"2018-05-14 00:00:00\", \"2018-05-15 00:00:00\", \"2018-05-16 00:00:00\", \"2018-05-17 00:00:00\", \"2018-05-18 00:00:00\", \"2018-05-19 00:00:00\", \"2018-05-20 00:00:00\", \"2018-05-21 00:00:00\", \"2018-05-22 00:00:00\", \"2018-05-23 00:00:00\", \"2018-05-24 00:00:00\", \"2018-05-25 00:00:00\", \"2018-05-26 00:00:00\", \"2018-05-27 00:00:00\", \"2018-05-28 00:00:00\", \"2018-05-29 00:00:00\", \"2018-05-30 00:00:00\", \"2018-05-31 00:00:00\", \"2018-06-01 00:00:00\", \"2018-06-02 00:00:00\", \"2018-06-03 00:00:00\", \"2018-06-04 00:00:00\", \"2018-06-05 00:00:00\", \"2018-06-06 00:00:00\", \"2018-06-07 00:00:00\", \"2018-06-08 00:00:00\", \"2018-06-09 00:00:00\", \"2018-06-10 00:00:00\", \"2018-06-11 00:00:00\", \"2018-06-12 00:00:00\", \"2018-06-13 00:00:00\", \"2018-06-14 00:00:00\", \"2018-06-15 00:00:00\", \"2018-06-16 00:00:00\", \"2018-06-17 00:00:00\", \"2018-06-18 00:00:00\", \"2018-06-19 00:00:00\", \"2018-06-20 00:00:00\", \"2018-06-21 00:00:00\", \"2018-06-22 00:00:00\", \"2018-06-23 00:00:00\", \"2018-06-24 00:00:00\", \"2018-06-25 00:00:00\", \"2018-06-26 00:00:00\", \"2018-06-27 00:00:00\", \"2018-06-28 00:00:00\", \"2018-06-29 00:00:00\", \"2018-06-30 00:00:00\", \"2018-07-01 00:00:00\", \"2018-07-02 00:00:00\", \"2018-07-03 00:00:00\", \"2018-07-04 00:00:00\", \"2018-07-05 00:00:00\", \"2018-07-06 00:00:00\", \"2018-07-07 00:00:00\", \"2018-07-08 00:00:00\", \"2018-07-09 00:00:00\", \"2018-07-10 00:00:00\", \"2018-07-11 00:00:00\", \"2018-07-12 00:00:00\", \"2018-07-13 00:00:00\", \"2018-07-14 00:00:00\", \"2018-07-15 00:00:00\", \"2018-07-16 00:00:00\", \"2018-07-17 00:00:00\", \"2018-07-18 00:00:00\", \"2018-07-19 00:00:00\", \"2018-07-20 00:00:00\", \"2018-07-21 00:00:00\", \"2018-07-22 00:00:00\", \"2018-07-23 00:00:00\", \"2018-07-24 00:00:00\", \"2018-07-25 00:00:00\", \"2018-07-26 00:00:00\", \"2018-07-27 00:00:00\", \"2018-07-28 00:00:00\", \"2018-07-29 00:00:00\", \"2018-07-30 00:00:00\", \"2018-07-31 00:00:00\", \"2018-08-01 00:00:00\", \"2018-08-02 00:00:00\", \"2018-08-03 00:00:00\", \"2018-08-04 00:00:00\", \"2018-08-05 00:00:00\", \"2018-08-06 00:00:00\", \"2018-08-07 00:00:00\", \"2018-08-08 00:00:00\", \"2018-08-09 00:00:00\", \"2018-08-10 00:00:00\", \"2018-08-11 00:00:00\", \"2018-08-12 00:00:00\", \"2018-08-13 00:00:00\", \"2018-08-14 00:00:00\", \"2018-08-15 00:00:00\", \"2018-08-16 00:00:00\", \"2018-08-17 00:00:00\", \"2018-08-18 00:00:00\", \"2018-08-19 00:00:00\", \"2018-08-20 00:00:00\", \"2018-08-21 00:00:00\", \"2018-08-22 00:00:00\", \"2018-08-23 00:00:00\", \"2018-08-24 00:00:00\", \"2018-08-25 00:00:00\", \"2018-08-26 00:00:00\", \"2018-08-27 00:00:00\", \"2018-08-28 00:00:00\", \"2018-08-29 00:00:00\"], \"xaxis\": \"x\", \"y\": [1, 1, 3, 24, 11, 21, 19, 14, 6, 10, 1, 1, 1, 1, 1, 1, 2, 6, 4, 6, 3, 8, 14, 10, 13, 14, 7, 15, 16, 17, 25, 33, 28, 8, 13, 17, 26, 23, 18, 20, 20, 29, 29, 46, 26, 27, 24, 18, 23, 20, 22, 26, 18, 13, 19, 18, 28, 14, 24, 23, 23, 18, 21, 19, 18, 42, 22, 27, 27, 24, 38, 24, 23, 33, 31, 29, 22, 39, 33, 45, 38, 23, 27, 28, 38, 37, 43, 44, 29, 24, 27, 39, 46, 33, 29, 21, 30, 29, 28, 46, 42, 35, 34, 25, 20, 34, 31, 36, 18, 17, 21, 14, 21, 25, 33, 31, 21, 24, 38, 48, 43, 50, 26, 30, 22, 22, 53, 41, 28, 41, 29, 40, 37, 43, 42, 42, 50, 48, 33, 44, 53, 59, 69, 50, 58, 29, 50, 63, 55, 54, 40, 23, 30, 41, 70, 33, 41, 57, 50, 35, 34, 61, 60, 43, 45, 42, 27, 41, 52, 43, 44, 38, 37, 32, 44, 58, 45, 23, 40, 45, 29, 42, 28, 59, 48, 57, 37, 26, 48, 46, 48, 55, 55, 42, 32, 39, 58, 69, 49, 44, 63, 41, 43, 61, 74, 61, 55, 49, 32, 47, 70, 65, 46, 47, 46, 45, 45, 56, 71, 68, 64, 50, 31, 35, 63, 49, 59, 59, 49, 37, 32, 73, 75, 69, 65, 70, 42, 41, 69, 55, 47, 54, 46, 38, 39, 56, 56, 59, 59, 59, 44, 45, 61, 55, 55, 34, 38, 41, 56, 67, 72, 75, 63, 56, 41, 33, 81, 55, 67, 53, 60, 29, 45, 49, 76, 52, 51, 44, 46, 49, 53, 79, 61, 58, 50, 35, 45, 59, 67, 65, 52, 41, 48, 46, 70, 80, 74, 65, 46, 44, 71, 66, 65, 50, 59, 52, 30, 49, 60, 62, 38, 55, 59, 39, 51, 73, 62, 77, 77, 67, 66, 71, 92, 73, 76, 95, 82, 57, 63, 87, 89, 78, 94, 441, 178, 155, 152, 159, 115, 110, 105, 96, 96, 132, 119, 102, 96, 87, 61, 73, 116, 106, 97, 80, 70, 52, 58, 80, 80, 63, 60, 50, 42, 26, 38, 79, 58, 61, 59, 41, 35, 25, 85, 90, 108, 76, 78, 97, 120, 100, 108, 95, 100, 95, 104, 129, 136, 117, 109, 92, 75, 83, 143, 106, 93, 89, 92, 75, 66, 100, 101, 107, 95, 84, 65, 78, 103, 109, 95, 97, 89, 69, 69, 101, 112, 116, 121, 80, 75, 87, 97, 108, 97, 116, 91, 70, 82, 105, 115, 109, 105, 97, 85, 88, 104, 104, 106, 99, 76, 63, 82, 85, 100, 83, 120, 104, 80, 97, 146, 126, 120, 114, 114, 78, 79, 121, 102, 100, 85, 67, 70, 97, 124, 120, 123, 125, 85, 77, 81, 109, 97, 123, 109, 80, 62, 107, 117, 109, 106, 119, 89, 67, 86, 122, 116, 119, 110, 106, 88, 66, 106, 106, 144, 129, 107, 89, 89, 169, 137, 140, 107, 99, 79, 85, 160, 162, 175, 116, 141, 80, 81, 114, 121, 79, 77, 54, 48, 44, 69, 69, 53, 63, 81, 62, 94, 111, 84, 95, 100, 88, 82, 96, 131, 107, 115, 95, 76, 59, 83, 105, 110, 102, 107, 83, 55, 104, 119, 99, 83, 113, 68, 58, 83, 93, 89, 130, 98, 64, 51, 54, 73, 67, 51, 43, 42, 36, 47, 81, 79, 119, 110, 111, 87, 98, 134, 116, 121, 114, 81, 70, 94, 153, 165, 135, 144, 139, 111, 133, 181, 172, 148, 139, 95, 77, 88, 141, 153, 138, 161, 117, 97, 105, 133, 134, 111, 89, 71, 51, 49, 58, 34, 9], \"yaxis\": \"y\"}, {\"hoverlabel\": {\"namelength\": 0}, \"hovertemplate\": \"\\u0428\\u0442\\u0430\\u0442=MG<br>=%{x}<br>\\u0427\\u0438\\u0441\\u043b\\u043e \\u043f\\u043e\\u043a\\u0443\\u043f\\u0430\\u0442\\u0435\\u043b\\u0435\\u0439=%{y}\", \"legendgroup\": \"\\u0428\\u0442\\u0430\\u0442=MG\", \"line\": {\"color\": \"#EF553B\", \"dash\": \"solid\"}, \"mode\": \"lines\", \"name\": \"\\u0428\\u0442\\u0430\\u0442=MG\", \"showlegend\": true, \"type\": \"scattergl\", \"x\": [\"2016-10-03 00:00:00\", \"2016-10-04 00:00:00\", \"2016-10-05 00:00:00\", \"2016-10-06 00:00:00\", \"2016-10-07 00:00:00\", \"2016-10-08 00:00:00\", \"2016-10-09 00:00:00\", \"2016-10-10 00:00:00\", \"2017-01-06 00:00:00\", \"2017-01-07 00:00:00\", \"2017-01-09 00:00:00\", \"2017-01-11 00:00:00\", \"2017-01-12 00:00:00\", \"2017-01-13 00:00:00\", \"2017-01-14 00:00:00\", \"2017-01-15 00:00:00\", \"2017-01-16 00:00:00\", \"2017-01-17 00:00:00\", \"2017-01-18 00:00:00\", \"2017-01-19 00:00:00\", \"2017-01-20 00:00:00\", \"2017-01-21 00:00:00\", \"2017-01-22 00:00:00\", \"2017-01-23 00:00:00\", \"2017-01-24 00:00:00\", \"2017-01-25 00:00:00\", \"2017-01-26 00:00:00\", \"2017-01-27 00:00:00\", \"2017-01-28 00:00:00\", \"2017-01-29 00:00:00\", \"2017-01-30 00:00:00\", \"2017-01-31 00:00:00\", \"2017-02-01 00:00:00\", \"2017-02-02 00:00:00\", \"2017-02-03 00:00:00\", \"2017-02-04 00:00:00\", \"2017-02-05 00:00:00\", \"2017-02-06 00:00:00\", \"2017-02-07 00:00:00\", \"2017-02-08 00:00:00\", \"2017-02-09 00:00:00\", \"2017-02-10 00:00:00\", \"2017-02-11 00:00:00\", \"2017-02-12 00:00:00\", \"2017-02-13 00:00:00\", \"2017-02-14 00:00:00\", \"2017-02-15 00:00:00\", \"2017-02-16 00:00:00\", \"2017-02-17 00:00:00\", \"2017-02-18 00:00:00\", \"2017-02-19 00:00:00\", \"2017-02-20 00:00:00\", \"2017-02-21 00:00:00\", \"2017-02-22 00:00:00\", \"2017-02-23 00:00:00\", \"2017-02-24 00:00:00\", \"2017-02-25 00:00:00\", \"2017-02-26 00:00:00\", \"2017-02-27 00:00:00\", \"2017-02-28 00:00:00\", \"2017-03-01 00:00:00\", \"2017-03-02 00:00:00\", \"2017-03-03 00:00:00\", \"2017-03-04 00:00:00\", \"2017-03-05 00:00:00\", \"2017-03-06 00:00:00\", \"2017-03-07 00:00:00\", \"2017-03-08 00:00:00\", \"2017-03-09 00:00:00\", \"2017-03-10 00:00:00\", \"2017-03-11 00:00:00\", \"2017-03-12 00:00:00\", \"2017-03-13 00:00:00\", \"2017-03-14 00:00:00\", \"2017-03-15 00:00:00\", \"2017-03-16 00:00:00\", \"2017-03-17 00:00:00\", \"2017-03-18 00:00:00\", \"2017-03-19 00:00:00\", \"2017-03-20 00:00:00\", \"2017-03-21 00:00:00\", \"2017-03-22 00:00:00\", \"2017-03-23 00:00:00\", \"2017-03-24 00:00:00\", \"2017-03-25 00:00:00\", \"2017-03-26 00:00:00\", \"2017-03-27 00:00:00\", \"2017-03-28 00:00:00\", \"2017-03-29 00:00:00\", \"2017-03-30 00:00:00\", \"2017-03-31 00:00:00\", \"2017-04-01 00:00:00\", \"2017-04-02 00:00:00\", \"2017-04-03 00:00:00\", \"2017-04-04 00:00:00\", \"2017-04-05 00:00:00\", \"2017-04-06 00:00:00\", \"2017-04-07 00:00:00\", \"2017-04-08 00:00:00\", \"2017-04-09 00:00:00\", \"2017-04-10 00:00:00\", \"2017-04-11 00:00:00\", \"2017-04-12 00:00:00\", \"2017-04-13 00:00:00\", \"2017-04-14 00:00:00\", \"2017-04-15 00:00:00\", \"2017-04-16 00:00:00\", \"2017-04-17 00:00:00\", \"2017-04-18 00:00:00\", \"2017-04-19 00:00:00\", \"2017-04-20 00:00:00\", \"2017-04-21 00:00:00\", \"2017-04-22 00:00:00\", \"2017-04-23 00:00:00\", \"2017-04-24 00:00:00\", \"2017-04-25 00:00:00\", \"2017-04-26 00:00:00\", \"2017-04-27 00:00:00\", \"2017-04-28 00:00:00\", \"2017-04-29 00:00:00\", \"2017-04-30 00:00:00\", \"2017-05-01 00:00:00\", \"2017-05-02 00:00:00\", \"2017-05-03 00:00:00\", \"2017-05-04 00:00:00\", \"2017-05-05 00:00:00\", \"2017-05-06 00:00:00\", \"2017-05-07 00:00:00\", \"2017-05-08 00:00:00\", \"2017-05-09 00:00:00\", \"2017-05-10 00:00:00\", \"2017-05-11 00:00:00\", \"2017-05-12 00:00:00\", \"2017-05-13 00:00:00\", \"2017-05-14 00:00:00\", \"2017-05-15 00:00:00\", \"2017-05-16 00:00:00\", \"2017-05-17 00:00:00\", \"2017-05-18 00:00:00\", \"2017-05-19 00:00:00\", \"2017-05-20 00:00:00\", \"2017-05-21 00:00:00\", \"2017-05-22 00:00:00\", \"2017-05-23 00:00:00\", \"2017-05-24 00:00:00\", \"2017-05-25 00:00:00\", \"2017-05-26 00:00:00\", \"2017-05-27 00:00:00\", \"2017-05-28 00:00:00\", \"2017-05-29 00:00:00\", \"2017-05-30 00:00:00\", \"2017-05-31 00:00:00\", \"2017-06-01 00:00:00\", \"2017-06-02 00:00:00\", \"2017-06-03 00:00:00\", \"2017-06-04 00:00:00\", \"2017-06-05 00:00:00\", \"2017-06-06 00:00:00\", \"2017-06-07 00:00:00\", \"2017-06-08 00:00:00\", \"2017-06-09 00:00:00\", \"2017-06-10 00:00:00\", \"2017-06-11 00:00:00\", \"2017-06-12 00:00:00\", \"2017-06-13 00:00:00\", \"2017-06-14 00:00:00\", \"2017-06-15 00:00:00\", \"2017-06-16 00:00:00\", \"2017-06-17 00:00:00\", \"2017-06-18 00:00:00\", \"2017-06-19 00:00:00\", \"2017-06-20 00:00:00\", \"2017-06-21 00:00:00\", \"2017-06-22 00:00:00\", \"2017-06-23 00:00:00\", \"2017-06-24 00:00:00\", \"2017-06-25 00:00:00\", \"2017-06-26 00:00:00\", \"2017-06-27 00:00:00\", \"2017-06-28 00:00:00\", \"2017-06-29 00:00:00\", \"2017-06-30 00:00:00\", \"2017-07-01 00:00:00\", \"2017-07-02 00:00:00\", \"2017-07-03 00:00:00\", \"2017-07-04 00:00:00\", \"2017-07-05 00:00:00\", \"2017-07-06 00:00:00\", \"2017-07-07 00:00:00\", \"2017-07-08 00:00:00\", \"2017-07-09 00:00:00\", \"2017-07-10 00:00:00\", \"2017-07-11 00:00:00\", \"2017-07-12 00:00:00\", \"2017-07-13 00:00:00\", \"2017-07-14 00:00:00\", \"2017-07-15 00:00:00\", \"2017-07-16 00:00:00\", \"2017-07-17 00:00:00\", \"2017-07-18 00:00:00\", \"2017-07-19 00:00:00\", \"2017-07-20 00:00:00\", \"2017-07-21 00:00:00\", \"2017-07-22 00:00:00\", \"2017-07-23 00:00:00\", \"2017-07-24 00:00:00\", \"2017-07-25 00:00:00\", \"2017-07-26 00:00:00\", \"2017-07-27 00:00:00\", \"2017-07-28 00:00:00\", \"2017-07-29 00:00:00\", \"2017-07-30 00:00:00\", \"2017-07-31 00:00:00\", \"2017-08-01 00:00:00\", \"2017-08-02 00:00:00\", \"2017-08-03 00:00:00\", \"2017-08-04 00:00:00\", \"2017-08-05 00:00:00\", \"2017-08-06 00:00:00\", \"2017-08-07 00:00:00\", \"2017-08-08 00:00:00\", \"2017-08-09 00:00:00\", \"2017-08-10 00:00:00\", \"2017-08-11 00:00:00\", \"2017-08-12 00:00:00\", \"2017-08-13 00:00:00\", \"2017-08-14 00:00:00\", \"2017-08-15 00:00:00\", \"2017-08-16 00:00:00\", \"2017-08-17 00:00:00\", \"2017-08-18 00:00:00\", \"2017-08-19 00:00:00\", \"2017-08-20 00:00:00\", \"2017-08-21 00:00:00\", \"2017-08-22 00:00:00\", \"2017-08-23 00:00:00\", \"2017-08-24 00:00:00\", \"2017-08-25 00:00:00\", \"2017-08-26 00:00:00\", \"2017-08-27 00:00:00\", \"2017-08-28 00:00:00\", \"2017-08-29 00:00:00\", \"2017-08-30 00:00:00\", \"2017-08-31 00:00:00\", \"2017-09-01 00:00:00\", \"2017-09-02 00:00:00\", \"2017-09-03 00:00:00\", \"2017-09-04 00:00:00\", \"2017-09-05 00:00:00\", \"2017-09-06 00:00:00\", \"2017-09-07 00:00:00\", \"2017-09-08 00:00:00\", \"2017-09-09 00:00:00\", \"2017-09-10 00:00:00\", \"2017-09-11 00:00:00\", \"2017-09-12 00:00:00\", \"2017-09-13 00:00:00\", \"2017-09-14 00:00:00\", \"2017-09-15 00:00:00\", \"2017-09-16 00:00:00\", \"2017-09-17 00:00:00\", \"2017-09-18 00:00:00\", \"2017-09-19 00:00:00\", \"2017-09-20 00:00:00\", \"2017-09-21 00:00:00\", \"2017-09-22 00:00:00\", \"2017-09-23 00:00:00\", \"2017-09-24 00:00:00\", \"2017-09-25 00:00:00\", \"2017-09-26 00:00:00\", \"2017-09-27 00:00:00\", \"2017-09-28 00:00:00\", \"2017-09-29 00:00:00\", \"2017-09-30 00:00:00\", \"2017-10-01 00:00:00\", \"2017-10-02 00:00:00\", \"2017-10-03 00:00:00\", \"2017-10-04 00:00:00\", \"2017-10-05 00:00:00\", \"2017-10-06 00:00:00\", \"2017-10-07 00:00:00\", \"2017-10-08 00:00:00\", \"2017-10-09 00:00:00\", \"2017-10-10 00:00:00\", \"2017-10-11 00:00:00\", \"2017-10-12 00:00:00\", \"2017-10-13 00:00:00\", \"2017-10-14 00:00:00\", \"2017-10-15 00:00:00\", \"2017-10-16 00:00:00\", \"2017-10-17 00:00:00\", \"2017-10-18 00:00:00\", \"2017-10-19 00:00:00\", \"2017-10-20 00:00:00\", \"2017-10-21 00:00:00\", \"2017-10-22 00:00:00\", \"2017-10-23 00:00:00\", \"2017-10-24 00:00:00\", \"2017-10-25 00:00:00\", \"2017-10-26 00:00:00\", \"2017-10-27 00:00:00\", \"2017-10-28 00:00:00\", \"2017-10-29 00:00:00\", \"2017-10-30 00:00:00\", \"2017-10-31 00:00:00\", \"2017-11-01 00:00:00\", \"2017-11-02 00:00:00\", \"2017-11-03 00:00:00\", \"2017-11-04 00:00:00\", \"2017-11-05 00:00:00\", \"2017-11-06 00:00:00\", \"2017-11-07 00:00:00\", \"2017-11-08 00:00:00\", \"2017-11-09 00:00:00\", \"2017-11-10 00:00:00\", \"2017-11-11 00:00:00\", \"2017-11-12 00:00:00\", \"2017-11-13 00:00:00\", \"2017-11-14 00:00:00\", \"2017-11-15 00:00:00\", \"2017-11-16 00:00:00\", \"2017-11-17 00:00:00\", \"2017-11-18 00:00:00\", \"2017-11-19 00:00:00\", \"2017-11-20 00:00:00\", \"2017-11-21 00:00:00\", \"2017-11-22 00:00:00\", \"2017-11-23 00:00:00\", \"2017-11-24 00:00:00\", \"2017-11-25 00:00:00\", \"2017-11-26 00:00:00\", \"2017-11-27 00:00:00\", \"2017-11-28 00:00:00\", \"2017-11-29 00:00:00\", \"2017-11-30 00:00:00\", \"2017-12-01 00:00:00\", \"2017-12-02 00:00:00\", \"2017-12-03 00:00:00\", \"2017-12-04 00:00:00\", \"2017-12-05 00:00:00\", \"2017-12-06 00:00:00\", \"2017-12-07 00:00:00\", \"2017-12-08 00:00:00\", \"2017-12-09 00:00:00\", \"2017-12-10 00:00:00\", \"2017-12-11 00:00:00\", \"2017-12-12 00:00:00\", \"2017-12-13 00:00:00\", \"2017-12-14 00:00:00\", \"2017-12-15 00:00:00\", \"2017-12-16 00:00:00\", \"2017-12-17 00:00:00\", \"2017-12-18 00:00:00\", \"2017-12-19 00:00:00\", \"2017-12-20 00:00:00\", \"2017-12-21 00:00:00\", \"2017-12-22 00:00:00\", \"2017-12-23 00:00:00\", \"2017-12-24 00:00:00\", \"2017-12-25 00:00:00\", \"2017-12-26 00:00:00\", \"2017-12-27 00:00:00\", \"2017-12-28 00:00:00\", \"2017-12-29 00:00:00\", \"2017-12-30 00:00:00\", \"2017-12-31 00:00:00\", \"2018-01-01 00:00:00\", \"2018-01-02 00:00:00\", \"2018-01-03 00:00:00\", \"2018-01-04 00:00:00\", \"2018-01-05 00:00:00\", \"2018-01-06 00:00:00\", \"2018-01-07 00:00:00\", \"2018-01-08 00:00:00\", \"2018-01-09 00:00:00\", \"2018-01-10 00:00:00\", \"2018-01-11 00:00:00\", \"2018-01-12 00:00:00\", \"2018-01-13 00:00:00\", \"2018-01-14 00:00:00\", \"2018-01-15 00:00:00\", \"2018-01-16 00:00:00\", \"2018-01-17 00:00:00\", \"2018-01-18 00:00:00\", \"2018-01-19 00:00:00\", \"2018-01-20 00:00:00\", \"2018-01-21 00:00:00\", \"2018-01-22 00:00:00\", \"2018-01-23 00:00:00\", \"2018-01-24 00:00:00\", \"2018-01-25 00:00:00\", \"2018-01-26 00:00:00\", \"2018-01-27 00:00:00\", \"2018-01-28 00:00:00\", \"2018-01-29 00:00:00\", \"2018-01-30 00:00:00\", \"2018-01-31 00:00:00\", \"2018-02-01 00:00:00\", \"2018-02-02 00:00:00\", \"2018-02-03 00:00:00\", \"2018-02-04 00:00:00\", \"2018-02-05 00:00:00\", \"2018-02-06 00:00:00\", \"2018-02-07 00:00:00\", \"2018-02-08 00:00:00\", \"2018-02-09 00:00:00\", \"2018-02-10 00:00:00\", \"2018-02-11 00:00:00\", \"2018-02-12 00:00:00\", \"2018-02-13 00:00:00\", \"2018-02-14 00:00:00\", \"2018-02-15 00:00:00\", \"2018-02-16 00:00:00\", \"2018-02-17 00:00:00\", \"2018-02-18 00:00:00\", \"2018-02-19 00:00:00\", \"2018-02-20 00:00:00\", \"2018-02-21 00:00:00\", \"2018-02-22 00:00:00\", \"2018-02-23 00:00:00\", \"2018-02-24 00:00:00\", \"2018-02-25 00:00:00\", \"2018-02-26 00:00:00\", \"2018-02-27 00:00:00\", \"2018-02-28 00:00:00\", \"2018-03-01 00:00:00\", \"2018-03-02 00:00:00\", \"2018-03-03 00:00:00\", \"2018-03-04 00:00:00\", \"2018-03-05 00:00:00\", \"2018-03-06 00:00:00\", \"2018-03-07 00:00:00\", \"2018-03-08 00:00:00\", \"2018-03-09 00:00:00\", \"2018-03-10 00:00:00\", \"2018-03-11 00:00:00\", \"2018-03-12 00:00:00\", \"2018-03-13 00:00:00\", \"2018-03-14 00:00:00\", \"2018-03-15 00:00:00\", \"2018-03-16 00:00:00\", \"2018-03-17 00:00:00\", \"2018-03-18 00:00:00\", \"2018-03-19 00:00:00\", \"2018-03-20 00:00:00\", \"2018-03-21 00:00:00\", \"2018-03-22 00:00:00\", \"2018-03-23 00:00:00\", \"2018-03-24 00:00:00\", \"2018-03-25 00:00:00\", \"2018-03-26 00:00:00\", \"2018-03-27 00:00:00\", \"2018-03-28 00:00:00\", \"2018-03-29 00:00:00\", \"2018-03-30 00:00:00\", \"2018-03-31 00:00:00\", \"2018-04-01 00:00:00\", \"2018-04-02 00:00:00\", \"2018-04-03 00:00:00\", \"2018-04-04 00:00:00\", \"2018-04-05 00:00:00\", \"2018-04-06 00:00:00\", \"2018-04-07 00:00:00\", \"2018-04-08 00:00:00\", \"2018-04-09 00:00:00\", \"2018-04-10 00:00:00\", \"2018-04-11 00:00:00\", \"2018-04-12 00:00:00\", \"2018-04-13 00:00:00\", \"2018-04-14 00:00:00\", \"2018-04-15 00:00:00\", \"2018-04-16 00:00:00\", \"2018-04-17 00:00:00\", \"2018-04-18 00:00:00\", \"2018-04-19 00:00:00\", \"2018-04-20 00:00:00\", \"2018-04-21 00:00:00\", \"2018-04-22 00:00:00\", \"2018-04-23 00:00:00\", \"2018-04-24 00:00:00\", \"2018-04-25 00:00:00\", \"2018-04-26 00:00:00\", \"2018-04-27 00:00:00\", \"2018-04-28 00:00:00\", \"2018-04-29 00:00:00\", \"2018-04-30 00:00:00\", \"2018-05-01 00:00:00\", \"2018-05-02 00:00:00\", \"2018-05-03 00:00:00\", \"2018-05-04 00:00:00\", \"2018-05-05 00:00:00\", \"2018-05-06 00:00:00\", \"2018-05-07 00:00:00\", \"2018-05-08 00:00:00\", \"2018-05-09 00:00:00\", \"2018-05-10 00:00:00\", \"2018-05-11 00:00:00\", \"2018-05-12 00:00:00\", \"2018-05-13 00:00:00\", \"2018-05-14 00:00:00\", \"2018-05-15 00:00:00\", \"2018-05-16 00:00:00\", \"2018-05-17 00:00:00\", \"2018-05-18 00:00:00\", \"2018-05-19 00:00:00\", \"2018-05-20 00:00:00\", \"2018-05-21 00:00:00\", \"2018-05-22 00:00:00\", \"2018-05-23 00:00:00\", \"2018-05-24 00:00:00\", \"2018-05-25 00:00:00\", \"2018-05-26 00:00:00\", \"2018-05-27 00:00:00\", \"2018-05-28 00:00:00\", \"2018-05-29 00:00:00\", \"2018-05-30 00:00:00\", \"2018-05-31 00:00:00\", \"2018-06-01 00:00:00\", \"2018-06-02 00:00:00\", \"2018-06-03 00:00:00\", \"2018-06-04 00:00:00\", \"2018-06-05 00:00:00\", \"2018-06-06 00:00:00\", \"2018-06-07 00:00:00\", \"2018-06-08 00:00:00\", \"2018-06-09 00:00:00\", \"2018-06-10 00:00:00\", \"2018-06-11 00:00:00\", \"2018-06-12 00:00:00\", \"2018-06-13 00:00:00\", \"2018-06-14 00:00:00\", \"2018-06-15 00:00:00\", \"2018-06-16 00:00:00\", \"2018-06-17 00:00:00\", \"2018-06-18 00:00:00\", \"2018-06-19 00:00:00\", \"2018-06-20 00:00:00\", \"2018-06-21 00:00:00\", \"2018-06-22 00:00:00\", \"2018-06-23 00:00:00\", \"2018-06-24 00:00:00\", \"2018-06-25 00:00:00\", \"2018-06-26 00:00:00\", \"2018-06-27 00:00:00\", \"2018-06-28 00:00:00\", \"2018-06-29 00:00:00\", \"2018-06-30 00:00:00\", \"2018-07-01 00:00:00\", \"2018-07-02 00:00:00\", \"2018-07-03 00:00:00\", \"2018-07-04 00:00:00\", \"2018-07-05 00:00:00\", \"2018-07-06 00:00:00\", \"2018-07-07 00:00:00\", \"2018-07-08 00:00:00\", \"2018-07-09 00:00:00\", \"2018-07-10 00:00:00\", \"2018-07-11 00:00:00\", \"2018-07-12 00:00:00\", \"2018-07-13 00:00:00\", \"2018-07-14 00:00:00\", \"2018-07-15 00:00:00\", \"2018-07-16 00:00:00\", \"2018-07-17 00:00:00\", \"2018-07-18 00:00:00\", \"2018-07-19 00:00:00\", \"2018-07-20 00:00:00\", \"2018-07-21 00:00:00\", \"2018-07-22 00:00:00\", \"2018-07-23 00:00:00\", \"2018-07-24 00:00:00\", \"2018-07-25 00:00:00\", \"2018-07-26 00:00:00\", \"2018-07-27 00:00:00\", \"2018-07-28 00:00:00\", \"2018-07-29 00:00:00\", \"2018-07-30 00:00:00\", \"2018-07-31 00:00:00\", \"2018-08-01 00:00:00\", \"2018-08-02 00:00:00\", \"2018-08-03 00:00:00\", \"2018-08-04 00:00:00\", \"2018-08-05 00:00:00\", \"2018-08-06 00:00:00\", \"2018-08-07 00:00:00\", \"2018-08-08 00:00:00\", \"2018-08-09 00:00:00\", \"2018-08-10 00:00:00\", \"2018-08-11 00:00:00\", \"2018-08-12 00:00:00\", \"2018-08-13 00:00:00\", \"2018-08-14 00:00:00\", \"2018-08-15 00:00:00\", \"2018-08-16 00:00:00\", \"2018-08-17 00:00:00\", \"2018-08-18 00:00:00\", \"2018-08-19 00:00:00\", \"2018-08-20 00:00:00\", \"2018-08-21 00:00:00\", \"2018-08-22 00:00:00\", \"2018-08-23 00:00:00\", \"2018-08-24 00:00:00\", \"2018-08-25 00:00:00\", \"2018-08-26 00:00:00\", \"2018-08-27 00:00:00\", \"2018-08-29 00:00:00\"], \"xaxis\": \"x\", \"y\": [1, 10, 9, 4, 5, 2, 5, 3, 2, 1, 1, 4, 3, 4, 4, 2, 3, 3, 4, 7, 4, 3, 4, 5, 4, 6, 11, 9, 3, 3, 9, 6, 9, 11, 7, 7, 9, 10, 20, 14, 8, 10, 7, 12, 14, 14, 10, 8, 6, 6, 6, 6, 5, 7, 4, 5, 8, 8, 5, 10, 10, 11, 9, 7, 12, 14, 12, 13, 13, 12, 8, 11, 14, 12, 10, 15, 9, 6, 6, 13, 12, 17, 20, 8, 10, 2, 13, 18, 11, 10, 9, 8, 11, 9, 8, 14, 13, 14, 5, 7, 12, 9, 1, 7, 6, 7, 3, 8, 3, 11, 14, 5, 10, 10, 14, 12, 13, 10, 12, 9, 7, 13, 16, 16, 9, 18, 11, 20, 10, 14, 12, 12, 12, 8, 10, 14, 17, 12, 17, 20, 13, 25, 10, 10, 7, 12, 9, 7, 12, 19, 12, 20, 11, 18, 9, 12, 12, 16, 12, 16, 12, 6, 12, 16, 15, 17, 10, 11, 5, 9, 23, 9, 5, 10, 11, 9, 7, 9, 15, 11, 11, 15, 12, 14, 7, 15, 15, 19, 10, 8, 6, 17, 19, 15, 13, 12, 10, 15, 27, 22, 18, 15, 9, 11, 8, 15, 15, 10, 11, 17, 20, 11, 25, 12, 15, 11, 9, 14, 13, 15, 21, 14, 17, 20, 14, 16, 15, 13, 21, 21, 18, 15, 8, 18, 16, 7, 13, 13, 7, 18, 17, 16, 19, 15, 19, 11, 15, 15, 22, 13, 11, 10, 9, 20, 20, 32, 26, 15, 21, 18, 21, 23, 12, 15, 17, 18, 6, 11, 11, 20, 14, 21, 10, 20, 17, 20, 23, 19, 21, 15, 11, 13, 28, 24, 21, 17, 18, 6, 16, 20, 15, 23, 23, 11, 15, 16, 19, 24, 20, 16, 16, 9, 18, 14, 15, 11, 12, 14, 17, 9, 19, 19, 23, 23, 19, 18, 19, 22, 21, 21, 24, 21, 12, 18, 26, 25, 27, 35, 160, 65, 60, 52, 52, 44, 38, 38, 29, 36, 40, 40, 37, 26, 22, 16, 24, 26, 42, 22, 19, 19, 17, 13, 25, 14, 23, 17, 11, 9, 4, 8, 14, 27, 23, 16, 14, 4, 10, 18, 24, 25, 23, 26, 16, 39, 31, 29, 43, 27, 27, 25, 34, 36, 36, 19, 35, 27, 16, 39, 41, 27, 34, 28, 11, 20, 19, 37, 28, 29, 39, 20, 21, 39, 34, 42, 32, 22, 24, 15, 20, 16, 39, 24, 29, 22, 21, 25, 35, 28, 35, 29, 22, 28, 32, 29, 34, 29, 36, 20, 35, 27, 43, 27, 33, 29, 25, 35, 28, 38, 31, 37, 30, 12, 14, 26, 36, 32, 37, 23, 24, 22, 27, 30, 20, 23, 19, 17, 22, 27, 27, 22, 35, 14, 15, 20, 30, 21, 38, 42, 23, 13, 25, 34, 32, 33, 41, 17, 18, 23, 29, 22, 29, 40, 30, 12, 22, 30, 33, 28, 28, 32, 18, 19, 43, 38, 42, 38, 32, 27, 21, 46, 45, 37, 27, 22, 10, 17, 23, 23, 13, 6, 9, 8, 9, 18, 15, 17, 15, 18, 18, 15, 21, 27, 26, 22, 24, 12, 20, 36, 29, 32, 30, 26, 26, 11, 28, 27, 22, 34, 15, 25, 17, 24, 37, 26, 29, 21, 12, 16, 21, 27, 29, 20, 15, 5, 9, 8, 8, 8, 8, 12, 21, 21, 34, 27, 38, 33, 23, 17, 30, 28, 28, 28, 24, 15, 21, 14, 31, 28, 41, 25, 40, 37, 34, 33, 45, 35, 26, 31, 14, 28, 29, 27, 34, 28, 22, 21, 23, 36, 30, 21, 15, 8, 7, 10, 2, 1], \"yaxis\": \"y\"}, {\"hoverlabel\": {\"namelength\": 0}, \"hovertemplate\": \"\\u0428\\u0442\\u0430\\u0442=RJ<br>=%{x}<br>\\u0427\\u0438\\u0441\\u043b\\u043e \\u043f\\u043e\\u043a\\u0443\\u043f\\u0430\\u0442\\u0435\\u043b\\u0435\\u0439=%{y}\", \"legendgroup\": \"\\u0428\\u0442\\u0430\\u0442=RJ\", \"line\": {\"color\": \"#00cc96\", \"dash\": \"solid\"}, \"mode\": \"lines\", \"name\": \"\\u0428\\u0442\\u0430\\u0442=RJ\", \"showlegend\": true, \"type\": \"scattergl\", \"x\": [\"2016-10-03 00:00:00\", \"2016-10-04 00:00:00\", \"2016-10-05 00:00:00\", \"2016-10-06 00:00:00\", \"2016-10-07 00:00:00\", \"2016-10-08 00:00:00\", \"2016-10-09 00:00:00\", \"2016-10-10 00:00:00\", \"2017-01-07 00:00:00\", \"2017-01-08 00:00:00\", \"2017-01-09 00:00:00\", \"2017-01-10 00:00:00\", \"2017-01-11 00:00:00\", \"2017-01-14 00:00:00\", \"2017-01-15 00:00:00\", \"2017-01-16 00:00:00\", \"2017-01-17 00:00:00\", \"2017-01-18 00:00:00\", \"2017-01-19 00:00:00\", \"2017-01-20 00:00:00\", \"2017-01-21 00:00:00\", \"2017-01-22 00:00:00\", \"2017-01-23 00:00:00\", \"2017-01-24 00:00:00\", \"2017-01-25 00:00:00\", \"2017-01-26 00:00:00\", \"2017-01-27 00:00:00\", \"2017-01-28 00:00:00\", \"2017-01-29 00:00:00\", \"2017-01-30 00:00:00\", \"2017-01-31 00:00:00\", \"2017-02-01 00:00:00\", \"2017-02-02 00:00:00\", \"2017-02-03 00:00:00\", \"2017-02-04 00:00:00\", \"2017-02-05 00:00:00\", \"2017-02-06 00:00:00\", \"2017-02-07 00:00:00\", \"2017-02-08 00:00:00\", \"2017-02-09 00:00:00\", \"2017-02-10 00:00:00\", \"2017-02-11 00:00:00\", \"2017-02-12 00:00:00\", \"2017-02-13 00:00:00\", \"2017-02-14 00:00:00\", \"2017-02-15 00:00:00\", \"2017-02-16 00:00:00\", \"2017-02-17 00:00:00\", \"2017-02-18 00:00:00\", \"2017-02-20 00:00:00\", \"2017-02-21 00:00:00\", \"2017-02-22 00:00:00\", \"2017-02-23 00:00:00\", \"2017-02-24 00:00:00\", \"2017-02-25 00:00:00\", \"2017-02-26 00:00:00\", \"2017-02-27 00:00:00\", \"2017-02-28 00:00:00\", \"2017-03-01 00:00:00\", \"2017-03-02 00:00:00\", \"2017-03-03 00:00:00\", \"2017-03-04 00:00:00\", \"2017-03-05 00:00:00\", \"2017-03-06 00:00:00\", \"2017-03-07 00:00:00\", \"2017-03-08 00:00:00\", \"2017-03-09 00:00:00\", \"2017-03-10 00:00:00\", \"2017-03-11 00:00:00\", \"2017-03-12 00:00:00\", \"2017-03-13 00:00:00\", \"2017-03-14 00:00:00\", \"2017-03-15 00:00:00\", \"2017-03-16 00:00:00\", \"2017-03-17 00:00:00\", \"2017-03-18 00:00:00\", \"2017-03-19 00:00:00\", \"2017-03-20 00:00:00\", \"2017-03-21 00:00:00\", \"2017-03-22 00:00:00\", \"2017-03-23 00:00:00\", \"2017-03-24 00:00:00\", \"2017-03-25 00:00:00\", \"2017-03-26 00:00:00\", \"2017-03-27 00:00:00\", \"2017-03-28 00:00:00\", \"2017-03-29 00:00:00\", \"2017-03-30 00:00:00\", \"2017-03-31 00:00:00\", \"2017-04-01 00:00:00\", \"2017-04-02 00:00:00\", \"2017-04-03 00:00:00\", \"2017-04-04 00:00:00\", \"2017-04-05 00:00:00\", \"2017-04-06 00:00:00\", \"2017-04-07 00:00:00\", \"2017-04-08 00:00:00\", \"2017-04-09 00:00:00\", \"2017-04-10 00:00:00\", \"2017-04-11 00:00:00\", \"2017-04-12 00:00:00\", \"2017-04-13 00:00:00\", \"2017-04-14 00:00:00\", \"2017-04-15 00:00:00\", \"2017-04-16 00:00:00\", \"2017-04-17 00:00:00\", \"2017-04-18 00:00:00\", \"2017-04-19 00:00:00\", \"2017-04-20 00:00:00\", \"2017-04-21 00:00:00\", \"2017-04-22 00:00:00\", \"2017-04-23 00:00:00\", \"2017-04-24 00:00:00\", \"2017-04-25 00:00:00\", \"2017-04-26 00:00:00\", \"2017-04-27 00:00:00\", \"2017-04-28 00:00:00\", \"2017-04-29 00:00:00\", \"2017-04-30 00:00:00\", \"2017-05-01 00:00:00\", \"2017-05-02 00:00:00\", \"2017-05-03 00:00:00\", \"2017-05-04 00:00:00\", \"2017-05-05 00:00:00\", \"2017-05-06 00:00:00\", \"2017-05-07 00:00:00\", \"2017-05-08 00:00:00\", \"2017-05-09 00:00:00\", \"2017-05-10 00:00:00\", \"2017-05-11 00:00:00\", \"2017-05-12 00:00:00\", \"2017-05-13 00:00:00\", \"2017-05-14 00:00:00\", \"2017-05-15 00:00:00\", \"2017-05-16 00:00:00\", \"2017-05-17 00:00:00\", \"2017-05-18 00:00:00\", \"2017-05-19 00:00:00\", \"2017-05-20 00:00:00\", \"2017-05-21 00:00:00\", \"2017-05-22 00:00:00\", \"2017-05-23 00:00:00\", \"2017-05-24 00:00:00\", \"2017-05-25 00:00:00\", \"2017-05-26 00:00:00\", \"2017-05-27 00:00:00\", \"2017-05-28 00:00:00\", \"2017-05-29 00:00:00\", \"2017-05-30 00:00:00\", \"2017-05-31 00:00:00\", \"2017-06-01 00:00:00\", \"2017-06-02 00:00:00\", \"2017-06-03 00:00:00\", \"2017-06-04 00:00:00\", \"2017-06-05 00:00:00\", \"2017-06-06 00:00:00\", \"2017-06-07 00:00:00\", \"2017-06-08 00:00:00\", \"2017-06-09 00:00:00\", \"2017-06-10 00:00:00\", \"2017-06-11 00:00:00\", \"2017-06-12 00:00:00\", \"2017-06-13 00:00:00\", \"2017-06-14 00:00:00\", \"2017-06-15 00:00:00\", \"2017-06-16 00:00:00\", \"2017-06-17 00:00:00\", \"2017-06-18 00:00:00\", \"2017-06-19 00:00:00\", \"2017-06-20 00:00:00\", \"2017-06-21 00:00:00\", \"2017-06-22 00:00:00\", \"2017-06-23 00:00:00\", \"2017-06-24 00:00:00\", \"2017-06-25 00:00:00\", \"2017-06-26 00:00:00\", \"2017-06-27 00:00:00\", \"2017-06-28 00:00:00\", \"2017-06-29 00:00:00\", \"2017-06-30 00:00:00\", \"2017-07-01 00:00:00\", \"2017-07-02 00:00:00\", \"2017-07-03 00:00:00\", \"2017-07-04 00:00:00\", \"2017-07-05 00:00:00\", \"2017-07-06 00:00:00\", \"2017-07-07 00:00:00\", \"2017-07-08 00:00:00\", \"2017-07-09 00:00:00\", \"2017-07-10 00:00:00\", \"2017-07-11 00:00:00\", \"2017-07-12 00:00:00\", \"2017-07-13 00:00:00\", \"2017-07-14 00:00:00\", \"2017-07-15 00:00:00\", \"2017-07-16 00:00:00\", \"2017-07-17 00:00:00\", \"2017-07-18 00:00:00\", \"2017-07-19 00:00:00\", \"2017-07-20 00:00:00\", \"2017-07-21 00:00:00\", \"2017-07-22 00:00:00\", \"2017-07-23 00:00:00\", \"2017-07-24 00:00:00\", \"2017-07-25 00:00:00\", \"2017-07-26 00:00:00\", \"2017-07-27 00:00:00\", \"2017-07-28 00:00:00\", \"2017-07-29 00:00:00\", \"2017-07-30 00:00:00\", \"2017-07-31 00:00:00\", \"2017-08-01 00:00:00\", \"2017-08-02 00:00:00\", \"2017-08-03 00:00:00\", \"2017-08-04 00:00:00\", \"2017-08-05 00:00:00\", \"2017-08-06 00:00:00\", \"2017-08-07 00:00:00\", \"2017-08-08 00:00:00\", \"2017-08-09 00:00:00\", \"2017-08-10 00:00:00\", \"2017-08-11 00:00:00\", \"2017-08-12 00:00:00\", \"2017-08-13 00:00:00\", \"2017-08-14 00:00:00\", \"2017-08-15 00:00:00\", \"2017-08-16 00:00:00\", \"2017-08-17 00:00:00\", \"2017-08-18 00:00:00\", \"2017-08-19 00:00:00\", \"2017-08-20 00:00:00\", \"2017-08-21 00:00:00\", \"2017-08-22 00:00:00\", \"2017-08-23 00:00:00\", \"2017-08-24 00:00:00\", \"2017-08-25 00:00:00\", \"2017-08-26 00:00:00\", \"2017-08-27 00:00:00\", \"2017-08-28 00:00:00\", \"2017-08-29 00:00:00\", \"2017-08-30 00:00:00\", \"2017-08-31 00:00:00\", \"2017-09-01 00:00:00\", \"2017-09-02 00:00:00\", \"2017-09-03 00:00:00\", \"2017-09-04 00:00:00\", \"2017-09-05 00:00:00\", \"2017-09-06 00:00:00\", \"2017-09-07 00:00:00\", \"2017-09-08 00:00:00\", \"2017-09-09 00:00:00\", \"2017-09-10 00:00:00\", \"2017-09-11 00:00:00\", \"2017-09-12 00:00:00\", \"2017-09-13 00:00:00\", \"2017-09-14 00:00:00\", \"2017-09-15 00:00:00\", \"2017-09-16 00:00:00\", \"2017-09-17 00:00:00\", \"2017-09-18 00:00:00\", \"2017-09-19 00:00:00\", \"2017-09-20 00:00:00\", \"2017-09-21 00:00:00\", \"2017-09-22 00:00:00\", \"2017-09-23 00:00:00\", \"2017-09-24 00:00:00\", \"2017-09-25 00:00:00\", \"2017-09-26 00:00:00\", \"2017-09-27 00:00:00\", \"2017-09-28 00:00:00\", \"2017-09-29 00:00:00\", \"2017-09-30 00:00:00\", \"2017-10-01 00:00:00\", \"2017-10-02 00:00:00\", \"2017-10-03 00:00:00\", \"2017-10-04 00:00:00\", \"2017-10-05 00:00:00\", \"2017-10-06 00:00:00\", \"2017-10-07 00:00:00\", \"2017-10-08 00:00:00\", \"2017-10-09 00:00:00\", \"2017-10-10 00:00:00\", \"2017-10-11 00:00:00\", \"2017-10-12 00:00:00\", \"2017-10-13 00:00:00\", \"2017-10-14 00:00:00\", \"2017-10-15 00:00:00\", \"2017-10-16 00:00:00\", \"2017-10-17 00:00:00\", \"2017-10-18 00:00:00\", \"2017-10-19 00:00:00\", \"2017-10-20 00:00:00\", \"2017-10-21 00:00:00\", \"2017-10-22 00:00:00\", \"2017-10-23 00:00:00\", \"2017-10-24 00:00:00\", \"2017-10-25 00:00:00\", \"2017-10-26 00:00:00\", \"2017-10-27 00:00:00\", \"2017-10-28 00:00:00\", \"2017-10-29 00:00:00\", \"2017-10-30 00:00:00\", \"2017-10-31 00:00:00\", \"2017-11-01 00:00:00\", \"2017-11-02 00:00:00\", \"2017-11-03 00:00:00\", \"2017-11-04 00:00:00\", \"2017-11-05 00:00:00\", \"2017-11-06 00:00:00\", \"2017-11-07 00:00:00\", \"2017-11-08 00:00:00\", \"2017-11-09 00:00:00\", \"2017-11-10 00:00:00\", \"2017-11-11 00:00:00\", \"2017-11-12 00:00:00\", \"2017-11-13 00:00:00\", \"2017-11-14 00:00:00\", \"2017-11-15 00:00:00\", \"2017-11-16 00:00:00\", \"2017-11-17 00:00:00\", \"2017-11-18 00:00:00\", \"2017-11-19 00:00:00\", \"2017-11-20 00:00:00\", \"2017-11-21 00:00:00\", \"2017-11-22 00:00:00\", \"2017-11-23 00:00:00\", \"2017-11-24 00:00:00\", \"2017-11-25 00:00:00\", \"2017-11-26 00:00:00\", \"2017-11-27 00:00:00\", \"2017-11-28 00:00:00\", \"2017-11-29 00:00:00\", \"2017-11-30 00:00:00\", \"2017-12-01 00:00:00\", \"2017-12-02 00:00:00\", \"2017-12-03 00:00:00\", \"2017-12-04 00:00:00\", \"2017-12-05 00:00:00\", \"2017-12-06 00:00:00\", \"2017-12-07 00:00:00\", \"2017-12-08 00:00:00\", \"2017-12-09 00:00:00\", \"2017-12-10 00:00:00\", \"2017-12-11 00:00:00\", \"2017-12-12 00:00:00\", \"2017-12-13 00:00:00\", \"2017-12-14 00:00:00\", \"2017-12-15 00:00:00\", \"2017-12-16 00:00:00\", \"2017-12-17 00:00:00\", \"2017-12-18 00:00:00\", \"2017-12-19 00:00:00\", \"2017-12-20 00:00:00\", \"2017-12-21 00:00:00\", \"2017-12-22 00:00:00\", \"2017-12-23 00:00:00\", \"2017-12-24 00:00:00\", \"2017-12-25 00:00:00\", \"2017-12-26 00:00:00\", \"2017-12-27 00:00:00\", \"2017-12-28 00:00:00\", \"2017-12-29 00:00:00\", \"2017-12-30 00:00:00\", \"2017-12-31 00:00:00\", \"2018-01-01 00:00:00\", \"2018-01-02 00:00:00\", \"2018-01-03 00:00:00\", \"2018-01-04 00:00:00\", \"2018-01-05 00:00:00\", \"2018-01-06 00:00:00\", \"2018-01-07 00:00:00\", \"2018-01-08 00:00:00\", \"2018-01-09 00:00:00\", \"2018-01-10 00:00:00\", \"2018-01-11 00:00:00\", \"2018-01-12 00:00:00\", \"2018-01-13 00:00:00\", \"2018-01-14 00:00:00\", \"2018-01-15 00:00:00\", \"2018-01-16 00:00:00\", \"2018-01-17 00:00:00\", \"2018-01-18 00:00:00\", \"2018-01-19 00:00:00\", \"2018-01-20 00:00:00\", \"2018-01-21 00:00:00\", \"2018-01-22 00:00:00\", \"2018-01-23 00:00:00\", \"2018-01-24 00:00:00\", \"2018-01-25 00:00:00\", \"2018-01-26 00:00:00\", \"2018-01-27 00:00:00\", \"2018-01-28 00:00:00\", \"2018-01-29 00:00:00\", \"2018-01-30 00:00:00\", \"2018-01-31 00:00:00\", \"2018-02-01 00:00:00\", \"2018-02-02 00:00:00\", \"2018-02-03 00:00:00\", \"2018-02-04 00:00:00\", \"2018-02-05 00:00:00\", \"2018-02-06 00:00:00\", \"2018-02-07 00:00:00\", \"2018-02-08 00:00:00\", \"2018-02-09 00:00:00\", \"2018-02-10 00:00:00\", \"2018-02-11 00:00:00\", \"2018-02-12 00:00:00\", \"2018-02-13 00:00:00\", \"2018-02-14 00:00:00\", \"2018-02-15 00:00:00\", \"2018-02-16 00:00:00\", \"2018-02-17 00:00:00\", \"2018-02-18 00:00:00\", \"2018-02-19 00:00:00\", \"2018-02-20 00:00:00\", \"2018-02-21 00:00:00\", \"2018-02-22 00:00:00\", \"2018-02-23 00:00:00\", \"2018-02-24 00:00:00\", \"2018-02-25 00:00:00\", \"2018-02-26 00:00:00\", \"2018-02-27 00:00:00\", \"2018-02-28 00:00:00\", \"2018-03-01 00:00:00\", \"2018-03-02 00:00:00\", \"2018-03-03 00:00:00\", \"2018-03-04 00:00:00\", \"2018-03-05 00:00:00\", \"2018-03-06 00:00:00\", \"2018-03-07 00:00:00\", \"2018-03-08 00:00:00\", \"2018-03-09 00:00:00\", \"2018-03-10 00:00:00\", \"2018-03-11 00:00:00\", \"2018-03-12 00:00:00\", \"2018-03-13 00:00:00\", \"2018-03-14 00:00:00\", \"2018-03-15 00:00:00\", \"2018-03-16 00:00:00\", \"2018-03-17 00:00:00\", \"2018-03-18 00:00:00\", \"2018-03-19 00:00:00\", \"2018-03-20 00:00:00\", \"2018-03-21 00:00:00\", \"2018-03-22 00:00:00\", \"2018-03-23 00:00:00\", \"2018-03-24 00:00:00\", \"2018-03-25 00:00:00\", \"2018-03-26 00:00:00\", \"2018-03-27 00:00:00\", \"2018-03-28 00:00:00\", \"2018-03-29 00:00:00\", \"2018-03-30 00:00:00\", \"2018-03-31 00:00:00\", \"2018-04-01 00:00:00\", \"2018-04-02 00:00:00\", \"2018-04-03 00:00:00\", \"2018-04-04 00:00:00\", \"2018-04-05 00:00:00\", \"2018-04-06 00:00:00\", \"2018-04-07 00:00:00\", \"2018-04-08 00:00:00\", \"2018-04-09 00:00:00\", \"2018-04-10 00:00:00\", \"2018-04-11 00:00:00\", \"2018-04-12 00:00:00\", \"2018-04-13 00:00:00\", \"2018-04-14 00:00:00\", \"2018-04-15 00:00:00\", \"2018-04-16 00:00:00\", \"2018-04-17 00:00:00\", \"2018-04-18 00:00:00\", \"2018-04-19 00:00:00\", \"2018-04-20 00:00:00\", \"2018-04-21 00:00:00\", \"2018-04-22 00:00:00\", \"2018-04-23 00:00:00\", \"2018-04-24 00:00:00\", \"2018-04-25 00:00:00\", \"2018-04-26 00:00:00\", \"2018-04-27 00:00:00\", \"2018-04-28 00:00:00\", \"2018-04-29 00:00:00\", \"2018-04-30 00:00:00\", \"2018-05-01 00:00:00\", \"2018-05-02 00:00:00\", \"2018-05-03 00:00:00\", \"2018-05-04 00:00:00\", \"2018-05-05 00:00:00\", \"2018-05-06 00:00:00\", \"2018-05-07 00:00:00\", \"2018-05-08 00:00:00\", \"2018-05-09 00:00:00\", \"2018-05-10 00:00:00\", \"2018-05-11 00:00:00\", \"2018-05-12 00:00:00\", \"2018-05-13 00:00:00\", \"2018-05-14 00:00:00\", \"2018-05-15 00:00:00\", \"2018-05-16 00:00:00\", \"2018-05-17 00:00:00\", \"2018-05-18 00:00:00\", \"2018-05-19 00:00:00\", \"2018-05-20 00:00:00\", \"2018-05-21 00:00:00\", \"2018-05-22 00:00:00\", \"2018-05-23 00:00:00\", \"2018-05-24 00:00:00\", \"2018-05-25 00:00:00\", \"2018-05-26 00:00:00\", \"2018-05-27 00:00:00\", \"2018-05-28 00:00:00\", \"2018-05-29 00:00:00\", \"2018-05-30 00:00:00\", \"2018-05-31 00:00:00\", \"2018-06-01 00:00:00\", \"2018-06-02 00:00:00\", \"2018-06-03 00:00:00\", \"2018-06-04 00:00:00\", \"2018-06-05 00:00:00\", \"2018-06-06 00:00:00\", \"2018-06-07 00:00:00\", \"2018-06-08 00:00:00\", \"2018-06-09 00:00:00\", \"2018-06-10 00:00:00\", \"2018-06-11 00:00:00\", \"2018-06-12 00:00:00\", \"2018-06-13 00:00:00\", \"2018-06-14 00:00:00\", \"2018-06-15 00:00:00\", \"2018-06-16 00:00:00\", \"2018-06-17 00:00:00\", \"2018-06-18 00:00:00\", \"2018-06-19 00:00:00\", \"2018-06-20 00:00:00\", \"2018-06-21 00:00:00\", \"2018-06-22 00:00:00\", \"2018-06-23 00:00:00\", \"2018-06-24 00:00:00\", \"2018-06-25 00:00:00\", \"2018-06-26 00:00:00\", \"2018-06-27 00:00:00\", \"2018-06-28 00:00:00\", \"2018-06-29 00:00:00\", \"2018-06-30 00:00:00\", \"2018-07-01 00:00:00\", \"2018-07-02 00:00:00\", \"2018-07-03 00:00:00\", \"2018-07-04 00:00:00\", \"2018-07-05 00:00:00\", \"2018-07-06 00:00:00\", \"2018-07-07 00:00:00\", \"2018-07-08 00:00:00\", \"2018-07-09 00:00:00\", \"2018-07-10 00:00:00\", \"2018-07-11 00:00:00\", \"2018-07-12 00:00:00\", \"2018-07-13 00:00:00\", \"2018-07-14 00:00:00\", \"2018-07-15 00:00:00\", \"2018-07-16 00:00:00\", \"2018-07-17 00:00:00\", \"2018-07-18 00:00:00\", \"2018-07-19 00:00:00\", \"2018-07-20 00:00:00\", \"2018-07-21 00:00:00\", \"2018-07-22 00:00:00\", \"2018-07-23 00:00:00\", \"2018-07-24 00:00:00\", \"2018-07-25 00:00:00\", \"2018-07-26 00:00:00\", \"2018-07-27 00:00:00\", \"2018-07-28 00:00:00\", \"2018-07-29 00:00:00\", \"2018-07-30 00:00:00\", \"2018-07-31 00:00:00\", \"2018-08-01 00:00:00\", \"2018-08-02 00:00:00\", \"2018-08-03 00:00:00\", \"2018-08-04 00:00:00\", \"2018-08-05 00:00:00\", \"2018-08-06 00:00:00\", \"2018-08-07 00:00:00\", \"2018-08-08 00:00:00\", \"2018-08-09 00:00:00\", \"2018-08-10 00:00:00\", \"2018-08-11 00:00:00\", \"2018-08-12 00:00:00\", \"2018-08-13 00:00:00\", \"2018-08-14 00:00:00\", \"2018-08-15 00:00:00\", \"2018-08-16 00:00:00\", \"2018-08-17 00:00:00\", \"2018-08-18 00:00:00\", \"2018-08-19 00:00:00\", \"2018-08-20 00:00:00\", \"2018-08-21 00:00:00\", \"2018-08-22 00:00:00\", \"2018-08-23 00:00:00\", \"2018-08-24 00:00:00\", \"2018-08-25 00:00:00\", \"2018-08-26 00:00:00\", \"2018-08-27 00:00:00\", \"2018-08-28 00:00:00\"], \"xaxis\": \"x\", \"y\": [1, 10, 4, 7, 9, 7, 4, 6, 1, 3, 2, 2, 1, 2, 2, 1, 7, 6, 2, 2, 3, 5, 7, 2, 9, 9, 3, 3, 2, 7, 9, 11, 17, 5, 17, 9, 14, 15, 17, 19, 12, 3, 8, 11, 9, 9, 7, 3, 6, 7, 6, 8, 8, 12, 1, 3, 4, 5, 9, 9, 11, 12, 9, 17, 18, 7, 16, 15, 8, 10, 21, 21, 11, 12, 8, 11, 10, 19, 12, 10, 13, 16, 19, 13, 12, 11, 5, 8, 13, 6, 8, 11, 12, 15, 13, 6, 7, 10, 14, 11, 6, 8, 5, 5, 4, 8, 7, 22, 11, 10, 12, 14, 18, 16, 17, 12, 18, 13, 9, 13, 17, 15, 15, 15, 22, 12, 15, 16, 17, 15, 10, 8, 13, 20, 24, 12, 16, 22, 7, 26, 17, 15, 23, 17, 15, 4, 9, 17, 16, 18, 13, 16, 12, 18, 19, 14, 13, 17, 17, 13, 14, 20, 15, 17, 14, 6, 12, 7, 15, 9, 4, 15, 15, 13, 17, 8, 19, 15, 8, 9, 12, 13, 23, 18, 21, 20, 22, 14, 9, 16, 17, 28, 21, 19, 11, 15, 18, 31, 26, 21, 12, 11, 15, 24, 12, 12, 24, 21, 10, 18, 19, 16, 25, 24, 15, 17, 20, 19, 25, 24, 19, 15, 14, 11, 19, 28, 17, 13, 20, 14, 12, 18, 16, 13, 13, 18, 9, 12, 19, 13, 30, 21, 21, 11, 23, 19, 15, 15, 16, 23, 19, 17, 24, 22, 28, 22, 20, 23, 18, 28, 25, 22, 20, 21, 17, 15, 19, 22, 26, 20, 11, 17, 11, 20, 25, 24, 18, 15, 20, 15, 30, 31, 19, 20, 23, 22, 27, 29, 25, 24, 27, 16, 17, 24, 19, 20, 27, 18, 18, 12, 19, 14, 23, 20, 12, 16, 14, 25, 31, 28, 15, 28, 25, 21, 19, 26, 26, 29, 31, 22, 15, 24, 27, 28, 29, 36, 163, 71, 59, 55, 58, 43, 37, 45, 30, 35, 59, 37, 38, 31, 35, 22, 32, 33, 34, 25, 26, 20, 19, 17, 32, 21, 25, 16, 13, 19, 5, 6, 22, 17, 21, 21, 12, 6, 9, 35, 35, 36, 28, 26, 28, 27, 27, 34, 37, 26, 19, 28, 31, 28, 27, 33, 25, 26, 18, 34, 33, 28, 24, 26, 20, 18, 31, 36, 43, 34, 19, 35, 24, 34, 34, 32, 25, 18, 21, 18, 18, 26, 38, 24, 28, 26, 33, 37, 43, 44, 38, 30, 32, 40, 43, 51, 53, 39, 39, 23, 34, 36, 37, 29, 35, 33, 30, 22, 35, 31, 21, 40, 32, 13, 29, 33, 34, 31, 18, 19, 11, 25, 41, 34, 28, 25, 25, 13, 20, 36, 22, 35, 23, 27, 18, 23, 34, 21, 27, 26, 26, 23, 20, 35, 40, 34, 36, 31, 25, 18, 25, 32, 42, 23, 32, 23, 23, 28, 27, 35, 47, 35, 21, 25, 38, 41, 54, 34, 34, 29, 29, 46, 45, 41, 26, 20, 18, 18, 18, 16, 13, 12, 13, 11, 13, 14, 22, 15, 16, 20, 24, 26, 26, 19, 28, 33, 23, 16, 19, 33, 40, 23, 18, 31, 24, 24, 33, 24, 20, 21, 18, 19, 18, 24, 27, 22, 23, 27, 12, 15, 24, 26, 28, 17, 15, 8, 12, 14, 9, 6, 12, 22, 28, 17, 27, 29, 37, 34, 29, 23, 23, 28, 34, 31, 24, 18, 19, 23, 31, 45, 39, 25, 35, 31, 29, 40, 47, 25, 35, 33, 31, 17, 36, 45, 29, 33, 35, 25, 31, 33, 22, 17, 18, 10, 5, 9, 2, 3], \"yaxis\": \"y\"}],\n",
              "                        {\"legend\": {\"tracegroupgap\": 0}, \"template\": {\"data\": {\"bar\": [{\"error_x\": {\"color\": \"#2a3f5f\"}, \"error_y\": {\"color\": \"#2a3f5f\"}, \"marker\": {\"line\": {\"color\": \"#E5ECF6\", \"width\": 0.5}}, \"type\": \"bar\"}], \"barpolar\": [{\"marker\": {\"line\": {\"color\": \"#E5ECF6\", \"width\": 0.5}}, \"type\": \"barpolar\"}], \"carpet\": [{\"aaxis\": {\"endlinecolor\": \"#2a3f5f\", \"gridcolor\": \"white\", \"linecolor\": \"white\", \"minorgridcolor\": \"white\", \"startlinecolor\": \"#2a3f5f\"}, \"baxis\": {\"endlinecolor\": \"#2a3f5f\", \"gridcolor\": \"white\", \"linecolor\": \"white\", \"minorgridcolor\": \"white\", \"startlinecolor\": \"#2a3f5f\"}, \"type\": \"carpet\"}], \"choropleth\": [{\"colorbar\": {\"outlinewidth\": 0, \"ticks\": \"\"}, \"type\": \"choropleth\"}], \"contour\": [{\"colorbar\": {\"outlinewidth\": 0, \"ticks\": \"\"}, \"colorscale\": [[0.0, \"#0d0887\"], [0.1111111111111111, \"#46039f\"], [0.2222222222222222, \"#7201a8\"], [0.3333333333333333, \"#9c179e\"], [0.4444444444444444, \"#bd3786\"], [0.5555555555555556, \"#d8576b\"], [0.6666666666666666, \"#ed7953\"], [0.7777777777777778, \"#fb9f3a\"], [0.8888888888888888, \"#fdca26\"], [1.0, \"#f0f921\"]], \"type\": \"contour\"}], \"contourcarpet\": [{\"colorbar\": {\"outlinewidth\": 0, \"ticks\": \"\"}, \"type\": \"contourcarpet\"}], \"heatmap\": [{\"colorbar\": {\"outlinewidth\": 0, \"ticks\": \"\"}, \"colorscale\": [[0.0, \"#0d0887\"], [0.1111111111111111, \"#46039f\"], [0.2222222222222222, \"#7201a8\"], [0.3333333333333333, \"#9c179e\"], [0.4444444444444444, \"#bd3786\"], [0.5555555555555556, \"#d8576b\"], [0.6666666666666666, \"#ed7953\"], [0.7777777777777778, \"#fb9f3a\"], [0.8888888888888888, \"#fdca26\"], [1.0, \"#f0f921\"]], \"type\": \"heatmap\"}], \"heatmapgl\": [{\"colorbar\": {\"outlinewidth\": 0, \"ticks\": \"\"}, \"colorscale\": [[0.0, \"#0d0887\"], [0.1111111111111111, \"#46039f\"], [0.2222222222222222, \"#7201a8\"], [0.3333333333333333, \"#9c179e\"], [0.4444444444444444, \"#bd3786\"], [0.5555555555555556, \"#d8576b\"], [0.6666666666666666, \"#ed7953\"], [0.7777777777777778, \"#fb9f3a\"], [0.8888888888888888, \"#fdca26\"], [1.0, \"#f0f921\"]], \"type\": \"heatmapgl\"}], \"histogram\": [{\"marker\": {\"colorbar\": {\"outlinewidth\": 0, \"ticks\": \"\"}}, \"type\": \"histogram\"}], \"histogram2d\": [{\"colorbar\": {\"outlinewidth\": 0, \"ticks\": \"\"}, \"colorscale\": [[0.0, \"#0d0887\"], [0.1111111111111111, \"#46039f\"], [0.2222222222222222, \"#7201a8\"], [0.3333333333333333, \"#9c179e\"], [0.4444444444444444, \"#bd3786\"], [0.5555555555555556, \"#d8576b\"], [0.6666666666666666, \"#ed7953\"], [0.7777777777777778, \"#fb9f3a\"], [0.8888888888888888, \"#fdca26\"], [1.0, \"#f0f921\"]], \"type\": \"histogram2d\"}], \"histogram2dcontour\": [{\"colorbar\": {\"outlinewidth\": 0, \"ticks\": \"\"}, \"colorscale\": [[0.0, \"#0d0887\"], [0.1111111111111111, \"#46039f\"], [0.2222222222222222, \"#7201a8\"], [0.3333333333333333, \"#9c179e\"], [0.4444444444444444, \"#bd3786\"], [0.5555555555555556, \"#d8576b\"], [0.6666666666666666, \"#ed7953\"], [0.7777777777777778, \"#fb9f3a\"], [0.8888888888888888, \"#fdca26\"], [1.0, \"#f0f921\"]], \"type\": \"histogram2dcontour\"}], \"mesh3d\": [{\"colorbar\": {\"outlinewidth\": 0, \"ticks\": \"\"}, \"type\": \"mesh3d\"}], \"parcoords\": [{\"line\": {\"colorbar\": {\"outlinewidth\": 0, \"ticks\": \"\"}}, \"type\": \"parcoords\"}], \"pie\": [{\"automargin\": true, \"type\": \"pie\"}], \"scatter\": [{\"marker\": {\"colorbar\": {\"outlinewidth\": 0, \"ticks\": \"\"}}, \"type\": \"scatter\"}], \"scatter3d\": [{\"line\": {\"colorbar\": {\"outlinewidth\": 0, \"ticks\": \"\"}}, \"marker\": {\"colorbar\": {\"outlinewidth\": 0, \"ticks\": \"\"}}, \"type\": \"scatter3d\"}], \"scattercarpet\": [{\"marker\": {\"colorbar\": {\"outlinewidth\": 0, \"ticks\": \"\"}}, \"type\": \"scattercarpet\"}], \"scattergeo\": [{\"marker\": {\"colorbar\": {\"outlinewidth\": 0, \"ticks\": \"\"}}, \"type\": \"scattergeo\"}], \"scattergl\": [{\"marker\": {\"colorbar\": {\"outlinewidth\": 0, \"ticks\": \"\"}}, \"type\": \"scattergl\"}], \"scattermapbox\": [{\"marker\": {\"colorbar\": {\"outlinewidth\": 0, \"ticks\": \"\"}}, \"type\": \"scattermapbox\"}], \"scatterpolar\": [{\"marker\": {\"colorbar\": {\"outlinewidth\": 0, \"ticks\": \"\"}}, \"type\": \"scatterpolar\"}], \"scatterpolargl\": [{\"marker\": {\"colorbar\": {\"outlinewidth\": 0, \"ticks\": \"\"}}, \"type\": \"scatterpolargl\"}], \"scatterternary\": [{\"marker\": {\"colorbar\": {\"outlinewidth\": 0, \"ticks\": \"\"}}, \"type\": \"scatterternary\"}], \"surface\": [{\"colorbar\": {\"outlinewidth\": 0, \"ticks\": \"\"}, \"colorscale\": [[0.0, \"#0d0887\"], [0.1111111111111111, \"#46039f\"], [0.2222222222222222, \"#7201a8\"], [0.3333333333333333, \"#9c179e\"], [0.4444444444444444, \"#bd3786\"], [0.5555555555555556, \"#d8576b\"], [0.6666666666666666, \"#ed7953\"], [0.7777777777777778, \"#fb9f3a\"], [0.8888888888888888, \"#fdca26\"], [1.0, \"#f0f921\"]], \"type\": \"surface\"}], \"table\": [{\"cells\": {\"fill\": {\"color\": \"#EBF0F8\"}, \"line\": {\"color\": \"white\"}}, \"header\": {\"fill\": {\"color\": \"#C8D4E3\"}, \"line\": {\"color\": \"white\"}}, \"type\": \"table\"}]}, \"layout\": {\"annotationdefaults\": {\"arrowcolor\": \"#2a3f5f\", \"arrowhead\": 0, \"arrowwidth\": 1}, \"coloraxis\": {\"colorbar\": {\"outlinewidth\": 0, \"ticks\": \"\"}}, \"colorscale\": {\"diverging\": [[0, \"#8e0152\"], [0.1, \"#c51b7d\"], [0.2, \"#de77ae\"], [0.3, \"#f1b6da\"], [0.4, \"#fde0ef\"], [0.5, \"#f7f7f7\"], [0.6, \"#e6f5d0\"], [0.7, \"#b8e186\"], [0.8, \"#7fbc41\"], [0.9, \"#4d9221\"], [1, \"#276419\"]], \"sequential\": [[0.0, \"#0d0887\"], [0.1111111111111111, \"#46039f\"], [0.2222222222222222, \"#7201a8\"], [0.3333333333333333, \"#9c179e\"], [0.4444444444444444, \"#bd3786\"], [0.5555555555555556, \"#d8576b\"], [0.6666666666666666, \"#ed7953\"], [0.7777777777777778, \"#fb9f3a\"], [0.8888888888888888, \"#fdca26\"], [1.0, \"#f0f921\"]], \"sequentialminus\": [[0.0, \"#0d0887\"], [0.1111111111111111, \"#46039f\"], [0.2222222222222222, \"#7201a8\"], [0.3333333333333333, \"#9c179e\"], [0.4444444444444444, \"#bd3786\"], [0.5555555555555556, \"#d8576b\"], [0.6666666666666666, \"#ed7953\"], [0.7777777777777778, \"#fb9f3a\"], [0.8888888888888888, \"#fdca26\"], [1.0, \"#f0f921\"]]}, \"colorway\": [\"#636efa\", \"#EF553B\", \"#00cc96\", \"#ab63fa\", \"#FFA15A\", \"#19d3f3\", \"#FF6692\", \"#B6E880\", \"#FF97FF\", \"#FECB52\"], \"font\": {\"color\": \"#2a3f5f\"}, \"geo\": {\"bgcolor\": \"white\", \"lakecolor\": \"white\", \"landcolor\": \"#E5ECF6\", \"showlakes\": true, \"showland\": true, \"subunitcolor\": \"white\"}, \"hoverlabel\": {\"align\": \"left\"}, \"hovermode\": \"closest\", \"mapbox\": {\"style\": \"light\"}, \"paper_bgcolor\": \"white\", \"plot_bgcolor\": \"#E5ECF6\", \"polar\": {\"angularaxis\": {\"gridcolor\": \"white\", \"linecolor\": \"white\", \"ticks\": \"\"}, \"bgcolor\": \"#E5ECF6\", \"radialaxis\": {\"gridcolor\": \"white\", \"linecolor\": \"white\", \"ticks\": \"\"}}, \"scene\": {\"xaxis\": {\"backgroundcolor\": \"#E5ECF6\", \"gridcolor\": \"white\", \"gridwidth\": 2, \"linecolor\": \"white\", \"showbackground\": true, \"ticks\": \"\", \"zerolinecolor\": \"white\"}, \"yaxis\": {\"backgroundcolor\": \"#E5ECF6\", \"gridcolor\": \"white\", \"gridwidth\": 2, \"linecolor\": \"white\", \"showbackground\": true, \"ticks\": \"\", \"zerolinecolor\": \"white\"}, \"zaxis\": {\"backgroundcolor\": \"#E5ECF6\", \"gridcolor\": \"white\", \"gridwidth\": 2, \"linecolor\": \"white\", \"showbackground\": true, \"ticks\": \"\", \"zerolinecolor\": \"white\"}}, \"shapedefaults\": {\"line\": {\"color\": \"#2a3f5f\"}}, \"ternary\": {\"aaxis\": {\"gridcolor\": \"white\", \"linecolor\": \"white\", \"ticks\": \"\"}, \"baxis\": {\"gridcolor\": \"white\", \"linecolor\": \"white\", \"ticks\": \"\"}, \"bgcolor\": \"#E5ECF6\", \"caxis\": {\"gridcolor\": \"white\", \"linecolor\": \"white\", \"ticks\": \"\"}}, \"title\": {\"x\": 0.05}, \"xaxis\": {\"automargin\": true, \"gridcolor\": \"white\", \"linecolor\": \"white\", \"ticks\": \"\", \"title\": {\"standoff\": 15}, \"zerolinecolor\": \"white\", \"zerolinewidth\": 2}, \"yaxis\": {\"automargin\": true, \"gridcolor\": \"white\", \"linecolor\": \"white\", \"ticks\": \"\", \"title\": {\"standoff\": 15}, \"zerolinecolor\": \"white\", \"zerolinewidth\": 2}}}, \"title\": {\"text\": \"\\u0427\\u0438\\u0441\\u043b\\u043e \\u043f\\u043e\\u043a\\u0443\\u043f\\u0430\\u0442\\u0435\\u043b\\u0435\\u0439 \\u0432 \\u0434\\u0435\\u043d\\u044c \\u0432 \\u0422\\u043e\\u043f-3 \\u0448\\u0442\\u0430\\u0442\\u0430\\u0445 \\u043f\\u043e \\u0447\\u0438\\u0441\\u043b\\u0443 \\u043a\\u043b\\u0438\\u0435\\u043d\\u0442\\u043e\\u0432\"}, \"xaxis\": {\"anchor\": \"y\", \"domain\": [0.0, 1.0], \"title\": {\"text\": \"\"}}, \"yaxis\": {\"anchor\": \"x\", \"domain\": [0.0, 1.0], \"title\": {\"text\": \"\\u0427\\u0438\\u0441\\u043b\\u043e \\u043f\\u043e\\u043a\\u0443\\u043f\\u0430\\u0442\\u0435\\u043b\\u0435\\u0439\"}}},\n",
              "                        {\"responsive\": true}\n",
              "                    ).then(function(){\n",
              "                            \n",
              "var gd = document.getElementById('9a589151-fc3c-4148-83e6-eeb9e8b69269');\n",
              "var x = new MutationObserver(function (mutations, observer) {{\n",
              "        var display = window.getComputedStyle(gd).display;\n",
              "        if (!display || display === 'none') {{\n",
              "            console.log([gd, 'removed!']);\n",
              "            Plotly.purge(gd);\n",
              "            observer.disconnect();\n",
              "        }}\n",
              "}});\n",
              "\n",
              "// Listen for the removal of the full notebook cells\n",
              "var notebookContainer = gd.closest('#notebook-container');\n",
              "if (notebookContainer) {{\n",
              "    x.observe(notebookContainer, {childList: true});\n",
              "}}\n",
              "\n",
              "// Listen for the clearing of the current output cell\n",
              "var outputEl = gd.closest('.output');\n",
              "if (outputEl) {{\n",
              "    x.observe(outputEl, {childList: true});\n",
              "}}\n",
              "\n",
              "                        })\n",
              "                };\n",
              "                \n",
              "            </script>\n",
              "        </div>\n",
              "</body>\n",
              "</html>"
            ]
          },
          "metadata": {}
        }
      ]
    },
    {
      "cell_type": "markdown",
      "metadata": {
        "id": "AyYKkfQX5-ge"
      },
      "source": [
        "По графику выше можно видеть, что рост 24 ноября 2017 произошел во всех Топ-3 штатах, но сильнее всего в самом многочисленном."
      ]
    },
    {
      "cell_type": "code",
      "metadata": {
        "id": "29ARU4BD5-gf"
      },
      "source": [
        "# Средняя дневная аудитория (запрос)\n",
        "DAU_avg = get_df('select toStartOfMonth(so_day) as so_month,\\\n",
        "                        avg(num_cust) as avg_num_cust_daily\\\n",
        "                from \\\n",
        "               (select toStartOfDay(r.order_purchase_timestamp) as so_day,\\\n",
        "                                 uniqExact(l.customer_id) as num_cust\\\n",
        "                          from vk.customers as l\\\n",
        "                          join vk.orders as r\\\n",
        "                          on l.customer_id = r.customer_id\\\n",
        "                          group by so_day\\\n",
        "                          order by so_day asc)\\\n",
        "               group by so_month\\\n",
        "               order by so_month asc')"
      ],
      "execution_count": null,
      "outputs": []
    },
    {
      "cell_type": "code",
      "metadata": {
        "colab": {
          "base_uri": "https://localhost:8080/",
          "height": 542
        },
        "id": "bML5Crg15-gg",
        "outputId": "b58b6c33-a3e1-4a1c-b803-33a98593be9a"
      },
      "source": [
        "fig = px.line(DAU_avg[DAU_avg.so_month < '2018-09-01'], x=\"so_month\", y=\"avg_num_cust_daily\",\\\n",
        "              labels={\n",
        "                     \"so_month\": \"\",\n",
        "                     \"avg_num_cust_daily\": \"Среднемесячная дневная аудитория\"\n",
        "                 }, title='Среднее ежедневное число активных покупателей по месяцам')\n",
        "fig.show()"
      ],
      "execution_count": null,
      "outputs": [
        {
          "output_type": "display_data",
          "data": {
            "text/html": [
              "<html>\n",
              "<head><meta charset=\"utf-8\" /></head>\n",
              "<body>\n",
              "    <div>\n",
              "            <script src=\"https://cdnjs.cloudflare.com/ajax/libs/mathjax/2.7.5/MathJax.js?config=TeX-AMS-MML_SVG\"></script><script type=\"text/javascript\">if (window.MathJax) {MathJax.Hub.Config({SVG: {font: \"STIX-Web\"}});}</script>\n",
              "                <script type=\"text/javascript\">window.PlotlyConfig = {MathJaxConfig: 'local'};</script>\n",
              "        <script src=\"https://cdn.plot.ly/plotly-latest.min.js\"></script>    \n",
              "            <div id=\"66097859-71f2-429a-88a0-7801bfd78990\" class=\"plotly-graph-div\" style=\"height:525px; width:100%;\"></div>\n",
              "            <script type=\"text/javascript\">\n",
              "                \n",
              "                    window.PLOTLYENV=window.PLOTLYENV || {};\n",
              "                    \n",
              "                if (document.getElementById(\"66097859-71f2-429a-88a0-7801bfd78990\")) {\n",
              "                    Plotly.newPlot(\n",
              "                        '66097859-71f2-429a-88a0-7801bfd78990',\n",
              "                        [{\"hoverlabel\": {\"namelength\": 0}, \"hovertemplate\": \"=%{x}<br>\\u0421\\u0440\\u0435\\u0434\\u043d\\u0435\\u043c\\u0435\\u0441\\u044f\\u0447\\u043d\\u0430\\u044f \\u0434\\u043d\\u0435\\u0432\\u043d\\u0430\\u044f \\u0430\\u0443\\u0434\\u0438\\u0442\\u043e\\u0440\\u0438\\u044f=%{y}\", \"legendgroup\": \"\", \"line\": {\"color\": \"#636efa\", \"dash\": \"solid\"}, \"mode\": \"lines\", \"name\": \"\", \"showlegend\": false, \"type\": \"scatter\", \"x\": [\"2016-09-01\", \"2016-10-01\", \"2016-12-01\", \"2017-01-01\", \"2017-02-01\", \"2017-03-01\", \"2017-04-01\", \"2017-05-01\", \"2017-06-01\", \"2017-07-01\", \"2017-08-01\", \"2017-09-01\", \"2017-10-01\", \"2017-11-01\", \"2017-12-01\", \"2018-01-01\", \"2018-02-01\", \"2018-03-01\", \"2018-04-01\", \"2018-05-01\", \"2018-06-01\", \"2018-07-01\", \"2018-08-01\"], \"xaxis\": \"x\", \"y\": [1.0, 34.0, 1.0, 28.037037037037038, 61.25, 84.06451612903227, 78.9, 116.45161290322581, 105.56666666666666, 126.19354838709677, 136.4516129032258, 139.83333333333334, 145.70967741935485, 245.86666666666667, 179.83870967741936, 230.58064516129036, 234.53571428571428, 229.74193548387098, 230.26666666666668, 220.35483870967738, 204.76666666666668, 201.09677419354838, 222.0], \"yaxis\": \"y\"}],\n",
              "                        {\"legend\": {\"tracegroupgap\": 0}, \"template\": {\"data\": {\"bar\": [{\"error_x\": {\"color\": \"#2a3f5f\"}, \"error_y\": {\"color\": \"#2a3f5f\"}, \"marker\": {\"line\": {\"color\": \"#E5ECF6\", \"width\": 0.5}}, \"type\": \"bar\"}], \"barpolar\": [{\"marker\": {\"line\": {\"color\": \"#E5ECF6\", \"width\": 0.5}}, \"type\": \"barpolar\"}], \"carpet\": [{\"aaxis\": {\"endlinecolor\": \"#2a3f5f\", \"gridcolor\": \"white\", \"linecolor\": \"white\", \"minorgridcolor\": \"white\", \"startlinecolor\": \"#2a3f5f\"}, \"baxis\": {\"endlinecolor\": \"#2a3f5f\", \"gridcolor\": \"white\", \"linecolor\": \"white\", \"minorgridcolor\": \"white\", \"startlinecolor\": \"#2a3f5f\"}, \"type\": \"carpet\"}], \"choropleth\": [{\"colorbar\": {\"outlinewidth\": 0, \"ticks\": \"\"}, \"type\": \"choropleth\"}], \"contour\": [{\"colorbar\": {\"outlinewidth\": 0, \"ticks\": \"\"}, \"colorscale\": [[0.0, \"#0d0887\"], [0.1111111111111111, \"#46039f\"], [0.2222222222222222, \"#7201a8\"], [0.3333333333333333, \"#9c179e\"], [0.4444444444444444, \"#bd3786\"], [0.5555555555555556, \"#d8576b\"], [0.6666666666666666, \"#ed7953\"], [0.7777777777777778, \"#fb9f3a\"], [0.8888888888888888, \"#fdca26\"], [1.0, \"#f0f921\"]], \"type\": \"contour\"}], \"contourcarpet\": [{\"colorbar\": {\"outlinewidth\": 0, \"ticks\": \"\"}, \"type\": \"contourcarpet\"}], \"heatmap\": [{\"colorbar\": {\"outlinewidth\": 0, \"ticks\": \"\"}, \"colorscale\": [[0.0, \"#0d0887\"], [0.1111111111111111, \"#46039f\"], [0.2222222222222222, \"#7201a8\"], [0.3333333333333333, \"#9c179e\"], [0.4444444444444444, \"#bd3786\"], [0.5555555555555556, \"#d8576b\"], [0.6666666666666666, \"#ed7953\"], [0.7777777777777778, \"#fb9f3a\"], [0.8888888888888888, \"#fdca26\"], [1.0, \"#f0f921\"]], \"type\": \"heatmap\"}], \"heatmapgl\": [{\"colorbar\": {\"outlinewidth\": 0, \"ticks\": \"\"}, \"colorscale\": [[0.0, \"#0d0887\"], [0.1111111111111111, \"#46039f\"], [0.2222222222222222, \"#7201a8\"], [0.3333333333333333, \"#9c179e\"], [0.4444444444444444, \"#bd3786\"], [0.5555555555555556, \"#d8576b\"], [0.6666666666666666, \"#ed7953\"], [0.7777777777777778, \"#fb9f3a\"], [0.8888888888888888, \"#fdca26\"], [1.0, \"#f0f921\"]], \"type\": \"heatmapgl\"}], \"histogram\": [{\"marker\": {\"colorbar\": {\"outlinewidth\": 0, \"ticks\": \"\"}}, \"type\": \"histogram\"}], \"histogram2d\": [{\"colorbar\": {\"outlinewidth\": 0, \"ticks\": \"\"}, \"colorscale\": [[0.0, \"#0d0887\"], [0.1111111111111111, \"#46039f\"], [0.2222222222222222, \"#7201a8\"], [0.3333333333333333, \"#9c179e\"], [0.4444444444444444, \"#bd3786\"], [0.5555555555555556, \"#d8576b\"], [0.6666666666666666, \"#ed7953\"], [0.7777777777777778, \"#fb9f3a\"], [0.8888888888888888, \"#fdca26\"], [1.0, \"#f0f921\"]], \"type\": \"histogram2d\"}], \"histogram2dcontour\": [{\"colorbar\": {\"outlinewidth\": 0, \"ticks\": \"\"}, \"colorscale\": [[0.0, \"#0d0887\"], [0.1111111111111111, \"#46039f\"], [0.2222222222222222, \"#7201a8\"], [0.3333333333333333, \"#9c179e\"], [0.4444444444444444, \"#bd3786\"], [0.5555555555555556, \"#d8576b\"], [0.6666666666666666, \"#ed7953\"], [0.7777777777777778, \"#fb9f3a\"], [0.8888888888888888, \"#fdca26\"], [1.0, \"#f0f921\"]], \"type\": \"histogram2dcontour\"}], \"mesh3d\": [{\"colorbar\": {\"outlinewidth\": 0, \"ticks\": \"\"}, \"type\": \"mesh3d\"}], \"parcoords\": [{\"line\": {\"colorbar\": {\"outlinewidth\": 0, \"ticks\": \"\"}}, \"type\": \"parcoords\"}], \"pie\": [{\"automargin\": true, \"type\": \"pie\"}], \"scatter\": [{\"marker\": {\"colorbar\": {\"outlinewidth\": 0, \"ticks\": \"\"}}, \"type\": \"scatter\"}], \"scatter3d\": [{\"line\": {\"colorbar\": {\"outlinewidth\": 0, \"ticks\": \"\"}}, \"marker\": {\"colorbar\": {\"outlinewidth\": 0, \"ticks\": \"\"}}, \"type\": \"scatter3d\"}], \"scattercarpet\": [{\"marker\": {\"colorbar\": {\"outlinewidth\": 0, \"ticks\": \"\"}}, \"type\": \"scattercarpet\"}], \"scattergeo\": [{\"marker\": {\"colorbar\": {\"outlinewidth\": 0, \"ticks\": \"\"}}, \"type\": \"scattergeo\"}], \"scattergl\": [{\"marker\": {\"colorbar\": {\"outlinewidth\": 0, \"ticks\": \"\"}}, \"type\": \"scattergl\"}], \"scattermapbox\": [{\"marker\": {\"colorbar\": {\"outlinewidth\": 0, \"ticks\": \"\"}}, \"type\": \"scattermapbox\"}], \"scatterpolar\": [{\"marker\": {\"colorbar\": {\"outlinewidth\": 0, \"ticks\": \"\"}}, \"type\": \"scatterpolar\"}], \"scatterpolargl\": [{\"marker\": {\"colorbar\": {\"outlinewidth\": 0, \"ticks\": \"\"}}, \"type\": \"scatterpolargl\"}], \"scatterternary\": [{\"marker\": {\"colorbar\": {\"outlinewidth\": 0, \"ticks\": \"\"}}, \"type\": \"scatterternary\"}], \"surface\": [{\"colorbar\": {\"outlinewidth\": 0, \"ticks\": \"\"}, \"colorscale\": [[0.0, \"#0d0887\"], [0.1111111111111111, \"#46039f\"], [0.2222222222222222, \"#7201a8\"], [0.3333333333333333, \"#9c179e\"], [0.4444444444444444, \"#bd3786\"], [0.5555555555555556, \"#d8576b\"], [0.6666666666666666, \"#ed7953\"], [0.7777777777777778, \"#fb9f3a\"], [0.8888888888888888, \"#fdca26\"], [1.0, \"#f0f921\"]], \"type\": \"surface\"}], \"table\": [{\"cells\": {\"fill\": {\"color\": \"#EBF0F8\"}, \"line\": {\"color\": \"white\"}}, \"header\": {\"fill\": {\"color\": \"#C8D4E3\"}, \"line\": {\"color\": \"white\"}}, \"type\": \"table\"}]}, \"layout\": {\"annotationdefaults\": {\"arrowcolor\": \"#2a3f5f\", \"arrowhead\": 0, \"arrowwidth\": 1}, \"coloraxis\": {\"colorbar\": {\"outlinewidth\": 0, \"ticks\": \"\"}}, \"colorscale\": {\"diverging\": [[0, \"#8e0152\"], [0.1, \"#c51b7d\"], [0.2, \"#de77ae\"], [0.3, \"#f1b6da\"], [0.4, \"#fde0ef\"], [0.5, \"#f7f7f7\"], [0.6, \"#e6f5d0\"], [0.7, \"#b8e186\"], [0.8, \"#7fbc41\"], [0.9, \"#4d9221\"], [1, \"#276419\"]], \"sequential\": [[0.0, \"#0d0887\"], [0.1111111111111111, \"#46039f\"], [0.2222222222222222, \"#7201a8\"], [0.3333333333333333, \"#9c179e\"], [0.4444444444444444, \"#bd3786\"], [0.5555555555555556, \"#d8576b\"], [0.6666666666666666, \"#ed7953\"], [0.7777777777777778, \"#fb9f3a\"], [0.8888888888888888, \"#fdca26\"], [1.0, \"#f0f921\"]], \"sequentialminus\": [[0.0, \"#0d0887\"], [0.1111111111111111, \"#46039f\"], [0.2222222222222222, \"#7201a8\"], [0.3333333333333333, \"#9c179e\"], [0.4444444444444444, \"#bd3786\"], [0.5555555555555556, \"#d8576b\"], [0.6666666666666666, \"#ed7953\"], [0.7777777777777778, \"#fb9f3a\"], [0.8888888888888888, \"#fdca26\"], [1.0, \"#f0f921\"]]}, \"colorway\": [\"#636efa\", \"#EF553B\", \"#00cc96\", \"#ab63fa\", \"#FFA15A\", \"#19d3f3\", \"#FF6692\", \"#B6E880\", \"#FF97FF\", \"#FECB52\"], \"font\": {\"color\": \"#2a3f5f\"}, \"geo\": {\"bgcolor\": \"white\", \"lakecolor\": \"white\", \"landcolor\": \"#E5ECF6\", \"showlakes\": true, \"showland\": true, \"subunitcolor\": \"white\"}, \"hoverlabel\": {\"align\": \"left\"}, \"hovermode\": \"closest\", \"mapbox\": {\"style\": \"light\"}, \"paper_bgcolor\": \"white\", \"plot_bgcolor\": \"#E5ECF6\", \"polar\": {\"angularaxis\": {\"gridcolor\": \"white\", \"linecolor\": \"white\", \"ticks\": \"\"}, \"bgcolor\": \"#E5ECF6\", \"radialaxis\": {\"gridcolor\": \"white\", \"linecolor\": \"white\", \"ticks\": \"\"}}, \"scene\": {\"xaxis\": {\"backgroundcolor\": \"#E5ECF6\", \"gridcolor\": \"white\", \"gridwidth\": 2, \"linecolor\": \"white\", \"showbackground\": true, \"ticks\": \"\", \"zerolinecolor\": \"white\"}, \"yaxis\": {\"backgroundcolor\": \"#E5ECF6\", \"gridcolor\": \"white\", \"gridwidth\": 2, \"linecolor\": \"white\", \"showbackground\": true, \"ticks\": \"\", \"zerolinecolor\": \"white\"}, \"zaxis\": {\"backgroundcolor\": \"#E5ECF6\", \"gridcolor\": \"white\", \"gridwidth\": 2, \"linecolor\": \"white\", \"showbackground\": true, \"ticks\": \"\", \"zerolinecolor\": \"white\"}}, \"shapedefaults\": {\"line\": {\"color\": \"#2a3f5f\"}}, \"ternary\": {\"aaxis\": {\"gridcolor\": \"white\", \"linecolor\": \"white\", \"ticks\": \"\"}, \"baxis\": {\"gridcolor\": \"white\", \"linecolor\": \"white\", \"ticks\": \"\"}, \"bgcolor\": \"#E5ECF6\", \"caxis\": {\"gridcolor\": \"white\", \"linecolor\": \"white\", \"ticks\": \"\"}}, \"title\": {\"x\": 0.05}, \"xaxis\": {\"automargin\": true, \"gridcolor\": \"white\", \"linecolor\": \"white\", \"ticks\": \"\", \"title\": {\"standoff\": 15}, \"zerolinecolor\": \"white\", \"zerolinewidth\": 2}, \"yaxis\": {\"automargin\": true, \"gridcolor\": \"white\", \"linecolor\": \"white\", \"ticks\": \"\", \"title\": {\"standoff\": 15}, \"zerolinecolor\": \"white\", \"zerolinewidth\": 2}}}, \"title\": {\"text\": \"\\u0421\\u0440\\u0435\\u0434\\u043d\\u0435\\u0435 \\u0435\\u0436\\u0435\\u0434\\u043d\\u0435\\u0432\\u043d\\u043e\\u0435 \\u0447\\u0438\\u0441\\u043b\\u043e \\u0430\\u043a\\u0442\\u0438\\u0432\\u043d\\u044b\\u0445 \\u043f\\u043e\\u043a\\u0443\\u043f\\u0430\\u0442\\u0435\\u043b\\u0435\\u0439 \\u043f\\u043e \\u043c\\u0435\\u0441\\u044f\\u0446\\u0430\\u043c\"}, \"xaxis\": {\"anchor\": \"y\", \"domain\": [0.0, 1.0], \"title\": {\"text\": \"\"}}, \"yaxis\": {\"anchor\": \"x\", \"domain\": [0.0, 1.0], \"title\": {\"text\": \"\\u0421\\u0440\\u0435\\u0434\\u043d\\u0435\\u043c\\u0435\\u0441\\u044f\\u0447\\u043d\\u0430\\u044f \\u0434\\u043d\\u0435\\u0432\\u043d\\u0430\\u044f \\u0430\\u0443\\u0434\\u0438\\u0442\\u043e\\u0440\\u0438\\u044f\"}}},\n",
              "                        {\"responsive\": true}\n",
              "                    ).then(function(){\n",
              "                            \n",
              "var gd = document.getElementById('66097859-71f2-429a-88a0-7801bfd78990');\n",
              "var x = new MutationObserver(function (mutations, observer) {{\n",
              "        var display = window.getComputedStyle(gd).display;\n",
              "        if (!display || display === 'none') {{\n",
              "            console.log([gd, 'removed!']);\n",
              "            Plotly.purge(gd);\n",
              "            observer.disconnect();\n",
              "        }}\n",
              "}});\n",
              "\n",
              "// Listen for the removal of the full notebook cells\n",
              "var notebookContainer = gd.closest('#notebook-container');\n",
              "if (notebookContainer) {{\n",
              "    x.observe(notebookContainer, {childList: true});\n",
              "}}\n",
              "\n",
              "// Listen for the clearing of the current output cell\n",
              "var outputEl = gd.closest('.output');\n",
              "if (outputEl) {{\n",
              "    x.observe(outputEl, {childList: true});\n",
              "}}\n",
              "\n",
              "                        })\n",
              "                };\n",
              "                \n",
              "            </script>\n",
              "        </div>\n",
              "</body>\n",
              "</html>"
            ]
          },
          "metadata": {}
        }
      ]
    },
    {
      "cell_type": "code",
      "metadata": {
        "id": "Sm6F-tcl5-gh"
      },
      "source": [
        "# Объединим данные по ср. DAU и MAU\n",
        "dau_mau_data = pd.merge(DAU_avg, MAU_all, on = 'so_month')"
      ],
      "execution_count": null,
      "outputs": []
    },
    {
      "cell_type": "code",
      "metadata": {
        "id": "ruIBOWtt5-gi"
      },
      "source": [
        "# Посчитаем stickness ratio\n",
        "dau_mau_data['stick_ratio'] = dau_mau_data['avg_num_cust_daily']/dau_mau_data['num_cust'] * 100"
      ],
      "execution_count": null,
      "outputs": []
    },
    {
      "cell_type": "code",
      "metadata": {
        "colab": {
          "base_uri": "https://localhost:8080/",
          "height": 542
        },
        "id": "EvFh4BWL5-gi",
        "outputId": "222f19ff-464a-47af-97d8-4f62951c8313"
      },
      "source": [
        "#Построим график stickness ratio\n",
        "fig = px.line(dau_mau_data[(dau_mau_data.so_month < '2018-09-01') & (dau_mau_data.so_month >= '2017-01-01')],\\\n",
        "              x=\"so_month\", y=\"stick_ratio\",\\\n",
        "              labels={\n",
        "                     \"so_month\": \"\",\n",
        "                     \"stick_ratio\": \"Stickness ratio\"\n",
        "                 },\n",
        "              title='Процент уникальных ежедневных покупателей, остающихся в течение месяца')\n",
        "fig.show()"
      ],
      "execution_count": null,
      "outputs": [
        {
          "output_type": "display_data",
          "data": {
            "text/html": [
              "<html>\n",
              "<head><meta charset=\"utf-8\" /></head>\n",
              "<body>\n",
              "    <div>\n",
              "            <script src=\"https://cdnjs.cloudflare.com/ajax/libs/mathjax/2.7.5/MathJax.js?config=TeX-AMS-MML_SVG\"></script><script type=\"text/javascript\">if (window.MathJax) {MathJax.Hub.Config({SVG: {font: \"STIX-Web\"}});}</script>\n",
              "                <script type=\"text/javascript\">window.PlotlyConfig = {MathJaxConfig: 'local'};</script>\n",
              "        <script src=\"https://cdn.plot.ly/plotly-latest.min.js\"></script>    \n",
              "            <div id=\"cd189d89-7843-4562-85f1-17f1db2c3b43\" class=\"plotly-graph-div\" style=\"height:525px; width:100%;\"></div>\n",
              "            <script type=\"text/javascript\">\n",
              "                \n",
              "                    window.PLOTLYENV=window.PLOTLYENV || {};\n",
              "                    \n",
              "                if (document.getElementById(\"cd189d89-7843-4562-85f1-17f1db2c3b43\")) {\n",
              "                    Plotly.newPlot(\n",
              "                        'cd189d89-7843-4562-85f1-17f1db2c3b43',\n",
              "                        [{\"hoverlabel\": {\"namelength\": 0}, \"hovertemplate\": \"=%{x}<br>Stickness ratio=%{y}\", \"legendgroup\": \"\", \"line\": {\"color\": \"#636efa\", \"dash\": \"solid\"}, \"mode\": \"lines\", \"name\": \"\", \"showlegend\": false, \"type\": \"scatter\", \"x\": [\"2017-01-01\", \"2017-02-01\", \"2017-03-01\", \"2017-04-01\", \"2017-05-01\", \"2017-06-01\", \"2017-07-01\", \"2017-08-01\", \"2017-09-01\", \"2017-10-01\", \"2017-11-01\", \"2017-12-01\", \"2018-01-01\", \"2018-02-01\", \"2018-03-01\", \"2018-04-01\", \"2018-05-01\", \"2018-06-01\", \"2018-07-01\", \"2018-08-01\"], \"xaxis\": \"x\", \"y\": [3.713514839342654, 3.5860655737704916, 3.2320075405241164, 3.34463755828741, 3.2455856439026145, 3.347072500528429, 3.2407177295094187, 3.2403612658092094, 3.353317346123102, 3.237273437444009, 3.3487696358848638, 3.2362553478031195, 3.2384922073214937, 3.587818789746279, 3.2376259228279447, 3.3478724435397886, 3.2428968169194614, 3.3453139465228996, 3.2377519593229493, 3.462798315395414], \"yaxis\": \"y\"}],\n",
              "                        {\"legend\": {\"tracegroupgap\": 0}, \"template\": {\"data\": {\"bar\": [{\"error_x\": {\"color\": \"#2a3f5f\"}, \"error_y\": {\"color\": \"#2a3f5f\"}, \"marker\": {\"line\": {\"color\": \"#E5ECF6\", \"width\": 0.5}}, \"type\": \"bar\"}], \"barpolar\": [{\"marker\": {\"line\": {\"color\": \"#E5ECF6\", \"width\": 0.5}}, \"type\": \"barpolar\"}], \"carpet\": [{\"aaxis\": {\"endlinecolor\": \"#2a3f5f\", \"gridcolor\": \"white\", \"linecolor\": \"white\", \"minorgridcolor\": \"white\", \"startlinecolor\": \"#2a3f5f\"}, \"baxis\": {\"endlinecolor\": \"#2a3f5f\", \"gridcolor\": \"white\", \"linecolor\": \"white\", \"minorgridcolor\": \"white\", \"startlinecolor\": \"#2a3f5f\"}, \"type\": \"carpet\"}], \"choropleth\": [{\"colorbar\": {\"outlinewidth\": 0, \"ticks\": \"\"}, \"type\": \"choropleth\"}], \"contour\": [{\"colorbar\": {\"outlinewidth\": 0, \"ticks\": \"\"}, \"colorscale\": [[0.0, \"#0d0887\"], [0.1111111111111111, \"#46039f\"], [0.2222222222222222, \"#7201a8\"], [0.3333333333333333, \"#9c179e\"], [0.4444444444444444, \"#bd3786\"], [0.5555555555555556, \"#d8576b\"], [0.6666666666666666, \"#ed7953\"], [0.7777777777777778, \"#fb9f3a\"], [0.8888888888888888, \"#fdca26\"], [1.0, \"#f0f921\"]], \"type\": \"contour\"}], \"contourcarpet\": [{\"colorbar\": {\"outlinewidth\": 0, \"ticks\": \"\"}, \"type\": \"contourcarpet\"}], \"heatmap\": [{\"colorbar\": {\"outlinewidth\": 0, \"ticks\": \"\"}, \"colorscale\": [[0.0, \"#0d0887\"], [0.1111111111111111, \"#46039f\"], [0.2222222222222222, \"#7201a8\"], [0.3333333333333333, \"#9c179e\"], [0.4444444444444444, \"#bd3786\"], [0.5555555555555556, \"#d8576b\"], [0.6666666666666666, \"#ed7953\"], [0.7777777777777778, \"#fb9f3a\"], [0.8888888888888888, \"#fdca26\"], [1.0, \"#f0f921\"]], \"type\": \"heatmap\"}], \"heatmapgl\": [{\"colorbar\": {\"outlinewidth\": 0, \"ticks\": \"\"}, \"colorscale\": [[0.0, \"#0d0887\"], [0.1111111111111111, \"#46039f\"], [0.2222222222222222, \"#7201a8\"], [0.3333333333333333, \"#9c179e\"], [0.4444444444444444, \"#bd3786\"], [0.5555555555555556, \"#d8576b\"], [0.6666666666666666, \"#ed7953\"], [0.7777777777777778, \"#fb9f3a\"], [0.8888888888888888, \"#fdca26\"], [1.0, \"#f0f921\"]], \"type\": \"heatmapgl\"}], \"histogram\": [{\"marker\": {\"colorbar\": {\"outlinewidth\": 0, \"ticks\": \"\"}}, \"type\": \"histogram\"}], \"histogram2d\": [{\"colorbar\": {\"outlinewidth\": 0, \"ticks\": \"\"}, \"colorscale\": [[0.0, \"#0d0887\"], [0.1111111111111111, \"#46039f\"], [0.2222222222222222, \"#7201a8\"], [0.3333333333333333, \"#9c179e\"], [0.4444444444444444, \"#bd3786\"], [0.5555555555555556, \"#d8576b\"], [0.6666666666666666, \"#ed7953\"], [0.7777777777777778, \"#fb9f3a\"], [0.8888888888888888, \"#fdca26\"], [1.0, \"#f0f921\"]], \"type\": \"histogram2d\"}], \"histogram2dcontour\": [{\"colorbar\": {\"outlinewidth\": 0, \"ticks\": \"\"}, \"colorscale\": [[0.0, \"#0d0887\"], [0.1111111111111111, \"#46039f\"], [0.2222222222222222, \"#7201a8\"], [0.3333333333333333, \"#9c179e\"], [0.4444444444444444, \"#bd3786\"], [0.5555555555555556, \"#d8576b\"], [0.6666666666666666, \"#ed7953\"], [0.7777777777777778, \"#fb9f3a\"], [0.8888888888888888, \"#fdca26\"], [1.0, \"#f0f921\"]], \"type\": \"histogram2dcontour\"}], \"mesh3d\": [{\"colorbar\": {\"outlinewidth\": 0, \"ticks\": \"\"}, \"type\": \"mesh3d\"}], \"parcoords\": [{\"line\": {\"colorbar\": {\"outlinewidth\": 0, \"ticks\": \"\"}}, \"type\": \"parcoords\"}], \"pie\": [{\"automargin\": true, \"type\": \"pie\"}], \"scatter\": [{\"marker\": {\"colorbar\": {\"outlinewidth\": 0, \"ticks\": \"\"}}, \"type\": \"scatter\"}], \"scatter3d\": [{\"line\": {\"colorbar\": {\"outlinewidth\": 0, \"ticks\": \"\"}}, \"marker\": {\"colorbar\": {\"outlinewidth\": 0, \"ticks\": \"\"}}, \"type\": \"scatter3d\"}], \"scattercarpet\": [{\"marker\": {\"colorbar\": {\"outlinewidth\": 0, \"ticks\": \"\"}}, \"type\": \"scattercarpet\"}], \"scattergeo\": [{\"marker\": {\"colorbar\": {\"outlinewidth\": 0, \"ticks\": \"\"}}, \"type\": \"scattergeo\"}], \"scattergl\": [{\"marker\": {\"colorbar\": {\"outlinewidth\": 0, \"ticks\": \"\"}}, \"type\": \"scattergl\"}], \"scattermapbox\": [{\"marker\": {\"colorbar\": {\"outlinewidth\": 0, \"ticks\": \"\"}}, \"type\": \"scattermapbox\"}], \"scatterpolar\": [{\"marker\": {\"colorbar\": {\"outlinewidth\": 0, \"ticks\": \"\"}}, \"type\": \"scatterpolar\"}], \"scatterpolargl\": [{\"marker\": {\"colorbar\": {\"outlinewidth\": 0, \"ticks\": \"\"}}, \"type\": \"scatterpolargl\"}], \"scatterternary\": [{\"marker\": {\"colorbar\": {\"outlinewidth\": 0, \"ticks\": \"\"}}, \"type\": \"scatterternary\"}], \"surface\": [{\"colorbar\": {\"outlinewidth\": 0, \"ticks\": \"\"}, \"colorscale\": [[0.0, \"#0d0887\"], [0.1111111111111111, \"#46039f\"], [0.2222222222222222, \"#7201a8\"], [0.3333333333333333, \"#9c179e\"], [0.4444444444444444, \"#bd3786\"], [0.5555555555555556, \"#d8576b\"], [0.6666666666666666, \"#ed7953\"], [0.7777777777777778, \"#fb9f3a\"], [0.8888888888888888, \"#fdca26\"], [1.0, \"#f0f921\"]], \"type\": \"surface\"}], \"table\": [{\"cells\": {\"fill\": {\"color\": \"#EBF0F8\"}, \"line\": {\"color\": \"white\"}}, \"header\": {\"fill\": {\"color\": \"#C8D4E3\"}, \"line\": {\"color\": \"white\"}}, \"type\": \"table\"}]}, \"layout\": {\"annotationdefaults\": {\"arrowcolor\": \"#2a3f5f\", \"arrowhead\": 0, \"arrowwidth\": 1}, \"coloraxis\": {\"colorbar\": {\"outlinewidth\": 0, \"ticks\": \"\"}}, \"colorscale\": {\"diverging\": [[0, \"#8e0152\"], [0.1, \"#c51b7d\"], [0.2, \"#de77ae\"], [0.3, \"#f1b6da\"], [0.4, \"#fde0ef\"], [0.5, \"#f7f7f7\"], [0.6, \"#e6f5d0\"], [0.7, \"#b8e186\"], [0.8, \"#7fbc41\"], [0.9, \"#4d9221\"], [1, \"#276419\"]], \"sequential\": [[0.0, \"#0d0887\"], [0.1111111111111111, \"#46039f\"], [0.2222222222222222, \"#7201a8\"], [0.3333333333333333, \"#9c179e\"], [0.4444444444444444, \"#bd3786\"], [0.5555555555555556, \"#d8576b\"], [0.6666666666666666, \"#ed7953\"], [0.7777777777777778, \"#fb9f3a\"], [0.8888888888888888, \"#fdca26\"], [1.0, \"#f0f921\"]], \"sequentialminus\": [[0.0, \"#0d0887\"], [0.1111111111111111, \"#46039f\"], [0.2222222222222222, \"#7201a8\"], [0.3333333333333333, \"#9c179e\"], [0.4444444444444444, \"#bd3786\"], [0.5555555555555556, \"#d8576b\"], [0.6666666666666666, \"#ed7953\"], [0.7777777777777778, \"#fb9f3a\"], [0.8888888888888888, \"#fdca26\"], [1.0, \"#f0f921\"]]}, \"colorway\": [\"#636efa\", \"#EF553B\", \"#00cc96\", \"#ab63fa\", \"#FFA15A\", \"#19d3f3\", \"#FF6692\", \"#B6E880\", \"#FF97FF\", \"#FECB52\"], \"font\": {\"color\": \"#2a3f5f\"}, \"geo\": {\"bgcolor\": \"white\", \"lakecolor\": \"white\", \"landcolor\": \"#E5ECF6\", \"showlakes\": true, \"showland\": true, \"subunitcolor\": \"white\"}, \"hoverlabel\": {\"align\": \"left\"}, \"hovermode\": \"closest\", \"mapbox\": {\"style\": \"light\"}, \"paper_bgcolor\": \"white\", \"plot_bgcolor\": \"#E5ECF6\", \"polar\": {\"angularaxis\": {\"gridcolor\": \"white\", \"linecolor\": \"white\", \"ticks\": \"\"}, \"bgcolor\": \"#E5ECF6\", \"radialaxis\": {\"gridcolor\": \"white\", \"linecolor\": \"white\", \"ticks\": \"\"}}, \"scene\": {\"xaxis\": {\"backgroundcolor\": \"#E5ECF6\", \"gridcolor\": \"white\", \"gridwidth\": 2, \"linecolor\": \"white\", \"showbackground\": true, \"ticks\": \"\", \"zerolinecolor\": \"white\"}, \"yaxis\": {\"backgroundcolor\": \"#E5ECF6\", \"gridcolor\": \"white\", \"gridwidth\": 2, \"linecolor\": \"white\", \"showbackground\": true, \"ticks\": \"\", \"zerolinecolor\": \"white\"}, \"zaxis\": {\"backgroundcolor\": \"#E5ECF6\", \"gridcolor\": \"white\", \"gridwidth\": 2, \"linecolor\": \"white\", \"showbackground\": true, \"ticks\": \"\", \"zerolinecolor\": \"white\"}}, \"shapedefaults\": {\"line\": {\"color\": \"#2a3f5f\"}}, \"ternary\": {\"aaxis\": {\"gridcolor\": \"white\", \"linecolor\": \"white\", \"ticks\": \"\"}, \"baxis\": {\"gridcolor\": \"white\", \"linecolor\": \"white\", \"ticks\": \"\"}, \"bgcolor\": \"#E5ECF6\", \"caxis\": {\"gridcolor\": \"white\", \"linecolor\": \"white\", \"ticks\": \"\"}}, \"title\": {\"x\": 0.05}, \"xaxis\": {\"automargin\": true, \"gridcolor\": \"white\", \"linecolor\": \"white\", \"ticks\": \"\", \"title\": {\"standoff\": 15}, \"zerolinecolor\": \"white\", \"zerolinewidth\": 2}, \"yaxis\": {\"automargin\": true, \"gridcolor\": \"white\", \"linecolor\": \"white\", \"ticks\": \"\", \"title\": {\"standoff\": 15}, \"zerolinecolor\": \"white\", \"zerolinewidth\": 2}}}, \"title\": {\"text\": \"\\u041f\\u0440\\u043e\\u0446\\u0435\\u043d\\u0442 \\u0443\\u043d\\u0438\\u043a\\u0430\\u043b\\u044c\\u043d\\u044b\\u0445 \\u0435\\u0436\\u0435\\u0434\\u043d\\u0435\\u0432\\u043d\\u044b\\u0445 \\u043f\\u043e\\u043a\\u0443\\u043f\\u0430\\u0442\\u0435\\u043b\\u0435\\u0439, \\u043e\\u0441\\u0442\\u0430\\u044e\\u0449\\u0438\\u0445\\u0441\\u044f \\u0432 \\u0442\\u0435\\u0447\\u0435\\u043d\\u0438\\u0435 \\u043c\\u0435\\u0441\\u044f\\u0446\\u0430\"}, \"xaxis\": {\"anchor\": \"y\", \"domain\": [0.0, 1.0], \"title\": {\"text\": \"\"}}, \"yaxis\": {\"anchor\": \"x\", \"domain\": [0.0, 1.0], \"title\": {\"text\": \"Stickness ratio\"}}},\n",
              "                        {\"responsive\": true}\n",
              "                    ).then(function(){\n",
              "                            \n",
              "var gd = document.getElementById('cd189d89-7843-4562-85f1-17f1db2c3b43');\n",
              "var x = new MutationObserver(function (mutations, observer) {{\n",
              "        var display = window.getComputedStyle(gd).display;\n",
              "        if (!display || display === 'none') {{\n",
              "            console.log([gd, 'removed!']);\n",
              "            Plotly.purge(gd);\n",
              "            observer.disconnect();\n",
              "        }}\n",
              "}});\n",
              "\n",
              "// Listen for the removal of the full notebook cells\n",
              "var notebookContainer = gd.closest('#notebook-container');\n",
              "if (notebookContainer) {{\n",
              "    x.observe(notebookContainer, {childList: true});\n",
              "}}\n",
              "\n",
              "// Listen for the clearing of the current output cell\n",
              "var outputEl = gd.closest('.output');\n",
              "if (outputEl) {{\n",
              "    x.observe(outputEl, {childList: true});\n",
              "}}\n",
              "\n",
              "                        })\n",
              "                };\n",
              "                \n",
              "            </script>\n",
              "        </div>\n",
              "</body>\n",
              "</html>"
            ]
          },
          "metadata": {}
        }
      ]
    },
    {
      "cell_type": "markdown",
      "metadata": {
        "id": "FMa7Kwfg5-gj"
      },
      "source": [
        "Также посмотрим, как изменялся размер аудитории в разбивке по продавцам, т.е. какое число покупателей приходилось на продавца в месяц."
      ]
    },
    {
      "cell_type": "code",
      "metadata": {
        "id": "EyeojELj5-gj"
      },
      "source": [
        "#Запрос: Динамика соотношения числа клиентов и продавцов\n",
        "cl_sel_ratio_mo = get_df('select toStartOfMonth(order_purchase_timestamp) as so_month,\\\n",
        "                                 uniqExact(customer_id)/uniqExact(seller_id) as cl_sel_ratio\\\n",
        "                        from vk.orders\\\n",
        "                        group by so_month\\\n",
        "                        order by so_month asc')"
      ],
      "execution_count": null,
      "outputs": []
    },
    {
      "cell_type": "code",
      "metadata": {
        "colab": {
          "base_uri": "https://localhost:8080/",
          "height": 542
        },
        "id": "E4y6wCG25-gk",
        "outputId": "8f2f196e-8fe6-46a0-aff5-2041887ed64c"
      },
      "source": [
        "#График: Динамика соотношения числа клиентов и продавцов\n",
        "fig = px.line(cl_sel_ratio_mo[cl_sel_ratio_mo.so_month < '2018-09-01'], x='so_month', y='cl_sel_ratio',\\\n",
        "              labels={\n",
        "                     \"so_month\": \"\",\n",
        "                     \"cl_sel_ratio\": \"Число покупателей на одного продавца\"},\\\n",
        "             title = 'Динамика соотношения числа клиентов и продавцов')\n",
        "fig.show()"
      ],
      "execution_count": null,
      "outputs": [
        {
          "output_type": "display_data",
          "data": {
            "text/html": [
              "<html>\n",
              "<head><meta charset=\"utf-8\" /></head>\n",
              "<body>\n",
              "    <div>\n",
              "            <script src=\"https://cdnjs.cloudflare.com/ajax/libs/mathjax/2.7.5/MathJax.js?config=TeX-AMS-MML_SVG\"></script><script type=\"text/javascript\">if (window.MathJax) {MathJax.Hub.Config({SVG: {font: \"STIX-Web\"}});}</script>\n",
              "                <script type=\"text/javascript\">window.PlotlyConfig = {MathJaxConfig: 'local'};</script>\n",
              "        <script src=\"https://cdn.plot.ly/plotly-latest.min.js\"></script>    \n",
              "            <div id=\"f321a604-6f8c-454f-a53d-83f10f8c6853\" class=\"plotly-graph-div\" style=\"height:525px; width:100%;\"></div>\n",
              "            <script type=\"text/javascript\">\n",
              "                \n",
              "                    window.PLOTLYENV=window.PLOTLYENV || {};\n",
              "                    \n",
              "                if (document.getElementById(\"f321a604-6f8c-454f-a53d-83f10f8c6853\")) {\n",
              "                    Plotly.newPlot(\n",
              "                        'f321a604-6f8c-454f-a53d-83f10f8c6853',\n",
              "                        [{\"hoverlabel\": {\"namelength\": 0}, \"hovertemplate\": \"=%{x}<br>\\u0427\\u0438\\u0441\\u043b\\u043e \\u043f\\u043e\\u043a\\u0443\\u043f\\u0430\\u0442\\u0435\\u043b\\u0435\\u0439 \\u043d\\u0430 \\u043e\\u0434\\u043d\\u043e\\u0433\\u043e \\u043f\\u0440\\u043e\\u0434\\u0430\\u0432\\u0446\\u0430=%{y}\", \"legendgroup\": \"\", \"line\": {\"color\": \"#636efa\", \"dash\": \"solid\"}, \"mode\": \"lines\", \"name\": \"\", \"showlegend\": false, \"type\": \"scatter\", \"x\": [\"2016-09-01\", \"2016-10-01\", \"2016-12-01\", \"2017-01-01\", \"2017-02-01\", \"2017-03-01\", \"2017-04-01\", \"2017-05-01\", \"2017-06-01\", \"2017-07-01\", \"2017-08-01\", \"2017-09-01\", \"2017-10-01\", \"2017-11-01\", \"2017-12-01\", \"2018-01-01\", \"2018-02-01\", \"2018-03-01\", \"2018-04-01\", \"2018-05-01\", \"2018-06-01\", \"2018-07-01\", \"2018-08-01\"], \"xaxis\": \"x\", \"y\": [1.0, 2.132867132867133, 1.0, 3.3259911894273126, 4.0, 5.212424849699398, 4.66205533596838, 6.154373927958834, 5.851576994434137, 6.425742574257426, 5.94774011299435, 5.704514363885089, 5.800257731958762, 7.6082901554404145, 6.454123112659698, 7.340206185567009, 6.902851108764518, 7.124497991967871, 6.1246660730187, 6.094170403587444, 5.20936170212766, 4.925455987311659, 5.016431924882629], \"yaxis\": \"y\"}],\n",
              "                        {\"legend\": {\"tracegroupgap\": 0}, \"template\": {\"data\": {\"bar\": [{\"error_x\": {\"color\": \"#2a3f5f\"}, \"error_y\": {\"color\": \"#2a3f5f\"}, \"marker\": {\"line\": {\"color\": \"#E5ECF6\", \"width\": 0.5}}, \"type\": \"bar\"}], \"barpolar\": [{\"marker\": {\"line\": {\"color\": \"#E5ECF6\", \"width\": 0.5}}, \"type\": \"barpolar\"}], \"carpet\": [{\"aaxis\": {\"endlinecolor\": \"#2a3f5f\", \"gridcolor\": \"white\", \"linecolor\": \"white\", \"minorgridcolor\": \"white\", \"startlinecolor\": \"#2a3f5f\"}, \"baxis\": {\"endlinecolor\": \"#2a3f5f\", \"gridcolor\": \"white\", \"linecolor\": \"white\", \"minorgridcolor\": \"white\", \"startlinecolor\": \"#2a3f5f\"}, \"type\": \"carpet\"}], \"choropleth\": [{\"colorbar\": {\"outlinewidth\": 0, \"ticks\": \"\"}, \"type\": \"choropleth\"}], \"contour\": [{\"colorbar\": {\"outlinewidth\": 0, \"ticks\": \"\"}, \"colorscale\": [[0.0, \"#0d0887\"], [0.1111111111111111, \"#46039f\"], [0.2222222222222222, \"#7201a8\"], [0.3333333333333333, \"#9c179e\"], [0.4444444444444444, \"#bd3786\"], [0.5555555555555556, \"#d8576b\"], [0.6666666666666666, \"#ed7953\"], [0.7777777777777778, \"#fb9f3a\"], [0.8888888888888888, \"#fdca26\"], [1.0, \"#f0f921\"]], \"type\": \"contour\"}], \"contourcarpet\": [{\"colorbar\": {\"outlinewidth\": 0, \"ticks\": \"\"}, \"type\": \"contourcarpet\"}], \"heatmap\": [{\"colorbar\": {\"outlinewidth\": 0, \"ticks\": \"\"}, \"colorscale\": [[0.0, \"#0d0887\"], [0.1111111111111111, \"#46039f\"], [0.2222222222222222, \"#7201a8\"], [0.3333333333333333, \"#9c179e\"], [0.4444444444444444, \"#bd3786\"], [0.5555555555555556, \"#d8576b\"], [0.6666666666666666, \"#ed7953\"], [0.7777777777777778, \"#fb9f3a\"], [0.8888888888888888, \"#fdca26\"], [1.0, \"#f0f921\"]], \"type\": \"heatmap\"}], \"heatmapgl\": [{\"colorbar\": {\"outlinewidth\": 0, \"ticks\": \"\"}, \"colorscale\": [[0.0, \"#0d0887\"], [0.1111111111111111, \"#46039f\"], [0.2222222222222222, \"#7201a8\"], [0.3333333333333333, \"#9c179e\"], [0.4444444444444444, \"#bd3786\"], [0.5555555555555556, \"#d8576b\"], [0.6666666666666666, \"#ed7953\"], [0.7777777777777778, \"#fb9f3a\"], [0.8888888888888888, \"#fdca26\"], [1.0, \"#f0f921\"]], \"type\": \"heatmapgl\"}], \"histogram\": [{\"marker\": {\"colorbar\": {\"outlinewidth\": 0, \"ticks\": \"\"}}, \"type\": \"histogram\"}], \"histogram2d\": [{\"colorbar\": {\"outlinewidth\": 0, \"ticks\": \"\"}, \"colorscale\": [[0.0, \"#0d0887\"], [0.1111111111111111, \"#46039f\"], [0.2222222222222222, \"#7201a8\"], [0.3333333333333333, \"#9c179e\"], [0.4444444444444444, \"#bd3786\"], [0.5555555555555556, \"#d8576b\"], [0.6666666666666666, \"#ed7953\"], [0.7777777777777778, \"#fb9f3a\"], [0.8888888888888888, \"#fdca26\"], [1.0, \"#f0f921\"]], \"type\": \"histogram2d\"}], \"histogram2dcontour\": [{\"colorbar\": {\"outlinewidth\": 0, \"ticks\": \"\"}, \"colorscale\": [[0.0, \"#0d0887\"], [0.1111111111111111, \"#46039f\"], [0.2222222222222222, \"#7201a8\"], [0.3333333333333333, \"#9c179e\"], [0.4444444444444444, \"#bd3786\"], [0.5555555555555556, \"#d8576b\"], [0.6666666666666666, \"#ed7953\"], [0.7777777777777778, \"#fb9f3a\"], [0.8888888888888888, \"#fdca26\"], [1.0, \"#f0f921\"]], \"type\": \"histogram2dcontour\"}], \"mesh3d\": [{\"colorbar\": {\"outlinewidth\": 0, \"ticks\": \"\"}, \"type\": \"mesh3d\"}], \"parcoords\": [{\"line\": {\"colorbar\": {\"outlinewidth\": 0, \"ticks\": \"\"}}, \"type\": \"parcoords\"}], \"pie\": [{\"automargin\": true, \"type\": \"pie\"}], \"scatter\": [{\"marker\": {\"colorbar\": {\"outlinewidth\": 0, \"ticks\": \"\"}}, \"type\": \"scatter\"}], \"scatter3d\": [{\"line\": {\"colorbar\": {\"outlinewidth\": 0, \"ticks\": \"\"}}, \"marker\": {\"colorbar\": {\"outlinewidth\": 0, \"ticks\": \"\"}}, \"type\": \"scatter3d\"}], \"scattercarpet\": [{\"marker\": {\"colorbar\": {\"outlinewidth\": 0, \"ticks\": \"\"}}, \"type\": \"scattercarpet\"}], \"scattergeo\": [{\"marker\": {\"colorbar\": {\"outlinewidth\": 0, \"ticks\": \"\"}}, \"type\": \"scattergeo\"}], \"scattergl\": [{\"marker\": {\"colorbar\": {\"outlinewidth\": 0, \"ticks\": \"\"}}, \"type\": \"scattergl\"}], \"scattermapbox\": [{\"marker\": {\"colorbar\": {\"outlinewidth\": 0, \"ticks\": \"\"}}, \"type\": \"scattermapbox\"}], \"scatterpolar\": [{\"marker\": {\"colorbar\": {\"outlinewidth\": 0, \"ticks\": \"\"}}, \"type\": \"scatterpolar\"}], \"scatterpolargl\": [{\"marker\": {\"colorbar\": {\"outlinewidth\": 0, \"ticks\": \"\"}}, \"type\": \"scatterpolargl\"}], \"scatterternary\": [{\"marker\": {\"colorbar\": {\"outlinewidth\": 0, \"ticks\": \"\"}}, \"type\": \"scatterternary\"}], \"surface\": [{\"colorbar\": {\"outlinewidth\": 0, \"ticks\": \"\"}, \"colorscale\": [[0.0, \"#0d0887\"], [0.1111111111111111, \"#46039f\"], [0.2222222222222222, \"#7201a8\"], [0.3333333333333333, \"#9c179e\"], [0.4444444444444444, \"#bd3786\"], [0.5555555555555556, \"#d8576b\"], [0.6666666666666666, \"#ed7953\"], [0.7777777777777778, \"#fb9f3a\"], [0.8888888888888888, \"#fdca26\"], [1.0, \"#f0f921\"]], \"type\": \"surface\"}], \"table\": [{\"cells\": {\"fill\": {\"color\": \"#EBF0F8\"}, \"line\": {\"color\": \"white\"}}, \"header\": {\"fill\": {\"color\": \"#C8D4E3\"}, \"line\": {\"color\": \"white\"}}, \"type\": \"table\"}]}, \"layout\": {\"annotationdefaults\": {\"arrowcolor\": \"#2a3f5f\", \"arrowhead\": 0, \"arrowwidth\": 1}, \"coloraxis\": {\"colorbar\": {\"outlinewidth\": 0, \"ticks\": \"\"}}, \"colorscale\": {\"diverging\": [[0, \"#8e0152\"], [0.1, \"#c51b7d\"], [0.2, \"#de77ae\"], [0.3, \"#f1b6da\"], [0.4, \"#fde0ef\"], [0.5, \"#f7f7f7\"], [0.6, \"#e6f5d0\"], [0.7, \"#b8e186\"], [0.8, \"#7fbc41\"], [0.9, \"#4d9221\"], [1, \"#276419\"]], \"sequential\": [[0.0, \"#0d0887\"], [0.1111111111111111, \"#46039f\"], [0.2222222222222222, \"#7201a8\"], [0.3333333333333333, \"#9c179e\"], [0.4444444444444444, \"#bd3786\"], [0.5555555555555556, \"#d8576b\"], [0.6666666666666666, \"#ed7953\"], [0.7777777777777778, \"#fb9f3a\"], [0.8888888888888888, \"#fdca26\"], [1.0, \"#f0f921\"]], \"sequentialminus\": [[0.0, \"#0d0887\"], [0.1111111111111111, \"#46039f\"], [0.2222222222222222, \"#7201a8\"], [0.3333333333333333, \"#9c179e\"], [0.4444444444444444, \"#bd3786\"], [0.5555555555555556, \"#d8576b\"], [0.6666666666666666, \"#ed7953\"], [0.7777777777777778, \"#fb9f3a\"], [0.8888888888888888, \"#fdca26\"], [1.0, \"#f0f921\"]]}, \"colorway\": [\"#636efa\", \"#EF553B\", \"#00cc96\", \"#ab63fa\", \"#FFA15A\", \"#19d3f3\", \"#FF6692\", \"#B6E880\", \"#FF97FF\", \"#FECB52\"], \"font\": {\"color\": \"#2a3f5f\"}, \"geo\": {\"bgcolor\": \"white\", \"lakecolor\": \"white\", \"landcolor\": \"#E5ECF6\", \"showlakes\": true, \"showland\": true, \"subunitcolor\": \"white\"}, \"hoverlabel\": {\"align\": \"left\"}, \"hovermode\": \"closest\", \"mapbox\": {\"style\": \"light\"}, \"paper_bgcolor\": \"white\", \"plot_bgcolor\": \"#E5ECF6\", \"polar\": {\"angularaxis\": {\"gridcolor\": \"white\", \"linecolor\": \"white\", \"ticks\": \"\"}, \"bgcolor\": \"#E5ECF6\", \"radialaxis\": {\"gridcolor\": \"white\", \"linecolor\": \"white\", \"ticks\": \"\"}}, \"scene\": {\"xaxis\": {\"backgroundcolor\": \"#E5ECF6\", \"gridcolor\": \"white\", \"gridwidth\": 2, \"linecolor\": \"white\", \"showbackground\": true, \"ticks\": \"\", \"zerolinecolor\": \"white\"}, \"yaxis\": {\"backgroundcolor\": \"#E5ECF6\", \"gridcolor\": \"white\", \"gridwidth\": 2, \"linecolor\": \"white\", \"showbackground\": true, \"ticks\": \"\", \"zerolinecolor\": \"white\"}, \"zaxis\": {\"backgroundcolor\": \"#E5ECF6\", \"gridcolor\": \"white\", \"gridwidth\": 2, \"linecolor\": \"white\", \"showbackground\": true, \"ticks\": \"\", \"zerolinecolor\": \"white\"}}, \"shapedefaults\": {\"line\": {\"color\": \"#2a3f5f\"}}, \"ternary\": {\"aaxis\": {\"gridcolor\": \"white\", \"linecolor\": \"white\", \"ticks\": \"\"}, \"baxis\": {\"gridcolor\": \"white\", \"linecolor\": \"white\", \"ticks\": \"\"}, \"bgcolor\": \"#E5ECF6\", \"caxis\": {\"gridcolor\": \"white\", \"linecolor\": \"white\", \"ticks\": \"\"}}, \"title\": {\"x\": 0.05}, \"xaxis\": {\"automargin\": true, \"gridcolor\": \"white\", \"linecolor\": \"white\", \"ticks\": \"\", \"title\": {\"standoff\": 15}, \"zerolinecolor\": \"white\", \"zerolinewidth\": 2}, \"yaxis\": {\"automargin\": true, \"gridcolor\": \"white\", \"linecolor\": \"white\", \"ticks\": \"\", \"title\": {\"standoff\": 15}, \"zerolinecolor\": \"white\", \"zerolinewidth\": 2}}}, \"title\": {\"text\": \"\\u0414\\u0438\\u043d\\u0430\\u043c\\u0438\\u043a\\u0430 \\u0441\\u043e\\u043e\\u0442\\u043d\\u043e\\u0448\\u0435\\u043d\\u0438\\u044f \\u0447\\u0438\\u0441\\u043b\\u0430 \\u043a\\u043b\\u0438\\u0435\\u043d\\u0442\\u043e\\u0432 \\u0438 \\u043f\\u0440\\u043e\\u0434\\u0430\\u0432\\u0446\\u043e\\u0432\"}, \"xaxis\": {\"anchor\": \"y\", \"domain\": [0.0, 1.0], \"title\": {\"text\": \"\"}}, \"yaxis\": {\"anchor\": \"x\", \"domain\": [0.0, 1.0], \"title\": {\"text\": \"\\u0427\\u0438\\u0441\\u043b\\u043e \\u043f\\u043e\\u043a\\u0443\\u043f\\u0430\\u0442\\u0435\\u043b\\u0435\\u0439 \\u043d\\u0430 \\u043e\\u0434\\u043d\\u043e\\u0433\\u043e \\u043f\\u0440\\u043e\\u0434\\u0430\\u0432\\u0446\\u0430\"}}},\n",
              "                        {\"responsive\": true}\n",
              "                    ).then(function(){\n",
              "                            \n",
              "var gd = document.getElementById('f321a604-6f8c-454f-a53d-83f10f8c6853');\n",
              "var x = new MutationObserver(function (mutations, observer) {{\n",
              "        var display = window.getComputedStyle(gd).display;\n",
              "        if (!display || display === 'none') {{\n",
              "            console.log([gd, 'removed!']);\n",
              "            Plotly.purge(gd);\n",
              "            observer.disconnect();\n",
              "        }}\n",
              "}});\n",
              "\n",
              "// Listen for the removal of the full notebook cells\n",
              "var notebookContainer = gd.closest('#notebook-container');\n",
              "if (notebookContainer) {{\n",
              "    x.observe(notebookContainer, {childList: true});\n",
              "}}\n",
              "\n",
              "// Listen for the clearing of the current output cell\n",
              "var outputEl = gd.closest('.output');\n",
              "if (outputEl) {{\n",
              "    x.observe(outputEl, {childList: true});\n",
              "}}\n",
              "\n",
              "                        })\n",
              "                };\n",
              "                \n",
              "            </script>\n",
              "        </div>\n",
              "</body>\n",
              "</html>"
            ]
          },
          "metadata": {}
        }
      ]
    },
    {
      "cell_type": "code",
      "metadata": {
        "colab": {
          "base_uri": "https://localhost:8080/"
        },
        "id": "weO80yuU5-gk",
        "outputId": "172791db-fbb4-47fa-e063-22901310420e"
      },
      "source": [
        "cl_sel_ratio_mo.cl_sel_ratio.mean()"
      ],
      "execution_count": null,
      "outputs": [
        {
          "output_type": "execute_result",
          "data": {
            "text/plain": [
              "5.042399952449101"
            ]
          },
          "metadata": {},
          "execution_count": 22
        }
      ]
    },
    {
      "cell_type": "code",
      "metadata": {
        "id": "9o5JX5_E5-gl"
      },
      "source": [
        "#Cоотношение числа клиентов и продавцов по штатам\n",
        "cl_sel_ratio_st = get_df('select r.customer_state as state,\\\n",
        "                                 uniqExact(l.customer_id)/uniqExact(l.seller_id) as cl_sel_ratio\\\n",
        "                        from vk.orders as l\\\n",
        "                        join vk.customers as r\\\n",
        "                        on l.customer_id = r.customer_id\\\n",
        "                        group by state\\\n",
        "                        order by cl_sel_ratio desc')"
      ],
      "execution_count": null,
      "outputs": []
    },
    {
      "cell_type": "code",
      "metadata": {
        "colab": {
          "base_uri": "https://localhost:8080/",
          "height": 542
        },
        "id": "i_5mTCyj5-gl",
        "outputId": "87bf2ede-89ef-496b-af55-532414217c51"
      },
      "source": [
        "#График: Cоотношение числа клиентов и продавцов по штатам\n",
        "fig = px.bar(cl_sel_ratio_st, x='state', y='cl_sel_ratio',\\\n",
        "             labels={\n",
        "                     \"state\": \"Штат\",\n",
        "                     \"cl_sel_ratio\": \"Число покупателей на одного продавца\"},\\\n",
        "             title = 'Cоотношение числа клиентов и продавцов по штатам')\n",
        "fig.show()"
      ],
      "execution_count": null,
      "outputs": [
        {
          "output_type": "display_data",
          "data": {
            "text/html": [
              "<html>\n",
              "<head><meta charset=\"utf-8\" /></head>\n",
              "<body>\n",
              "    <div>\n",
              "            <script src=\"https://cdnjs.cloudflare.com/ajax/libs/mathjax/2.7.5/MathJax.js?config=TeX-AMS-MML_SVG\"></script><script type=\"text/javascript\">if (window.MathJax) {MathJax.Hub.Config({SVG: {font: \"STIX-Web\"}});}</script>\n",
              "                <script type=\"text/javascript\">window.PlotlyConfig = {MathJaxConfig: 'local'};</script>\n",
              "        <script src=\"https://cdn.plot.ly/plotly-latest.min.js\"></script>    \n",
              "            <div id=\"683117c1-73b6-4f38-b0b7-50ed495dc963\" class=\"plotly-graph-div\" style=\"height:525px; width:100%;\"></div>\n",
              "            <script type=\"text/javascript\">\n",
              "                \n",
              "                    window.PLOTLYENV=window.PLOTLYENV || {};\n",
              "                    \n",
              "                if (document.getElementById(\"683117c1-73b6-4f38-b0b7-50ed495dc963\")) {\n",
              "                    Plotly.newPlot(\n",
              "                        '683117c1-73b6-4f38-b0b7-50ed495dc963',\n",
              "                        [{\"alignmentgroup\": \"True\", \"hoverlabel\": {\"namelength\": 0}, \"hovertemplate\": \"\\u0428\\u0442\\u0430\\u0442=%{x}<br>\\u0427\\u0438\\u0441\\u043b\\u043e \\u043f\\u043e\\u043a\\u0443\\u043f\\u0430\\u0442\\u0435\\u043b\\u0435\\u0439 \\u043d\\u0430 \\u043e\\u0434\\u043d\\u043e\\u0433\\u043e \\u043f\\u0440\\u043e\\u0434\\u0430\\u0432\\u0446\\u0430=%{y}\", \"legendgroup\": \"\", \"marker\": {\"color\": \"#636efa\"}, \"name\": \"\", \"offsetgroup\": \"\", \"orientation\": \"v\", \"showlegend\": false, \"textposition\": \"auto\", \"type\": \"bar\", \"x\": [\"SP\", \"RJ\", \"MG\", \"RS\", \"PR\", \"SC\", \"BA\", \"GO\", \"ES\", \"DF\", \"PE\", \"CE\", \"PA\", \"MA\", \"MT\", \"RN\", \"PB\", \"MS\", \"PI\", \"SE\", \"AL\", \"TO\", \"RO\", \"AM\", \"RR\", \"AC\", \"AP\"], \"xaxis\": \"x\", \"y\": [15.684974499803847, 7.023986293546545, 6.713341346153847, 4.263200649878148, 3.9317073170731702, 3.377285851780558, 3.3660806618407446, 2.6758620689655173, 2.6490514905149047, 2.625, 2.517295597484277, 2.4696969696969697, 2.0301075268817206, 1.9045092838196287, 1.8774193548387097, 1.7127272727272729, 1.7076411960132891, 1.7047146401985112, 1.6195286195286196, 1.5868544600938967, 1.5833333333333333, 1.3668341708542713, 1.2912087912087913, 1.2033898305084745, 1.1538461538461535, 1.0845070422535212, 1.0634920634920637], \"yaxis\": \"y\"}],\n",
              "                        {\"barmode\": \"relative\", \"legend\": {\"tracegroupgap\": 0}, \"template\": {\"data\": {\"bar\": [{\"error_x\": {\"color\": \"#2a3f5f\"}, \"error_y\": {\"color\": \"#2a3f5f\"}, \"marker\": {\"line\": {\"color\": \"#E5ECF6\", \"width\": 0.5}}, \"type\": \"bar\"}], \"barpolar\": [{\"marker\": {\"line\": {\"color\": \"#E5ECF6\", \"width\": 0.5}}, \"type\": \"barpolar\"}], \"carpet\": [{\"aaxis\": {\"endlinecolor\": \"#2a3f5f\", \"gridcolor\": \"white\", \"linecolor\": \"white\", \"minorgridcolor\": \"white\", \"startlinecolor\": \"#2a3f5f\"}, \"baxis\": {\"endlinecolor\": \"#2a3f5f\", \"gridcolor\": \"white\", \"linecolor\": \"white\", \"minorgridcolor\": \"white\", \"startlinecolor\": \"#2a3f5f\"}, \"type\": \"carpet\"}], \"choropleth\": [{\"colorbar\": {\"outlinewidth\": 0, \"ticks\": \"\"}, \"type\": \"choropleth\"}], \"contour\": [{\"colorbar\": {\"outlinewidth\": 0, \"ticks\": \"\"}, \"colorscale\": [[0.0, \"#0d0887\"], [0.1111111111111111, \"#46039f\"], [0.2222222222222222, \"#7201a8\"], [0.3333333333333333, \"#9c179e\"], [0.4444444444444444, \"#bd3786\"], [0.5555555555555556, \"#d8576b\"], [0.6666666666666666, \"#ed7953\"], [0.7777777777777778, \"#fb9f3a\"], [0.8888888888888888, \"#fdca26\"], [1.0, \"#f0f921\"]], \"type\": \"contour\"}], \"contourcarpet\": [{\"colorbar\": {\"outlinewidth\": 0, \"ticks\": \"\"}, \"type\": \"contourcarpet\"}], \"heatmap\": [{\"colorbar\": {\"outlinewidth\": 0, \"ticks\": \"\"}, \"colorscale\": [[0.0, \"#0d0887\"], [0.1111111111111111, \"#46039f\"], [0.2222222222222222, \"#7201a8\"], [0.3333333333333333, \"#9c179e\"], [0.4444444444444444, \"#bd3786\"], [0.5555555555555556, \"#d8576b\"], [0.6666666666666666, \"#ed7953\"], [0.7777777777777778, \"#fb9f3a\"], [0.8888888888888888, \"#fdca26\"], [1.0, \"#f0f921\"]], \"type\": \"heatmap\"}], \"heatmapgl\": [{\"colorbar\": {\"outlinewidth\": 0, \"ticks\": \"\"}, \"colorscale\": [[0.0, \"#0d0887\"], [0.1111111111111111, \"#46039f\"], [0.2222222222222222, \"#7201a8\"], [0.3333333333333333, \"#9c179e\"], [0.4444444444444444, \"#bd3786\"], [0.5555555555555556, \"#d8576b\"], [0.6666666666666666, \"#ed7953\"], [0.7777777777777778, \"#fb9f3a\"], [0.8888888888888888, \"#fdca26\"], [1.0, \"#f0f921\"]], \"type\": \"heatmapgl\"}], \"histogram\": [{\"marker\": {\"colorbar\": {\"outlinewidth\": 0, \"ticks\": \"\"}}, \"type\": \"histogram\"}], \"histogram2d\": [{\"colorbar\": {\"outlinewidth\": 0, \"ticks\": \"\"}, \"colorscale\": [[0.0, \"#0d0887\"], [0.1111111111111111, \"#46039f\"], [0.2222222222222222, \"#7201a8\"], [0.3333333333333333, \"#9c179e\"], [0.4444444444444444, \"#bd3786\"], [0.5555555555555556, \"#d8576b\"], [0.6666666666666666, \"#ed7953\"], [0.7777777777777778, \"#fb9f3a\"], [0.8888888888888888, \"#fdca26\"], [1.0, \"#f0f921\"]], \"type\": \"histogram2d\"}], \"histogram2dcontour\": [{\"colorbar\": {\"outlinewidth\": 0, \"ticks\": \"\"}, \"colorscale\": [[0.0, \"#0d0887\"], [0.1111111111111111, \"#46039f\"], [0.2222222222222222, \"#7201a8\"], [0.3333333333333333, \"#9c179e\"], [0.4444444444444444, \"#bd3786\"], [0.5555555555555556, \"#d8576b\"], [0.6666666666666666, \"#ed7953\"], [0.7777777777777778, \"#fb9f3a\"], [0.8888888888888888, \"#fdca26\"], [1.0, \"#f0f921\"]], \"type\": \"histogram2dcontour\"}], \"mesh3d\": [{\"colorbar\": {\"outlinewidth\": 0, \"ticks\": \"\"}, \"type\": \"mesh3d\"}], \"parcoords\": [{\"line\": {\"colorbar\": {\"outlinewidth\": 0, \"ticks\": \"\"}}, \"type\": \"parcoords\"}], \"pie\": [{\"automargin\": true, \"type\": \"pie\"}], \"scatter\": [{\"marker\": {\"colorbar\": {\"outlinewidth\": 0, \"ticks\": \"\"}}, \"type\": \"scatter\"}], \"scatter3d\": [{\"line\": {\"colorbar\": {\"outlinewidth\": 0, \"ticks\": \"\"}}, \"marker\": {\"colorbar\": {\"outlinewidth\": 0, \"ticks\": \"\"}}, \"type\": \"scatter3d\"}], \"scattercarpet\": [{\"marker\": {\"colorbar\": {\"outlinewidth\": 0, \"ticks\": \"\"}}, \"type\": \"scattercarpet\"}], \"scattergeo\": [{\"marker\": {\"colorbar\": {\"outlinewidth\": 0, \"ticks\": \"\"}}, \"type\": \"scattergeo\"}], \"scattergl\": [{\"marker\": {\"colorbar\": {\"outlinewidth\": 0, \"ticks\": \"\"}}, \"type\": \"scattergl\"}], \"scattermapbox\": [{\"marker\": {\"colorbar\": {\"outlinewidth\": 0, \"ticks\": \"\"}}, \"type\": \"scattermapbox\"}], \"scatterpolar\": [{\"marker\": {\"colorbar\": {\"outlinewidth\": 0, \"ticks\": \"\"}}, \"type\": \"scatterpolar\"}], \"scatterpolargl\": [{\"marker\": {\"colorbar\": {\"outlinewidth\": 0, \"ticks\": \"\"}}, \"type\": \"scatterpolargl\"}], \"scatterternary\": [{\"marker\": {\"colorbar\": {\"outlinewidth\": 0, \"ticks\": \"\"}}, \"type\": \"scatterternary\"}], \"surface\": [{\"colorbar\": {\"outlinewidth\": 0, \"ticks\": \"\"}, \"colorscale\": [[0.0, \"#0d0887\"], [0.1111111111111111, \"#46039f\"], [0.2222222222222222, \"#7201a8\"], [0.3333333333333333, \"#9c179e\"], [0.4444444444444444, \"#bd3786\"], [0.5555555555555556, \"#d8576b\"], [0.6666666666666666, \"#ed7953\"], [0.7777777777777778, \"#fb9f3a\"], [0.8888888888888888, \"#fdca26\"], [1.0, \"#f0f921\"]], \"type\": \"surface\"}], \"table\": [{\"cells\": {\"fill\": {\"color\": \"#EBF0F8\"}, \"line\": {\"color\": \"white\"}}, \"header\": {\"fill\": {\"color\": \"#C8D4E3\"}, \"line\": {\"color\": \"white\"}}, \"type\": \"table\"}]}, \"layout\": {\"annotationdefaults\": {\"arrowcolor\": \"#2a3f5f\", \"arrowhead\": 0, \"arrowwidth\": 1}, \"coloraxis\": {\"colorbar\": {\"outlinewidth\": 0, \"ticks\": \"\"}}, \"colorscale\": {\"diverging\": [[0, \"#8e0152\"], [0.1, \"#c51b7d\"], [0.2, \"#de77ae\"], [0.3, \"#f1b6da\"], [0.4, \"#fde0ef\"], [0.5, \"#f7f7f7\"], [0.6, \"#e6f5d0\"], [0.7, \"#b8e186\"], [0.8, \"#7fbc41\"], [0.9, \"#4d9221\"], [1, \"#276419\"]], \"sequential\": [[0.0, \"#0d0887\"], [0.1111111111111111, \"#46039f\"], [0.2222222222222222, \"#7201a8\"], [0.3333333333333333, \"#9c179e\"], [0.4444444444444444, \"#bd3786\"], [0.5555555555555556, \"#d8576b\"], [0.6666666666666666, \"#ed7953\"], [0.7777777777777778, \"#fb9f3a\"], [0.8888888888888888, \"#fdca26\"], [1.0, \"#f0f921\"]], \"sequentialminus\": [[0.0, \"#0d0887\"], [0.1111111111111111, \"#46039f\"], [0.2222222222222222, \"#7201a8\"], [0.3333333333333333, \"#9c179e\"], [0.4444444444444444, \"#bd3786\"], [0.5555555555555556, \"#d8576b\"], [0.6666666666666666, \"#ed7953\"], [0.7777777777777778, \"#fb9f3a\"], [0.8888888888888888, \"#fdca26\"], [1.0, \"#f0f921\"]]}, \"colorway\": [\"#636efa\", \"#EF553B\", \"#00cc96\", \"#ab63fa\", \"#FFA15A\", \"#19d3f3\", \"#FF6692\", \"#B6E880\", \"#FF97FF\", \"#FECB52\"], \"font\": {\"color\": \"#2a3f5f\"}, \"geo\": {\"bgcolor\": \"white\", \"lakecolor\": \"white\", \"landcolor\": \"#E5ECF6\", \"showlakes\": true, \"showland\": true, \"subunitcolor\": \"white\"}, \"hoverlabel\": {\"align\": \"left\"}, \"hovermode\": \"closest\", \"mapbox\": {\"style\": \"light\"}, \"paper_bgcolor\": \"white\", \"plot_bgcolor\": \"#E5ECF6\", \"polar\": {\"angularaxis\": {\"gridcolor\": \"white\", \"linecolor\": \"white\", \"ticks\": \"\"}, \"bgcolor\": \"#E5ECF6\", \"radialaxis\": {\"gridcolor\": \"white\", \"linecolor\": \"white\", \"ticks\": \"\"}}, \"scene\": {\"xaxis\": {\"backgroundcolor\": \"#E5ECF6\", \"gridcolor\": \"white\", \"gridwidth\": 2, \"linecolor\": \"white\", \"showbackground\": true, \"ticks\": \"\", \"zerolinecolor\": \"white\"}, \"yaxis\": {\"backgroundcolor\": \"#E5ECF6\", \"gridcolor\": \"white\", \"gridwidth\": 2, \"linecolor\": \"white\", \"showbackground\": true, \"ticks\": \"\", \"zerolinecolor\": \"white\"}, \"zaxis\": {\"backgroundcolor\": \"#E5ECF6\", \"gridcolor\": \"white\", \"gridwidth\": 2, \"linecolor\": \"white\", \"showbackground\": true, \"ticks\": \"\", \"zerolinecolor\": \"white\"}}, \"shapedefaults\": {\"line\": {\"color\": \"#2a3f5f\"}}, \"ternary\": {\"aaxis\": {\"gridcolor\": \"white\", \"linecolor\": \"white\", \"ticks\": \"\"}, \"baxis\": {\"gridcolor\": \"white\", \"linecolor\": \"white\", \"ticks\": \"\"}, \"bgcolor\": \"#E5ECF6\", \"caxis\": {\"gridcolor\": \"white\", \"linecolor\": \"white\", \"ticks\": \"\"}}, \"title\": {\"x\": 0.05}, \"xaxis\": {\"automargin\": true, \"gridcolor\": \"white\", \"linecolor\": \"white\", \"ticks\": \"\", \"title\": {\"standoff\": 15}, \"zerolinecolor\": \"white\", \"zerolinewidth\": 2}, \"yaxis\": {\"automargin\": true, \"gridcolor\": \"white\", \"linecolor\": \"white\", \"ticks\": \"\", \"title\": {\"standoff\": 15}, \"zerolinecolor\": \"white\", \"zerolinewidth\": 2}}}, \"title\": {\"text\": \"C\\u043e\\u043e\\u0442\\u043d\\u043e\\u0448\\u0435\\u043d\\u0438\\u0435 \\u0447\\u0438\\u0441\\u043b\\u0430 \\u043a\\u043b\\u0438\\u0435\\u043d\\u0442\\u043e\\u0432 \\u0438 \\u043f\\u0440\\u043e\\u0434\\u0430\\u0432\\u0446\\u043e\\u0432 \\u043f\\u043e \\u0448\\u0442\\u0430\\u0442\\u0430\\u043c\"}, \"xaxis\": {\"anchor\": \"y\", \"domain\": [0.0, 1.0], \"title\": {\"text\": \"\\u0428\\u0442\\u0430\\u0442\"}}, \"yaxis\": {\"anchor\": \"x\", \"domain\": [0.0, 1.0], \"title\": {\"text\": \"\\u0427\\u0438\\u0441\\u043b\\u043e \\u043f\\u043e\\u043a\\u0443\\u043f\\u0430\\u0442\\u0435\\u043b\\u0435\\u0439 \\u043d\\u0430 \\u043e\\u0434\\u043d\\u043e\\u0433\\u043e \\u043f\\u0440\\u043e\\u0434\\u0430\\u0432\\u0446\\u0430\"}}},\n",
              "                        {\"responsive\": true}\n",
              "                    ).then(function(){\n",
              "                            \n",
              "var gd = document.getElementById('683117c1-73b6-4f38-b0b7-50ed495dc963');\n",
              "var x = new MutationObserver(function (mutations, observer) {{\n",
              "        var display = window.getComputedStyle(gd).display;\n",
              "        if (!display || display === 'none') {{\n",
              "            console.log([gd, 'removed!']);\n",
              "            Plotly.purge(gd);\n",
              "            observer.disconnect();\n",
              "        }}\n",
              "}});\n",
              "\n",
              "// Listen for the removal of the full notebook cells\n",
              "var notebookContainer = gd.closest('#notebook-container');\n",
              "if (notebookContainer) {{\n",
              "    x.observe(notebookContainer, {childList: true});\n",
              "}}\n",
              "\n",
              "// Listen for the clearing of the current output cell\n",
              "var outputEl = gd.closest('.output');\n",
              "if (outputEl) {{\n",
              "    x.observe(outputEl, {childList: true});\n",
              "}}\n",
              "\n",
              "                        })\n",
              "                };\n",
              "                \n",
              "            </script>\n",
              "        </div>\n",
              "</body>\n",
              "</html>"
            ]
          },
          "metadata": {}
        }
      ]
    },
    {
      "cell_type": "markdown",
      "metadata": {
        "id": "r3pJWLjB5-gm"
      },
      "source": [
        "По графику выше видно, что продавцы-лидеры по охвату аудитории находятся в штатах с наибольшим числом клиентов и заказов."
      ]
    },
    {
      "cell_type": "markdown",
      "metadata": {
        "id": "kQpW8Kpq5-gn"
      },
      "source": [
        "## Число заказов"
      ]
    },
    {
      "cell_type": "code",
      "metadata": {
        "id": "zKRTJcCY5-gn"
      },
      "source": [
        "#Число заказов по месяцам\n",
        "Num_ord_month = get_df('select toStartOfMonth(order_purchase_timestamp) as so_month,\\\n",
        "                               uniqExact(order_id) as num_ord\\\n",
        "                        from vk.orders\\\n",
        "                        group by so_month\\\n",
        "                        order by so_month asc')"
      ],
      "execution_count": null,
      "outputs": []
    },
    {
      "cell_type": "code",
      "metadata": {
        "colab": {
          "base_uri": "https://localhost:8080/",
          "height": 542
        },
        "id": "Qei6nLUo5-go",
        "outputId": "5d004ed2-27a5-438f-aedf-6436405d713e"
      },
      "source": [
        "#График: Число заказов по месяцам\n",
        "fig = px.line(Num_ord_month[Num_ord_month.so_month < '2018-09-01'], x='so_month', y='num_ord',\\\n",
        "              labels={\n",
        "                     \"so_month\": \"\",\n",
        "                     \"num_ord\": \"Число заказов\"},\\\n",
        "             title = 'Число заказов по месяцам')\n",
        "fig.show()"
      ],
      "execution_count": null,
      "outputs": [
        {
          "output_type": "display_data",
          "data": {
            "text/html": [
              "<html>\n",
              "<head><meta charset=\"utf-8\" /></head>\n",
              "<body>\n",
              "    <div>\n",
              "            <script src=\"https://cdnjs.cloudflare.com/ajax/libs/mathjax/2.7.5/MathJax.js?config=TeX-AMS-MML_SVG\"></script><script type=\"text/javascript\">if (window.MathJax) {MathJax.Hub.Config({SVG: {font: \"STIX-Web\"}});}</script>\n",
              "                <script type=\"text/javascript\">window.PlotlyConfig = {MathJaxConfig: 'local'};</script>\n",
              "        <script src=\"https://cdn.plot.ly/plotly-latest.min.js\"></script>    \n",
              "            <div id=\"a2d19094-f15c-4fa2-b8ec-898e9da58ba3\" class=\"plotly-graph-div\" style=\"height:525px; width:100%;\"></div>\n",
              "            <script type=\"text/javascript\">\n",
              "                \n",
              "                    window.PLOTLYENV=window.PLOTLYENV || {};\n",
              "                    \n",
              "                if (document.getElementById(\"a2d19094-f15c-4fa2-b8ec-898e9da58ba3\")) {\n",
              "                    Plotly.newPlot(\n",
              "                        'a2d19094-f15c-4fa2-b8ec-898e9da58ba3',\n",
              "                        [{\"hoverlabel\": {\"namelength\": 0}, \"hovertemplate\": \"=%{x}<br>\\u0427\\u0438\\u0441\\u043b\\u043e \\u0437\\u0430\\u043a\\u0430\\u0437\\u043e\\u0432=%{y}\", \"legendgroup\": \"\", \"line\": {\"color\": \"#636efa\", \"dash\": \"solid\"}, \"mode\": \"lines\", \"name\": \"\", \"showlegend\": false, \"type\": \"scatter\", \"x\": [\"2016-09-01\", \"2016-10-01\", \"2016-12-01\", \"2017-01-01\", \"2017-02-01\", \"2017-03-01\", \"2017-04-01\", \"2017-05-01\", \"2017-06-01\", \"2017-07-01\", \"2017-08-01\", \"2017-09-01\", \"2017-10-01\", \"2017-11-01\", \"2017-12-01\", \"2018-01-01\", \"2018-02-01\", \"2018-03-01\", \"2018-04-01\", \"2018-05-01\", \"2018-06-01\", \"2018-07-01\", \"2018-08-01\"], \"xaxis\": \"x\", \"y\": [3, 308, 1, 789, 1733, 2641, 2391, 3660, 3217, 3969, 4293, 4243, 4568, 7451, 5624, 7220, 6694, 7188, 6934, 6853, 6160, 6273, 6452], \"yaxis\": \"y\"}],\n",
              "                        {\"legend\": {\"tracegroupgap\": 0}, \"template\": {\"data\": {\"bar\": [{\"error_x\": {\"color\": \"#2a3f5f\"}, \"error_y\": {\"color\": \"#2a3f5f\"}, \"marker\": {\"line\": {\"color\": \"#E5ECF6\", \"width\": 0.5}}, \"type\": \"bar\"}], \"barpolar\": [{\"marker\": {\"line\": {\"color\": \"#E5ECF6\", \"width\": 0.5}}, \"type\": \"barpolar\"}], \"carpet\": [{\"aaxis\": {\"endlinecolor\": \"#2a3f5f\", \"gridcolor\": \"white\", \"linecolor\": \"white\", \"minorgridcolor\": \"white\", \"startlinecolor\": \"#2a3f5f\"}, \"baxis\": {\"endlinecolor\": \"#2a3f5f\", \"gridcolor\": \"white\", \"linecolor\": \"white\", \"minorgridcolor\": \"white\", \"startlinecolor\": \"#2a3f5f\"}, \"type\": \"carpet\"}], \"choropleth\": [{\"colorbar\": {\"outlinewidth\": 0, \"ticks\": \"\"}, \"type\": \"choropleth\"}], \"contour\": [{\"colorbar\": {\"outlinewidth\": 0, \"ticks\": \"\"}, \"colorscale\": [[0.0, \"#0d0887\"], [0.1111111111111111, \"#46039f\"], [0.2222222222222222, \"#7201a8\"], [0.3333333333333333, \"#9c179e\"], [0.4444444444444444, \"#bd3786\"], [0.5555555555555556, \"#d8576b\"], [0.6666666666666666, \"#ed7953\"], [0.7777777777777778, \"#fb9f3a\"], [0.8888888888888888, \"#fdca26\"], [1.0, \"#f0f921\"]], \"type\": \"contour\"}], \"contourcarpet\": [{\"colorbar\": {\"outlinewidth\": 0, \"ticks\": \"\"}, \"type\": \"contourcarpet\"}], \"heatmap\": [{\"colorbar\": {\"outlinewidth\": 0, \"ticks\": \"\"}, \"colorscale\": [[0.0, \"#0d0887\"], [0.1111111111111111, \"#46039f\"], [0.2222222222222222, \"#7201a8\"], [0.3333333333333333, \"#9c179e\"], [0.4444444444444444, \"#bd3786\"], [0.5555555555555556, \"#d8576b\"], [0.6666666666666666, \"#ed7953\"], [0.7777777777777778, \"#fb9f3a\"], [0.8888888888888888, \"#fdca26\"], [1.0, \"#f0f921\"]], \"type\": \"heatmap\"}], \"heatmapgl\": [{\"colorbar\": {\"outlinewidth\": 0, \"ticks\": \"\"}, \"colorscale\": [[0.0, \"#0d0887\"], [0.1111111111111111, \"#46039f\"], [0.2222222222222222, \"#7201a8\"], [0.3333333333333333, \"#9c179e\"], [0.4444444444444444, \"#bd3786\"], [0.5555555555555556, \"#d8576b\"], [0.6666666666666666, \"#ed7953\"], [0.7777777777777778, \"#fb9f3a\"], [0.8888888888888888, \"#fdca26\"], [1.0, \"#f0f921\"]], \"type\": \"heatmapgl\"}], \"histogram\": [{\"marker\": {\"colorbar\": {\"outlinewidth\": 0, \"ticks\": \"\"}}, \"type\": \"histogram\"}], \"histogram2d\": [{\"colorbar\": {\"outlinewidth\": 0, \"ticks\": \"\"}, \"colorscale\": [[0.0, \"#0d0887\"], [0.1111111111111111, \"#46039f\"], [0.2222222222222222, \"#7201a8\"], [0.3333333333333333, \"#9c179e\"], [0.4444444444444444, \"#bd3786\"], [0.5555555555555556, \"#d8576b\"], [0.6666666666666666, \"#ed7953\"], [0.7777777777777778, \"#fb9f3a\"], [0.8888888888888888, \"#fdca26\"], [1.0, \"#f0f921\"]], \"type\": \"histogram2d\"}], \"histogram2dcontour\": [{\"colorbar\": {\"outlinewidth\": 0, \"ticks\": \"\"}, \"colorscale\": [[0.0, \"#0d0887\"], [0.1111111111111111, \"#46039f\"], [0.2222222222222222, \"#7201a8\"], [0.3333333333333333, \"#9c179e\"], [0.4444444444444444, \"#bd3786\"], [0.5555555555555556, \"#d8576b\"], [0.6666666666666666, \"#ed7953\"], [0.7777777777777778, \"#fb9f3a\"], [0.8888888888888888, \"#fdca26\"], [1.0, \"#f0f921\"]], \"type\": \"histogram2dcontour\"}], \"mesh3d\": [{\"colorbar\": {\"outlinewidth\": 0, \"ticks\": \"\"}, \"type\": \"mesh3d\"}], \"parcoords\": [{\"line\": {\"colorbar\": {\"outlinewidth\": 0, \"ticks\": \"\"}}, \"type\": \"parcoords\"}], \"pie\": [{\"automargin\": true, \"type\": \"pie\"}], \"scatter\": [{\"marker\": {\"colorbar\": {\"outlinewidth\": 0, \"ticks\": \"\"}}, \"type\": \"scatter\"}], \"scatter3d\": [{\"line\": {\"colorbar\": {\"outlinewidth\": 0, \"ticks\": \"\"}}, \"marker\": {\"colorbar\": {\"outlinewidth\": 0, \"ticks\": \"\"}}, \"type\": \"scatter3d\"}], \"scattercarpet\": [{\"marker\": {\"colorbar\": {\"outlinewidth\": 0, \"ticks\": \"\"}}, \"type\": \"scattercarpet\"}], \"scattergeo\": [{\"marker\": {\"colorbar\": {\"outlinewidth\": 0, \"ticks\": \"\"}}, \"type\": \"scattergeo\"}], \"scattergl\": [{\"marker\": {\"colorbar\": {\"outlinewidth\": 0, \"ticks\": \"\"}}, \"type\": \"scattergl\"}], \"scattermapbox\": [{\"marker\": {\"colorbar\": {\"outlinewidth\": 0, \"ticks\": \"\"}}, \"type\": \"scattermapbox\"}], \"scatterpolar\": [{\"marker\": {\"colorbar\": {\"outlinewidth\": 0, \"ticks\": \"\"}}, \"type\": \"scatterpolar\"}], \"scatterpolargl\": [{\"marker\": {\"colorbar\": {\"outlinewidth\": 0, \"ticks\": \"\"}}, \"type\": \"scatterpolargl\"}], \"scatterternary\": [{\"marker\": {\"colorbar\": {\"outlinewidth\": 0, \"ticks\": \"\"}}, \"type\": \"scatterternary\"}], \"surface\": [{\"colorbar\": {\"outlinewidth\": 0, \"ticks\": \"\"}, \"colorscale\": [[0.0, \"#0d0887\"], [0.1111111111111111, \"#46039f\"], [0.2222222222222222, \"#7201a8\"], [0.3333333333333333, \"#9c179e\"], [0.4444444444444444, \"#bd3786\"], [0.5555555555555556, \"#d8576b\"], [0.6666666666666666, \"#ed7953\"], [0.7777777777777778, \"#fb9f3a\"], [0.8888888888888888, \"#fdca26\"], [1.0, \"#f0f921\"]], \"type\": \"surface\"}], \"table\": [{\"cells\": {\"fill\": {\"color\": \"#EBF0F8\"}, \"line\": {\"color\": \"white\"}}, \"header\": {\"fill\": {\"color\": \"#C8D4E3\"}, \"line\": {\"color\": \"white\"}}, \"type\": \"table\"}]}, \"layout\": {\"annotationdefaults\": {\"arrowcolor\": \"#2a3f5f\", \"arrowhead\": 0, \"arrowwidth\": 1}, \"coloraxis\": {\"colorbar\": {\"outlinewidth\": 0, \"ticks\": \"\"}}, \"colorscale\": {\"diverging\": [[0, \"#8e0152\"], [0.1, \"#c51b7d\"], [0.2, \"#de77ae\"], [0.3, \"#f1b6da\"], [0.4, \"#fde0ef\"], [0.5, \"#f7f7f7\"], [0.6, \"#e6f5d0\"], [0.7, \"#b8e186\"], [0.8, \"#7fbc41\"], [0.9, \"#4d9221\"], [1, \"#276419\"]], \"sequential\": [[0.0, \"#0d0887\"], [0.1111111111111111, \"#46039f\"], [0.2222222222222222, \"#7201a8\"], [0.3333333333333333, \"#9c179e\"], [0.4444444444444444, \"#bd3786\"], [0.5555555555555556, \"#d8576b\"], [0.6666666666666666, \"#ed7953\"], [0.7777777777777778, \"#fb9f3a\"], [0.8888888888888888, \"#fdca26\"], [1.0, \"#f0f921\"]], \"sequentialminus\": [[0.0, \"#0d0887\"], [0.1111111111111111, \"#46039f\"], [0.2222222222222222, \"#7201a8\"], [0.3333333333333333, \"#9c179e\"], [0.4444444444444444, \"#bd3786\"], [0.5555555555555556, \"#d8576b\"], [0.6666666666666666, \"#ed7953\"], [0.7777777777777778, \"#fb9f3a\"], [0.8888888888888888, \"#fdca26\"], [1.0, \"#f0f921\"]]}, \"colorway\": [\"#636efa\", \"#EF553B\", \"#00cc96\", \"#ab63fa\", \"#FFA15A\", \"#19d3f3\", \"#FF6692\", \"#B6E880\", \"#FF97FF\", \"#FECB52\"], \"font\": {\"color\": \"#2a3f5f\"}, \"geo\": {\"bgcolor\": \"white\", \"lakecolor\": \"white\", \"landcolor\": \"#E5ECF6\", \"showlakes\": true, \"showland\": true, \"subunitcolor\": \"white\"}, \"hoverlabel\": {\"align\": \"left\"}, \"hovermode\": \"closest\", \"mapbox\": {\"style\": \"light\"}, \"paper_bgcolor\": \"white\", \"plot_bgcolor\": \"#E5ECF6\", \"polar\": {\"angularaxis\": {\"gridcolor\": \"white\", \"linecolor\": \"white\", \"ticks\": \"\"}, \"bgcolor\": \"#E5ECF6\", \"radialaxis\": {\"gridcolor\": \"white\", \"linecolor\": \"white\", \"ticks\": \"\"}}, \"scene\": {\"xaxis\": {\"backgroundcolor\": \"#E5ECF6\", \"gridcolor\": \"white\", \"gridwidth\": 2, \"linecolor\": \"white\", \"showbackground\": true, \"ticks\": \"\", \"zerolinecolor\": \"white\"}, \"yaxis\": {\"backgroundcolor\": \"#E5ECF6\", \"gridcolor\": \"white\", \"gridwidth\": 2, \"linecolor\": \"white\", \"showbackground\": true, \"ticks\": \"\", \"zerolinecolor\": \"white\"}, \"zaxis\": {\"backgroundcolor\": \"#E5ECF6\", \"gridcolor\": \"white\", \"gridwidth\": 2, \"linecolor\": \"white\", \"showbackground\": true, \"ticks\": \"\", \"zerolinecolor\": \"white\"}}, \"shapedefaults\": {\"line\": {\"color\": \"#2a3f5f\"}}, \"ternary\": {\"aaxis\": {\"gridcolor\": \"white\", \"linecolor\": \"white\", \"ticks\": \"\"}, \"baxis\": {\"gridcolor\": \"white\", \"linecolor\": \"white\", \"ticks\": \"\"}, \"bgcolor\": \"#E5ECF6\", \"caxis\": {\"gridcolor\": \"white\", \"linecolor\": \"white\", \"ticks\": \"\"}}, \"title\": {\"x\": 0.05}, \"xaxis\": {\"automargin\": true, \"gridcolor\": \"white\", \"linecolor\": \"white\", \"ticks\": \"\", \"title\": {\"standoff\": 15}, \"zerolinecolor\": \"white\", \"zerolinewidth\": 2}, \"yaxis\": {\"automargin\": true, \"gridcolor\": \"white\", \"linecolor\": \"white\", \"ticks\": \"\", \"title\": {\"standoff\": 15}, \"zerolinecolor\": \"white\", \"zerolinewidth\": 2}}}, \"title\": {\"text\": \"\\u0427\\u0438\\u0441\\u043b\\u043e \\u0437\\u0430\\u043a\\u0430\\u0437\\u043e\\u0432 \\u043f\\u043e \\u043c\\u0435\\u0441\\u044f\\u0446\\u0430\\u043c\"}, \"xaxis\": {\"anchor\": \"y\", \"domain\": [0.0, 1.0], \"title\": {\"text\": \"\"}}, \"yaxis\": {\"anchor\": \"x\", \"domain\": [0.0, 1.0], \"title\": {\"text\": \"\\u0427\\u0438\\u0441\\u043b\\u043e \\u0437\\u0430\\u043a\\u0430\\u0437\\u043e\\u0432\"}}},\n",
              "                        {\"responsive\": true}\n",
              "                    ).then(function(){\n",
              "                            \n",
              "var gd = document.getElementById('a2d19094-f15c-4fa2-b8ec-898e9da58ba3');\n",
              "var x = new MutationObserver(function (mutations, observer) {{\n",
              "        var display = window.getComputedStyle(gd).display;\n",
              "        if (!display || display === 'none') {{\n",
              "            console.log([gd, 'removed!']);\n",
              "            Plotly.purge(gd);\n",
              "            observer.disconnect();\n",
              "        }}\n",
              "}});\n",
              "\n",
              "// Listen for the removal of the full notebook cells\n",
              "var notebookContainer = gd.closest('#notebook-container');\n",
              "if (notebookContainer) {{\n",
              "    x.observe(notebookContainer, {childList: true});\n",
              "}}\n",
              "\n",
              "// Listen for the clearing of the current output cell\n",
              "var outputEl = gd.closest('.output');\n",
              "if (outputEl) {{\n",
              "    x.observe(outputEl, {childList: true});\n",
              "}}\n",
              "\n",
              "                        })\n",
              "                };\n",
              "                \n",
              "            </script>\n",
              "        </div>\n",
              "</body>\n",
              "</html>"
            ]
          },
          "metadata": {}
        }
      ]
    },
    {
      "cell_type": "code",
      "metadata": {
        "id": "VsqBc1bA5-gp"
      },
      "source": [
        "#Число заказов по штатам\n",
        "Num_ord_state = get_df('select uniqExact(l.order_id) as num_ord,\\\n",
        "                               r.customer_state as state\\\n",
        "                        from vk.orders as l\\\n",
        "                        join vk.customers as r\\\n",
        "                        on l.customer_id = r.customer_id\\\n",
        "                        group by state\\\n",
        "                        order by num_ord desc')"
      ],
      "execution_count": null,
      "outputs": []
    },
    {
      "cell_type": "code",
      "metadata": {
        "colab": {
          "base_uri": "https://localhost:8080/",
          "height": 542
        },
        "id": "6Y73c_NH5-gp",
        "outputId": "98f284f7-e8d2-4950-d872-df6963841cf2"
      },
      "source": [
        "#График: Число заказов по штатам\n",
        "fig = px.bar(Num_ord_state, x='state', y='num_ord',\n",
        "             labels={\n",
        "                     \"state\": \"Штат\",\n",
        "                     \"num_ord\": \"Число заказов\"},\\\n",
        "             title = 'Число заказов по штатам')\n",
        "fig.show()"
      ],
      "execution_count": null,
      "outputs": [
        {
          "output_type": "display_data",
          "data": {
            "text/html": [
              "<html>\n",
              "<head><meta charset=\"utf-8\" /></head>\n",
              "<body>\n",
              "    <div>\n",
              "            <script src=\"https://cdnjs.cloudflare.com/ajax/libs/mathjax/2.7.5/MathJax.js?config=TeX-AMS-MML_SVG\"></script><script type=\"text/javascript\">if (window.MathJax) {MathJax.Hub.Config({SVG: {font: \"STIX-Web\"}});}</script>\n",
              "                <script type=\"text/javascript\">window.PlotlyConfig = {MathJaxConfig: 'local'};</script>\n",
              "        <script src=\"https://cdn.plot.ly/plotly-latest.min.js\"></script>    \n",
              "            <div id=\"f7b19cc9-8c97-488e-8a1f-d930ca55e960\" class=\"plotly-graph-div\" style=\"height:525px; width:100%;\"></div>\n",
              "            <script type=\"text/javascript\">\n",
              "                \n",
              "                    window.PLOTLYENV=window.PLOTLYENV || {};\n",
              "                    \n",
              "                if (document.getElementById(\"f7b19cc9-8c97-488e-8a1f-d930ca55e960\")) {\n",
              "                    Plotly.newPlot(\n",
              "                        'f7b19cc9-8c97-488e-8a1f-d930ca55e960',\n",
              "                        [{\"alignmentgroup\": \"True\", \"hoverlabel\": {\"namelength\": 0}, \"hovertemplate\": \"\\u0428\\u0442\\u0430\\u0442=%{x}<br>\\u0427\\u0438\\u0441\\u043b\\u043e \\u0437\\u0430\\u043a\\u0430\\u0437\\u043e\\u0432=%{y}\", \"legendgroup\": \"\", \"marker\": {\"color\": \"#636efa\"}, \"name\": \"\", \"offsetgroup\": \"\", \"orientation\": \"v\", \"showlegend\": false, \"textposition\": \"auto\", \"type\": \"bar\", \"x\": [\"SP\", \"RJ\", \"MG\", \"RS\", \"PR\", \"SC\", \"BA\", \"DF\", \"ES\", \"GO\", \"PE\", \"CE\", \"PA\", \"MT\", \"MA\", \"MS\", \"PB\", \"PI\", \"RN\", \"AL\", \"SE\", \"TO\", \"RO\", \"AM\", \"AC\", \"AP\", \"RR\"], \"xaxis\": \"x\", \"y\": [41394, 12761, 11539, 5432, 4994, 3610, 3356, 2120, 2024, 2006, 1647, 1326, 970, 905, 741, 708, 530, 493, 482, 411, 348, 279, 248, 147, 81, 68, 46], \"yaxis\": \"y\"}],\n",
              "                        {\"barmode\": \"relative\", \"legend\": {\"tracegroupgap\": 0}, \"template\": {\"data\": {\"bar\": [{\"error_x\": {\"color\": \"#2a3f5f\"}, \"error_y\": {\"color\": \"#2a3f5f\"}, \"marker\": {\"line\": {\"color\": \"#E5ECF6\", \"width\": 0.5}}, \"type\": \"bar\"}], \"barpolar\": [{\"marker\": {\"line\": {\"color\": \"#E5ECF6\", \"width\": 0.5}}, \"type\": \"barpolar\"}], \"carpet\": [{\"aaxis\": {\"endlinecolor\": \"#2a3f5f\", \"gridcolor\": \"white\", \"linecolor\": \"white\", \"minorgridcolor\": \"white\", \"startlinecolor\": \"#2a3f5f\"}, \"baxis\": {\"endlinecolor\": \"#2a3f5f\", \"gridcolor\": \"white\", \"linecolor\": \"white\", \"minorgridcolor\": \"white\", \"startlinecolor\": \"#2a3f5f\"}, \"type\": \"carpet\"}], \"choropleth\": [{\"colorbar\": {\"outlinewidth\": 0, \"ticks\": \"\"}, \"type\": \"choropleth\"}], \"contour\": [{\"colorbar\": {\"outlinewidth\": 0, \"ticks\": \"\"}, \"colorscale\": [[0.0, \"#0d0887\"], [0.1111111111111111, \"#46039f\"], [0.2222222222222222, \"#7201a8\"], [0.3333333333333333, \"#9c179e\"], [0.4444444444444444, \"#bd3786\"], [0.5555555555555556, \"#d8576b\"], [0.6666666666666666, \"#ed7953\"], [0.7777777777777778, \"#fb9f3a\"], [0.8888888888888888, \"#fdca26\"], [1.0, \"#f0f921\"]], \"type\": \"contour\"}], \"contourcarpet\": [{\"colorbar\": {\"outlinewidth\": 0, \"ticks\": \"\"}, \"type\": \"contourcarpet\"}], \"heatmap\": [{\"colorbar\": {\"outlinewidth\": 0, \"ticks\": \"\"}, \"colorscale\": [[0.0, \"#0d0887\"], [0.1111111111111111, \"#46039f\"], [0.2222222222222222, \"#7201a8\"], [0.3333333333333333, \"#9c179e\"], [0.4444444444444444, \"#bd3786\"], [0.5555555555555556, \"#d8576b\"], [0.6666666666666666, \"#ed7953\"], [0.7777777777777778, \"#fb9f3a\"], [0.8888888888888888, \"#fdca26\"], [1.0, \"#f0f921\"]], \"type\": \"heatmap\"}], \"heatmapgl\": [{\"colorbar\": {\"outlinewidth\": 0, \"ticks\": \"\"}, \"colorscale\": [[0.0, \"#0d0887\"], [0.1111111111111111, \"#46039f\"], [0.2222222222222222, \"#7201a8\"], [0.3333333333333333, \"#9c179e\"], [0.4444444444444444, \"#bd3786\"], [0.5555555555555556, \"#d8576b\"], [0.6666666666666666, \"#ed7953\"], [0.7777777777777778, \"#fb9f3a\"], [0.8888888888888888, \"#fdca26\"], [1.0, \"#f0f921\"]], \"type\": \"heatmapgl\"}], \"histogram\": [{\"marker\": {\"colorbar\": {\"outlinewidth\": 0, \"ticks\": \"\"}}, \"type\": \"histogram\"}], \"histogram2d\": [{\"colorbar\": {\"outlinewidth\": 0, \"ticks\": \"\"}, \"colorscale\": [[0.0, \"#0d0887\"], [0.1111111111111111, \"#46039f\"], [0.2222222222222222, \"#7201a8\"], [0.3333333333333333, \"#9c179e\"], [0.4444444444444444, \"#bd3786\"], [0.5555555555555556, \"#d8576b\"], [0.6666666666666666, \"#ed7953\"], [0.7777777777777778, \"#fb9f3a\"], [0.8888888888888888, \"#fdca26\"], [1.0, \"#f0f921\"]], \"type\": \"histogram2d\"}], \"histogram2dcontour\": [{\"colorbar\": {\"outlinewidth\": 0, \"ticks\": \"\"}, \"colorscale\": [[0.0, \"#0d0887\"], [0.1111111111111111, \"#46039f\"], [0.2222222222222222, \"#7201a8\"], [0.3333333333333333, \"#9c179e\"], [0.4444444444444444, \"#bd3786\"], [0.5555555555555556, \"#d8576b\"], [0.6666666666666666, \"#ed7953\"], [0.7777777777777778, \"#fb9f3a\"], [0.8888888888888888, \"#fdca26\"], [1.0, \"#f0f921\"]], \"type\": \"histogram2dcontour\"}], \"mesh3d\": [{\"colorbar\": {\"outlinewidth\": 0, \"ticks\": \"\"}, \"type\": \"mesh3d\"}], \"parcoords\": [{\"line\": {\"colorbar\": {\"outlinewidth\": 0, \"ticks\": \"\"}}, \"type\": \"parcoords\"}], \"pie\": [{\"automargin\": true, \"type\": \"pie\"}], \"scatter\": [{\"marker\": {\"colorbar\": {\"outlinewidth\": 0, \"ticks\": \"\"}}, \"type\": \"scatter\"}], \"scatter3d\": [{\"line\": {\"colorbar\": {\"outlinewidth\": 0, \"ticks\": \"\"}}, \"marker\": {\"colorbar\": {\"outlinewidth\": 0, \"ticks\": \"\"}}, \"type\": \"scatter3d\"}], \"scattercarpet\": [{\"marker\": {\"colorbar\": {\"outlinewidth\": 0, \"ticks\": \"\"}}, \"type\": \"scattercarpet\"}], \"scattergeo\": [{\"marker\": {\"colorbar\": {\"outlinewidth\": 0, \"ticks\": \"\"}}, \"type\": \"scattergeo\"}], \"scattergl\": [{\"marker\": {\"colorbar\": {\"outlinewidth\": 0, \"ticks\": \"\"}}, \"type\": \"scattergl\"}], \"scattermapbox\": [{\"marker\": {\"colorbar\": {\"outlinewidth\": 0, \"ticks\": \"\"}}, \"type\": \"scattermapbox\"}], \"scatterpolar\": [{\"marker\": {\"colorbar\": {\"outlinewidth\": 0, \"ticks\": \"\"}}, \"type\": \"scatterpolar\"}], \"scatterpolargl\": [{\"marker\": {\"colorbar\": {\"outlinewidth\": 0, \"ticks\": \"\"}}, \"type\": \"scatterpolargl\"}], \"scatterternary\": [{\"marker\": {\"colorbar\": {\"outlinewidth\": 0, \"ticks\": \"\"}}, \"type\": \"scatterternary\"}], \"surface\": [{\"colorbar\": {\"outlinewidth\": 0, \"ticks\": \"\"}, \"colorscale\": [[0.0, \"#0d0887\"], [0.1111111111111111, \"#46039f\"], [0.2222222222222222, \"#7201a8\"], [0.3333333333333333, \"#9c179e\"], [0.4444444444444444, \"#bd3786\"], [0.5555555555555556, \"#d8576b\"], [0.6666666666666666, \"#ed7953\"], [0.7777777777777778, \"#fb9f3a\"], [0.8888888888888888, \"#fdca26\"], [1.0, \"#f0f921\"]], \"type\": \"surface\"}], \"table\": [{\"cells\": {\"fill\": {\"color\": \"#EBF0F8\"}, \"line\": {\"color\": \"white\"}}, \"header\": {\"fill\": {\"color\": \"#C8D4E3\"}, \"line\": {\"color\": \"white\"}}, \"type\": \"table\"}]}, \"layout\": {\"annotationdefaults\": {\"arrowcolor\": \"#2a3f5f\", \"arrowhead\": 0, \"arrowwidth\": 1}, \"coloraxis\": {\"colorbar\": {\"outlinewidth\": 0, \"ticks\": \"\"}}, \"colorscale\": {\"diverging\": [[0, \"#8e0152\"], [0.1, \"#c51b7d\"], [0.2, \"#de77ae\"], [0.3, \"#f1b6da\"], [0.4, \"#fde0ef\"], [0.5, \"#f7f7f7\"], [0.6, \"#e6f5d0\"], [0.7, \"#b8e186\"], [0.8, \"#7fbc41\"], [0.9, \"#4d9221\"], [1, \"#276419\"]], \"sequential\": [[0.0, \"#0d0887\"], [0.1111111111111111, \"#46039f\"], [0.2222222222222222, \"#7201a8\"], [0.3333333333333333, \"#9c179e\"], [0.4444444444444444, \"#bd3786\"], [0.5555555555555556, \"#d8576b\"], [0.6666666666666666, \"#ed7953\"], [0.7777777777777778, \"#fb9f3a\"], [0.8888888888888888, \"#fdca26\"], [1.0, \"#f0f921\"]], \"sequentialminus\": [[0.0, \"#0d0887\"], [0.1111111111111111, \"#46039f\"], [0.2222222222222222, \"#7201a8\"], [0.3333333333333333, \"#9c179e\"], [0.4444444444444444, \"#bd3786\"], [0.5555555555555556, \"#d8576b\"], [0.6666666666666666, \"#ed7953\"], [0.7777777777777778, \"#fb9f3a\"], [0.8888888888888888, \"#fdca26\"], [1.0, \"#f0f921\"]]}, \"colorway\": [\"#636efa\", \"#EF553B\", \"#00cc96\", \"#ab63fa\", \"#FFA15A\", \"#19d3f3\", \"#FF6692\", \"#B6E880\", \"#FF97FF\", \"#FECB52\"], \"font\": {\"color\": \"#2a3f5f\"}, \"geo\": {\"bgcolor\": \"white\", \"lakecolor\": \"white\", \"landcolor\": \"#E5ECF6\", \"showlakes\": true, \"showland\": true, \"subunitcolor\": \"white\"}, \"hoverlabel\": {\"align\": \"left\"}, \"hovermode\": \"closest\", \"mapbox\": {\"style\": \"light\"}, \"paper_bgcolor\": \"white\", \"plot_bgcolor\": \"#E5ECF6\", \"polar\": {\"angularaxis\": {\"gridcolor\": \"white\", \"linecolor\": \"white\", \"ticks\": \"\"}, \"bgcolor\": \"#E5ECF6\", \"radialaxis\": {\"gridcolor\": \"white\", \"linecolor\": \"white\", \"ticks\": \"\"}}, \"scene\": {\"xaxis\": {\"backgroundcolor\": \"#E5ECF6\", \"gridcolor\": \"white\", \"gridwidth\": 2, \"linecolor\": \"white\", \"showbackground\": true, \"ticks\": \"\", \"zerolinecolor\": \"white\"}, \"yaxis\": {\"backgroundcolor\": \"#E5ECF6\", \"gridcolor\": \"white\", \"gridwidth\": 2, \"linecolor\": \"white\", \"showbackground\": true, \"ticks\": \"\", \"zerolinecolor\": \"white\"}, \"zaxis\": {\"backgroundcolor\": \"#E5ECF6\", \"gridcolor\": \"white\", \"gridwidth\": 2, \"linecolor\": \"white\", \"showbackground\": true, \"ticks\": \"\", \"zerolinecolor\": \"white\"}}, \"shapedefaults\": {\"line\": {\"color\": \"#2a3f5f\"}}, \"ternary\": {\"aaxis\": {\"gridcolor\": \"white\", \"linecolor\": \"white\", \"ticks\": \"\"}, \"baxis\": {\"gridcolor\": \"white\", \"linecolor\": \"white\", \"ticks\": \"\"}, \"bgcolor\": \"#E5ECF6\", \"caxis\": {\"gridcolor\": \"white\", \"linecolor\": \"white\", \"ticks\": \"\"}}, \"title\": {\"x\": 0.05}, \"xaxis\": {\"automargin\": true, \"gridcolor\": \"white\", \"linecolor\": \"white\", \"ticks\": \"\", \"title\": {\"standoff\": 15}, \"zerolinecolor\": \"white\", \"zerolinewidth\": 2}, \"yaxis\": {\"automargin\": true, \"gridcolor\": \"white\", \"linecolor\": \"white\", \"ticks\": \"\", \"title\": {\"standoff\": 15}, \"zerolinecolor\": \"white\", \"zerolinewidth\": 2}}}, \"title\": {\"text\": \"\\u0427\\u0438\\u0441\\u043b\\u043e \\u0437\\u0430\\u043a\\u0430\\u0437\\u043e\\u0432 \\u043f\\u043e \\u0448\\u0442\\u0430\\u0442\\u0430\\u043c\"}, \"xaxis\": {\"anchor\": \"y\", \"domain\": [0.0, 1.0], \"title\": {\"text\": \"\\u0428\\u0442\\u0430\\u0442\"}}, \"yaxis\": {\"anchor\": \"x\", \"domain\": [0.0, 1.0], \"title\": {\"text\": \"\\u0427\\u0438\\u0441\\u043b\\u043e \\u0437\\u0430\\u043a\\u0430\\u0437\\u043e\\u0432\"}}},\n",
              "                        {\"responsive\": true}\n",
              "                    ).then(function(){\n",
              "                            \n",
              "var gd = document.getElementById('f7b19cc9-8c97-488e-8a1f-d930ca55e960');\n",
              "var x = new MutationObserver(function (mutations, observer) {{\n",
              "        var display = window.getComputedStyle(gd).display;\n",
              "        if (!display || display === 'none') {{\n",
              "            console.log([gd, 'removed!']);\n",
              "            Plotly.purge(gd);\n",
              "            observer.disconnect();\n",
              "        }}\n",
              "}});\n",
              "\n",
              "// Listen for the removal of the full notebook cells\n",
              "var notebookContainer = gd.closest('#notebook-container');\n",
              "if (notebookContainer) {{\n",
              "    x.observe(notebookContainer, {childList: true});\n",
              "}}\n",
              "\n",
              "// Listen for the clearing of the current output cell\n",
              "var outputEl = gd.closest('.output');\n",
              "if (outputEl) {{\n",
              "    x.observe(outputEl, {childList: true});\n",
              "}}\n",
              "\n",
              "                        })\n",
              "                };\n",
              "                \n",
              "            </script>\n",
              "        </div>\n",
              "</body>\n",
              "</html>"
            ]
          },
          "metadata": {}
        }
      ]
    },
    {
      "cell_type": "markdown",
      "metadata": {
        "id": "ztZrEdAd5-gq"
      },
      "source": [
        "Как по числу заказов, так и по числу покупателей лидируют одни и те же штаты."
      ]
    },
    {
      "cell_type": "markdown",
      "metadata": {
        "id": "j5e1rS6_5-gq"
      },
      "source": [
        "## Средний размер заказа и выручка"
      ]
    },
    {
      "cell_type": "code",
      "metadata": {
        "id": "qILH3VzA5-gr"
      },
      "source": [
        "#Средний размер заказа по штатам\n",
        "AoV_by_state = \\\n",
        "get_df('select state,\\\n",
        "               avg(sum_order) as avg_order\\\n",
        "        from \\\n",
        "        (select order_id,\\\n",
        "               state,\\\n",
        "               sum(price*quant) as sum_order\\\n",
        "        from \\\n",
        "       (select l.order_id as order_id,\\\n",
        "                   l.product_id as product_id,\\\n",
        "                   r.customer_state as state,\\\n",
        "                   l.price as price,\\\n",
        "                   count(l.product_id) as quant\\\n",
        "            from vk.orders as l\\\n",
        "            join vk.customers as r\\\n",
        "            on l.customer_id = r.customer_id\\\n",
        "            group by l.order_id,\\\n",
        "                     l.product_id,\\\n",
        "                     r.customer_state,\\\n",
        "                     l.price\\\n",
        "            order by l.order_id, quant desc)\\\n",
        "         group by state, order_id)\\\n",
        "         group by state\\\n",
        "         order by avg_order desc')"
      ],
      "execution_count": null,
      "outputs": []
    },
    {
      "cell_type": "code",
      "metadata": {
        "colab": {
          "base_uri": "https://localhost:8080/",
          "height": 542
        },
        "id": "U8sp3kJt5-gs",
        "outputId": "d621b482-1b85-4901-d0db-18afcb23e859"
      },
      "source": [
        "#Средний размер заказа по штатам\n",
        "fig = px.bar(AoV_by_state, x='state', y='avg_order',\\\n",
        "             labels={\n",
        "                     \"state\": \"Штат\",\n",
        "                     \"avg_order\": \"Средний размер заказа\"},\\\n",
        "             title = 'Средний размер заказа по штатам')\n",
        "fig.show()"
      ],
      "execution_count": null,
      "outputs": [
        {
          "output_type": "display_data",
          "data": {
            "text/html": [
              "<html>\n",
              "<head><meta charset=\"utf-8\" /></head>\n",
              "<body>\n",
              "    <div>\n",
              "            <script src=\"https://cdnjs.cloudflare.com/ajax/libs/mathjax/2.7.5/MathJax.js?config=TeX-AMS-MML_SVG\"></script><script type=\"text/javascript\">if (window.MathJax) {MathJax.Hub.Config({SVG: {font: \"STIX-Web\"}});}</script>\n",
              "                <script type=\"text/javascript\">window.PlotlyConfig = {MathJaxConfig: 'local'};</script>\n",
              "        <script src=\"https://cdn.plot.ly/plotly-latest.min.js\"></script>    \n",
              "            <div id=\"c8a98dd4-1220-45e2-b556-7c0de75f1e14\" class=\"plotly-graph-div\" style=\"height:525px; width:100%;\"></div>\n",
              "            <script type=\"text/javascript\">\n",
              "                \n",
              "                    window.PLOTLYENV=window.PLOTLYENV || {};\n",
              "                    \n",
              "                if (document.getElementById(\"c8a98dd4-1220-45e2-b556-7c0de75f1e14\")) {\n",
              "                    Plotly.newPlot(\n",
              "                        'c8a98dd4-1220-45e2-b556-7c0de75f1e14',\n",
              "                        [{\"alignmentgroup\": \"True\", \"hoverlabel\": {\"namelength\": 0}, \"hovertemplate\": \"\\u0428\\u0442\\u0430\\u0442=%{x}<br>\\u0421\\u0440\\u0435\\u0434\\u043d\\u0438\\u0439 \\u0440\\u0430\\u0437\\u043c\\u0435\\u0440 \\u0437\\u0430\\u043a\\u0430\\u0437\\u0430=%{y}\", \"legendgroup\": \"\", \"marker\": {\"color\": \"#636efa\"}, \"name\": \"\", \"offsetgroup\": \"\", \"orientation\": \"v\", \"showlegend\": false, \"textposition\": \"auto\", \"type\": \"bar\", \"x\": [\"PB\", \"AP\", \"AC\", \"AL\", \"RO\", \"PA\", \"TO\", \"PI\", \"MT\", \"RN\", \"CE\", \"SE\", \"RR\", \"MS\", \"MA\", \"PE\", \"BA\", \"AM\", \"GO\", \"SC\", \"RJ\", \"DF\", \"RS\", \"MG\", \"PR\", \"ES\", \"SP\"], \"xaxis\": \"x\", \"y\": [217.017339629947, 198.1514701282277, 197.32037033269435, 195.41316278601502, 186.53040333717098, 184.48227836077976, 177.85569886921982, 176.29630805125828, 173.14202241581447, 172.27174315511937, 171.33914778602968, 170.24379294220057, 170.20500021395475, 164.74963252355826, 161.68167341672458, 159.3368791856401, 152.30035744193626, 152.0873471344409, 146.9984744888241, 143.9614488496014, 142.92027112069283, 142.26200469147483, 138.1413880447049, 137.34864462970586, 136.5696836968255, 135.83370056076956, 125.78078976787735], \"yaxis\": \"y\"}],\n",
              "                        {\"barmode\": \"relative\", \"legend\": {\"tracegroupgap\": 0}, \"template\": {\"data\": {\"bar\": [{\"error_x\": {\"color\": \"#2a3f5f\"}, \"error_y\": {\"color\": \"#2a3f5f\"}, \"marker\": {\"line\": {\"color\": \"#E5ECF6\", \"width\": 0.5}}, \"type\": \"bar\"}], \"barpolar\": [{\"marker\": {\"line\": {\"color\": \"#E5ECF6\", \"width\": 0.5}}, \"type\": \"barpolar\"}], \"carpet\": [{\"aaxis\": {\"endlinecolor\": \"#2a3f5f\", \"gridcolor\": \"white\", \"linecolor\": \"white\", \"minorgridcolor\": \"white\", \"startlinecolor\": \"#2a3f5f\"}, \"baxis\": {\"endlinecolor\": \"#2a3f5f\", \"gridcolor\": \"white\", \"linecolor\": \"white\", \"minorgridcolor\": \"white\", \"startlinecolor\": \"#2a3f5f\"}, \"type\": \"carpet\"}], \"choropleth\": [{\"colorbar\": {\"outlinewidth\": 0, \"ticks\": \"\"}, \"type\": \"choropleth\"}], \"contour\": [{\"colorbar\": {\"outlinewidth\": 0, \"ticks\": \"\"}, \"colorscale\": [[0.0, \"#0d0887\"], [0.1111111111111111, \"#46039f\"], [0.2222222222222222, \"#7201a8\"], [0.3333333333333333, \"#9c179e\"], [0.4444444444444444, \"#bd3786\"], [0.5555555555555556, \"#d8576b\"], [0.6666666666666666, \"#ed7953\"], [0.7777777777777778, \"#fb9f3a\"], [0.8888888888888888, \"#fdca26\"], [1.0, \"#f0f921\"]], \"type\": \"contour\"}], \"contourcarpet\": [{\"colorbar\": {\"outlinewidth\": 0, \"ticks\": \"\"}, \"type\": \"contourcarpet\"}], \"heatmap\": [{\"colorbar\": {\"outlinewidth\": 0, \"ticks\": \"\"}, \"colorscale\": [[0.0, \"#0d0887\"], [0.1111111111111111, \"#46039f\"], [0.2222222222222222, \"#7201a8\"], [0.3333333333333333, \"#9c179e\"], [0.4444444444444444, \"#bd3786\"], [0.5555555555555556, \"#d8576b\"], [0.6666666666666666, \"#ed7953\"], [0.7777777777777778, \"#fb9f3a\"], [0.8888888888888888, \"#fdca26\"], [1.0, \"#f0f921\"]], \"type\": \"heatmap\"}], \"heatmapgl\": [{\"colorbar\": {\"outlinewidth\": 0, \"ticks\": \"\"}, \"colorscale\": [[0.0, \"#0d0887\"], [0.1111111111111111, \"#46039f\"], [0.2222222222222222, \"#7201a8\"], [0.3333333333333333, \"#9c179e\"], [0.4444444444444444, \"#bd3786\"], [0.5555555555555556, \"#d8576b\"], [0.6666666666666666, \"#ed7953\"], [0.7777777777777778, \"#fb9f3a\"], [0.8888888888888888, \"#fdca26\"], [1.0, \"#f0f921\"]], \"type\": \"heatmapgl\"}], \"histogram\": [{\"marker\": {\"colorbar\": {\"outlinewidth\": 0, \"ticks\": \"\"}}, \"type\": \"histogram\"}], \"histogram2d\": [{\"colorbar\": {\"outlinewidth\": 0, \"ticks\": \"\"}, \"colorscale\": [[0.0, \"#0d0887\"], [0.1111111111111111, \"#46039f\"], [0.2222222222222222, \"#7201a8\"], [0.3333333333333333, \"#9c179e\"], [0.4444444444444444, \"#bd3786\"], [0.5555555555555556, \"#d8576b\"], [0.6666666666666666, \"#ed7953\"], [0.7777777777777778, \"#fb9f3a\"], [0.8888888888888888, \"#fdca26\"], [1.0, \"#f0f921\"]], \"type\": \"histogram2d\"}], \"histogram2dcontour\": [{\"colorbar\": {\"outlinewidth\": 0, \"ticks\": \"\"}, \"colorscale\": [[0.0, \"#0d0887\"], [0.1111111111111111, \"#46039f\"], [0.2222222222222222, \"#7201a8\"], [0.3333333333333333, \"#9c179e\"], [0.4444444444444444, \"#bd3786\"], [0.5555555555555556, \"#d8576b\"], [0.6666666666666666, \"#ed7953\"], [0.7777777777777778, \"#fb9f3a\"], [0.8888888888888888, \"#fdca26\"], [1.0, \"#f0f921\"]], \"type\": \"histogram2dcontour\"}], \"mesh3d\": [{\"colorbar\": {\"outlinewidth\": 0, \"ticks\": \"\"}, \"type\": \"mesh3d\"}], \"parcoords\": [{\"line\": {\"colorbar\": {\"outlinewidth\": 0, \"ticks\": \"\"}}, \"type\": \"parcoords\"}], \"pie\": [{\"automargin\": true, \"type\": \"pie\"}], \"scatter\": [{\"marker\": {\"colorbar\": {\"outlinewidth\": 0, \"ticks\": \"\"}}, \"type\": \"scatter\"}], \"scatter3d\": [{\"line\": {\"colorbar\": {\"outlinewidth\": 0, \"ticks\": \"\"}}, \"marker\": {\"colorbar\": {\"outlinewidth\": 0, \"ticks\": \"\"}}, \"type\": \"scatter3d\"}], \"scattercarpet\": [{\"marker\": {\"colorbar\": {\"outlinewidth\": 0, \"ticks\": \"\"}}, \"type\": \"scattercarpet\"}], \"scattergeo\": [{\"marker\": {\"colorbar\": {\"outlinewidth\": 0, \"ticks\": \"\"}}, \"type\": \"scattergeo\"}], \"scattergl\": [{\"marker\": {\"colorbar\": {\"outlinewidth\": 0, \"ticks\": \"\"}}, \"type\": \"scattergl\"}], \"scattermapbox\": [{\"marker\": {\"colorbar\": {\"outlinewidth\": 0, \"ticks\": \"\"}}, \"type\": \"scattermapbox\"}], \"scatterpolar\": [{\"marker\": {\"colorbar\": {\"outlinewidth\": 0, \"ticks\": \"\"}}, \"type\": \"scatterpolar\"}], \"scatterpolargl\": [{\"marker\": {\"colorbar\": {\"outlinewidth\": 0, \"ticks\": \"\"}}, \"type\": \"scatterpolargl\"}], \"scatterternary\": [{\"marker\": {\"colorbar\": {\"outlinewidth\": 0, \"ticks\": \"\"}}, \"type\": \"scatterternary\"}], \"surface\": [{\"colorbar\": {\"outlinewidth\": 0, \"ticks\": \"\"}, \"colorscale\": [[0.0, \"#0d0887\"], [0.1111111111111111, \"#46039f\"], [0.2222222222222222, \"#7201a8\"], [0.3333333333333333, \"#9c179e\"], [0.4444444444444444, \"#bd3786\"], [0.5555555555555556, \"#d8576b\"], [0.6666666666666666, \"#ed7953\"], [0.7777777777777778, \"#fb9f3a\"], [0.8888888888888888, \"#fdca26\"], [1.0, \"#f0f921\"]], \"type\": \"surface\"}], \"table\": [{\"cells\": {\"fill\": {\"color\": \"#EBF0F8\"}, \"line\": {\"color\": \"white\"}}, \"header\": {\"fill\": {\"color\": \"#C8D4E3\"}, \"line\": {\"color\": \"white\"}}, \"type\": \"table\"}]}, \"layout\": {\"annotationdefaults\": {\"arrowcolor\": \"#2a3f5f\", \"arrowhead\": 0, \"arrowwidth\": 1}, \"coloraxis\": {\"colorbar\": {\"outlinewidth\": 0, \"ticks\": \"\"}}, \"colorscale\": {\"diverging\": [[0, \"#8e0152\"], [0.1, \"#c51b7d\"], [0.2, \"#de77ae\"], [0.3, \"#f1b6da\"], [0.4, \"#fde0ef\"], [0.5, \"#f7f7f7\"], [0.6, \"#e6f5d0\"], [0.7, \"#b8e186\"], [0.8, \"#7fbc41\"], [0.9, \"#4d9221\"], [1, \"#276419\"]], \"sequential\": [[0.0, \"#0d0887\"], [0.1111111111111111, \"#46039f\"], [0.2222222222222222, \"#7201a8\"], [0.3333333333333333, \"#9c179e\"], [0.4444444444444444, \"#bd3786\"], [0.5555555555555556, \"#d8576b\"], [0.6666666666666666, \"#ed7953\"], [0.7777777777777778, \"#fb9f3a\"], [0.8888888888888888, \"#fdca26\"], [1.0, \"#f0f921\"]], \"sequentialminus\": [[0.0, \"#0d0887\"], [0.1111111111111111, \"#46039f\"], [0.2222222222222222, \"#7201a8\"], [0.3333333333333333, \"#9c179e\"], [0.4444444444444444, \"#bd3786\"], [0.5555555555555556, \"#d8576b\"], [0.6666666666666666, \"#ed7953\"], [0.7777777777777778, \"#fb9f3a\"], [0.8888888888888888, \"#fdca26\"], [1.0, \"#f0f921\"]]}, \"colorway\": [\"#636efa\", \"#EF553B\", \"#00cc96\", \"#ab63fa\", \"#FFA15A\", \"#19d3f3\", \"#FF6692\", \"#B6E880\", \"#FF97FF\", \"#FECB52\"], \"font\": {\"color\": \"#2a3f5f\"}, \"geo\": {\"bgcolor\": \"white\", \"lakecolor\": \"white\", \"landcolor\": \"#E5ECF6\", \"showlakes\": true, \"showland\": true, \"subunitcolor\": \"white\"}, \"hoverlabel\": {\"align\": \"left\"}, \"hovermode\": \"closest\", \"mapbox\": {\"style\": \"light\"}, \"paper_bgcolor\": \"white\", \"plot_bgcolor\": \"#E5ECF6\", \"polar\": {\"angularaxis\": {\"gridcolor\": \"white\", \"linecolor\": \"white\", \"ticks\": \"\"}, \"bgcolor\": \"#E5ECF6\", \"radialaxis\": {\"gridcolor\": \"white\", \"linecolor\": \"white\", \"ticks\": \"\"}}, \"scene\": {\"xaxis\": {\"backgroundcolor\": \"#E5ECF6\", \"gridcolor\": \"white\", \"gridwidth\": 2, \"linecolor\": \"white\", \"showbackground\": true, \"ticks\": \"\", \"zerolinecolor\": \"white\"}, \"yaxis\": {\"backgroundcolor\": \"#E5ECF6\", \"gridcolor\": \"white\", \"gridwidth\": 2, \"linecolor\": \"white\", \"showbackground\": true, \"ticks\": \"\", \"zerolinecolor\": \"white\"}, \"zaxis\": {\"backgroundcolor\": \"#E5ECF6\", \"gridcolor\": \"white\", \"gridwidth\": 2, \"linecolor\": \"white\", \"showbackground\": true, \"ticks\": \"\", \"zerolinecolor\": \"white\"}}, \"shapedefaults\": {\"line\": {\"color\": \"#2a3f5f\"}}, \"ternary\": {\"aaxis\": {\"gridcolor\": \"white\", \"linecolor\": \"white\", \"ticks\": \"\"}, \"baxis\": {\"gridcolor\": \"white\", \"linecolor\": \"white\", \"ticks\": \"\"}, \"bgcolor\": \"#E5ECF6\", \"caxis\": {\"gridcolor\": \"white\", \"linecolor\": \"white\", \"ticks\": \"\"}}, \"title\": {\"x\": 0.05}, \"xaxis\": {\"automargin\": true, \"gridcolor\": \"white\", \"linecolor\": \"white\", \"ticks\": \"\", \"title\": {\"standoff\": 15}, \"zerolinecolor\": \"white\", \"zerolinewidth\": 2}, \"yaxis\": {\"automargin\": true, \"gridcolor\": \"white\", \"linecolor\": \"white\", \"ticks\": \"\", \"title\": {\"standoff\": 15}, \"zerolinecolor\": \"white\", \"zerolinewidth\": 2}}}, \"title\": {\"text\": \"\\u0421\\u0440\\u0435\\u0434\\u043d\\u0438\\u0439 \\u0440\\u0430\\u0437\\u043c\\u0435\\u0440 \\u0437\\u0430\\u043a\\u0430\\u0437\\u0430 \\u043f\\u043e \\u0448\\u0442\\u0430\\u0442\\u0430\\u043c\"}, \"xaxis\": {\"anchor\": \"y\", \"domain\": [0.0, 1.0], \"title\": {\"text\": \"\\u0428\\u0442\\u0430\\u0442\"}}, \"yaxis\": {\"anchor\": \"x\", \"domain\": [0.0, 1.0], \"title\": {\"text\": \"\\u0421\\u0440\\u0435\\u0434\\u043d\\u0438\\u0439 \\u0440\\u0430\\u0437\\u043c\\u0435\\u0440 \\u0437\\u0430\\u043a\\u0430\\u0437\\u0430\"}}},\n",
              "                        {\"responsive\": true}\n",
              "                    ).then(function(){\n",
              "                            \n",
              "var gd = document.getElementById('c8a98dd4-1220-45e2-b556-7c0de75f1e14');\n",
              "var x = new MutationObserver(function (mutations, observer) {{\n",
              "        var display = window.getComputedStyle(gd).display;\n",
              "        if (!display || display === 'none') {{\n",
              "            console.log([gd, 'removed!']);\n",
              "            Plotly.purge(gd);\n",
              "            observer.disconnect();\n",
              "        }}\n",
              "}});\n",
              "\n",
              "// Listen for the removal of the full notebook cells\n",
              "var notebookContainer = gd.closest('#notebook-container');\n",
              "if (notebookContainer) {{\n",
              "    x.observe(notebookContainer, {childList: true});\n",
              "}}\n",
              "\n",
              "// Listen for the clearing of the current output cell\n",
              "var outputEl = gd.closest('.output');\n",
              "if (outputEl) {{\n",
              "    x.observe(outputEl, {childList: true});\n",
              "}}\n",
              "\n",
              "                        })\n",
              "                };\n",
              "                \n",
              "            </script>\n",
              "        </div>\n",
              "</body>\n",
              "</html>"
            ]
          },
          "metadata": {}
        }
      ]
    },
    {
      "cell_type": "markdown",
      "metadata": {
        "id": "lD-uhWg15-gs"
      },
      "source": [
        "В среднем, штаты не сильно отличаются по размеру заказа, но лидеры по среднему размеру заказа отличаются от лидеров по количеству покупателей и заказов."
      ]
    },
    {
      "cell_type": "code",
      "metadata": {
        "id": "KaRLW1Yk5-gt"
      },
      "source": [
        "#запрос SQL: Средний размер заказа по месяцам\n",
        "AoV_by_month = \\\n",
        "get_df('select so_month,\\\n",
        "               avg(sum_order) as avg_order\\\n",
        "        from \\\n",
        "            (select order_id,\\\n",
        "                   so_month,\\\n",
        "                   sum(price*quant) as sum_order\\\n",
        "            from \\\n",
        "               (select order_id,\\\n",
        "                       product_id,\\\n",
        "                       price,\\\n",
        "                       count(product_id) as quant,\\\n",
        "                       toStartOfMonth(order_purchase_timestamp) as so_month\\\n",
        "                from vk.orders\\\n",
        "                group by order_id,\\\n",
        "                         product_id,\\\n",
        "                         price,\\\n",
        "                         so_month\\\n",
        "                order by order_id, quant desc)\\\n",
        "            group by so_month, order_id)\\\n",
        "         group by so_month\\\n",
        "         order by so_month asc')"
      ],
      "execution_count": null,
      "outputs": []
    },
    {
      "cell_type": "code",
      "metadata": {
        "colab": {
          "base_uri": "https://localhost:8080/",
          "height": 542
        },
        "id": "DaP9lnXt5-gt",
        "outputId": "02421f0e-8453-4b16-df77-59b099b729ed"
      },
      "source": [
        "#График: Средний размер заказа по месяцам\n",
        "fig = px.line(AoV_by_month, x=\"so_month\", y=\"avg_order\",\\\n",
        "              labels={\n",
        "                     \"so_month\": \"\",\n",
        "                     \"avg_order\": \"Средний размер заказа\"},\\\n",
        "              title='Средний размер заказа по месяцам')\n",
        "fig.show()"
      ],
      "execution_count": null,
      "outputs": [
        {
          "output_type": "display_data",
          "data": {
            "text/html": [
              "<html>\n",
              "<head><meta charset=\"utf-8\" /></head>\n",
              "<body>\n",
              "    <div>\n",
              "            <script src=\"https://cdnjs.cloudflare.com/ajax/libs/mathjax/2.7.5/MathJax.js?config=TeX-AMS-MML_SVG\"></script><script type=\"text/javascript\">if (window.MathJax) {MathJax.Hub.Config({SVG: {font: \"STIX-Web\"}});}</script>\n",
              "                <script type=\"text/javascript\">window.PlotlyConfig = {MathJaxConfig: 'local'};</script>\n",
              "        <script src=\"https://cdn.plot.ly/plotly-latest.min.js\"></script>    \n",
              "            <div id=\"e641c235-5b05-4d82-9ae5-0f9ec74a1af0\" class=\"plotly-graph-div\" style=\"height:525px; width:100%;\"></div>\n",
              "            <script type=\"text/javascript\">\n",
              "                \n",
              "                    window.PLOTLYENV=window.PLOTLYENV || {};\n",
              "                    \n",
              "                if (document.getElementById(\"e641c235-5b05-4d82-9ae5-0f9ec74a1af0\")) {\n",
              "                    Plotly.newPlot(\n",
              "                        'e641c235-5b05-4d82-9ae5-0f9ec74a1af0',\n",
              "                        [{\"hoverlabel\": {\"namelength\": 0}, \"hovertemplate\": \"=%{x}<br>\\u0421\\u0440\\u0435\\u0434\\u043d\\u0438\\u0439 \\u0440\\u0430\\u0437\\u043c\\u0435\\u0440 \\u0437\\u0430\\u043a\\u0430\\u0437\\u0430=%{y}\", \"legendgroup\": \"\", \"line\": {\"color\": \"#636efa\", \"dash\": \"solid\"}, \"mode\": \"lines\", \"name\": \"\", \"showlegend\": false, \"type\": \"scatter\", \"x\": [\"2016-09-01\", \"2016-10-01\", \"2016-12-01\", \"2017-01-01\", \"2017-02-01\", \"2017-03-01\", \"2017-04-01\", \"2017-05-01\", \"2017-06-01\", \"2017-07-01\", \"2017-08-01\", \"2017-09-01\", \"2017-10-01\", \"2017-11-01\", \"2017-12-01\", \"2018-01-01\", \"2018-02-01\", \"2018-03-01\", \"2018-04-01\", \"2018-05-01\", \"2018-06-01\", \"2018-07-01\", \"2018-08-01\", \"2018-09-01\"], \"xaxis\": \"x\", \"y\": [89.12000274658203, 160.73915512530834, 10.899999618530273, 152.48779442706189, 142.70226186723704, 141.7433924633461, 150.5341822304321, 138.2708030879172, 134.60944983341844, 125.48034275313955, 133.69943639994946, 147.16042644764602, 145.4070556057314, 135.58869563798876, 132.27492350433158, 131.58315254122928, 126.10975669542995, 136.78539808345758, 143.73345102077948, 145.41334885554502, 140.44225803036971, 142.75581382219062, 132.4684329940086, 145.0], \"yaxis\": \"y\"}],\n",
              "                        {\"legend\": {\"tracegroupgap\": 0}, \"template\": {\"data\": {\"bar\": [{\"error_x\": {\"color\": \"#2a3f5f\"}, \"error_y\": {\"color\": \"#2a3f5f\"}, \"marker\": {\"line\": {\"color\": \"#E5ECF6\", \"width\": 0.5}}, \"type\": \"bar\"}], \"barpolar\": [{\"marker\": {\"line\": {\"color\": \"#E5ECF6\", \"width\": 0.5}}, \"type\": \"barpolar\"}], \"carpet\": [{\"aaxis\": {\"endlinecolor\": \"#2a3f5f\", \"gridcolor\": \"white\", \"linecolor\": \"white\", \"minorgridcolor\": \"white\", \"startlinecolor\": \"#2a3f5f\"}, \"baxis\": {\"endlinecolor\": \"#2a3f5f\", \"gridcolor\": \"white\", \"linecolor\": \"white\", \"minorgridcolor\": \"white\", \"startlinecolor\": \"#2a3f5f\"}, \"type\": \"carpet\"}], \"choropleth\": [{\"colorbar\": {\"outlinewidth\": 0, \"ticks\": \"\"}, \"type\": \"choropleth\"}], \"contour\": [{\"colorbar\": {\"outlinewidth\": 0, \"ticks\": \"\"}, \"colorscale\": [[0.0, \"#0d0887\"], [0.1111111111111111, \"#46039f\"], [0.2222222222222222, \"#7201a8\"], [0.3333333333333333, \"#9c179e\"], [0.4444444444444444, \"#bd3786\"], [0.5555555555555556, \"#d8576b\"], [0.6666666666666666, \"#ed7953\"], [0.7777777777777778, \"#fb9f3a\"], [0.8888888888888888, \"#fdca26\"], [1.0, \"#f0f921\"]], \"type\": \"contour\"}], \"contourcarpet\": [{\"colorbar\": {\"outlinewidth\": 0, \"ticks\": \"\"}, \"type\": \"contourcarpet\"}], \"heatmap\": [{\"colorbar\": {\"outlinewidth\": 0, \"ticks\": \"\"}, \"colorscale\": [[0.0, \"#0d0887\"], [0.1111111111111111, \"#46039f\"], [0.2222222222222222, \"#7201a8\"], [0.3333333333333333, \"#9c179e\"], [0.4444444444444444, \"#bd3786\"], [0.5555555555555556, \"#d8576b\"], [0.6666666666666666, \"#ed7953\"], [0.7777777777777778, \"#fb9f3a\"], [0.8888888888888888, \"#fdca26\"], [1.0, \"#f0f921\"]], \"type\": \"heatmap\"}], \"heatmapgl\": [{\"colorbar\": {\"outlinewidth\": 0, \"ticks\": \"\"}, \"colorscale\": [[0.0, \"#0d0887\"], [0.1111111111111111, \"#46039f\"], [0.2222222222222222, \"#7201a8\"], [0.3333333333333333, \"#9c179e\"], [0.4444444444444444, \"#bd3786\"], [0.5555555555555556, \"#d8576b\"], [0.6666666666666666, \"#ed7953\"], [0.7777777777777778, \"#fb9f3a\"], [0.8888888888888888, \"#fdca26\"], [1.0, \"#f0f921\"]], \"type\": \"heatmapgl\"}], \"histogram\": [{\"marker\": {\"colorbar\": {\"outlinewidth\": 0, \"ticks\": \"\"}}, \"type\": \"histogram\"}], \"histogram2d\": [{\"colorbar\": {\"outlinewidth\": 0, \"ticks\": \"\"}, \"colorscale\": [[0.0, \"#0d0887\"], [0.1111111111111111, \"#46039f\"], [0.2222222222222222, \"#7201a8\"], [0.3333333333333333, \"#9c179e\"], [0.4444444444444444, \"#bd3786\"], [0.5555555555555556, \"#d8576b\"], [0.6666666666666666, \"#ed7953\"], [0.7777777777777778, \"#fb9f3a\"], [0.8888888888888888, \"#fdca26\"], [1.0, \"#f0f921\"]], \"type\": \"histogram2d\"}], \"histogram2dcontour\": [{\"colorbar\": {\"outlinewidth\": 0, \"ticks\": \"\"}, \"colorscale\": [[0.0, \"#0d0887\"], [0.1111111111111111, \"#46039f\"], [0.2222222222222222, \"#7201a8\"], [0.3333333333333333, \"#9c179e\"], [0.4444444444444444, \"#bd3786\"], [0.5555555555555556, \"#d8576b\"], [0.6666666666666666, \"#ed7953\"], [0.7777777777777778, \"#fb9f3a\"], [0.8888888888888888, \"#fdca26\"], [1.0, \"#f0f921\"]], \"type\": \"histogram2dcontour\"}], \"mesh3d\": [{\"colorbar\": {\"outlinewidth\": 0, \"ticks\": \"\"}, \"type\": \"mesh3d\"}], \"parcoords\": [{\"line\": {\"colorbar\": {\"outlinewidth\": 0, \"ticks\": \"\"}}, \"type\": \"parcoords\"}], \"pie\": [{\"automargin\": true, \"type\": \"pie\"}], \"scatter\": [{\"marker\": {\"colorbar\": {\"outlinewidth\": 0, \"ticks\": \"\"}}, \"type\": \"scatter\"}], \"scatter3d\": [{\"line\": {\"colorbar\": {\"outlinewidth\": 0, \"ticks\": \"\"}}, \"marker\": {\"colorbar\": {\"outlinewidth\": 0, \"ticks\": \"\"}}, \"type\": \"scatter3d\"}], \"scattercarpet\": [{\"marker\": {\"colorbar\": {\"outlinewidth\": 0, \"ticks\": \"\"}}, \"type\": \"scattercarpet\"}], \"scattergeo\": [{\"marker\": {\"colorbar\": {\"outlinewidth\": 0, \"ticks\": \"\"}}, \"type\": \"scattergeo\"}], \"scattergl\": [{\"marker\": {\"colorbar\": {\"outlinewidth\": 0, \"ticks\": \"\"}}, \"type\": \"scattergl\"}], \"scattermapbox\": [{\"marker\": {\"colorbar\": {\"outlinewidth\": 0, \"ticks\": \"\"}}, \"type\": \"scattermapbox\"}], \"scatterpolar\": [{\"marker\": {\"colorbar\": {\"outlinewidth\": 0, \"ticks\": \"\"}}, \"type\": \"scatterpolar\"}], \"scatterpolargl\": [{\"marker\": {\"colorbar\": {\"outlinewidth\": 0, \"ticks\": \"\"}}, \"type\": \"scatterpolargl\"}], \"scatterternary\": [{\"marker\": {\"colorbar\": {\"outlinewidth\": 0, \"ticks\": \"\"}}, \"type\": \"scatterternary\"}], \"surface\": [{\"colorbar\": {\"outlinewidth\": 0, \"ticks\": \"\"}, \"colorscale\": [[0.0, \"#0d0887\"], [0.1111111111111111, \"#46039f\"], [0.2222222222222222, \"#7201a8\"], [0.3333333333333333, \"#9c179e\"], [0.4444444444444444, \"#bd3786\"], [0.5555555555555556, \"#d8576b\"], [0.6666666666666666, \"#ed7953\"], [0.7777777777777778, \"#fb9f3a\"], [0.8888888888888888, \"#fdca26\"], [1.0, \"#f0f921\"]], \"type\": \"surface\"}], \"table\": [{\"cells\": {\"fill\": {\"color\": \"#EBF0F8\"}, \"line\": {\"color\": \"white\"}}, \"header\": {\"fill\": {\"color\": \"#C8D4E3\"}, \"line\": {\"color\": \"white\"}}, \"type\": \"table\"}]}, \"layout\": {\"annotationdefaults\": {\"arrowcolor\": \"#2a3f5f\", \"arrowhead\": 0, \"arrowwidth\": 1}, \"coloraxis\": {\"colorbar\": {\"outlinewidth\": 0, \"ticks\": \"\"}}, \"colorscale\": {\"diverging\": [[0, \"#8e0152\"], [0.1, \"#c51b7d\"], [0.2, \"#de77ae\"], [0.3, \"#f1b6da\"], [0.4, \"#fde0ef\"], [0.5, \"#f7f7f7\"], [0.6, \"#e6f5d0\"], [0.7, \"#b8e186\"], [0.8, \"#7fbc41\"], [0.9, \"#4d9221\"], [1, \"#276419\"]], \"sequential\": [[0.0, \"#0d0887\"], [0.1111111111111111, \"#46039f\"], [0.2222222222222222, \"#7201a8\"], [0.3333333333333333, \"#9c179e\"], [0.4444444444444444, \"#bd3786\"], [0.5555555555555556, \"#d8576b\"], [0.6666666666666666, \"#ed7953\"], [0.7777777777777778, \"#fb9f3a\"], [0.8888888888888888, \"#fdca26\"], [1.0, \"#f0f921\"]], \"sequentialminus\": [[0.0, \"#0d0887\"], [0.1111111111111111, \"#46039f\"], [0.2222222222222222, \"#7201a8\"], [0.3333333333333333, \"#9c179e\"], [0.4444444444444444, \"#bd3786\"], [0.5555555555555556, \"#d8576b\"], [0.6666666666666666, \"#ed7953\"], [0.7777777777777778, \"#fb9f3a\"], [0.8888888888888888, \"#fdca26\"], [1.0, \"#f0f921\"]]}, \"colorway\": [\"#636efa\", \"#EF553B\", \"#00cc96\", \"#ab63fa\", \"#FFA15A\", \"#19d3f3\", \"#FF6692\", \"#B6E880\", \"#FF97FF\", \"#FECB52\"], \"font\": {\"color\": \"#2a3f5f\"}, \"geo\": {\"bgcolor\": \"white\", \"lakecolor\": \"white\", \"landcolor\": \"#E5ECF6\", \"showlakes\": true, \"showland\": true, \"subunitcolor\": \"white\"}, \"hoverlabel\": {\"align\": \"left\"}, \"hovermode\": \"closest\", \"mapbox\": {\"style\": \"light\"}, \"paper_bgcolor\": \"white\", \"plot_bgcolor\": \"#E5ECF6\", \"polar\": {\"angularaxis\": {\"gridcolor\": \"white\", \"linecolor\": \"white\", \"ticks\": \"\"}, \"bgcolor\": \"#E5ECF6\", \"radialaxis\": {\"gridcolor\": \"white\", \"linecolor\": \"white\", \"ticks\": \"\"}}, \"scene\": {\"xaxis\": {\"backgroundcolor\": \"#E5ECF6\", \"gridcolor\": \"white\", \"gridwidth\": 2, \"linecolor\": \"white\", \"showbackground\": true, \"ticks\": \"\", \"zerolinecolor\": \"white\"}, \"yaxis\": {\"backgroundcolor\": \"#E5ECF6\", \"gridcolor\": \"white\", \"gridwidth\": 2, \"linecolor\": \"white\", \"showbackground\": true, \"ticks\": \"\", \"zerolinecolor\": \"white\"}, \"zaxis\": {\"backgroundcolor\": \"#E5ECF6\", \"gridcolor\": \"white\", \"gridwidth\": 2, \"linecolor\": \"white\", \"showbackground\": true, \"ticks\": \"\", \"zerolinecolor\": \"white\"}}, \"shapedefaults\": {\"line\": {\"color\": \"#2a3f5f\"}}, \"ternary\": {\"aaxis\": {\"gridcolor\": \"white\", \"linecolor\": \"white\", \"ticks\": \"\"}, \"baxis\": {\"gridcolor\": \"white\", \"linecolor\": \"white\", \"ticks\": \"\"}, \"bgcolor\": \"#E5ECF6\", \"caxis\": {\"gridcolor\": \"white\", \"linecolor\": \"white\", \"ticks\": \"\"}}, \"title\": {\"x\": 0.05}, \"xaxis\": {\"automargin\": true, \"gridcolor\": \"white\", \"linecolor\": \"white\", \"ticks\": \"\", \"title\": {\"standoff\": 15}, \"zerolinecolor\": \"white\", \"zerolinewidth\": 2}, \"yaxis\": {\"automargin\": true, \"gridcolor\": \"white\", \"linecolor\": \"white\", \"ticks\": \"\", \"title\": {\"standoff\": 15}, \"zerolinecolor\": \"white\", \"zerolinewidth\": 2}}}, \"title\": {\"text\": \"\\u0421\\u0440\\u0435\\u0434\\u043d\\u0438\\u0439 \\u0440\\u0430\\u0437\\u043c\\u0435\\u0440 \\u0437\\u0430\\u043a\\u0430\\u0437\\u0430 \\u043f\\u043e \\u043c\\u0435\\u0441\\u044f\\u0446\\u0430\\u043c\"}, \"xaxis\": {\"anchor\": \"y\", \"domain\": [0.0, 1.0], \"title\": {\"text\": \"\"}}, \"yaxis\": {\"anchor\": \"x\", \"domain\": [0.0, 1.0], \"title\": {\"text\": \"\\u0421\\u0440\\u0435\\u0434\\u043d\\u0438\\u0439 \\u0440\\u0430\\u0437\\u043c\\u0435\\u0440 \\u0437\\u0430\\u043a\\u0430\\u0437\\u0430\"}}},\n",
              "                        {\"responsive\": true}\n",
              "                    ).then(function(){\n",
              "                            \n",
              "var gd = document.getElementById('e641c235-5b05-4d82-9ae5-0f9ec74a1af0');\n",
              "var x = new MutationObserver(function (mutations, observer) {{\n",
              "        var display = window.getComputedStyle(gd).display;\n",
              "        if (!display || display === 'none') {{\n",
              "            console.log([gd, 'removed!']);\n",
              "            Plotly.purge(gd);\n",
              "            observer.disconnect();\n",
              "        }}\n",
              "}});\n",
              "\n",
              "// Listen for the removal of the full notebook cells\n",
              "var notebookContainer = gd.closest('#notebook-container');\n",
              "if (notebookContainer) {{\n",
              "    x.observe(notebookContainer, {childList: true});\n",
              "}}\n",
              "\n",
              "// Listen for the clearing of the current output cell\n",
              "var outputEl = gd.closest('.output');\n",
              "if (outputEl) {{\n",
              "    x.observe(outputEl, {childList: true});\n",
              "}}\n",
              "\n",
              "                        })\n",
              "                };\n",
              "                \n",
              "            </script>\n",
              "        </div>\n",
              "</body>\n",
              "</html>"
            ]
          },
          "metadata": {}
        }
      ]
    },
    {
      "cell_type": "code",
      "metadata": {
        "id": "9m2RGTTH5-gt"
      },
      "source": [
        "#Размер выручки по месяцам\n",
        "Month_rev = \\\n",
        "get_df('select so_month,\\\n",
        "               sum(sum_order) as revenue\\\n",
        "        from \\\n",
        "           (select so_month,\\\n",
        "                       sum(price*quant) as sum_order\\\n",
        "            from \\\n",
        "                   (select order_id,\\\n",
        "                           product_id,\\\n",
        "                           price,\\\n",
        "                           count(product_id) as quant,\\\n",
        "                           toStartOfMonth(order_purchase_timestamp) as so_month\\\n",
        "                    from vk.orders\\\n",
        "                    group by order_id,\\\n",
        "                             product_id,\\\n",
        "                             price,\\\n",
        "                             so_month\\\n",
        "                    order by order_id, quant desc)\\\n",
        "             group by so_month, order_id\\\n",
        "             order by so_month asc)\\\n",
        "         group by so_month\\\n",
        "         order by so_month')"
      ],
      "execution_count": null,
      "outputs": []
    },
    {
      "cell_type": "code",
      "metadata": {
        "colab": {
          "base_uri": "https://localhost:8080/",
          "height": 542
        },
        "id": "cA4osrA35-gu",
        "outputId": "7080cd2f-d386-49ee-c8a5-63571c5b9e57"
      },
      "source": [
        "fig = px.line(Month_rev[Month_rev.so_month < '2018-09-01'], x='so_month', y='revenue',\\\n",
        "              labels={\n",
        "                     \"so_month\": \"\",\n",
        "                     \"revenue\": \"Размер выручки\"},\\\n",
        "             title = 'Размер выручки по месяцам')\n",
        "fig.show()"
      ],
      "execution_count": null,
      "outputs": [
        {
          "output_type": "display_data",
          "data": {
            "text/html": [
              "<html>\n",
              "<head><meta charset=\"utf-8\" /></head>\n",
              "<body>\n",
              "    <div>\n",
              "            <script src=\"https://cdnjs.cloudflare.com/ajax/libs/mathjax/2.7.5/MathJax.js?config=TeX-AMS-MML_SVG\"></script><script type=\"text/javascript\">if (window.MathJax) {MathJax.Hub.Config({SVG: {font: \"STIX-Web\"}});}</script>\n",
              "                <script type=\"text/javascript\">window.PlotlyConfig = {MathJaxConfig: 'local'};</script>\n",
              "        <script src=\"https://cdn.plot.ly/plotly-latest.min.js\"></script>    \n",
              "            <div id=\"d0312b23-aef6-4763-a823-f70a9670adcd\" class=\"plotly-graph-div\" style=\"height:525px; width:100%;\"></div>\n",
              "            <script type=\"text/javascript\">\n",
              "                \n",
              "                    window.PLOTLYENV=window.PLOTLYENV || {};\n",
              "                    \n",
              "                if (document.getElementById(\"d0312b23-aef6-4763-a823-f70a9670adcd\")) {\n",
              "                    Plotly.newPlot(\n",
              "                        'd0312b23-aef6-4763-a823-f70a9670adcd',\n",
              "                        [{\"hoverlabel\": {\"namelength\": 0}, \"hovertemplate\": \"=%{x}<br>\\u0420\\u0430\\u0437\\u043c\\u0435\\u0440 \\u0432\\u044b\\u0440\\u0443\\u0447\\u043a\\u0438=%{y}\", \"legendgroup\": \"\", \"line\": {\"color\": \"#636efa\", \"dash\": \"solid\"}, \"mode\": \"lines\", \"name\": \"\", \"showlegend\": false, \"type\": \"scatter\", \"x\": [\"2016-09-01\", \"2016-10-01\", \"2016-12-01\", \"2017-01-01\", \"2017-02-01\", \"2017-03-01\", \"2017-04-01\", \"2017-05-01\", \"2017-06-01\", \"2017-07-01\", \"2017-08-01\", \"2017-09-01\", \"2017-10-01\", \"2017-11-01\", \"2017-12-01\", \"2018-01-01\", \"2018-02-01\", \"2018-03-01\", \"2018-04-01\", \"2018-05-01\", \"2018-06-01\", \"2018-07-01\", \"2018-08-01\"], \"xaxis\": \"x\", \"y\": [267.3600082397461, 49507.65977859497, 10.899999618530273, 120312.8698029518, 247303.01981592175, 374344.299495697, 359927.2297129631, 506071.1393017769, 433038.60011410713, 498031.48038721096, 573971.680464983, 624401.6894173622, 664219.4300069809, 1010271.3711986542, 743914.1697883606, 950030.3613476752, 844178.7113192081, 983213.441423893, 996647.7493780851, 996517.6797070504, 865124.3094670774, 895507.2201066017, 854686.3296773435], \"yaxis\": \"y\"}],\n",
              "                        {\"legend\": {\"tracegroupgap\": 0}, \"template\": {\"data\": {\"bar\": [{\"error_x\": {\"color\": \"#2a3f5f\"}, \"error_y\": {\"color\": \"#2a3f5f\"}, \"marker\": {\"line\": {\"color\": \"#E5ECF6\", \"width\": 0.5}}, \"type\": \"bar\"}], \"barpolar\": [{\"marker\": {\"line\": {\"color\": \"#E5ECF6\", \"width\": 0.5}}, \"type\": \"barpolar\"}], \"carpet\": [{\"aaxis\": {\"endlinecolor\": \"#2a3f5f\", \"gridcolor\": \"white\", \"linecolor\": \"white\", \"minorgridcolor\": \"white\", \"startlinecolor\": \"#2a3f5f\"}, \"baxis\": {\"endlinecolor\": \"#2a3f5f\", \"gridcolor\": \"white\", \"linecolor\": \"white\", \"minorgridcolor\": \"white\", \"startlinecolor\": \"#2a3f5f\"}, \"type\": \"carpet\"}], \"choropleth\": [{\"colorbar\": {\"outlinewidth\": 0, \"ticks\": \"\"}, \"type\": \"choropleth\"}], \"contour\": [{\"colorbar\": {\"outlinewidth\": 0, \"ticks\": \"\"}, \"colorscale\": [[0.0, \"#0d0887\"], [0.1111111111111111, \"#46039f\"], [0.2222222222222222, \"#7201a8\"], [0.3333333333333333, \"#9c179e\"], [0.4444444444444444, \"#bd3786\"], [0.5555555555555556, \"#d8576b\"], [0.6666666666666666, \"#ed7953\"], [0.7777777777777778, \"#fb9f3a\"], [0.8888888888888888, \"#fdca26\"], [1.0, \"#f0f921\"]], \"type\": \"contour\"}], \"contourcarpet\": [{\"colorbar\": {\"outlinewidth\": 0, \"ticks\": \"\"}, \"type\": \"contourcarpet\"}], \"heatmap\": [{\"colorbar\": {\"outlinewidth\": 0, \"ticks\": \"\"}, \"colorscale\": [[0.0, \"#0d0887\"], [0.1111111111111111, \"#46039f\"], [0.2222222222222222, \"#7201a8\"], [0.3333333333333333, \"#9c179e\"], [0.4444444444444444, \"#bd3786\"], [0.5555555555555556, \"#d8576b\"], [0.6666666666666666, \"#ed7953\"], [0.7777777777777778, \"#fb9f3a\"], [0.8888888888888888, \"#fdca26\"], [1.0, \"#f0f921\"]], \"type\": \"heatmap\"}], \"heatmapgl\": [{\"colorbar\": {\"outlinewidth\": 0, \"ticks\": \"\"}, \"colorscale\": [[0.0, \"#0d0887\"], [0.1111111111111111, \"#46039f\"], [0.2222222222222222, \"#7201a8\"], [0.3333333333333333, \"#9c179e\"], [0.4444444444444444, \"#bd3786\"], [0.5555555555555556, \"#d8576b\"], [0.6666666666666666, \"#ed7953\"], [0.7777777777777778, \"#fb9f3a\"], [0.8888888888888888, \"#fdca26\"], [1.0, \"#f0f921\"]], \"type\": \"heatmapgl\"}], \"histogram\": [{\"marker\": {\"colorbar\": {\"outlinewidth\": 0, \"ticks\": \"\"}}, \"type\": \"histogram\"}], \"histogram2d\": [{\"colorbar\": {\"outlinewidth\": 0, \"ticks\": \"\"}, \"colorscale\": [[0.0, \"#0d0887\"], [0.1111111111111111, \"#46039f\"], [0.2222222222222222, \"#7201a8\"], [0.3333333333333333, \"#9c179e\"], [0.4444444444444444, \"#bd3786\"], [0.5555555555555556, \"#d8576b\"], [0.6666666666666666, \"#ed7953\"], [0.7777777777777778, \"#fb9f3a\"], [0.8888888888888888, \"#fdca26\"], [1.0, \"#f0f921\"]], \"type\": \"histogram2d\"}], \"histogram2dcontour\": [{\"colorbar\": {\"outlinewidth\": 0, \"ticks\": \"\"}, \"colorscale\": [[0.0, \"#0d0887\"], [0.1111111111111111, \"#46039f\"], [0.2222222222222222, \"#7201a8\"], [0.3333333333333333, \"#9c179e\"], [0.4444444444444444, \"#bd3786\"], [0.5555555555555556, \"#d8576b\"], [0.6666666666666666, \"#ed7953\"], [0.7777777777777778, \"#fb9f3a\"], [0.8888888888888888, \"#fdca26\"], [1.0, \"#f0f921\"]], \"type\": \"histogram2dcontour\"}], \"mesh3d\": [{\"colorbar\": {\"outlinewidth\": 0, \"ticks\": \"\"}, \"type\": \"mesh3d\"}], \"parcoords\": [{\"line\": {\"colorbar\": {\"outlinewidth\": 0, \"ticks\": \"\"}}, \"type\": \"parcoords\"}], \"pie\": [{\"automargin\": true, \"type\": \"pie\"}], \"scatter\": [{\"marker\": {\"colorbar\": {\"outlinewidth\": 0, \"ticks\": \"\"}}, \"type\": \"scatter\"}], \"scatter3d\": [{\"line\": {\"colorbar\": {\"outlinewidth\": 0, \"ticks\": \"\"}}, \"marker\": {\"colorbar\": {\"outlinewidth\": 0, \"ticks\": \"\"}}, \"type\": \"scatter3d\"}], \"scattercarpet\": [{\"marker\": {\"colorbar\": {\"outlinewidth\": 0, \"ticks\": \"\"}}, \"type\": \"scattercarpet\"}], \"scattergeo\": [{\"marker\": {\"colorbar\": {\"outlinewidth\": 0, \"ticks\": \"\"}}, \"type\": \"scattergeo\"}], \"scattergl\": [{\"marker\": {\"colorbar\": {\"outlinewidth\": 0, \"ticks\": \"\"}}, \"type\": \"scattergl\"}], \"scattermapbox\": [{\"marker\": {\"colorbar\": {\"outlinewidth\": 0, \"ticks\": \"\"}}, \"type\": \"scattermapbox\"}], \"scatterpolar\": [{\"marker\": {\"colorbar\": {\"outlinewidth\": 0, \"ticks\": \"\"}}, \"type\": \"scatterpolar\"}], \"scatterpolargl\": [{\"marker\": {\"colorbar\": {\"outlinewidth\": 0, \"ticks\": \"\"}}, \"type\": \"scatterpolargl\"}], \"scatterternary\": [{\"marker\": {\"colorbar\": {\"outlinewidth\": 0, \"ticks\": \"\"}}, \"type\": \"scatterternary\"}], \"surface\": [{\"colorbar\": {\"outlinewidth\": 0, \"ticks\": \"\"}, \"colorscale\": [[0.0, \"#0d0887\"], [0.1111111111111111, \"#46039f\"], [0.2222222222222222, \"#7201a8\"], [0.3333333333333333, \"#9c179e\"], [0.4444444444444444, \"#bd3786\"], [0.5555555555555556, \"#d8576b\"], [0.6666666666666666, \"#ed7953\"], [0.7777777777777778, \"#fb9f3a\"], [0.8888888888888888, \"#fdca26\"], [1.0, \"#f0f921\"]], \"type\": \"surface\"}], \"table\": [{\"cells\": {\"fill\": {\"color\": \"#EBF0F8\"}, \"line\": {\"color\": \"white\"}}, \"header\": {\"fill\": {\"color\": \"#C8D4E3\"}, \"line\": {\"color\": \"white\"}}, \"type\": \"table\"}]}, \"layout\": {\"annotationdefaults\": {\"arrowcolor\": \"#2a3f5f\", \"arrowhead\": 0, \"arrowwidth\": 1}, \"coloraxis\": {\"colorbar\": {\"outlinewidth\": 0, \"ticks\": \"\"}}, \"colorscale\": {\"diverging\": [[0, \"#8e0152\"], [0.1, \"#c51b7d\"], [0.2, \"#de77ae\"], [0.3, \"#f1b6da\"], [0.4, \"#fde0ef\"], [0.5, \"#f7f7f7\"], [0.6, \"#e6f5d0\"], [0.7, \"#b8e186\"], [0.8, \"#7fbc41\"], [0.9, \"#4d9221\"], [1, \"#276419\"]], \"sequential\": [[0.0, \"#0d0887\"], [0.1111111111111111, \"#46039f\"], [0.2222222222222222, \"#7201a8\"], [0.3333333333333333, \"#9c179e\"], [0.4444444444444444, \"#bd3786\"], [0.5555555555555556, \"#d8576b\"], [0.6666666666666666, \"#ed7953\"], [0.7777777777777778, \"#fb9f3a\"], [0.8888888888888888, \"#fdca26\"], [1.0, \"#f0f921\"]], \"sequentialminus\": [[0.0, \"#0d0887\"], [0.1111111111111111, \"#46039f\"], [0.2222222222222222, \"#7201a8\"], [0.3333333333333333, \"#9c179e\"], [0.4444444444444444, \"#bd3786\"], [0.5555555555555556, \"#d8576b\"], [0.6666666666666666, \"#ed7953\"], [0.7777777777777778, \"#fb9f3a\"], [0.8888888888888888, \"#fdca26\"], [1.0, \"#f0f921\"]]}, \"colorway\": [\"#636efa\", \"#EF553B\", \"#00cc96\", \"#ab63fa\", \"#FFA15A\", \"#19d3f3\", \"#FF6692\", \"#B6E880\", \"#FF97FF\", \"#FECB52\"], \"font\": {\"color\": \"#2a3f5f\"}, \"geo\": {\"bgcolor\": \"white\", \"lakecolor\": \"white\", \"landcolor\": \"#E5ECF6\", \"showlakes\": true, \"showland\": true, \"subunitcolor\": \"white\"}, \"hoverlabel\": {\"align\": \"left\"}, \"hovermode\": \"closest\", \"mapbox\": {\"style\": \"light\"}, \"paper_bgcolor\": \"white\", \"plot_bgcolor\": \"#E5ECF6\", \"polar\": {\"angularaxis\": {\"gridcolor\": \"white\", \"linecolor\": \"white\", \"ticks\": \"\"}, \"bgcolor\": \"#E5ECF6\", \"radialaxis\": {\"gridcolor\": \"white\", \"linecolor\": \"white\", \"ticks\": \"\"}}, \"scene\": {\"xaxis\": {\"backgroundcolor\": \"#E5ECF6\", \"gridcolor\": \"white\", \"gridwidth\": 2, \"linecolor\": \"white\", \"showbackground\": true, \"ticks\": \"\", \"zerolinecolor\": \"white\"}, \"yaxis\": {\"backgroundcolor\": \"#E5ECF6\", \"gridcolor\": \"white\", \"gridwidth\": 2, \"linecolor\": \"white\", \"showbackground\": true, \"ticks\": \"\", \"zerolinecolor\": \"white\"}, \"zaxis\": {\"backgroundcolor\": \"#E5ECF6\", \"gridcolor\": \"white\", \"gridwidth\": 2, \"linecolor\": \"white\", \"showbackground\": true, \"ticks\": \"\", \"zerolinecolor\": \"white\"}}, \"shapedefaults\": {\"line\": {\"color\": \"#2a3f5f\"}}, \"ternary\": {\"aaxis\": {\"gridcolor\": \"white\", \"linecolor\": \"white\", \"ticks\": \"\"}, \"baxis\": {\"gridcolor\": \"white\", \"linecolor\": \"white\", \"ticks\": \"\"}, \"bgcolor\": \"#E5ECF6\", \"caxis\": {\"gridcolor\": \"white\", \"linecolor\": \"white\", \"ticks\": \"\"}}, \"title\": {\"x\": 0.05}, \"xaxis\": {\"automargin\": true, \"gridcolor\": \"white\", \"linecolor\": \"white\", \"ticks\": \"\", \"title\": {\"standoff\": 15}, \"zerolinecolor\": \"white\", \"zerolinewidth\": 2}, \"yaxis\": {\"automargin\": true, \"gridcolor\": \"white\", \"linecolor\": \"white\", \"ticks\": \"\", \"title\": {\"standoff\": 15}, \"zerolinecolor\": \"white\", \"zerolinewidth\": 2}}}, \"title\": {\"text\": \"\\u0420\\u0430\\u0437\\u043c\\u0435\\u0440 \\u0432\\u044b\\u0440\\u0443\\u0447\\u043a\\u0438 \\u043f\\u043e \\u043c\\u0435\\u0441\\u044f\\u0446\\u0430\\u043c\"}, \"xaxis\": {\"anchor\": \"y\", \"domain\": [0.0, 1.0], \"title\": {\"text\": \"\"}}, \"yaxis\": {\"anchor\": \"x\", \"domain\": [0.0, 1.0], \"title\": {\"text\": \"\\u0420\\u0430\\u0437\\u043c\\u0435\\u0440 \\u0432\\u044b\\u0440\\u0443\\u0447\\u043a\\u0438\"}}},\n",
              "                        {\"responsive\": true}\n",
              "                    ).then(function(){\n",
              "                            \n",
              "var gd = document.getElementById('d0312b23-aef6-4763-a823-f70a9670adcd');\n",
              "var x = new MutationObserver(function (mutations, observer) {{\n",
              "        var display = window.getComputedStyle(gd).display;\n",
              "        if (!display || display === 'none') {{\n",
              "            console.log([gd, 'removed!']);\n",
              "            Plotly.purge(gd);\n",
              "            observer.disconnect();\n",
              "        }}\n",
              "}});\n",
              "\n",
              "// Listen for the removal of the full notebook cells\n",
              "var notebookContainer = gd.closest('#notebook-container');\n",
              "if (notebookContainer) {{\n",
              "    x.observe(notebookContainer, {childList: true});\n",
              "}}\n",
              "\n",
              "// Listen for the clearing of the current output cell\n",
              "var outputEl = gd.closest('.output');\n",
              "if (outputEl) {{\n",
              "    x.observe(outputEl, {childList: true});\n",
              "}}\n",
              "\n",
              "                        })\n",
              "                };\n",
              "                \n",
              "            </script>\n",
              "        </div>\n",
              "</body>\n",
              "</html>"
            ]
          },
          "metadata": {}
        }
      ]
    },
    {
      "cell_type": "markdown",
      "metadata": {
        "id": "-b9xDnAC5-gu"
      },
      "source": [
        "## Ассортимент"
      ]
    },
    {
      "cell_type": "markdown",
      "metadata": {
        "id": "WX9nzuEd5-gu"
      },
      "source": [
        "Посчитаем среднее число товаров по категориям"
      ]
    },
    {
      "cell_type": "code",
      "metadata": {
        "id": "JiPiKeOg5-gv"
      },
      "source": [
        "#Динамика соотношения числа товаров и категорий\n",
        "divers_ratio_month = get_df('select toStartOfMonth(l.order_purchase_timestamp) as so_month,\\\n",
        "                                   uniqExact(l.product_id)/uniqExact(r.product_category_name) as divers_ratio\\\n",
        "                            from vk.orders as l\\\n",
        "                            join vk.products as r\\\n",
        "                            on l.product_id = r.product_id\\\n",
        "                            group by so_month\\\n",
        "                            order by so_month asc')"
      ],
      "execution_count": null,
      "outputs": []
    },
    {
      "cell_type": "code",
      "metadata": {
        "colab": {
          "base_uri": "https://localhost:8080/",
          "height": 542
        },
        "id": "uc5z63SW5-gv",
        "outputId": "60657cd6-0d08-49d5-c7d3-33ff6cb3d9b3"
      },
      "source": [
        "#График: Динамика соотношения числа товаров и категорий\n",
        "fig = px.line(divers_ratio_month[divers_ratio_month.so_month < '2018-09-01'], x='so_month', y='divers_ratio',\\\n",
        "              labels={\n",
        "                     \"so_month\": \"\",\n",
        "                     \"divers_ratio\": \"Число товаров в категории\"},\\\n",
        "             title = 'Динамика соотношения числа товаров и категорий')\n",
        "fig.show()"
      ],
      "execution_count": null,
      "outputs": [
        {
          "output_type": "display_data",
          "data": {
            "text/html": [
              "<html>\n",
              "<head><meta charset=\"utf-8\" /></head>\n",
              "<body>\n",
              "    <div>\n",
              "            <script src=\"https://cdnjs.cloudflare.com/ajax/libs/mathjax/2.7.5/MathJax.js?config=TeX-AMS-MML_SVG\"></script><script type=\"text/javascript\">if (window.MathJax) {MathJax.Hub.Config({SVG: {font: \"STIX-Web\"}});}</script>\n",
              "                <script type=\"text/javascript\">window.PlotlyConfig = {MathJaxConfig: 'local'};</script>\n",
              "        <script src=\"https://cdn.plot.ly/plotly-latest.min.js\"></script>    \n",
              "            <div id=\"5210cb55-dd3c-41e9-ae81-5d203adccfe0\" class=\"plotly-graph-div\" style=\"height:525px; width:100%;\"></div>\n",
              "            <script type=\"text/javascript\">\n",
              "                \n",
              "                    window.PLOTLYENV=window.PLOTLYENV || {};\n",
              "                    \n",
              "                if (document.getElementById(\"5210cb55-dd3c-41e9-ae81-5d203adccfe0\")) {\n",
              "                    Plotly.newPlot(\n",
              "                        '5210cb55-dd3c-41e9-ae81-5d203adccfe0',\n",
              "                        [{\"hoverlabel\": {\"namelength\": 0}, \"hovertemplate\": \"=%{x}<br>\\u0427\\u0438\\u0441\\u043b\\u043e \\u0442\\u043e\\u0432\\u0430\\u0440\\u043e\\u0432 \\u0432 \\u043a\\u0430\\u0442\\u0435\\u0433\\u043e\\u0440\\u0438\\u0438=%{y}\", \"legendgroup\": \"\", \"line\": {\"color\": \"#636efa\", \"dash\": \"solid\"}, \"mode\": \"lines\", \"name\": \"\", \"showlegend\": false, \"type\": \"scatter\", \"x\": [\"2016-09-01\", \"2016-10-01\", \"2016-12-01\", \"2017-01-01\", \"2017-02-01\", \"2017-03-01\", \"2017-04-01\", \"2017-05-01\", \"2017-06-01\", \"2017-07-01\", \"2017-08-01\", \"2017-09-01\", \"2017-10-01\", \"2017-11-01\", \"2017-12-01\", \"2018-01-01\", \"2018-02-01\", \"2018-03-01\", \"2018-04-01\", \"2018-05-01\", \"2018-06-01\", \"2018-07-01\", \"2018-08-01\"], \"xaxis\": \"x\", \"y\": [1.3333333333333333, 8.774193548387098, 1.0, 14.046511627906975, 24.03921568627451, 32.75471698113208, 28.421052631578952, 39.706896551724135, 33.813559322033896, 40.70491803278689, 44.57142857142857, 42.49230769230768, 46.714285714285715, 68.0, 54.387096774193544, 60.83333333333334, 59.84126984126985, 62.33333333333334, 62.88235294117647, 63.82539682539682, 62.59375, 64.96875, 68.8888888888889], \"yaxis\": \"y\"}],\n",
              "                        {\"legend\": {\"tracegroupgap\": 0}, \"template\": {\"data\": {\"bar\": [{\"error_x\": {\"color\": \"#2a3f5f\"}, \"error_y\": {\"color\": \"#2a3f5f\"}, \"marker\": {\"line\": {\"color\": \"#E5ECF6\", \"width\": 0.5}}, \"type\": \"bar\"}], \"barpolar\": [{\"marker\": {\"line\": {\"color\": \"#E5ECF6\", \"width\": 0.5}}, \"type\": \"barpolar\"}], \"carpet\": [{\"aaxis\": {\"endlinecolor\": \"#2a3f5f\", \"gridcolor\": \"white\", \"linecolor\": \"white\", \"minorgridcolor\": \"white\", \"startlinecolor\": \"#2a3f5f\"}, \"baxis\": {\"endlinecolor\": \"#2a3f5f\", \"gridcolor\": \"white\", \"linecolor\": \"white\", \"minorgridcolor\": \"white\", \"startlinecolor\": \"#2a3f5f\"}, \"type\": \"carpet\"}], \"choropleth\": [{\"colorbar\": {\"outlinewidth\": 0, \"ticks\": \"\"}, \"type\": \"choropleth\"}], \"contour\": [{\"colorbar\": {\"outlinewidth\": 0, \"ticks\": \"\"}, \"colorscale\": [[0.0, \"#0d0887\"], [0.1111111111111111, \"#46039f\"], [0.2222222222222222, \"#7201a8\"], [0.3333333333333333, \"#9c179e\"], [0.4444444444444444, \"#bd3786\"], [0.5555555555555556, \"#d8576b\"], [0.6666666666666666, \"#ed7953\"], [0.7777777777777778, \"#fb9f3a\"], [0.8888888888888888, \"#fdca26\"], [1.0, \"#f0f921\"]], \"type\": \"contour\"}], \"contourcarpet\": [{\"colorbar\": {\"outlinewidth\": 0, \"ticks\": \"\"}, \"type\": \"contourcarpet\"}], \"heatmap\": [{\"colorbar\": {\"outlinewidth\": 0, \"ticks\": \"\"}, \"colorscale\": [[0.0, \"#0d0887\"], [0.1111111111111111, \"#46039f\"], [0.2222222222222222, \"#7201a8\"], [0.3333333333333333, \"#9c179e\"], [0.4444444444444444, \"#bd3786\"], [0.5555555555555556, \"#d8576b\"], [0.6666666666666666, \"#ed7953\"], [0.7777777777777778, \"#fb9f3a\"], [0.8888888888888888, \"#fdca26\"], [1.0, \"#f0f921\"]], \"type\": \"heatmap\"}], \"heatmapgl\": [{\"colorbar\": {\"outlinewidth\": 0, \"ticks\": \"\"}, \"colorscale\": [[0.0, \"#0d0887\"], [0.1111111111111111, \"#46039f\"], [0.2222222222222222, \"#7201a8\"], [0.3333333333333333, \"#9c179e\"], [0.4444444444444444, \"#bd3786\"], [0.5555555555555556, \"#d8576b\"], [0.6666666666666666, \"#ed7953\"], [0.7777777777777778, \"#fb9f3a\"], [0.8888888888888888, \"#fdca26\"], [1.0, \"#f0f921\"]], \"type\": \"heatmapgl\"}], \"histogram\": [{\"marker\": {\"colorbar\": {\"outlinewidth\": 0, \"ticks\": \"\"}}, \"type\": \"histogram\"}], \"histogram2d\": [{\"colorbar\": {\"outlinewidth\": 0, \"ticks\": \"\"}, \"colorscale\": [[0.0, \"#0d0887\"], [0.1111111111111111, \"#46039f\"], [0.2222222222222222, \"#7201a8\"], [0.3333333333333333, \"#9c179e\"], [0.4444444444444444, \"#bd3786\"], [0.5555555555555556, \"#d8576b\"], [0.6666666666666666, \"#ed7953\"], [0.7777777777777778, \"#fb9f3a\"], [0.8888888888888888, \"#fdca26\"], [1.0, \"#f0f921\"]], \"type\": \"histogram2d\"}], \"histogram2dcontour\": [{\"colorbar\": {\"outlinewidth\": 0, \"ticks\": \"\"}, \"colorscale\": [[0.0, \"#0d0887\"], [0.1111111111111111, \"#46039f\"], [0.2222222222222222, \"#7201a8\"], [0.3333333333333333, \"#9c179e\"], [0.4444444444444444, \"#bd3786\"], [0.5555555555555556, \"#d8576b\"], [0.6666666666666666, \"#ed7953\"], [0.7777777777777778, \"#fb9f3a\"], [0.8888888888888888, \"#fdca26\"], [1.0, \"#f0f921\"]], \"type\": \"histogram2dcontour\"}], \"mesh3d\": [{\"colorbar\": {\"outlinewidth\": 0, \"ticks\": \"\"}, \"type\": \"mesh3d\"}], \"parcoords\": [{\"line\": {\"colorbar\": {\"outlinewidth\": 0, \"ticks\": \"\"}}, \"type\": \"parcoords\"}], \"pie\": [{\"automargin\": true, \"type\": \"pie\"}], \"scatter\": [{\"marker\": {\"colorbar\": {\"outlinewidth\": 0, \"ticks\": \"\"}}, \"type\": \"scatter\"}], \"scatter3d\": [{\"line\": {\"colorbar\": {\"outlinewidth\": 0, \"ticks\": \"\"}}, \"marker\": {\"colorbar\": {\"outlinewidth\": 0, \"ticks\": \"\"}}, \"type\": \"scatter3d\"}], \"scattercarpet\": [{\"marker\": {\"colorbar\": {\"outlinewidth\": 0, \"ticks\": \"\"}}, \"type\": \"scattercarpet\"}], \"scattergeo\": [{\"marker\": {\"colorbar\": {\"outlinewidth\": 0, \"ticks\": \"\"}}, \"type\": \"scattergeo\"}], \"scattergl\": [{\"marker\": {\"colorbar\": {\"outlinewidth\": 0, \"ticks\": \"\"}}, \"type\": \"scattergl\"}], \"scattermapbox\": [{\"marker\": {\"colorbar\": {\"outlinewidth\": 0, \"ticks\": \"\"}}, \"type\": \"scattermapbox\"}], \"scatterpolar\": [{\"marker\": {\"colorbar\": {\"outlinewidth\": 0, \"ticks\": \"\"}}, \"type\": \"scatterpolar\"}], \"scatterpolargl\": [{\"marker\": {\"colorbar\": {\"outlinewidth\": 0, \"ticks\": \"\"}}, \"type\": \"scatterpolargl\"}], \"scatterternary\": [{\"marker\": {\"colorbar\": {\"outlinewidth\": 0, \"ticks\": \"\"}}, \"type\": \"scatterternary\"}], \"surface\": [{\"colorbar\": {\"outlinewidth\": 0, \"ticks\": \"\"}, \"colorscale\": [[0.0, \"#0d0887\"], [0.1111111111111111, \"#46039f\"], [0.2222222222222222, \"#7201a8\"], [0.3333333333333333, \"#9c179e\"], [0.4444444444444444, \"#bd3786\"], [0.5555555555555556, \"#d8576b\"], [0.6666666666666666, \"#ed7953\"], [0.7777777777777778, \"#fb9f3a\"], [0.8888888888888888, \"#fdca26\"], [1.0, \"#f0f921\"]], \"type\": \"surface\"}], \"table\": [{\"cells\": {\"fill\": {\"color\": \"#EBF0F8\"}, \"line\": {\"color\": \"white\"}}, \"header\": {\"fill\": {\"color\": \"#C8D4E3\"}, \"line\": {\"color\": \"white\"}}, \"type\": \"table\"}]}, \"layout\": {\"annotationdefaults\": {\"arrowcolor\": \"#2a3f5f\", \"arrowhead\": 0, \"arrowwidth\": 1}, \"coloraxis\": {\"colorbar\": {\"outlinewidth\": 0, \"ticks\": \"\"}}, \"colorscale\": {\"diverging\": [[0, \"#8e0152\"], [0.1, \"#c51b7d\"], [0.2, \"#de77ae\"], [0.3, \"#f1b6da\"], [0.4, \"#fde0ef\"], [0.5, \"#f7f7f7\"], [0.6, \"#e6f5d0\"], [0.7, \"#b8e186\"], [0.8, \"#7fbc41\"], [0.9, \"#4d9221\"], [1, \"#276419\"]], \"sequential\": [[0.0, \"#0d0887\"], [0.1111111111111111, \"#46039f\"], [0.2222222222222222, \"#7201a8\"], [0.3333333333333333, \"#9c179e\"], [0.4444444444444444, \"#bd3786\"], [0.5555555555555556, \"#d8576b\"], [0.6666666666666666, \"#ed7953\"], [0.7777777777777778, \"#fb9f3a\"], [0.8888888888888888, \"#fdca26\"], [1.0, \"#f0f921\"]], \"sequentialminus\": [[0.0, \"#0d0887\"], [0.1111111111111111, \"#46039f\"], [0.2222222222222222, \"#7201a8\"], [0.3333333333333333, \"#9c179e\"], [0.4444444444444444, \"#bd3786\"], [0.5555555555555556, \"#d8576b\"], [0.6666666666666666, \"#ed7953\"], [0.7777777777777778, \"#fb9f3a\"], [0.8888888888888888, \"#fdca26\"], [1.0, \"#f0f921\"]]}, \"colorway\": [\"#636efa\", \"#EF553B\", \"#00cc96\", \"#ab63fa\", \"#FFA15A\", \"#19d3f3\", \"#FF6692\", \"#B6E880\", \"#FF97FF\", \"#FECB52\"], \"font\": {\"color\": \"#2a3f5f\"}, \"geo\": {\"bgcolor\": \"white\", \"lakecolor\": \"white\", \"landcolor\": \"#E5ECF6\", \"showlakes\": true, \"showland\": true, \"subunitcolor\": \"white\"}, \"hoverlabel\": {\"align\": \"left\"}, \"hovermode\": \"closest\", \"mapbox\": {\"style\": \"light\"}, \"paper_bgcolor\": \"white\", \"plot_bgcolor\": \"#E5ECF6\", \"polar\": {\"angularaxis\": {\"gridcolor\": \"white\", \"linecolor\": \"white\", \"ticks\": \"\"}, \"bgcolor\": \"#E5ECF6\", \"radialaxis\": {\"gridcolor\": \"white\", \"linecolor\": \"white\", \"ticks\": \"\"}}, \"scene\": {\"xaxis\": {\"backgroundcolor\": \"#E5ECF6\", \"gridcolor\": \"white\", \"gridwidth\": 2, \"linecolor\": \"white\", \"showbackground\": true, \"ticks\": \"\", \"zerolinecolor\": \"white\"}, \"yaxis\": {\"backgroundcolor\": \"#E5ECF6\", \"gridcolor\": \"white\", \"gridwidth\": 2, \"linecolor\": \"white\", \"showbackground\": true, \"ticks\": \"\", \"zerolinecolor\": \"white\"}, \"zaxis\": {\"backgroundcolor\": \"#E5ECF6\", \"gridcolor\": \"white\", \"gridwidth\": 2, \"linecolor\": \"white\", \"showbackground\": true, \"ticks\": \"\", \"zerolinecolor\": \"white\"}}, \"shapedefaults\": {\"line\": {\"color\": \"#2a3f5f\"}}, \"ternary\": {\"aaxis\": {\"gridcolor\": \"white\", \"linecolor\": \"white\", \"ticks\": \"\"}, \"baxis\": {\"gridcolor\": \"white\", \"linecolor\": \"white\", \"ticks\": \"\"}, \"bgcolor\": \"#E5ECF6\", \"caxis\": {\"gridcolor\": \"white\", \"linecolor\": \"white\", \"ticks\": \"\"}}, \"title\": {\"x\": 0.05}, \"xaxis\": {\"automargin\": true, \"gridcolor\": \"white\", \"linecolor\": \"white\", \"ticks\": \"\", \"title\": {\"standoff\": 15}, \"zerolinecolor\": \"white\", \"zerolinewidth\": 2}, \"yaxis\": {\"automargin\": true, \"gridcolor\": \"white\", \"linecolor\": \"white\", \"ticks\": \"\", \"title\": {\"standoff\": 15}, \"zerolinecolor\": \"white\", \"zerolinewidth\": 2}}}, \"title\": {\"text\": \"\\u0414\\u0438\\u043d\\u0430\\u043c\\u0438\\u043a\\u0430 \\u0441\\u043e\\u043e\\u0442\\u043d\\u043e\\u0448\\u0435\\u043d\\u0438\\u044f \\u0447\\u0438\\u0441\\u043b\\u0430 \\u0442\\u043e\\u0432\\u0430\\u0440\\u043e\\u0432 \\u0438 \\u043a\\u0430\\u0442\\u0435\\u0433\\u043e\\u0440\\u0438\\u0439\"}, \"xaxis\": {\"anchor\": \"y\", \"domain\": [0.0, 1.0], \"title\": {\"text\": \"\"}}, \"yaxis\": {\"anchor\": \"x\", \"domain\": [0.0, 1.0], \"title\": {\"text\": \"\\u0427\\u0438\\u0441\\u043b\\u043e \\u0442\\u043e\\u0432\\u0430\\u0440\\u043e\\u0432 \\u0432 \\u043a\\u0430\\u0442\\u0435\\u0433\\u043e\\u0440\\u0438\\u0438\"}}},\n",
              "                        {\"responsive\": true}\n",
              "                    ).then(function(){\n",
              "                            \n",
              "var gd = document.getElementById('5210cb55-dd3c-41e9-ae81-5d203adccfe0');\n",
              "var x = new MutationObserver(function (mutations, observer) {{\n",
              "        var display = window.getComputedStyle(gd).display;\n",
              "        if (!display || display === 'none') {{\n",
              "            console.log([gd, 'removed!']);\n",
              "            Plotly.purge(gd);\n",
              "            observer.disconnect();\n",
              "        }}\n",
              "}});\n",
              "\n",
              "// Listen for the removal of the full notebook cells\n",
              "var notebookContainer = gd.closest('#notebook-container');\n",
              "if (notebookContainer) {{\n",
              "    x.observe(notebookContainer, {childList: true});\n",
              "}}\n",
              "\n",
              "// Listen for the clearing of the current output cell\n",
              "var outputEl = gd.closest('.output');\n",
              "if (outputEl) {{\n",
              "    x.observe(outputEl, {childList: true});\n",
              "}}\n",
              "\n",
              "                        })\n",
              "                };\n",
              "                \n",
              "            </script>\n",
              "        </div>\n",
              "</body>\n",
              "</html>"
            ]
          },
          "metadata": {}
        }
      ]
    },
    {
      "cell_type": "markdown",
      "metadata": {
        "id": "2pQgRbtA5-gv"
      },
      "source": [
        "## Выводы\n",
        "* **Аудитория**: посмотрели общее число покупателей, MAU, DAU, в динамике и по штатам, также среднемесячное DAU, stickness ratio и соотношение покупателей к продавцам в динамике. \n",
        "    1. В разбивке по штатам есть явные лидеры по общему числу покупателей: SP с >40к покупателей, и два других штата с 11-12к покупателей за весь период. \n",
        "    2. Число уникальных покупателей в мес. (MAU) выросло ~ в 20 раз с начала периода, в самом многочисленном штате  - в ~30 раз. \n",
        "    3. Однако среднее ежедневное число покупателей (ср. DAU) росло более медленно, stickness ratio (ср. DAU/MAU * 100) составляло примерно 3,2-3,7% (после исключения аномальных месяцев с 1 заказом.мес.). Т.е. в среднем активные пользователи не очень часто использовали продукт, также этот показатель практически не растет, что указывает на низкий потенциал роста прибили в будущем.\n",
        "    4. В среднем на одного продавца приходилось 5 покупателей, и этот показатель в последнее время снижается, что указывает на снижение аудитории каждого продавца и потенциальное снижение прибыли.\n",
        "* **Заказы**: \n",
        "    1. В среднем, число заказов растет, по штатам лидеры по числу заказов те же самые. \n",
        "    2. Однако по среднему размеру заказа (AoV) лидируют другие штаты и в целом, размер заказа отличается не сильно между штатами. \n",
        "    3. Исходя из анализа аудитории, нужно либо наращивать число заказов в остальных штатах (помимо топ-3), либо увеличивать средний размер заказа в топ-3 по числу заказов. Также нужно улучшать опыт пользователя, чтобы было большее число повторных покупок. \n",
        "* **Выручка**:\n",
        "    Выручка доросла до почти 1млн и начала снижаться в последние 3 мес. Возможно, это является снижением числа повторных активных пользователей, т.е. нужно улучшать опыт пользователя, чтобы не было дальнейшего снижения.\n",
        "* **Ассортимент**:\n",
        "    Число товаров в одной категории доросло почти до 70 шт. в категории, что в целом говорит о росте выбора для покупателей, в целом ничего здесь вероятно менять не нужно."
      ]
    }
  ]
}