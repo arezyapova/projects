{
  "nbformat": 4,
  "nbformat_minor": 0,
  "metadata": {
    "kernelspec": {
      "display_name": "Python 3",
      "language": "python",
      "name": "python3"
    },
    "language_info": {
      "codemirror_mode": {
        "name": "ipython",
        "version": 3
      },
      "file_extension": ".py",
      "mimetype": "text/x-python",
      "name": "python",
      "nbconvert_exporter": "python",
      "pygments_lexer": "ipython3",
      "version": "3.7.3"
    },
    "colab": {
      "name": "project_aa_test.ipynb",
      "provenance": [],
      "include_colab_link": true
    }
  },
  "cells": [
    {
      "cell_type": "markdown",
      "metadata": {
        "id": "view-in-github",
        "colab_type": "text"
      },
      "source": [
        "<a href=\"https://colab.research.google.com/github/arezyapova/projects/blob/main/project_aa_test.ipynb\" target=\"_parent\"><img src=\"https://colab.research.google.com/assets/colab-badge.svg\" alt=\"Open In Colab\"/></a>"
      ]
    },
    {
      "cell_type": "code",
      "metadata": {
        "id": "P6ik92JnJNTa"
      },
      "source": [
        "import numpy as np\n",
        "import pandas as pd\n",
        "from scipy import stats\n",
        "import matplotlib.pyplot as plt\n",
        "\n",
        "from tqdm.auto import tqdm"
      ],
      "execution_count": null,
      "outputs": []
    },
    {
      "cell_type": "code",
      "metadata": {
        "id": "rSgKyqMsJNTi"
      },
      "source": [
        "df = pd.read_csv('/home/jupyter-a.rezjapova-13/stat_10/hw_aa.csv', sep = ';')"
      ],
      "execution_count": null,
      "outputs": []
    },
    {
      "cell_type": "code",
      "metadata": {
        "id": "jJQIm_mdJNTj",
        "outputId": "82724d6b-3df3-45a4-e015-dce5c221a97b"
      },
      "source": [
        "df.groupby('version').agg({'purchase':'sum'})"
      ],
      "execution_count": null,
      "outputs": [
        {
          "data": {
            "text/html": [
              "<div>\n",
              "<style scoped>\n",
              "    .dataframe tbody tr th:only-of-type {\n",
              "        vertical-align: middle;\n",
              "    }\n",
              "\n",
              "    .dataframe tbody tr th {\n",
              "        vertical-align: top;\n",
              "    }\n",
              "\n",
              "    .dataframe thead th {\n",
              "        text-align: right;\n",
              "    }\n",
              "</style>\n",
              "<table border=\"1\" class=\"dataframe\">\n",
              "  <thead>\n",
              "    <tr style=\"text-align: right;\">\n",
              "      <th></th>\n",
              "      <th>purchase</th>\n",
              "    </tr>\n",
              "    <tr>\n",
              "      <th>version</th>\n",
              "      <th></th>\n",
              "    </tr>\n",
              "  </thead>\n",
              "  <tbody>\n",
              "    <tr>\n",
              "      <th>v2.8.0</th>\n",
              "      <td>1936</td>\n",
              "    </tr>\n",
              "    <tr>\n",
              "      <th>v2.9.0</th>\n",
              "      <td>1748</td>\n",
              "    </tr>\n",
              "    <tr>\n",
              "      <th>v3.7.4.0</th>\n",
              "      <td>518</td>\n",
              "    </tr>\n",
              "    <tr>\n",
              "      <th>v3.8.0.0</th>\n",
              "      <td>712</td>\n",
              "    </tr>\n",
              "  </tbody>\n",
              "</table>\n",
              "</div>"
            ],
            "text/plain": [
              "          purchase\n",
              "version           \n",
              "v2.8.0        1936\n",
              "v2.9.0        1748\n",
              "v3.7.4.0       518\n",
              "v3.8.0.0       712"
            ]
          },
          "execution_count": 3,
          "metadata": {},
          "output_type": "execute_result"
        }
      ]
    },
    {
      "cell_type": "code",
      "metadata": {
        "id": "BJJx_bEtJNTl",
        "outputId": "f0d45760-c743-4c33-e8fe-ed15addcf41a",
        "colab": {
          "referenced_widgets": [
            "e5b31fe484a74a71bb3cd8f5ae4f2b5e"
          ]
        }
      },
      "source": [
        "simulations = 1000\n",
        "n_s = 1000\n",
        "res = []\n",
        "\n",
        "for i in tqdm(range(simulations)):\n",
        "    s1 = df.query('experimentVariant==1').sample(n_s, replace = False).purchase\n",
        "    s2 = df.query('experimentVariant==0').sample(n_s, replace = False).purchase\n",
        "    res.append(stats.ttest_ind(s1, s2, equal_var = False)[1])\n",
        "\n",
        "plt.hist(res, bins = 50)\n",
        "plt.style.use('ggplot')\n",
        "plt.xlabel('pvalues')\n",
        "plt.ylabel('frequency')\n",
        "plt.title(\"Histogram of ttest A/A simulations \")\n",
        "plt.show()\n",
        "\n",
        "# FPR\n",
        "sum(np.array(res) <0.05) / simulations"
      ],
      "execution_count": null,
      "outputs": [
        {
          "data": {
            "application/vnd.jupyter.widget-view+json": {
              "model_id": "e5b31fe484a74a71bb3cd8f5ae4f2b5e",
              "version_major": 2,
              "version_minor": 0
            },
            "text/plain": [
              "HBox(children=(FloatProgress(value=0.0, max=1000.0), HTML(value='')))"
            ]
          },
          "metadata": {},
          "output_type": "display_data"
        },
        {
          "name": "stdout",
          "output_type": "stream",
          "text": [
            "\n"
          ]
        },
        {
          "data": {
            "image/png": "[encoded data removed]",
            "text/plain": [
              "<Figure size 432x288 with 1 Axes>"
            ]
          },
          "metadata": {
            "needs_background": "light"
          },
          "output_type": "display_data"
        },
        {
          "data": {
            "text/plain": [
              "0.934"
            ]
          },
          "execution_count": 5,
          "metadata": {},
          "output_type": "execute_result"
        }
      ]
    },
    {
      "cell_type": "code",
      "metadata": {
        "id": "4ceO41wRJNTn"
      },
      "source": [
        "exp_by_version = df.groupby(['experimentVariant','version']).agg({'purchase':'sum', 'uid':'count'})"
      ],
      "execution_count": null,
      "outputs": []
    },
    {
      "cell_type": "code",
      "metadata": {
        "id": "zcO50msbJNTn"
      },
      "source": [
        "exp_by_version['conv'] = np.round(exp_by_version['purchase']/exp_by_version['uid'] * 100, 2)"
      ],
      "execution_count": null,
      "outputs": []
    },
    {
      "cell_type": "code",
      "metadata": {
        "id": "m-axVfY9JNTo",
        "outputId": "e402fc71-2b77-4afd-8082-3962c876645d"
      },
      "source": [
        "exp_by_version"
      ],
      "execution_count": null,
      "outputs": [
        {
          "data": {
            "text/html": [
              "<div>\n",
              "<style scoped>\n",
              "    .dataframe tbody tr th:only-of-type {\n",
              "        vertical-align: middle;\n",
              "    }\n",
              "\n",
              "    .dataframe tbody tr th {\n",
              "        vertical-align: top;\n",
              "    }\n",
              "\n",
              "    .dataframe thead th {\n",
              "        text-align: right;\n",
              "    }\n",
              "</style>\n",
              "<table border=\"1\" class=\"dataframe\">\n",
              "  <thead>\n",
              "    <tr style=\"text-align: right;\">\n",
              "      <th></th>\n",
              "      <th></th>\n",
              "      <th>purchase</th>\n",
              "      <th>uid</th>\n",
              "      <th>conv</th>\n",
              "    </tr>\n",
              "    <tr>\n",
              "      <th>experimentVariant</th>\n",
              "      <th>version</th>\n",
              "      <th></th>\n",
              "      <th></th>\n",
              "      <th></th>\n",
              "    </tr>\n",
              "  </thead>\n",
              "  <tbody>\n",
              "    <tr>\n",
              "      <th rowspan=\"4\" valign=\"top\">0</th>\n",
              "      <th>v2.8.0</th>\n",
              "      <td>41</td>\n",
              "      <td>41283</td>\n",
              "      <td>0.10</td>\n",
              "    </tr>\n",
              "    <tr>\n",
              "      <th>v2.9.0</th>\n",
              "      <td>890</td>\n",
              "      <td>11921</td>\n",
              "      <td>7.47</td>\n",
              "    </tr>\n",
              "    <tr>\n",
              "      <th>v3.7.4.0</th>\n",
              "      <td>252</td>\n",
              "      <td>4204</td>\n",
              "      <td>5.99</td>\n",
              "    </tr>\n",
              "    <tr>\n",
              "      <th>v3.8.0.0</th>\n",
              "      <td>328</td>\n",
              "      <td>5694</td>\n",
              "      <td>5.76</td>\n",
              "    </tr>\n",
              "    <tr>\n",
              "      <th rowspan=\"4\" valign=\"top\">1</th>\n",
              "      <th>v2.8.0</th>\n",
              "      <td>1895</td>\n",
              "      <td>41552</td>\n",
              "      <td>4.56</td>\n",
              "    </tr>\n",
              "    <tr>\n",
              "      <th>v2.9.0</th>\n",
              "      <td>858</td>\n",
              "      <td>12033</td>\n",
              "      <td>7.13</td>\n",
              "    </tr>\n",
              "    <tr>\n",
              "      <th>v3.7.4.0</th>\n",
              "      <td>266</td>\n",
              "      <td>4221</td>\n",
              "      <td>6.30</td>\n",
              "    </tr>\n",
              "    <tr>\n",
              "      <th>v3.8.0.0</th>\n",
              "      <td>384</td>\n",
              "      <td>6110</td>\n",
              "      <td>6.28</td>\n",
              "    </tr>\n",
              "  </tbody>\n",
              "</table>\n",
              "</div>"
            ],
            "text/plain": [
              "                            purchase    uid  conv\n",
              "experimentVariant version                        \n",
              "0                 v2.8.0          41  41283  0.10\n",
              "                  v2.9.0         890  11921  7.47\n",
              "                  v3.7.4.0       252   4204  5.99\n",
              "                  v3.8.0.0       328   5694  5.76\n",
              "1                 v2.8.0        1895  41552  4.56\n",
              "                  v2.9.0         858  12033  7.13\n",
              "                  v3.7.4.0       266   4221  6.30\n",
              "                  v3.8.0.0       384   6110  6.28"
            ]
          },
          "execution_count": 14,
          "metadata": {},
          "output_type": "execute_result"
        }
      ]
    },
    {
      "cell_type": "markdown",
      "metadata": {
        "id": "U7KA2i2OJNTq"
      },
      "source": [
        "    Уже по группировке в таблице выше видно, что сильнее всего конверсия различается в версии v2.8.0 (0.1% в контрольной и 4.56% в тестовой группах). Теперь пересчитаем FPR для каждой версии, чтобы убедиться в этом еще раз."
      ]
    },
    {
      "cell_type": "code",
      "metadata": {
        "id": "fI0i8jbcJNTu",
        "outputId": "088592c7-d36b-4b72-a5fa-ab3a3e3f1080",
        "colab": {
          "referenced_widgets": [
            "a7ba01ad5f124b818c91c1819439c621"
          ]
        }
      },
      "source": [
        "# Проверка для версии v2.8.0\n",
        "simulations = 1000\n",
        "n_s = 1000\n",
        "res = []\n",
        "\n",
        "for i in tqdm(range(simulations)):\n",
        "    s1 = df.query('experimentVariant==1 & version==\"v2.8.0\"').sample(n_s, replace = False).purchase\n",
        "    s2 = df.query('experimentVariant==0 & version==\"v2.8.0\"').sample(n_s, replace = False).purchase\n",
        "    res.append(stats.ttest_ind(s1, s2, equal_var = False)[1])\n",
        "\n",
        "plt.hist(res, bins = 50)\n",
        "plt.style.use('ggplot')\n",
        "plt.xlabel('pvalues')\n",
        "plt.ylabel('frequency')\n",
        "plt.title(\"Histogram of ttest A/A simulations \")\n",
        "plt.show()\n",
        "\n",
        "# FPR\n",
        "sum(np.array(res) <0.05) / simulations"
      ],
      "execution_count": null,
      "outputs": [
        {
          "data": {
            "application/vnd.jupyter.widget-view+json": {
              "model_id": "a7ba01ad5f124b818c91c1819439c621",
              "version_major": 2,
              "version_minor": 0
            },
            "text/plain": [
              "HBox(children=(FloatProgress(value=0.0, max=1000.0), HTML(value='')))"
            ]
          },
          "metadata": {},
          "output_type": "display_data"
        },
        {
          "name": "stdout",
          "output_type": "stream",
          "text": [
            "\n"
          ]
        },
        {
          "data": {
            "image/png": "[encoded data removed]",
            "text/plain": [
              "<Figure size 432x288 with 1 Axes>"
            ]
          },
          "metadata": {},
          "output_type": "display_data"
        },
        {
          "data": {
            "text/plain": [
              "1.0"
            ]
          },
          "execution_count": 17,
          "metadata": {},
          "output_type": "execute_result"
        }
      ]
    },
    {
      "cell_type": "markdown",
      "metadata": {
        "id": "by1_yfIgJNTw"
      },
      "source": [
        "    Снова получился высокий FPR, проверим в других версиях."
      ]
    },
    {
      "cell_type": "code",
      "metadata": {
        "id": "PbD_KqJmJNTx",
        "outputId": "78e6deaa-a8d4-47ca-a463-218252a6155f",
        "colab": {
          "referenced_widgets": [
            "98549bbb41004a4a89bc7858b7024c64"
          ]
        }
      },
      "source": [
        "# Проверка для версии v2.9.0\n",
        "simulations = 1000\n",
        "n_s = 1000\n",
        "res = []\n",
        "\n",
        "for i in tqdm(range(simulations)):\n",
        "    s1 = df.query('experimentVariant==1 & version==\"v2.9.0\"').sample(n_s, replace = False).purchase\n",
        "    s2 = df.query('experimentVariant==0 & version==\"v2.9.0\"').sample(n_s, replace = False).purchase\n",
        "    res.append(stats.ttest_ind(s1, s2, equal_var = False)[1])\n",
        "\n",
        "plt.hist(res, bins = 50)\n",
        "plt.style.use('ggplot')\n",
        "plt.xlabel('pvalues')\n",
        "plt.ylabel('frequency')\n",
        "plt.title(\"Histogram of ttest A/A simulations \")\n",
        "plt.show()\n",
        "\n",
        "# FPR\n",
        "sum(np.array(res) <0.05) / simulations"
      ],
      "execution_count": null,
      "outputs": [
        {
          "data": {
            "application/vnd.jupyter.widget-view+json": {
              "model_id": "98549bbb41004a4a89bc7858b7024c64",
              "version_major": 2,
              "version_minor": 0
            },
            "text/plain": [
              "HBox(children=(FloatProgress(value=0.0, max=1000.0), HTML(value='')))"
            ]
          },
          "metadata": {},
          "output_type": "display_data"
        },
        {
          "name": "stdout",
          "output_type": "stream",
          "text": [
            "\n"
          ]
        },
        {
          "data": {
            "image/png": "[encoded data removed]",
            "text/plain": [
              "<Figure size 432x288 with 1 Axes>"
            ]
          },
          "metadata": {},
          "output_type": "display_data"
        },
        {
          "data": {
            "text/plain": [
              "0.037"
            ]
          },
          "execution_count": 19,
          "metadata": {},
          "output_type": "execute_result"
        }
      ]
    },
    {
      "cell_type": "markdown",
      "metadata": {
        "id": "zp1pbtpRJNTy"
      },
      "source": [
        "    Для этой версии получили FPR = 0.037 < 0.05."
      ]
    },
    {
      "cell_type": "code",
      "metadata": {
        "id": "T2P6uMS2JNTz",
        "outputId": "a69f8e5d-3ffa-4758-e2f1-b91b81228e96",
        "colab": {
          "referenced_widgets": [
            "8532d05a6fea4855ae7198fcf47ed0a9"
          ]
        }
      },
      "source": [
        "# Проверка для версии v3.7.4.0\n",
        "simulations = 1000\n",
        "n_s = 1000\n",
        "res = []\n",
        "\n",
        "for i in tqdm(range(simulations)):\n",
        "    s1 = df.query('experimentVariant==1 & version==\"v3.7.4.0\"').sample(n_s, replace = False).purchase\n",
        "    s2 = df.query('experimentVariant==0 & version==\"v3.7.4.0\"').sample(n_s, replace = False).purchase\n",
        "    res.append(stats.ttest_ind(s1, s2, equal_var = False)[1])\n",
        "\n",
        "plt.hist(res, bins = 50)\n",
        "plt.style.use('ggplot')\n",
        "plt.xlabel('pvalues')\n",
        "plt.ylabel('frequency')\n",
        "plt.title(\"Histogram of ttest A/A simulations \")\n",
        "plt.show()\n",
        "\n",
        "# FPR\n",
        "sum(np.array(res) <0.05) / simulations"
      ],
      "execution_count": null,
      "outputs": [
        {
          "data": {
            "application/vnd.jupyter.widget-view+json": {
              "model_id": "8532d05a6fea4855ae7198fcf47ed0a9",
              "version_major": 2,
              "version_minor": 0
            },
            "text/plain": [
              "HBox(children=(FloatProgress(value=0.0, max=1000.0), HTML(value='')))"
            ]
          },
          "metadata": {},
          "output_type": "display_data"
        },
        {
          "name": "stdout",
          "output_type": "stream",
          "text": [
            "\n"
          ]
        },
        {
          "data": {
            "image/png": "[encoded data removed]",
            "text/plain": [
              "<Figure size 432x288 with 1 Axes>"
            ]
          },
          "metadata": {},
          "output_type": "display_data"
        },
        {
          "data": {
            "text/plain": [
              "0.029"
            ]
          },
          "execution_count": 21,
          "metadata": {},
          "output_type": "execute_result"
        }
      ]
    },
    {
      "cell_type": "markdown",
      "metadata": {
        "id": "cbjjhJtRJNT2"
      },
      "source": [
        "    Для этой версии v3.7.4.0 получили FPR = 0.029 < 0.05, все в порядке."
      ]
    },
    {
      "cell_type": "code",
      "metadata": {
        "id": "_0aPl_Y_JNT3",
        "outputId": "a720cbfc-b272-4ae4-8758-e5a3202b079a",
        "colab": {
          "referenced_widgets": [
            "79b10ff31bbc4477ad06065f4506a230"
          ]
        }
      },
      "source": [
        "# Проверка для версии v3.8.0.0\n",
        "simulations = 1000\n",
        "n_s = 1000\n",
        "res = []\n",
        "\n",
        "for i in tqdm(range(simulations)):\n",
        "    s1 = df.query('experimentVariant==1 & version==\"v3.8.0.0\"').sample(n_s, replace = False).purchase\n",
        "    s2 = df.query('experimentVariant==0 & version==\"v3.8.0.0\"').sample(n_s, replace = False).purchase\n",
        "    res.append(stats.ttest_ind(s1, s2, equal_var = False)[1])\n",
        "\n",
        "plt.hist(res, bins = 50)\n",
        "plt.style.use('ggplot')\n",
        "plt.xlabel('pvalues')\n",
        "plt.ylabel('frequency')\n",
        "plt.title(\"Histogram of ttest A/A simulations \")\n",
        "plt.show()\n",
        "\n",
        "# FPR\n",
        "sum(np.array(res) <0.05) / simulations"
      ],
      "execution_count": null,
      "outputs": [
        {
          "data": {
            "application/vnd.jupyter.widget-view+json": {
              "model_id": "79b10ff31bbc4477ad06065f4506a230",
              "version_major": 2,
              "version_minor": 0
            },
            "text/plain": [
              "HBox(children=(FloatProgress(value=0.0, max=1000.0), HTML(value='')))"
            ]
          },
          "metadata": {},
          "output_type": "display_data"
        },
        {
          "name": "stdout",
          "output_type": "stream",
          "text": [
            "\n"
          ]
        },
        {
          "data": {
            "image/png": "[encoded data removed]",
            "text/plain": [
              "<Figure size 432x288 with 1 Axes>"
            ]
          },
          "metadata": {},
          "output_type": "display_data"
        },
        {
          "data": {
            "text/plain": [
              "0.051"
            ]
          },
          "execution_count": 22,
          "metadata": {},
          "output_type": "execute_result"
        }
      ]
    },
    {
      "cell_type": "markdown",
      "metadata": {
        "id": "bs289qfuJNT4"
      },
      "source": [
        "    Проверка FPR по версиям показала, что проблема в первой версии. Удаляем ее из основного датафрейма."
      ]
    },
    {
      "cell_type": "code",
      "metadata": {
        "id": "-w-adSRbJNT5",
        "outputId": "0a0188af-8bb5-4ff4-92e3-1f19fd07264e",
        "colab": {
          "referenced_widgets": [
            "10d8056b2a0a430ab6e680696b3a11ab"
          ]
        }
      },
      "source": [
        "# Проверка без версии v2.8.0\n",
        "simulations = 1000\n",
        "n_s = 1000\n",
        "res = []\n",
        "\n",
        "for i in tqdm(range(simulations)):\n",
        "    s1 = df.query('experimentVariant==1 & version!=\"v2.8.0\"').sample(n_s, replace = False).purchase\n",
        "    s2 = df.query('experimentVariant==0 & version!=\"v2.8.0\"').sample(n_s, replace = False).purchase\n",
        "    res.append(stats.ttest_ind(s1, s2, equal_var = False)[1])\n",
        "\n",
        "plt.hist(res, bins = 50)\n",
        "plt.style.use('ggplot')\n",
        "plt.xlabel('pvalues')\n",
        "plt.ylabel('frequency')\n",
        "plt.title(\"Histogram of ttest A/A simulations \")\n",
        "plt.show()\n",
        "\n",
        "# FPR\n",
        "sum(np.array(res) <0.05) / simulations"
      ],
      "execution_count": null,
      "outputs": [
        {
          "data": {
            "application/vnd.jupyter.widget-view+json": {
              "model_id": "10d8056b2a0a430ab6e680696b3a11ab",
              "version_major": 2,
              "version_minor": 0
            },
            "text/plain": [
              "HBox(children=(FloatProgress(value=0.0, max=1000.0), HTML(value='')))"
            ]
          },
          "metadata": {},
          "output_type": "display_data"
        },
        {
          "name": "stdout",
          "output_type": "stream",
          "text": [
            "\n"
          ]
        },
        {
          "data": {
            "image/png": "[encoded data removed]",
            "text/plain": [
              "<Figure size 432x288 with 1 Axes>"
            ]
          },
          "metadata": {},
          "output_type": "display_data"
        },
        {
          "data": {
            "text/plain": [
              "0.038"
            ]
          },
          "execution_count": 23,
          "metadata": {},
          "output_type": "execute_result"
        }
      ]
    },
    {
      "cell_type": "markdown",
      "metadata": {
        "id": "ZtCpUu-6JNT7"
      },
      "source": [
        "    Получили FPR < 0.05 и исправили A/A тест"
      ]
    },
    {
      "cell_type": "code",
      "metadata": {
        "id": "PWDhtJhSJNT7"
      },
      "source": [
        ""
      ],
      "execution_count": null,
      "outputs": []
    }
  ]
}