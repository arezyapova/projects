{
  "nbformat": 4,
  "nbformat_minor": 0,
  "metadata": {
    "kernelspec": {
      "display_name": "Python 3",
      "language": "python",
      "name": "python3"
    },
    "language_info": {
      "codemirror_mode": {
        "name": "ipython",
        "version": 3
      },
      "file_extension": ".py",
      "mimetype": "text/x-python",
      "name": "python",
      "nbconvert_exporter": "python",
      "pygments_lexer": "ipython3",
      "version": "3.7.3"
    },
    "colab": {
      "name": "test_Rezyapova.ipynb",
      "provenance": [],
      "include_colab_link": true
    }
  },
  "cells": [
    {
      "cell_type": "markdown",
      "metadata": {
        "id": "view-in-github",
        "colab_type": "text"
      },
      "source": [
        "<a href=\"https://colab.research.google.com/github/arezyapova/projects/blob/main/test_Rezyapova.ipynb\" target=\"_parent\"><img src=\"https://colab.research.google.com/assets/colab-badge.svg\" alt=\"Open In Colab\"/></a>"
      ]
    },
    {
      "cell_type": "markdown",
      "metadata": {
        "id": "Axicr1ptKFGD"
      },
      "source": [
        "## Тестовое задание"
      ]
    },
    {
      "cell_type": "markdown",
      "metadata": {
        "id": "HzjJhw2pKFGT"
      },
      "source": [
        "## 1. SQL"
      ]
    },
    {
      "cell_type": "markdown",
      "metadata": {
        "id": "9xzUSeZGKFGU"
      },
      "source": [
        "### Задание 1"
      ]
    },
    {
      "cell_type": "markdown",
      "metadata": {
        "id": "IZgipIsrKFGV"
      },
      "source": [
        "По итогам ЧМ-2018 по футболу появилась статистика по командам и отдельным игрокам. Данные лежат в MySQL.\n",
        "\n",
        "Команды - таблица **teams**:\n",
        "\n",
        "- **id** int (уникальный идентификатор команды)\n",
        "- **name** varchar(32) (название команды)\n",
        "- **games_played** smallint (сыграно матчей на турнире)\n",
        "- **goals** smallint (забито голов)\n",
        "- **goals_minus** smallint (пропущено голов)\n",
        "- **yellow_cards** smallint (желтые карточки)\n",
        "- **red_cards** smallint (красные карточки)\n",
        "\n",
        "Игроки - табличка **players_stat**:\n",
        "\n",
        "- **id** int (уникальный идентификатор игрока)\n",
        "- **name** varchar(32) (имя игрока)\n",
        "- **team_id** int (id команды, за которую выступает игрок)\n",
        "- **position** varchar(8) (позиция игрока; возможные значения – ‘GK’, ‘DF’, ‘MD’, ‘AT’)\n",
        "- **age** smallint (возраст игрока)\n",
        "- **min_played** int (сыграно минут на турнире)\n",
        "- **goals** smallint (забито голов)\n",
        "- **yellow_cards** smallint (жёлтые карточки)\n",
        "- **red_cards** smallint (красные карточки)"
      ]
    },
    {
      "cell_type": "markdown",
      "metadata": {
        "id": "EvHA7laAKFGW"
      },
      "source": [
        "1. В каких командах есть вратари (‘GK’), получавшие карточки на турнире?"
      ]
    },
    {
      "cell_type": "code",
      "metadata": {
        "id": "oGszi_-NKFGW"
      },
      "source": [
        "'''\n",
        "SELECT l.name AS name\n",
        "FROM teams AS l\n",
        "JOIN\n",
        "    players_stat AS r\n",
        "ON \n",
        "    l.id = r.team_id\n",
        "WHERE \n",
        "    r.position = 'GK' \n",
        "    AND\n",
        "    (r.yellow_cards <>0 OR r.red_cards <>0)\n",
        "'''"
      ],
      "execution_count": null,
      "outputs": []
    },
    {
      "cell_type": "markdown",
      "metadata": {
        "id": "_9_u6GTGKFGY"
      },
      "source": [
        "2. Каков 90-ый перцентиль возраста игроков, сыгравших на турнире не менее 270 минут?"
      ]
    },
    {
      "cell_type": "code",
      "metadata": {
        "id": "GwMhMoCKKFGY",
        "outputId": "b5ab35f1-d186-4e30-fecb-e708d58726d6"
      },
      "source": [
        "'''\n",
        "SELECT name\n",
        "FROM (\n",
        "    SELECT \n",
        "        name,\n",
        "        min_played,\n",
        "        COUNT(1) OVER (PARTITION BY NULL) As N, \n",
        "        ROW_NUMBER() OVER (ORDER BY age) AS i\n",
        "    FROM players_stat) t\n",
        "WHERE\n",
        "    i = ROUND(N * 90.00 / 100.00, 0, 0)\n",
        "    AND\n",
        "    min_played >= 270\n",
        "'''"
      ],
      "execution_count": null,
      "outputs": [
        {
          "data": {
            "text/plain": [
              "'\\nSELECT name\\nFROM (\\n    SELECT \\n        name,\\n        min_played,\\n        COUNT(1) OVER (PARTITION BY NULL) As N, \\n        ROW_NUMBER() OVER (ORDER BY age) AS i\\n    FROM players_stat) t\\nWHERE\\n    i = ROUND(N * 90.00 / 100.00, 0, 0)\\n    AND\\n    min_played >= 270\\n'"
            ]
          },
          "execution_count": 1,
          "metadata": {},
          "output_type": "execute_result"
        }
      ]
    },
    {
      "cell_type": "markdown",
      "metadata": {
        "id": "qeCzWQRHKFGa"
      },
      "source": [
        "3. В каких командах голы на турнире забивали только нападающие ('AT')?"
      ]
    },
    {
      "cell_type": "code",
      "metadata": {
        "id": "opJcWBr8KFGb"
      },
      "source": [
        "'''\n",
        "SELECT l.name AS name\n",
        "FROM teams as l\n",
        "JOIN players_stat AS r\n",
        "ON l.id = r.team_id\n",
        "WHERE \n",
        "    (r.position = 'AT' AND r.goals > 0) AND\n",
        "    (r.position = 'MD' AND r.goals = 0) AND\n",
        "    (r.position = 'GK' AND r.goals = 0) AND\n",
        "    (r.position = 'DF' AND r.goals = 0)\n",
        "'''"
      ],
      "execution_count": null,
      "outputs": []
    },
    {
      "cell_type": "markdown",
      "metadata": {
        "id": "8CeTlo5UKFGb"
      },
      "source": [
        "4. Представители какой команды чаще других получали желтые карточки во время игр?"
      ]
    },
    {
      "cell_type": "code",
      "metadata": {
        "id": "CQ4e-XykKFGb"
      },
      "source": [
        "'''\n",
        "SELECT name\n",
        "FROM teams\n",
        "ORDER BY yellow_cards DESC\n",
        "LIMIT 1\n",
        "'''"
      ],
      "execution_count": null,
      "outputs": []
    },
    {
      "cell_type": "markdown",
      "metadata": {
        "id": "sZcBrRLFKFGc"
      },
      "source": [
        "## 2. Python"
      ]
    },
    {
      "cell_type": "markdown",
      "metadata": {
        "id": "vIjnP99yKFGc"
      },
      "source": [
        "### Задание 2"
      ]
    },
    {
      "cell_type": "markdown",
      "metadata": {
        "id": "JSAzZct2KFGd"
      },
      "source": [
        "Для выполнения задания нужно загрузить датасет ниже на локальный компьютер.\n",
        "\n",
        "[https://www.kaggle.com/fernandol/countries-of-the-world](https://www.kaggle.com/fernandol/countries-of-the-world)\n",
        "\n",
        "Далее, преобразовать его в датафрейм Pandas и выполнить следующие действия:\n",
        "1. Посчитать медианное значение площади стран Океании.\n",
        "2. Определить 10 стран с наименьшим уровнем грамотности.\n",
        "3. Построить график суммарной численности населения в разбивке по регионам.\n",
        "4. На основании данных, ответить на вопрос, в каком регионе наблюдается наибольший миграционный отток населения."
      ]
    },
    {
      "cell_type": "code",
      "metadata": {
        "id": "6BTFu0klKFGd"
      },
      "source": [
        "# Импортируем библиотеки\n",
        "import pandas as pd\n",
        "import seaborn as sns\n",
        "import matplotlib.pyplot as plt\n",
        "\n",
        "sns.set(rc={'figure.figsize':(12,6)}, style=\"whitegrid\")"
      ],
      "execution_count": null,
      "outputs": []
    },
    {
      "cell_type": "code",
      "metadata": {
        "id": "Pp1CptDuKFGd"
      },
      "source": [
        "# Загружаем и преобразовываем необходимые данные\n",
        "df = pd.read_csv('archive.zip', decimal = ',')\n",
        "df.Region = df.Region.str.rstrip()"
      ],
      "execution_count": null,
      "outputs": []
    },
    {
      "cell_type": "markdown",
      "metadata": {
        "id": "KfxdgUbpKFGe"
      },
      "source": [
        "1. Посчитать медианное значение площади стран Океании."
      ]
    },
    {
      "cell_type": "code",
      "metadata": {
        "id": "CiQ3cncqKFGe",
        "outputId": "c610737e-5eaf-4c11-b551-61d393138701"
      },
      "source": [
        "df.query('Region==\"OCEANIA\"')['Pop. Density (per sq. mi.)'].median()"
      ],
      "execution_count": null,
      "outputs": [
        {
          "data": {
            "text/plain": [
              "60.1"
            ]
          },
          "execution_count": 3,
          "metadata": {},
          "output_type": "execute_result"
        }
      ]
    },
    {
      "cell_type": "markdown",
      "metadata": {
        "id": "ImJ7fwFJKFGf"
      },
      "source": [
        "2. Определить 10 стран с наименьшим уровнем грамотности"
      ]
    },
    {
      "cell_type": "code",
      "metadata": {
        "id": "GxngjDfOKFGf",
        "outputId": "366a69d6-4415-4490-c703-aa3711366a8e"
      },
      "source": [
        "df.sort_values('Literacy (%)')\\\n",
        ".Country\\\n",
        ".head(10)"
      ],
      "execution_count": null,
      "outputs": [
        {
          "data": {
            "text/plain": [
              "151           Niger \n",
              "31     Burkina Faso \n",
              "183    Sierra Leone \n",
              "86           Guinea \n",
              "0       Afghanistan \n",
              "188         Somalia \n",
              "73      Gambia, The \n",
              "180         Senegal \n",
              "97             Iraq \n",
              "21            Benin \n",
              "Name: Country, dtype: object"
            ]
          },
          "execution_count": 4,
          "metadata": {},
          "output_type": "execute_result"
        }
      ]
    },
    {
      "cell_type": "markdown",
      "metadata": {
        "id": "D5ri7Fn3KFGg"
      },
      "source": [
        "3. Построить график суммарной численности населения в разбивке по регионам"
      ]
    },
    {
      "cell_type": "code",
      "metadata": {
        "id": "AV43Y0DgKFGg",
        "outputId": "b3d870ab-74ff-4798-9adc-cbb12f1ef0c5"
      },
      "source": [
        "viz_table = df.groupby('Region', as_index = False)\\\n",
        "            .agg({'Population':'sum'})\\\n",
        "            .sort_values('Population', ascending = False)\n",
        "\n",
        "ax = sns.barplot(x = 'Population', y = 'Region', data = viz_table, capsize = .2, orient = 'h')\n",
        "plt.title('Total population by region')\n",
        "plt.xlabel('Population, billion people')\n",
        "plt.ylabel('Region')"
      ],
      "execution_count": null,
      "outputs": [
        {
          "data": {
            "text/plain": [
              "Text(0, 0.5, 'Region')"
            ]
          },
          "execution_count": 15,
          "metadata": {},
          "output_type": "execute_result"
        },
        {
          "data": {
            "image/png": "[encoded data removed]",
            "text/plain": [
              "<Figure size 864x432 with 1 Axes>"
            ]
          },
          "metadata": {},
          "output_type": "display_data"
        }
      ]
    },
    {
      "cell_type": "markdown",
      "metadata": {
        "id": "p_D9HuIMKFGh"
      },
      "source": [
        "4. На основании данных, ответить на вопрос, в каком регионе наблюдается наибольший миграционный отток населения."
      ]
    },
    {
      "cell_type": "code",
      "metadata": {
        "id": "xTxYOvIYKFGi",
        "outputId": "84df6771-ce8f-4547-82c5-4ad9348167ed"
      },
      "source": [
        "df['Net_migration_pop'] = df['Net migration'].mul(df.Population)/100\n",
        "df.groupby('Region', as_index = False)\\\n",
        ".agg({'Net_migration_pop':'sum'})\\\n",
        ".sort_values('Net_migration_pop')\\\n",
        ".head(1)\\\n",
        ".Region"
      ],
      "execution_count": null,
      "outputs": [
        {
          "data": {
            "text/plain": [
              "4    LATIN AMER. & CARIB\n",
              "Name: Region, dtype: object"
            ]
          },
          "execution_count": 6,
          "metadata": {},
          "output_type": "execute_result"
        }
      ]
    },
    {
      "cell_type": "markdown",
      "metadata": {
        "id": "6JZu8xs2KFGj"
      },
      "source": [
        "Стоит отметить, что на основе предоставленных данных можно сказать только о т.н. чистом миграционном отттоке, т.е в странах региона Латинской Америки и Карибского бассейна наибольшая разница между числом эмигрантов и иммигрантов. Причем, в данном случае мигрант - это проживающий в другой стране, т.е. здесь речь идет не о потоках, а об иностранном населении."
      ]
    },
    {
      "cell_type": "code",
      "metadata": {
        "id": "qGL2wsf1KFGm"
      },
      "source": [
        ""
      ],
      "execution_count": null,
      "outputs": []
    }
  ]
}