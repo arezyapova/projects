{
  "nbformat": 4,
  "nbformat_minor": 0,
  "metadata": {
    "kernelspec": {
      "display_name": "Python 3",
      "language": "python",
      "name": "python3"
    },
    "language_info": {
      "codemirror_mode": {
        "name": "ipython",
        "version": 3
      },
      "file_extension": ".py",
      "mimetype": "text/x-python",
      "name": "python",
      "nbconvert_exporter": "python",
      "pygments_lexer": "ipython3",
      "version": "3.7.3"
    },
    "colab": {
      "name": "miniproject_6.ipynb",
      "provenance": [],
      "include_colab_link": true
    }
  },
  "cells": [
    {
      "cell_type": "markdown",
      "metadata": {
        "id": "view-in-github",
        "colab_type": "text"
      },
      "source": [
        "<a href=\"https://colab.research.google.com/github/arezyapova/projects/blob/main/miniproject_6.ipynb\" target=\"_parent\"><img src=\"https://colab.research.google.com/assets/colab-badge.svg\" alt=\"Open In Colab\"/></a>"
      ]
    },
    {
      "cell_type": "code",
      "metadata": {
        "id": "Rg6ng_PHK3O3"
      },
      "source": [
        "import pandas as pd\n",
        "import numpy as np\n",
        "%matplotlib inline\n",
        "import matplotlib.pyplot as plt\n",
        "import seaborn as sns\n",
        "\n",
        "import plotly.express as px"
      ],
      "execution_count": null,
      "outputs": []
    },
    {
      "cell_type": "code",
      "metadata": {
        "id": "exP-TZ1aK3PA"
      },
      "source": [
        "sns.set(\n",
        "    font_scale=2,\n",
        "    style=\"whitegrid\",\n",
        "    rc={'figure.figsize':(20,7)}\n",
        "        )"
      ],
      "execution_count": null,
      "outputs": []
    },
    {
      "cell_type": "code",
      "metadata": {
        "id": "-RFHG8aaK3PC"
      },
      "source": [
        "\n",
        "# Давайте разобъем наших клиентов по промежуткам от создания до запуска рекламного объявления, равным 30. \n",
        "# Определите, сколько уникальных клиентов запустили свое первое объявление в первый месяц своего существования (от 0 до 30 дней).\n",
        "# Список промежутков для метода pd.cut – [0, 30, 90, 180, 365]\n",
        "\n",
        "# А теперь – выведем на интерактивный график эти категории с количеством уникальных клиентов в них."
      ],
      "execution_count": null,
      "outputs": []
    },
    {
      "cell_type": "code",
      "metadata": {
        "id": "cQnsD10DK3PE"
      },
      "source": [
        "ads_data         = pd.read_csv('/home/jupyter-a.rezjapova-13/lesson_6/ads_data.csv', \n",
        "                               parse_dates=['date'])\n",
        "ads_clients_data = pd.read_csv('/home/jupyter-a.rezjapova-13/lesson_6/ads_clients_data.csv', \n",
        "                               parse_dates=['date', 'create_date'])"
      ],
      "execution_count": null,
      "outputs": []
    },
    {
      "cell_type": "code",
      "metadata": {
        "id": "pQ9Pqul1K3PG"
      },
      "source": [
        "# Разберемся с распределением количества показов и кликов. Посчитайте среднее количество показов и \n",
        "# среднее количество кликов на объявления за весь период (округлите до целых)."
      ],
      "execution_count": null,
      "outputs": []
    },
    {
      "cell_type": "code",
      "metadata": {
        "id": "S5lX8C4YK3PI"
      },
      "source": [
        "by_event = ads_data.groupby('event', as_index = False)\\\n",
        "        .agg({'ad_id':'count'})\\\n",
        "        .rename(columns = {'ad_id':'total'})"
      ],
      "execution_count": null,
      "outputs": []
    },
    {
      "cell_type": "code",
      "metadata": {
        "id": "J-XzNEFOK3PJ"
      },
      "source": [
        "by_event['average'] = by_event['total'] /ads_data.ad_id.nunique()"
      ],
      "execution_count": null,
      "outputs": []
    },
    {
      "cell_type": "code",
      "metadata": {
        "id": "MDK7dwibK3PL"
      },
      "source": [
        "by_event['average'] = by_event['average'].round()"
      ],
      "execution_count": null,
      "outputs": []
    },
    {
      "cell_type": "code",
      "metadata": {
        "id": "9aBg3vg9K3PM",
        "outputId": "03b1cf9b-5a02-4eba-bdbf-836efcf0ee22"
      },
      "source": [
        "ads_data"
      ],
      "execution_count": null,
      "outputs": [
        {
          "data": {
            "text/html": [
              "<div>\n",
              "<style scoped>\n",
              "    .dataframe tbody tr th:only-of-type {\n",
              "        vertical-align: middle;\n",
              "    }\n",
              "\n",
              "    .dataframe tbody tr th {\n",
              "        vertical-align: top;\n",
              "    }\n",
              "\n",
              "    .dataframe thead th {\n",
              "        text-align: right;\n",
              "    }\n",
              "</style>\n",
              "<table border=\"1\" class=\"dataframe\">\n",
              "  <thead>\n",
              "    <tr style=\"text-align: right;\">\n",
              "      <th></th>\n",
              "      <th>date</th>\n",
              "      <th>time</th>\n",
              "      <th>event</th>\n",
              "      <th>platform</th>\n",
              "      <th>ad_id</th>\n",
              "      <th>client_union_id</th>\n",
              "      <th>campaign_union_id</th>\n",
              "      <th>ad_cost_type</th>\n",
              "      <th>ad_cost</th>\n",
              "      <th>has_video</th>\n",
              "      <th>target_audience_count</th>\n",
              "    </tr>\n",
              "  </thead>\n",
              "  <tbody>\n",
              "    <tr>\n",
              "      <th>0</th>\n",
              "      <td>2019-04-01</td>\n",
              "      <td>2019-04-01 00:00:48</td>\n",
              "      <td>view</td>\n",
              "      <td>android</td>\n",
              "      <td>45061</td>\n",
              "      <td>34734</td>\n",
              "      <td>45061</td>\n",
              "      <td>CPM</td>\n",
              "      <td>200.6</td>\n",
              "      <td>0</td>\n",
              "      <td>1955269</td>\n",
              "    </tr>\n",
              "    <tr>\n",
              "      <th>1</th>\n",
              "      <td>2019-04-01</td>\n",
              "      <td>2019-04-01 00:00:48</td>\n",
              "      <td>view</td>\n",
              "      <td>web</td>\n",
              "      <td>121288</td>\n",
              "      <td>121288</td>\n",
              "      <td>121288</td>\n",
              "      <td>CPM</td>\n",
              "      <td>187.4</td>\n",
              "      <td>0</td>\n",
              "      <td>232011</td>\n",
              "    </tr>\n",
              "    <tr>\n",
              "      <th>2</th>\n",
              "      <td>2019-04-01</td>\n",
              "      <td>2019-04-01 00:01:03</td>\n",
              "      <td>view</td>\n",
              "      <td>android</td>\n",
              "      <td>102737</td>\n",
              "      <td>102535</td>\n",
              "      <td>102564</td>\n",
              "      <td>CPC</td>\n",
              "      <td>60.7</td>\n",
              "      <td>0</td>\n",
              "      <td>4410</td>\n",
              "    </tr>\n",
              "    <tr>\n",
              "      <th>3</th>\n",
              "      <td>2019-04-01</td>\n",
              "      <td>2019-04-01 00:01:03</td>\n",
              "      <td>view</td>\n",
              "      <td>android</td>\n",
              "      <td>107564</td>\n",
              "      <td>106914</td>\n",
              "      <td>107564</td>\n",
              "      <td>CPM</td>\n",
              "      <td>217.3</td>\n",
              "      <td>0</td>\n",
              "      <td>62711</td>\n",
              "    </tr>\n",
              "    <tr>\n",
              "      <th>4</th>\n",
              "      <td>2019-04-01</td>\n",
              "      <td>2019-04-01 00:01:09</td>\n",
              "      <td>view</td>\n",
              "      <td>android</td>\n",
              "      <td>4922</td>\n",
              "      <td>37</td>\n",
              "      <td>4400</td>\n",
              "      <td>CPC</td>\n",
              "      <td>60.1</td>\n",
              "      <td>0</td>\n",
              "      <td>1183501</td>\n",
              "    </tr>\n",
              "    <tr>\n",
              "      <th>...</th>\n",
              "      <td>...</td>\n",
              "      <td>...</td>\n",
              "      <td>...</td>\n",
              "      <td>...</td>\n",
              "      <td>...</td>\n",
              "      <td>...</td>\n",
              "      <td>...</td>\n",
              "      <td>...</td>\n",
              "      <td>...</td>\n",
              "      <td>...</td>\n",
              "      <td>...</td>\n",
              "    </tr>\n",
              "    <tr>\n",
              "      <th>999995</th>\n",
              "      <td>2019-04-05</td>\n",
              "      <td>2019-04-05 20:59:52</td>\n",
              "      <td>view</td>\n",
              "      <td>web</td>\n",
              "      <td>112583</td>\n",
              "      <td>111818</td>\n",
              "      <td>112260</td>\n",
              "      <td>CPM</td>\n",
              "      <td>210.1</td>\n",
              "      <td>0</td>\n",
              "      <td>22392</td>\n",
              "    </tr>\n",
              "    <tr>\n",
              "      <th>999996</th>\n",
              "      <td>2019-04-05</td>\n",
              "      <td>2019-04-05 20:59:52</td>\n",
              "      <td>view</td>\n",
              "      <td>android</td>\n",
              "      <td>112583</td>\n",
              "      <td>111818</td>\n",
              "      <td>112260</td>\n",
              "      <td>CPM</td>\n",
              "      <td>210.1</td>\n",
              "      <td>0</td>\n",
              "      <td>22392</td>\n",
              "    </tr>\n",
              "    <tr>\n",
              "      <th>999997</th>\n",
              "      <td>2019-04-05</td>\n",
              "      <td>2019-04-05 20:59:52</td>\n",
              "      <td>click</td>\n",
              "      <td>web</td>\n",
              "      <td>112583</td>\n",
              "      <td>111818</td>\n",
              "      <td>112260</td>\n",
              "      <td>CPM</td>\n",
              "      <td>210.1</td>\n",
              "      <td>0</td>\n",
              "      <td>22392</td>\n",
              "    </tr>\n",
              "    <tr>\n",
              "      <th>999998</th>\n",
              "      <td>2019-04-05</td>\n",
              "      <td>2019-04-05 20:59:52</td>\n",
              "      <td>view</td>\n",
              "      <td>web</td>\n",
              "      <td>113350</td>\n",
              "      <td>113036</td>\n",
              "      <td>113251</td>\n",
              "      <td>CPM</td>\n",
              "      <td>183.3</td>\n",
              "      <td>0</td>\n",
              "      <td>571929</td>\n",
              "    </tr>\n",
              "    <tr>\n",
              "      <th>999999</th>\n",
              "      <td>2019-04-05</td>\n",
              "      <td>2019-04-05 20:59:52</td>\n",
              "      <td>view</td>\n",
              "      <td>android</td>\n",
              "      <td>117353</td>\n",
              "      <td>117350</td>\n",
              "      <td>117353</td>\n",
              "      <td>CPM</td>\n",
              "      <td>207.5</td>\n",
              "      <td>1</td>\n",
              "      <td>167598</td>\n",
              "    </tr>\n",
              "  </tbody>\n",
              "</table>\n",
              "<p>1000000 rows × 11 columns</p>\n",
              "</div>"
            ],
            "text/plain": [
              "             date                 time  event platform   ad_id  \\\n",
              "0      2019-04-01  2019-04-01 00:00:48   view  android   45061   \n",
              "1      2019-04-01  2019-04-01 00:00:48   view      web  121288   \n",
              "2      2019-04-01  2019-04-01 00:01:03   view  android  102737   \n",
              "3      2019-04-01  2019-04-01 00:01:03   view  android  107564   \n",
              "4      2019-04-01  2019-04-01 00:01:09   view  android    4922   \n",
              "...           ...                  ...    ...      ...     ...   \n",
              "999995 2019-04-05  2019-04-05 20:59:52   view      web  112583   \n",
              "999996 2019-04-05  2019-04-05 20:59:52   view  android  112583   \n",
              "999997 2019-04-05  2019-04-05 20:59:52  click      web  112583   \n",
              "999998 2019-04-05  2019-04-05 20:59:52   view      web  113350   \n",
              "999999 2019-04-05  2019-04-05 20:59:52   view  android  117353   \n",
              "\n",
              "        client_union_id  campaign_union_id ad_cost_type  ad_cost  has_video  \\\n",
              "0                 34734              45061          CPM    200.6          0   \n",
              "1                121288             121288          CPM    187.4          0   \n",
              "2                102535             102564          CPC     60.7          0   \n",
              "3                106914             107564          CPM    217.3          0   \n",
              "4                    37               4400          CPC     60.1          0   \n",
              "...                 ...                ...          ...      ...        ...   \n",
              "999995           111818             112260          CPM    210.1          0   \n",
              "999996           111818             112260          CPM    210.1          0   \n",
              "999997           111818             112260          CPM    210.1          0   \n",
              "999998           113036             113251          CPM    183.3          0   \n",
              "999999           117350             117353          CPM    207.5          1   \n",
              "\n",
              "        target_audience_count  \n",
              "0                     1955269  \n",
              "1                      232011  \n",
              "2                        4410  \n",
              "3                       62711  \n",
              "4                     1183501  \n",
              "...                       ...  \n",
              "999995                  22392  \n",
              "999996                  22392  \n",
              "999997                  22392  \n",
              "999998                 571929  \n",
              "999999                 167598  \n",
              "\n",
              "[1000000 rows x 11 columns]"
            ]
          },
          "execution_count": 55,
          "metadata": {},
          "output_type": "execute_result"
        }
      ]
    },
    {
      "cell_type": "code",
      "metadata": {
        "id": "Su8XWqEMK3PP"
      },
      "source": [
        "# Нарисуйте график распределения показов на объявление за весь период."
      ],
      "execution_count": null,
      "outputs": []
    },
    {
      "cell_type": "code",
      "metadata": {
        "id": "WXUiKjbzK3PQ"
      },
      "source": [
        "ads_event = ads_data.groupby(['ad_id','event'], as_index = False)\\\n",
        "        .agg({'platform':'count'})\\\n",
        "        .rename(columns = {'platform':'ads_number'})"
      ],
      "execution_count": null,
      "outputs": []
    },
    {
      "cell_type": "code",
      "metadata": {
        "id": "BNbiGLhfK3PQ"
      },
      "source": [
        "ads_event_pivot = ads_event.pivot(index = 'ad_id', columns = 'event', values = 'ads_number')"
      ],
      "execution_count": null,
      "outputs": []
    },
    {
      "cell_type": "code",
      "metadata": {
        "id": "WGRCbv4WK3PR"
      },
      "source": [
        "ads_event_pivot = ads_event_pivot.fillna(0)"
      ],
      "execution_count": null,
      "outputs": []
    },
    {
      "cell_type": "code",
      "metadata": {
        "id": "YKrfvP1AK3PS"
      },
      "source": [
        "ads_event_pivot['log_view'] = np.log(ads_event_pivot.view+1)"
      ],
      "execution_count": null,
      "outputs": []
    },
    {
      "cell_type": "code",
      "metadata": {
        "id": "K_6rT0o3K3PT",
        "outputId": "e2f4d01f-cea2-4ac0-8b56-2831f445b4eb"
      },
      "source": [
        "ax_log_view = sns.histplot(x = 'log_view', data = ads_event_pivot, kde = True, stat = 'density')"
      ],
      "execution_count": null,
      "outputs": [
        {
          "data": {
            "image/png": "[encoded data removed]",
            "text/plain": [
              "<Figure size 1440x504 with 1 Axes>"
            ]
          },
          "metadata": {},
          "output_type": "display_data"
        }
      ]
    },
    {
      "cell_type": "code",
      "metadata": {
        "id": "yOzdmSpRK3PT"
      },
      "source": [
        "# Давайте посчитаем скользящее среднее показов с окном 2. \n",
        "# Какое значение скользящего среднего получим за 6 апреля 2019 года (ответ округлите до целых)?"
      ],
      "execution_count": null,
      "outputs": []
    },
    {
      "cell_type": "code",
      "metadata": {
        "id": "57R-yJl7K3PU"
      },
      "source": [
        "ads_date_id = ads_data.query('event==\"view\"')\\\n",
        "        .groupby(['date', 'ad_id'], as_index = False)\\\n",
        "        .agg({'ad_cost_type':'count'})\\\n",
        "        .rename(columns={'ad_cost_type':'ad_count'})"
      ],
      "execution_count": null,
      "outputs": []
    },
    {
      "cell_type": "code",
      "metadata": {
        "id": "91Pawlv9K3PU"
      },
      "source": [
        "mean_views_day = ads_date_id.groupby('date', as_index=False)\\\n",
        "        .agg({'ad_count':'mean'})\\\n",
        "        .rename(columns={'ad_count':'mean_views'})"
      ],
      "execution_count": null,
      "outputs": []
    },
    {
      "cell_type": "code",
      "metadata": {
        "id": "hEKKqH_fK3PV"
      },
      "source": [
        "mean_views_day['rolling_mean'] = mean_views_day.mean_views.rolling(2).mean()"
      ],
      "execution_count": null,
      "outputs": []
    },
    {
      "cell_type": "code",
      "metadata": {
        "id": "DAbY1c8TK3PW",
        "outputId": "828f7d7b-fc66-4707-acb5-b14b71097410"
      },
      "source": [
        "mean_views_day"
      ],
      "execution_count": null,
      "outputs": [
        {
          "data": {
            "text/html": [
              "<div>\n",
              "<style scoped>\n",
              "    .dataframe tbody tr th:only-of-type {\n",
              "        vertical-align: middle;\n",
              "    }\n",
              "\n",
              "    .dataframe tbody tr th {\n",
              "        vertical-align: top;\n",
              "    }\n",
              "\n",
              "    .dataframe thead th {\n",
              "        text-align: right;\n",
              "    }\n",
              "</style>\n",
              "<table border=\"1\" class=\"dataframe\">\n",
              "  <thead>\n",
              "    <tr style=\"text-align: right;\">\n",
              "      <th></th>\n",
              "      <th>date</th>\n",
              "      <th>mean_views</th>\n",
              "      <th>rolling_mean</th>\n",
              "    </tr>\n",
              "  </thead>\n",
              "  <tbody>\n",
              "    <tr>\n",
              "      <th>0</th>\n",
              "      <td>2019-04-01</td>\n",
              "      <td>154.482270</td>\n",
              "      <td>NaN</td>\n",
              "    </tr>\n",
              "    <tr>\n",
              "      <th>1</th>\n",
              "      <td>2019-04-02</td>\n",
              "      <td>137.786982</td>\n",
              "      <td>146.134626</td>\n",
              "    </tr>\n",
              "    <tr>\n",
              "      <th>2</th>\n",
              "      <td>2019-04-03</td>\n",
              "      <td>163.952778</td>\n",
              "      <td>150.869880</td>\n",
              "    </tr>\n",
              "    <tr>\n",
              "      <th>3</th>\n",
              "      <td>2019-04-04</td>\n",
              "      <td>675.901720</td>\n",
              "      <td>419.927249</td>\n",
              "    </tr>\n",
              "    <tr>\n",
              "      <th>4</th>\n",
              "      <td>2019-04-05</td>\n",
              "      <td>919.109677</td>\n",
              "      <td>797.505699</td>\n",
              "    </tr>\n",
              "    <tr>\n",
              "      <th>5</th>\n",
              "      <td>2019-04-06</td>\n",
              "      <td>277.122727</td>\n",
              "      <td>598.116202</td>\n",
              "    </tr>\n",
              "  </tbody>\n",
              "</table>\n",
              "</div>"
            ],
            "text/plain": [
              "        date  mean_views  rolling_mean\n",
              "0 2019-04-01  154.482270           NaN\n",
              "1 2019-04-02  137.786982    146.134626\n",
              "2 2019-04-03  163.952778    150.869880\n",
              "3 2019-04-04  675.901720    419.927249\n",
              "4 2019-04-05  919.109677    797.505699\n",
              "5 2019-04-06  277.122727    598.116202"
            ]
          },
          "execution_count": 66,
          "metadata": {},
          "output_type": "execute_result"
        }
      ]
    },
    {
      "cell_type": "code",
      "metadata": {
        "id": "8lwue-7FK3PX"
      },
      "source": [
        "#Скользящее среднее часто используется для поиска аномалий в данных. \n",
        "# Давайте попробуем нанести на один график значения арифметического среднего по дням и скользящего среднего количества показов."
      ],
      "execution_count": null,
      "outputs": []
    },
    {
      "cell_type": "code",
      "metadata": {
        "id": "ydWKNZzJK3PZ",
        "outputId": "9c16d281-97d0-4f74-c8a1-9379594773d5"
      },
      "source": [
        "fig = px.line(mean_views_day, x='date', y=['mean_views', 'rolling_mean'])\n",
        "fig.show()"
      ],
      "execution_count": null,
      "outputs": [
        {
          "data": {
            "application/vnd.plotly.v1+json": {
              "config": {
                "plotlyServerURL": "https://plot.ly"
              },
              "data": [
                {
                  "hovertemplate": "variable=mean_views<br>date=%{x}<br>value=%{y}<extra></extra>",
                  "legendgroup": "mean_views",
                  "line": {
                    "color": "#636efa",
                    "dash": "solid"
                  },
                  "mode": "lines",
                  "name": "mean_views",
                  "orientation": "v",
                  "showlegend": true,
                  "type": "scatter",
                  "x": [
                    "2019-04-01T00:00:00",
                    "2019-04-02T00:00:00",
                    "2019-04-03T00:00:00",
                    "2019-04-04T00:00:00",
                    "2019-04-05T00:00:00",
                    "2019-04-06T00:00:00"
                  ],
                  "xaxis": "x",
                  "y": [
                    154.4822695035461,
                    137.7869822485207,
                    163.95277777777778,
                    675.90171990172,
                    919.1096774193549,
                    277.1227272727273
                  ],
                  "yaxis": "y"
                },
                {
                  "hovertemplate": "variable=rolling_mean<br>date=%{x}<br>value=%{y}<extra></extra>",
                  "legendgroup": "rolling_mean",
                  "line": {
                    "color": "#EF553B",
                    "dash": "solid"
                  },
                  "mode": "lines",
                  "name": "rolling_mean",
                  "orientation": "v",
                  "showlegend": true,
                  "type": "scatter",
                  "x": [
                    "2019-04-01T00:00:00",
                    "2019-04-02T00:00:00",
                    "2019-04-03T00:00:00",
                    "2019-04-04T00:00:00",
                    "2019-04-05T00:00:00",
                    "2019-04-06T00:00:00"
                  ],
                  "xaxis": "x",
                  "y": [
                    null,
                    146.1346258760334,
                    150.86988001314924,
                    419.9272488397489,
                    797.5056986605374,
                    598.1162023460411
                  ],
                  "yaxis": "y"
                }
              ],
              "layout": {
                "legend": {
                  "title": {
                    "text": "variable"
                  },
                  "tracegroupgap": 0
                },
                "margin": {
                  "t": 60
                },
                "template": {
                  "data": {
                    "bar": [
                      {
                        "error_x": {
                          "color": "#2a3f5f"
                        },
                        "error_y": {
                          "color": "#2a3f5f"
                        },
                        "marker": {
                          "line": {
                            "color": "#E5ECF6",
                            "width": 0.5
                          }
                        },
                        "type": "bar"
                      }
                    ],
                    "barpolar": [
                      {
                        "marker": {
                          "line": {
                            "color": "#E5ECF6",
                            "width": 0.5
                          }
                        },
                        "type": "barpolar"
                      }
                    ],
                    "carpet": [
                      {
                        "aaxis": {
                          "endlinecolor": "#2a3f5f",
                          "gridcolor": "white",
                          "linecolor": "white",
                          "minorgridcolor": "white",
                          "startlinecolor": "#2a3f5f"
                        },
                        "baxis": {
                          "endlinecolor": "#2a3f5f",
                          "gridcolor": "white",
                          "linecolor": "white",
                          "minorgridcolor": "white",
                          "startlinecolor": "#2a3f5f"
                        },
                        "type": "carpet"
                      }
                    ],
                    "choropleth": [
                      {
                        "colorbar": {
                          "outlinewidth": 0,
                          "ticks": ""
                        },
                        "type": "choropleth"
                      }
                    ],
                    "contour": [
                      {
                        "colorbar": {
                          "outlinewidth": 0,
                          "ticks": ""
                        },
                        "colorscale": [
                          [
                            0,
                            "#0d0887"
                          ],
                          [
                            0.1111111111111111,
                            "#46039f"
                          ],
                          [
                            0.2222222222222222,
                            "#7201a8"
                          ],
                          [
                            0.3333333333333333,
                            "#9c179e"
                          ],
                          [
                            0.4444444444444444,
                            "#bd3786"
                          ],
                          [
                            0.5555555555555556,
                            "#d8576b"
                          ],
                          [
                            0.6666666666666666,
                            "#ed7953"
                          ],
                          [
                            0.7777777777777778,
                            "#fb9f3a"
                          ],
                          [
                            0.8888888888888888,
                            "#fdca26"
                          ],
                          [
                            1,
                            "#f0f921"
                          ]
                        ],
                        "type": "contour"
                      }
                    ],
                    "contourcarpet": [
                      {
                        "colorbar": {
                          "outlinewidth": 0,
                          "ticks": ""
                        },
                        "type": "contourcarpet"
                      }
                    ],
                    "heatmap": [
                      {
                        "colorbar": {
                          "outlinewidth": 0,
                          "ticks": ""
                        },
                        "colorscale": [
                          [
                            0,
                            "#0d0887"
                          ],
                          [
                            0.1111111111111111,
                            "#46039f"
                          ],
                          [
                            0.2222222222222222,
                            "#7201a8"
                          ],
                          [
                            0.3333333333333333,
                            "#9c179e"
                          ],
                          [
                            0.4444444444444444,
                            "#bd3786"
                          ],
                          [
                            0.5555555555555556,
                            "#d8576b"
                          ],
                          [
                            0.6666666666666666,
                            "#ed7953"
                          ],
                          [
                            0.7777777777777778,
                            "#fb9f3a"
                          ],
                          [
                            0.8888888888888888,
                            "#fdca26"
                          ],
                          [
                            1,
                            "#f0f921"
                          ]
                        ],
                        "type": "heatmap"
                      }
                    ],
                    "heatmapgl": [
                      {
                        "colorbar": {
                          "outlinewidth": 0,
                          "ticks": ""
                        },
                        "colorscale": [
                          [
                            0,
                            "#0d0887"
                          ],
                          [
                            0.1111111111111111,
                            "#46039f"
                          ],
                          [
                            0.2222222222222222,
                            "#7201a8"
                          ],
                          [
                            0.3333333333333333,
                            "#9c179e"
                          ],
                          [
                            0.4444444444444444,
                            "#bd3786"
                          ],
                          [
                            0.5555555555555556,
                            "#d8576b"
                          ],
                          [
                            0.6666666666666666,
                            "#ed7953"
                          ],
                          [
                            0.7777777777777778,
                            "#fb9f3a"
                          ],
                          [
                            0.8888888888888888,
                            "#fdca26"
                          ],
                          [
                            1,
                            "#f0f921"
                          ]
                        ],
                        "type": "heatmapgl"
                      }
                    ],
                    "histogram": [
                      {
                        "marker": {
                          "colorbar": {
                            "outlinewidth": 0,
                            "ticks": ""
                          }
                        },
                        "type": "histogram"
                      }
                    ],
                    "histogram2d": [
                      {
                        "colorbar": {
                          "outlinewidth": 0,
                          "ticks": ""
                        },
                        "colorscale": [
                          [
                            0,
                            "#0d0887"
                          ],
                          [
                            0.1111111111111111,
                            "#46039f"
                          ],
                          [
                            0.2222222222222222,
                            "#7201a8"
                          ],
                          [
                            0.3333333333333333,
                            "#9c179e"
                          ],
                          [
                            0.4444444444444444,
                            "#bd3786"
                          ],
                          [
                            0.5555555555555556,
                            "#d8576b"
                          ],
                          [
                            0.6666666666666666,
                            "#ed7953"
                          ],
                          [
                            0.7777777777777778,
                            "#fb9f3a"
                          ],
                          [
                            0.8888888888888888,
                            "#fdca26"
                          ],
                          [
                            1,
                            "#f0f921"
                          ]
                        ],
                        "type": "histogram2d"
                      }
                    ],
                    "histogram2dcontour": [
                      {
                        "colorbar": {
                          "outlinewidth": 0,
                          "ticks": ""
                        },
                        "colorscale": [
                          [
                            0,
                            "#0d0887"
                          ],
                          [
                            0.1111111111111111,
                            "#46039f"
                          ],
                          [
                            0.2222222222222222,
                            "#7201a8"
                          ],
                          [
                            0.3333333333333333,
                            "#9c179e"
                          ],
                          [
                            0.4444444444444444,
                            "#bd3786"
                          ],
                          [
                            0.5555555555555556,
                            "#d8576b"
                          ],
                          [
                            0.6666666666666666,
                            "#ed7953"
                          ],
                          [
                            0.7777777777777778,
                            "#fb9f3a"
                          ],
                          [
                            0.8888888888888888,
                            "#fdca26"
                          ],
                          [
                            1,
                            "#f0f921"
                          ]
                        ],
                        "type": "histogram2dcontour"
                      }
                    ],
                    "mesh3d": [
                      {
                        "colorbar": {
                          "outlinewidth": 0,
                          "ticks": ""
                        },
                        "type": "mesh3d"
                      }
                    ],
                    "parcoords": [
                      {
                        "line": {
                          "colorbar": {
                            "outlinewidth": 0,
                            "ticks": ""
                          }
                        },
                        "type": "parcoords"
                      }
                    ],
                    "pie": [
                      {
                        "automargin": true,
                        "type": "pie"
                      }
                    ],
                    "scatter": [
                      {
                        "marker": {
                          "colorbar": {
                            "outlinewidth": 0,
                            "ticks": ""
                          }
                        },
                        "type": "scatter"
                      }
                    ],
                    "scatter3d": [
                      {
                        "line": {
                          "colorbar": {
                            "outlinewidth": 0,
                            "ticks": ""
                          }
                        },
                        "marker": {
                          "colorbar": {
                            "outlinewidth": 0,
                            "ticks": ""
                          }
                        },
                        "type": "scatter3d"
                      }
                    ],
                    "scattercarpet": [
                      {
                        "marker": {
                          "colorbar": {
                            "outlinewidth": 0,
                            "ticks": ""
                          }
                        },
                        "type": "scattercarpet"
                      }
                    ],
                    "scattergeo": [
                      {
                        "marker": {
                          "colorbar": {
                            "outlinewidth": 0,
                            "ticks": ""
                          }
                        },
                        "type": "scattergeo"
                      }
                    ],
                    "scattergl": [
                      {
                        "marker": {
                          "colorbar": {
                            "outlinewidth": 0,
                            "ticks": ""
                          }
                        },
                        "type": "scattergl"
                      }
                    ],
                    "scattermapbox": [
                      {
                        "marker": {
                          "colorbar": {
                            "outlinewidth": 0,
                            "ticks": ""
                          }
                        },
                        "type": "scattermapbox"
                      }
                    ],
                    "scatterpolar": [
                      {
                        "marker": {
                          "colorbar": {
                            "outlinewidth": 0,
                            "ticks": ""
                          }
                        },
                        "type": "scatterpolar"
                      }
                    ],
                    "scatterpolargl": [
                      {
                        "marker": {
                          "colorbar": {
                            "outlinewidth": 0,
                            "ticks": ""
                          }
                        },
                        "type": "scatterpolargl"
                      }
                    ],
                    "scatterternary": [
                      {
                        "marker": {
                          "colorbar": {
                            "outlinewidth": 0,
                            "ticks": ""
                          }
                        },
                        "type": "scatterternary"
                      }
                    ],
                    "surface": [
                      {
                        "colorbar": {
                          "outlinewidth": 0,
                          "ticks": ""
                        },
                        "colorscale": [
                          [
                            0,
                            "#0d0887"
                          ],
                          [
                            0.1111111111111111,
                            "#46039f"
                          ],
                          [
                            0.2222222222222222,
                            "#7201a8"
                          ],
                          [
                            0.3333333333333333,
                            "#9c179e"
                          ],
                          [
                            0.4444444444444444,
                            "#bd3786"
                          ],
                          [
                            0.5555555555555556,
                            "#d8576b"
                          ],
                          [
                            0.6666666666666666,
                            "#ed7953"
                          ],
                          [
                            0.7777777777777778,
                            "#fb9f3a"
                          ],
                          [
                            0.8888888888888888,
                            "#fdca26"
                          ],
                          [
                            1,
                            "#f0f921"
                          ]
                        ],
                        "type": "surface"
                      }
                    ],
                    "table": [
                      {
                        "cells": {
                          "fill": {
                            "color": "#EBF0F8"
                          },
                          "line": {
                            "color": "white"
                          }
                        },
                        "header": {
                          "fill": {
                            "color": "#C8D4E3"
                          },
                          "line": {
                            "color": "white"
                          }
                        },
                        "type": "table"
                      }
                    ]
                  },
                  "layout": {
                    "annotationdefaults": {
                      "arrowcolor": "#2a3f5f",
                      "arrowhead": 0,
                      "arrowwidth": 1
                    },
                    "coloraxis": {
                      "colorbar": {
                        "outlinewidth": 0,
                        "ticks": ""
                      }
                    },
                    "colorscale": {
                      "diverging": [
                        [
                          0,
                          "#8e0152"
                        ],
                        [
                          0.1,
                          "#c51b7d"
                        ],
                        [
                          0.2,
                          "#de77ae"
                        ],
                        [
                          0.3,
                          "#f1b6da"
                        ],
                        [
                          0.4,
                          "#fde0ef"
                        ],
                        [
                          0.5,
                          "#f7f7f7"
                        ],
                        [
                          0.6,
                          "#e6f5d0"
                        ],
                        [
                          0.7,
                          "#b8e186"
                        ],
                        [
                          0.8,
                          "#7fbc41"
                        ],
                        [
                          0.9,
                          "#4d9221"
                        ],
                        [
                          1,
                          "#276419"
                        ]
                      ],
                      "sequential": [
                        [
                          0,
                          "#0d0887"
                        ],
                        [
                          0.1111111111111111,
                          "#46039f"
                        ],
                        [
                          0.2222222222222222,
                          "#7201a8"
                        ],
                        [
                          0.3333333333333333,
                          "#9c179e"
                        ],
                        [
                          0.4444444444444444,
                          "#bd3786"
                        ],
                        [
                          0.5555555555555556,
                          "#d8576b"
                        ],
                        [
                          0.6666666666666666,
                          "#ed7953"
                        ],
                        [
                          0.7777777777777778,
                          "#fb9f3a"
                        ],
                        [
                          0.8888888888888888,
                          "#fdca26"
                        ],
                        [
                          1,
                          "#f0f921"
                        ]
                      ],
                      "sequentialminus": [
                        [
                          0,
                          "#0d0887"
                        ],
                        [
                          0.1111111111111111,
                          "#46039f"
                        ],
                        [
                          0.2222222222222222,
                          "#7201a8"
                        ],
                        [
                          0.3333333333333333,
                          "#9c179e"
                        ],
                        [
                          0.4444444444444444,
                          "#bd3786"
                        ],
                        [
                          0.5555555555555556,
                          "#d8576b"
                        ],
                        [
                          0.6666666666666666,
                          "#ed7953"
                        ],
                        [
                          0.7777777777777778,
                          "#fb9f3a"
                        ],
                        [
                          0.8888888888888888,
                          "#fdca26"
                        ],
                        [
                          1,
                          "#f0f921"
                        ]
                      ]
                    },
                    "colorway": [
                      "#636efa",
                      "#EF553B",
                      "#00cc96",
                      "#ab63fa",
                      "#FFA15A",
                      "#19d3f3",
                      "#FF6692",
                      "#B6E880",
                      "#FF97FF",
                      "#FECB52"
                    ],
                    "font": {
                      "color": "#2a3f5f"
                    },
                    "geo": {
                      "bgcolor": "white",
                      "lakecolor": "white",
                      "landcolor": "#E5ECF6",
                      "showlakes": true,
                      "showland": true,
                      "subunitcolor": "white"
                    },
                    "hoverlabel": {
                      "align": "left"
                    },
                    "hovermode": "closest",
                    "mapbox": {
                      "style": "light"
                    },
                    "paper_bgcolor": "white",
                    "plot_bgcolor": "#E5ECF6",
                    "polar": {
                      "angularaxis": {
                        "gridcolor": "white",
                        "linecolor": "white",
                        "ticks": ""
                      },
                      "bgcolor": "#E5ECF6",
                      "radialaxis": {
                        "gridcolor": "white",
                        "linecolor": "white",
                        "ticks": ""
                      }
                    },
                    "scene": {
                      "xaxis": {
                        "backgroundcolor": "#E5ECF6",
                        "gridcolor": "white",
                        "gridwidth": 2,
                        "linecolor": "white",
                        "showbackground": true,
                        "ticks": "",
                        "zerolinecolor": "white"
                      },
                      "yaxis": {
                        "backgroundcolor": "#E5ECF6",
                        "gridcolor": "white",
                        "gridwidth": 2,
                        "linecolor": "white",
                        "showbackground": true,
                        "ticks": "",
                        "zerolinecolor": "white"
                      },
                      "zaxis": {
                        "backgroundcolor": "#E5ECF6",
                        "gridcolor": "white",
                        "gridwidth": 2,
                        "linecolor": "white",
                        "showbackground": true,
                        "ticks": "",
                        "zerolinecolor": "white"
                      }
                    },
                    "shapedefaults": {
                      "line": {
                        "color": "#2a3f5f"
                      }
                    },
                    "ternary": {
                      "aaxis": {
                        "gridcolor": "white",
                        "linecolor": "white",
                        "ticks": ""
                      },
                      "baxis": {
                        "gridcolor": "white",
                        "linecolor": "white",
                        "ticks": ""
                      },
                      "bgcolor": "#E5ECF6",
                      "caxis": {
                        "gridcolor": "white",
                        "linecolor": "white",
                        "ticks": ""
                      }
                    },
                    "title": {
                      "x": 0.05
                    },
                    "xaxis": {
                      "automargin": true,
                      "gridcolor": "white",
                      "linecolor": "white",
                      "ticks": "",
                      "title": {
                        "standoff": 15
                      },
                      "zerolinecolor": "white",
                      "zerolinewidth": 2
                    },
                    "yaxis": {
                      "automargin": true,
                      "gridcolor": "white",
                      "linecolor": "white",
                      "ticks": "",
                      "title": {
                        "standoff": 15
                      },
                      "zerolinecolor": "white",
                      "zerolinewidth": 2
                    }
                  }
                },
                "xaxis": {
                  "anchor": "y",
                  "domain": [
                    0,
                    1
                  ],
                  "title": {
                    "text": "date"
                  }
                },
                "yaxis": {
                  "anchor": "x",
                  "domain": [
                    0,
                    1
                  ],
                  "title": {
                    "text": "value"
                  }
                }
              }
            },
            "text/html": [
              "<div>\n",
              "        \n",
              "        \n",
              "            <div id=\"02fd4eab-df26-423e-90d0-3bd96e3fea3c\" class=\"plotly-graph-div\" style=\"height:525px; width:100%;\"></div>\n",
              "            <script type=\"text/javascript\">\n",
              "                require([\"plotly\"], function(Plotly) {\n",
              "                    window.PLOTLYENV=window.PLOTLYENV || {};\n",
              "                    \n",
              "                if (document.getElementById(\"02fd4eab-df26-423e-90d0-3bd96e3fea3c\")) {\n",
              "                    Plotly.newPlot(\n",
              "                        '02fd4eab-df26-423e-90d0-3bd96e3fea3c',\n",
              "                        [{\"hovertemplate\": \"variable=mean_views<br>date=%{x}<br>value=%{y}<extra></extra>\", \"legendgroup\": \"mean_views\", \"line\": {\"color\": \"#636efa\", \"dash\": \"solid\"}, \"mode\": \"lines\", \"name\": \"mean_views\", \"orientation\": \"v\", \"showlegend\": true, \"type\": \"scatter\", \"x\": [\"2019-04-01T00:00:00\", \"2019-04-02T00:00:00\", \"2019-04-03T00:00:00\", \"2019-04-04T00:00:00\", \"2019-04-05T00:00:00\", \"2019-04-06T00:00:00\"], \"xaxis\": \"x\", \"y\": [154.4822695035461, 137.7869822485207, 163.95277777777778, 675.90171990172, 919.1096774193549, 277.1227272727273], \"yaxis\": \"y\"}, {\"hovertemplate\": \"variable=rolling_mean<br>date=%{x}<br>value=%{y}<extra></extra>\", \"legendgroup\": \"rolling_mean\", \"line\": {\"color\": \"#EF553B\", \"dash\": \"solid\"}, \"mode\": \"lines\", \"name\": \"rolling_mean\", \"orientation\": \"v\", \"showlegend\": true, \"type\": \"scatter\", \"x\": [\"2019-04-01T00:00:00\", \"2019-04-02T00:00:00\", \"2019-04-03T00:00:00\", \"2019-04-04T00:00:00\", \"2019-04-05T00:00:00\", \"2019-04-06T00:00:00\"], \"xaxis\": \"x\", \"y\": [null, 146.1346258760334, 150.86988001314924, 419.9272488397489, 797.5056986605374, 598.1162023460411], \"yaxis\": \"y\"}],\n",
              "                        {\"legend\": {\"title\": {\"text\": \"variable\"}, \"tracegroupgap\": 0}, \"margin\": {\"t\": 60}, \"template\": {\"data\": {\"bar\": [{\"error_x\": {\"color\": \"#2a3f5f\"}, \"error_y\": {\"color\": \"#2a3f5f\"}, \"marker\": {\"line\": {\"color\": \"#E5ECF6\", \"width\": 0.5}}, \"type\": \"bar\"}], \"barpolar\": [{\"marker\": {\"line\": {\"color\": \"#E5ECF6\", \"width\": 0.5}}, \"type\": \"barpolar\"}], \"carpet\": [{\"aaxis\": {\"endlinecolor\": \"#2a3f5f\", \"gridcolor\": \"white\", \"linecolor\": \"white\", \"minorgridcolor\": \"white\", \"startlinecolor\": \"#2a3f5f\"}, \"baxis\": {\"endlinecolor\": \"#2a3f5f\", \"gridcolor\": \"white\", \"linecolor\": \"white\", \"minorgridcolor\": \"white\", \"startlinecolor\": \"#2a3f5f\"}, \"type\": \"carpet\"}], \"choropleth\": [{\"colorbar\": {\"outlinewidth\": 0, \"ticks\": \"\"}, \"type\": \"choropleth\"}], \"contour\": [{\"colorbar\": {\"outlinewidth\": 0, \"ticks\": \"\"}, \"colorscale\": [[0.0, \"#0d0887\"], [0.1111111111111111, \"#46039f\"], [0.2222222222222222, \"#7201a8\"], [0.3333333333333333, \"#9c179e\"], [0.4444444444444444, \"#bd3786\"], [0.5555555555555556, \"#d8576b\"], [0.6666666666666666, \"#ed7953\"], [0.7777777777777778, \"#fb9f3a\"], [0.8888888888888888, \"#fdca26\"], [1.0, \"#f0f921\"]], \"type\": \"contour\"}], \"contourcarpet\": [{\"colorbar\": {\"outlinewidth\": 0, \"ticks\": \"\"}, \"type\": \"contourcarpet\"}], \"heatmap\": [{\"colorbar\": {\"outlinewidth\": 0, \"ticks\": \"\"}, \"colorscale\": [[0.0, \"#0d0887\"], [0.1111111111111111, \"#46039f\"], [0.2222222222222222, \"#7201a8\"], [0.3333333333333333, \"#9c179e\"], [0.4444444444444444, \"#bd3786\"], [0.5555555555555556, \"#d8576b\"], [0.6666666666666666, \"#ed7953\"], [0.7777777777777778, \"#fb9f3a\"], [0.8888888888888888, \"#fdca26\"], [1.0, \"#f0f921\"]], \"type\": \"heatmap\"}], \"heatmapgl\": [{\"colorbar\": {\"outlinewidth\": 0, \"ticks\": \"\"}, \"colorscale\": [[0.0, \"#0d0887\"], [0.1111111111111111, \"#46039f\"], [0.2222222222222222, \"#7201a8\"], [0.3333333333333333, \"#9c179e\"], [0.4444444444444444, \"#bd3786\"], [0.5555555555555556, \"#d8576b\"], [0.6666666666666666, \"#ed7953\"], [0.7777777777777778, \"#fb9f3a\"], [0.8888888888888888, \"#fdca26\"], [1.0, \"#f0f921\"]], \"type\": \"heatmapgl\"}], \"histogram\": [{\"marker\": {\"colorbar\": {\"outlinewidth\": 0, \"ticks\": \"\"}}, \"type\": \"histogram\"}], \"histogram2d\": [{\"colorbar\": {\"outlinewidth\": 0, \"ticks\": \"\"}, \"colorscale\": [[0.0, \"#0d0887\"], [0.1111111111111111, \"#46039f\"], [0.2222222222222222, \"#7201a8\"], [0.3333333333333333, \"#9c179e\"], [0.4444444444444444, \"#bd3786\"], [0.5555555555555556, \"#d8576b\"], [0.6666666666666666, \"#ed7953\"], [0.7777777777777778, \"#fb9f3a\"], [0.8888888888888888, \"#fdca26\"], [1.0, \"#f0f921\"]], \"type\": \"histogram2d\"}], \"histogram2dcontour\": [{\"colorbar\": {\"outlinewidth\": 0, \"ticks\": \"\"}, \"colorscale\": [[0.0, \"#0d0887\"], [0.1111111111111111, \"#46039f\"], [0.2222222222222222, \"#7201a8\"], [0.3333333333333333, \"#9c179e\"], [0.4444444444444444, \"#bd3786\"], [0.5555555555555556, \"#d8576b\"], [0.6666666666666666, \"#ed7953\"], [0.7777777777777778, \"#fb9f3a\"], [0.8888888888888888, \"#fdca26\"], [1.0, \"#f0f921\"]], \"type\": \"histogram2dcontour\"}], \"mesh3d\": [{\"colorbar\": {\"outlinewidth\": 0, \"ticks\": \"\"}, \"type\": \"mesh3d\"}], \"parcoords\": [{\"line\": {\"colorbar\": {\"outlinewidth\": 0, \"ticks\": \"\"}}, \"type\": \"parcoords\"}], \"pie\": [{\"automargin\": true, \"type\": \"pie\"}], \"scatter\": [{\"marker\": {\"colorbar\": {\"outlinewidth\": 0, \"ticks\": \"\"}}, \"type\": \"scatter\"}], \"scatter3d\": [{\"line\": {\"colorbar\": {\"outlinewidth\": 0, \"ticks\": \"\"}}, \"marker\": {\"colorbar\": {\"outlinewidth\": 0, \"ticks\": \"\"}}, \"type\": \"scatter3d\"}], \"scattercarpet\": [{\"marker\": {\"colorbar\": {\"outlinewidth\": 0, \"ticks\": \"\"}}, \"type\": \"scattercarpet\"}], \"scattergeo\": [{\"marker\": {\"colorbar\": {\"outlinewidth\": 0, \"ticks\": \"\"}}, \"type\": \"scattergeo\"}], \"scattergl\": [{\"marker\": {\"colorbar\": {\"outlinewidth\": 0, \"ticks\": \"\"}}, \"type\": \"scattergl\"}], \"scattermapbox\": [{\"marker\": {\"colorbar\": {\"outlinewidth\": 0, \"ticks\": \"\"}}, \"type\": \"scattermapbox\"}], \"scatterpolar\": [{\"marker\": {\"colorbar\": {\"outlinewidth\": 0, \"ticks\": \"\"}}, \"type\": \"scatterpolar\"}], \"scatterpolargl\": [{\"marker\": {\"colorbar\": {\"outlinewidth\": 0, \"ticks\": \"\"}}, \"type\": \"scatterpolargl\"}], \"scatterternary\": [{\"marker\": {\"colorbar\": {\"outlinewidth\": 0, \"ticks\": \"\"}}, \"type\": \"scatterternary\"}], \"surface\": [{\"colorbar\": {\"outlinewidth\": 0, \"ticks\": \"\"}, \"colorscale\": [[0.0, \"#0d0887\"], [0.1111111111111111, \"#46039f\"], [0.2222222222222222, \"#7201a8\"], [0.3333333333333333, \"#9c179e\"], [0.4444444444444444, \"#bd3786\"], [0.5555555555555556, \"#d8576b\"], [0.6666666666666666, \"#ed7953\"], [0.7777777777777778, \"#fb9f3a\"], [0.8888888888888888, \"#fdca26\"], [1.0, \"#f0f921\"]], \"type\": \"surface\"}], \"table\": [{\"cells\": {\"fill\": {\"color\": \"#EBF0F8\"}, \"line\": {\"color\": \"white\"}}, \"header\": {\"fill\": {\"color\": \"#C8D4E3\"}, \"line\": {\"color\": \"white\"}}, \"type\": \"table\"}]}, \"layout\": {\"annotationdefaults\": {\"arrowcolor\": \"#2a3f5f\", \"arrowhead\": 0, \"arrowwidth\": 1}, \"coloraxis\": {\"colorbar\": {\"outlinewidth\": 0, \"ticks\": \"\"}}, \"colorscale\": {\"diverging\": [[0, \"#8e0152\"], [0.1, \"#c51b7d\"], [0.2, \"#de77ae\"], [0.3, \"#f1b6da\"], [0.4, \"#fde0ef\"], [0.5, \"#f7f7f7\"], [0.6, \"#e6f5d0\"], [0.7, \"#b8e186\"], [0.8, \"#7fbc41\"], [0.9, \"#4d9221\"], [1, \"#276419\"]], \"sequential\": [[0.0, \"#0d0887\"], [0.1111111111111111, \"#46039f\"], [0.2222222222222222, \"#7201a8\"], [0.3333333333333333, \"#9c179e\"], [0.4444444444444444, \"#bd3786\"], [0.5555555555555556, \"#d8576b\"], [0.6666666666666666, \"#ed7953\"], [0.7777777777777778, \"#fb9f3a\"], [0.8888888888888888, \"#fdca26\"], [1.0, \"#f0f921\"]], \"sequentialminus\": [[0.0, \"#0d0887\"], [0.1111111111111111, \"#46039f\"], [0.2222222222222222, \"#7201a8\"], [0.3333333333333333, \"#9c179e\"], [0.4444444444444444, \"#bd3786\"], [0.5555555555555556, \"#d8576b\"], [0.6666666666666666, \"#ed7953\"], [0.7777777777777778, \"#fb9f3a\"], [0.8888888888888888, \"#fdca26\"], [1.0, \"#f0f921\"]]}, \"colorway\": [\"#636efa\", \"#EF553B\", \"#00cc96\", \"#ab63fa\", \"#FFA15A\", \"#19d3f3\", \"#FF6692\", \"#B6E880\", \"#FF97FF\", \"#FECB52\"], \"font\": {\"color\": \"#2a3f5f\"}, \"geo\": {\"bgcolor\": \"white\", \"lakecolor\": \"white\", \"landcolor\": \"#E5ECF6\", \"showlakes\": true, \"showland\": true, \"subunitcolor\": \"white\"}, \"hoverlabel\": {\"align\": \"left\"}, \"hovermode\": \"closest\", \"mapbox\": {\"style\": \"light\"}, \"paper_bgcolor\": \"white\", \"plot_bgcolor\": \"#E5ECF6\", \"polar\": {\"angularaxis\": {\"gridcolor\": \"white\", \"linecolor\": \"white\", \"ticks\": \"\"}, \"bgcolor\": \"#E5ECF6\", \"radialaxis\": {\"gridcolor\": \"white\", \"linecolor\": \"white\", \"ticks\": \"\"}}, \"scene\": {\"xaxis\": {\"backgroundcolor\": \"#E5ECF6\", \"gridcolor\": \"white\", \"gridwidth\": 2, \"linecolor\": \"white\", \"showbackground\": true, \"ticks\": \"\", \"zerolinecolor\": \"white\"}, \"yaxis\": {\"backgroundcolor\": \"#E5ECF6\", \"gridcolor\": \"white\", \"gridwidth\": 2, \"linecolor\": \"white\", \"showbackground\": true, \"ticks\": \"\", \"zerolinecolor\": \"white\"}, \"zaxis\": {\"backgroundcolor\": \"#E5ECF6\", \"gridcolor\": \"white\", \"gridwidth\": 2, \"linecolor\": \"white\", \"showbackground\": true, \"ticks\": \"\", \"zerolinecolor\": \"white\"}}, \"shapedefaults\": {\"line\": {\"color\": \"#2a3f5f\"}}, \"ternary\": {\"aaxis\": {\"gridcolor\": \"white\", \"linecolor\": \"white\", \"ticks\": \"\"}, \"baxis\": {\"gridcolor\": \"white\", \"linecolor\": \"white\", \"ticks\": \"\"}, \"bgcolor\": \"#E5ECF6\", \"caxis\": {\"gridcolor\": \"white\", \"linecolor\": \"white\", \"ticks\": \"\"}}, \"title\": {\"x\": 0.05}, \"xaxis\": {\"automargin\": true, \"gridcolor\": \"white\", \"linecolor\": \"white\", \"ticks\": \"\", \"title\": {\"standoff\": 15}, \"zerolinecolor\": \"white\", \"zerolinewidth\": 2}, \"yaxis\": {\"automargin\": true, \"gridcolor\": \"white\", \"linecolor\": \"white\", \"ticks\": \"\", \"title\": {\"standoff\": 15}, \"zerolinecolor\": \"white\", \"zerolinewidth\": 2}}}, \"xaxis\": {\"anchor\": \"y\", \"domain\": [0.0, 1.0], \"title\": {\"text\": \"date\"}}, \"yaxis\": {\"anchor\": \"x\", \"domain\": [0.0, 1.0], \"title\": {\"text\": \"value\"}}},\n",
              "                        {\"responsive\": true}\n",
              "                    ).then(function(){\n",
              "                            \n",
              "var gd = document.getElementById('02fd4eab-df26-423e-90d0-3bd96e3fea3c');\n",
              "var x = new MutationObserver(function (mutations, observer) {{\n",
              "        var display = window.getComputedStyle(gd).display;\n",
              "        if (!display || display === 'none') {{\n",
              "            console.log([gd, 'removed!']);\n",
              "            Plotly.purge(gd);\n",
              "            observer.disconnect();\n",
              "        }}\n",
              "}});\n",
              "\n",
              "// Listen for the removal of the full notebook cells\n",
              "var notebookContainer = gd.closest('#notebook-container');\n",
              "if (notebookContainer) {{\n",
              "    x.observe(notebookContainer, {childList: true});\n",
              "}}\n",
              "\n",
              "// Listen for the clearing of the current output cell\n",
              "var outputEl = gd.closest('.output');\n",
              "if (outputEl) {{\n",
              "    x.observe(outputEl, {childList: true});\n",
              "}}\n",
              "\n",
              "                        })\n",
              "                };\n",
              "                });\n",
              "            </script>\n",
              "        </div>"
            ]
          },
          "metadata": {},
          "output_type": "display_data"
        }
      ]
    },
    {
      "cell_type": "code",
      "metadata": {
        "id": "QQMBzcecK3Pb"
      },
      "source": [
        "# В какой день наблюдается наибольшая разница по модулю между арифметическим средним и скользящим средним? \n",
        "# Дни, в которых скользящее среднее равно NaN, не учитываем."
      ],
      "execution_count": null,
      "outputs": []
    },
    {
      "cell_type": "code",
      "metadata": {
        "id": "VyRj1unJK3Pb"
      },
      "source": [
        "mean_views_day['abs_diff'] = np.absolute(mean_views_day.rolling_mean - mean_views_day.mean_views)"
      ],
      "execution_count": null,
      "outputs": []
    },
    {
      "cell_type": "code",
      "metadata": {
        "id": "ApF3BlmjK3Pc"
      },
      "source": [
        "mean_views_day['diff'] = mean_views_day.rolling_mean - mean_views_day.mean_views"
      ],
      "execution_count": null,
      "outputs": []
    },
    {
      "cell_type": "code",
      "metadata": {
        "id": "3MhVV6vhK3Pc",
        "outputId": "37a6d3af-6c60-4893-bf48-dc0dd5a07708"
      },
      "source": [
        "mean_views_day"
      ],
      "execution_count": null,
      "outputs": [
        {
          "data": {
            "text/html": [
              "<div>\n",
              "<style scoped>\n",
              "    .dataframe tbody tr th:only-of-type {\n",
              "        vertical-align: middle;\n",
              "    }\n",
              "\n",
              "    .dataframe tbody tr th {\n",
              "        vertical-align: top;\n",
              "    }\n",
              "\n",
              "    .dataframe thead th {\n",
              "        text-align: right;\n",
              "    }\n",
              "</style>\n",
              "<table border=\"1\" class=\"dataframe\">\n",
              "  <thead>\n",
              "    <tr style=\"text-align: right;\">\n",
              "      <th></th>\n",
              "      <th>date</th>\n",
              "      <th>mean_views</th>\n",
              "      <th>rolling_mean</th>\n",
              "      <th>abs_diff</th>\n",
              "      <th>diff</th>\n",
              "    </tr>\n",
              "  </thead>\n",
              "  <tbody>\n",
              "    <tr>\n",
              "      <th>0</th>\n",
              "      <td>2019-04-01</td>\n",
              "      <td>154.482270</td>\n",
              "      <td>NaN</td>\n",
              "      <td>NaN</td>\n",
              "      <td>NaN</td>\n",
              "    </tr>\n",
              "    <tr>\n",
              "      <th>1</th>\n",
              "      <td>2019-04-02</td>\n",
              "      <td>137.786982</td>\n",
              "      <td>146.134626</td>\n",
              "      <td>8.347644</td>\n",
              "      <td>8.347644</td>\n",
              "    </tr>\n",
              "    <tr>\n",
              "      <th>2</th>\n",
              "      <td>2019-04-03</td>\n",
              "      <td>163.952778</td>\n",
              "      <td>150.869880</td>\n",
              "      <td>13.082898</td>\n",
              "      <td>-13.082898</td>\n",
              "    </tr>\n",
              "    <tr>\n",
              "      <th>3</th>\n",
              "      <td>2019-04-04</td>\n",
              "      <td>675.901720</td>\n",
              "      <td>419.927249</td>\n",
              "      <td>255.974471</td>\n",
              "      <td>-255.974471</td>\n",
              "    </tr>\n",
              "    <tr>\n",
              "      <th>4</th>\n",
              "      <td>2019-04-05</td>\n",
              "      <td>919.109677</td>\n",
              "      <td>797.505699</td>\n",
              "      <td>121.603979</td>\n",
              "      <td>-121.603979</td>\n",
              "    </tr>\n",
              "    <tr>\n",
              "      <th>5</th>\n",
              "      <td>2019-04-06</td>\n",
              "      <td>277.122727</td>\n",
              "      <td>598.116202</td>\n",
              "      <td>320.993475</td>\n",
              "      <td>320.993475</td>\n",
              "    </tr>\n",
              "  </tbody>\n",
              "</table>\n",
              "</div>"
            ],
            "text/plain": [
              "        date  mean_views  rolling_mean    abs_diff        diff\n",
              "0 2019-04-01  154.482270           NaN         NaN         NaN\n",
              "1 2019-04-02  137.786982    146.134626    8.347644    8.347644\n",
              "2 2019-04-03  163.952778    150.869880   13.082898  -13.082898\n",
              "3 2019-04-04  675.901720    419.927249  255.974471 -255.974471\n",
              "4 2019-04-05  919.109677    797.505699  121.603979 -121.603979\n",
              "5 2019-04-06  277.122727    598.116202  320.993475  320.993475"
            ]
          },
          "execution_count": 72,
          "metadata": {},
          "output_type": "execute_result"
        }
      ]
    },
    {
      "cell_type": "code",
      "metadata": {
        "id": "ifMmdUqUK3Pd"
      },
      "source": [
        "#  *Напишите функцию, которая найдет проблемное объявление\n",
        "# (с наибольшим/наименьшим количеством показов) в день, в который была замечена самая большая по модулю аномалия. "
      ],
      "execution_count": null,
      "outputs": []
    },
    {
      "cell_type": "code",
      "metadata": {
        "id": "03jWVhtWK3Pd",
        "outputId": "9d61a1fb-8a67-4c04-c466-a70a5dadd006"
      },
      "source": [
        "ads_date_id[ads_date_id.date=='2019-04-06'].sort_values('ad_count', ascending = False)"
      ],
      "execution_count": null,
      "outputs": [
        {
          "data": {
            "text/html": [
              "<div>\n",
              "<style scoped>\n",
              "    .dataframe tbody tr th:only-of-type {\n",
              "        vertical-align: middle;\n",
              "    }\n",
              "\n",
              "    .dataframe tbody tr th {\n",
              "        vertical-align: top;\n",
              "    }\n",
              "\n",
              "    .dataframe thead th {\n",
              "        text-align: right;\n",
              "    }\n",
              "</style>\n",
              "<table border=\"1\" class=\"dataframe\">\n",
              "  <thead>\n",
              "    <tr style=\"text-align: right;\">\n",
              "      <th></th>\n",
              "      <th>date</th>\n",
              "      <th>ad_id</th>\n",
              "      <th>ad_count</th>\n",
              "    </tr>\n",
              "  </thead>\n",
              "  <tbody>\n",
              "    <tr>\n",
              "      <th>1902</th>\n",
              "      <td>2019-04-06</td>\n",
              "      <td>112583</td>\n",
              "      <td>48991</td>\n",
              "    </tr>\n",
              "    <tr>\n",
              "      <th>1776</th>\n",
              "      <td>2019-04-06</td>\n",
              "      <td>28142</td>\n",
              "      <td>3280</td>\n",
              "    </tr>\n",
              "    <tr>\n",
              "      <th>1806</th>\n",
              "      <td>2019-04-06</td>\n",
              "      <td>38892</td>\n",
              "      <td>1337</td>\n",
              "    </tr>\n",
              "    <tr>\n",
              "      <th>1801</th>\n",
              "      <td>2019-04-06</td>\n",
              "      <td>37720</td>\n",
              "      <td>835</td>\n",
              "    </tr>\n",
              "    <tr>\n",
              "      <th>1737</th>\n",
              "      <td>2019-04-06</td>\n",
              "      <td>18425</td>\n",
              "      <td>426</td>\n",
              "    </tr>\n",
              "    <tr>\n",
              "      <th>...</th>\n",
              "      <td>...</td>\n",
              "      <td>...</td>\n",
              "      <td>...</td>\n",
              "    </tr>\n",
              "    <tr>\n",
              "      <th>1739</th>\n",
              "      <td>2019-04-06</td>\n",
              "      <td>18681</td>\n",
              "      <td>1</td>\n",
              "    </tr>\n",
              "    <tr>\n",
              "      <th>1773</th>\n",
              "      <td>2019-04-06</td>\n",
              "      <td>27581</td>\n",
              "      <td>1</td>\n",
              "    </tr>\n",
              "    <tr>\n",
              "      <th>1795</th>\n",
              "      <td>2019-04-06</td>\n",
              "      <td>35615</td>\n",
              "      <td>1</td>\n",
              "    </tr>\n",
              "    <tr>\n",
              "      <th>1875</th>\n",
              "      <td>2019-04-06</td>\n",
              "      <td>106809</td>\n",
              "      <td>1</td>\n",
              "    </tr>\n",
              "    <tr>\n",
              "      <th>1867</th>\n",
              "      <td>2019-04-06</td>\n",
              "      <td>98274</td>\n",
              "      <td>1</td>\n",
              "    </tr>\n",
              "  </tbody>\n",
              "</table>\n",
              "<p>220 rows × 3 columns</p>\n",
              "</div>"
            ],
            "text/plain": [
              "           date   ad_id  ad_count\n",
              "1902 2019-04-06  112583     48991\n",
              "1776 2019-04-06   28142      3280\n",
              "1806 2019-04-06   38892      1337\n",
              "1801 2019-04-06   37720       835\n",
              "1737 2019-04-06   18425       426\n",
              "...         ...     ...       ...\n",
              "1739 2019-04-06   18681         1\n",
              "1773 2019-04-06   27581         1\n",
              "1795 2019-04-06   35615         1\n",
              "1875 2019-04-06  106809         1\n",
              "1867 2019-04-06   98274         1\n",
              "\n",
              "[220 rows x 3 columns]"
            ]
          },
          "execution_count": 74,
          "metadata": {},
          "output_type": "execute_result"
        }
      ]
    },
    {
      "cell_type": "code",
      "metadata": {
        "id": "YgAqcZyrK3Pe"
      },
      "source": [
        "# Функция для поиска аномальных показов\n"
      ],
      "execution_count": null,
      "outputs": []
    },
    {
      "cell_type": "code",
      "metadata": {
        "id": "hkCWQ0GjK3Pe"
      },
      "source": [
        "# Теперь подгрузим данные по рекламным клиентам и найдем среднее количество дней от даты создания рекламного клиента \n",
        "# и первым запуском рекламного объявления этим клиентом."
      ],
      "execution_count": null,
      "outputs": []
    },
    {
      "cell_type": "code",
      "metadata": {
        "id": "3HMbPFzMK3Pe",
        "outputId": "586f43e4-d90f-4e8c-979a-acd6c234f9c0"
      },
      "source": [
        "ads_clients_data.client_union_id.nunique()"
      ],
      "execution_count": null,
      "outputs": [
        {
          "data": {
            "text/plain": [
              "122078"
            ]
          },
          "execution_count": 77,
          "metadata": {},
          "output_type": "execute_result"
        }
      ]
    },
    {
      "cell_type": "code",
      "metadata": {
        "id": "1McnBui8K3Pf"
      },
      "source": [
        ""
      ],
      "execution_count": null,
      "outputs": []
    },
    {
      "cell_type": "code",
      "metadata": {
        "id": "_pXvWTVmK3Pf"
      },
      "source": [
        "ads_all = ads_data.merge(ads_clients_data, on = ['client_union_id'])"
      ],
      "execution_count": null,
      "outputs": []
    },
    {
      "cell_type": "code",
      "metadata": {
        "id": "0X1HMWs_K3Pg"
      },
      "source": [
        "ads_all['create_ad_diff'] = ads_all['date_x'] - ads_all['create_date']"
      ],
      "execution_count": null,
      "outputs": []
    },
    {
      "cell_type": "code",
      "metadata": {
        "id": "5JiNu5xyK3Pg",
        "outputId": "473dc832-791a-408d-f03d-d714dfe3ee2b"
      },
      "source": [
        "ads_all['create_ad_diff'].describe()"
      ],
      "execution_count": null,
      "outputs": [
        {
          "data": {
            "text/plain": [
              "count                        1000000\n",
              "mean     105 days 02:40:39.302399998\n",
              "std       52 days 03:18:17.886581677\n",
              "min                 26 days 00:00:00\n",
              "25%                 66 days 00:00:00\n",
              "50%                 67 days 00:00:00\n",
              "75%                168 days 00:00:00\n",
              "max                252 days 00:00:00\n",
              "Name: create_ad_diff, dtype: object"
            ]
          },
          "execution_count": 80,
          "metadata": {},
          "output_type": "execute_result"
        }
      ]
    },
    {
      "cell_type": "code",
      "metadata": {
        "id": "WECfRM_6K3Pg"
      },
      "source": [
        "ads_all_by_client = ads_all.groupby('client_union_id', as_index=False).create_ad_diff.mean(numeric_only=False)"
      ],
      "execution_count": null,
      "outputs": []
    },
    {
      "cell_type": "code",
      "metadata": {
        "id": "2v0hOLCfK3Ph"
      },
      "source": [
        "ads_all_by_client['create_ad_diff'] = pd.to_timedelta(ads_all_by_client.create_ad_diff).astype('timedelta64[D]')"
      ],
      "execution_count": null,
      "outputs": []
    },
    {
      "cell_type": "code",
      "metadata": {
        "id": "GghFz6rUK3Ph",
        "outputId": "c8b4fc7b-f534-4cd4-bd81-41801e079d4a"
      },
      "source": [
        "ads_all_by_client['create_ad_diff'].mean()"
      ],
      "execution_count": null,
      "outputs": [
        {
          "data": {
            "text/plain": [
              "124.46062052505967"
            ]
          },
          "execution_count": 83,
          "metadata": {},
          "output_type": "execute_result"
        }
      ]
    },
    {
      "cell_type": "code",
      "metadata": {
        "id": "zX3a9E1TK3Pi"
      },
      "source": [
        "# Вычислите конверсию из создания рекламного клиента в запуск первой рекламы в течение не более 365 дней. \n",
        "# Ответ дайте в процентах и округлите до сотых. (Фильтровать нужно по значению в формате pd.Timedelta(365, unit='d'))"
      ],
      "execution_count": null,
      "outputs": []
    },
    {
      "cell_type": "code",
      "metadata": {
        "id": "_k0lAeD9K3Pp"
      },
      "source": [
        "year = pd.Timedelta(365, unit=\"D\")"
      ],
      "execution_count": null,
      "outputs": []
    },
    {
      "cell_type": "code",
      "metadata": {
        "id": "YGVfrAmLK3Pp"
      },
      "source": [
        "ads_all_right = ads_data.merge(ads_clients_data, how = 'right', on = ['client_union_id'])"
      ],
      "execution_count": null,
      "outputs": []
    },
    {
      "cell_type": "code",
      "metadata": {
        "id": "tETVwb4hK3Pp",
        "outputId": "14bc6147-3804-4ba7-9d23-d46cd99ad9bd"
      },
      "source": [
        "ads_all_right.isnull().sum()"
      ],
      "execution_count": null,
      "outputs": [
        {
          "data": {
            "text/plain": [
              "date_x                   121240\n",
              "time                     121240\n",
              "event                    121240\n",
              "platform                 121240\n",
              "ad_id                    121240\n",
              "client_union_id               0\n",
              "campaign_union_id        121240\n",
              "ad_cost_type             121240\n",
              "ad_cost                  121240\n",
              "has_video                121240\n",
              "target_audience_count    121240\n",
              "date_y                        0\n",
              "community_id                  0\n",
              "create_date                   0\n",
              "dtype: int64"
            ]
          },
          "execution_count": 90,
          "metadata": {},
          "output_type": "execute_result"
        }
      ]
    },
    {
      "cell_type": "code",
      "metadata": {
        "id": "QEzkV7JoK3Pq",
        "outputId": "93a584f6-ada2-477d-d67e-4f3bd6bb2ebd"
      },
      "source": [
        "ads_all_right['create_date']"
      ],
      "execution_count": null,
      "outputs": [
        {
          "data": {
            "text/html": [
              "<div>\n",
              "<style scoped>\n",
              "    .dataframe tbody tr th:only-of-type {\n",
              "        vertical-align: middle;\n",
              "    }\n",
              "\n",
              "    .dataframe tbody tr th {\n",
              "        vertical-align: top;\n",
              "    }\n",
              "\n",
              "    .dataframe thead th {\n",
              "        text-align: right;\n",
              "    }\n",
              "</style>\n",
              "<table border=\"1\" class=\"dataframe\">\n",
              "  <thead>\n",
              "    <tr style=\"text-align: right;\">\n",
              "      <th></th>\n",
              "      <th>date_x</th>\n",
              "      <th>time</th>\n",
              "      <th>event</th>\n",
              "      <th>platform</th>\n",
              "      <th>ad_id</th>\n",
              "      <th>client_union_id</th>\n",
              "      <th>campaign_union_id</th>\n",
              "      <th>ad_cost_type</th>\n",
              "      <th>ad_cost</th>\n",
              "      <th>has_video</th>\n",
              "      <th>target_audience_count</th>\n",
              "      <th>date_y</th>\n",
              "      <th>community_id</th>\n",
              "      <th>create_date</th>\n",
              "    </tr>\n",
              "  </thead>\n",
              "  <tbody>\n",
              "    <tr>\n",
              "      <th>0</th>\n",
              "      <td>2019-04-01</td>\n",
              "      <td>2019-04-01 00:08:51</td>\n",
              "      <td>view</td>\n",
              "      <td>android</td>\n",
              "      <td>3.0</td>\n",
              "      <td>1</td>\n",
              "      <td>1.0</td>\n",
              "      <td>CPC</td>\n",
              "      <td>46.7</td>\n",
              "      <td>0.0</td>\n",
              "      <td>45035.0</td>\n",
              "      <td>2020-05-07</td>\n",
              "      <td>-130371893</td>\n",
              "      <td>2018-12-24</td>\n",
              "    </tr>\n",
              "    <tr>\n",
              "      <th>1</th>\n",
              "      <td>2019-04-01</td>\n",
              "      <td>2019-04-01 00:09:36</td>\n",
              "      <td>view</td>\n",
              "      <td>ios</td>\n",
              "      <td>3.0</td>\n",
              "      <td>1</td>\n",
              "      <td>1.0</td>\n",
              "      <td>CPC</td>\n",
              "      <td>46.7</td>\n",
              "      <td>0.0</td>\n",
              "      <td>45035.0</td>\n",
              "      <td>2020-05-07</td>\n",
              "      <td>-130371893</td>\n",
              "      <td>2018-12-24</td>\n",
              "    </tr>\n",
              "    <tr>\n",
              "      <th>2</th>\n",
              "      <td>2019-04-01</td>\n",
              "      <td>2019-04-01 00:29:30</td>\n",
              "      <td>view</td>\n",
              "      <td>ios</td>\n",
              "      <td>3.0</td>\n",
              "      <td>1</td>\n",
              "      <td>1.0</td>\n",
              "      <td>CPC</td>\n",
              "      <td>46.7</td>\n",
              "      <td>0.0</td>\n",
              "      <td>45035.0</td>\n",
              "      <td>2020-05-07</td>\n",
              "      <td>-130371893</td>\n",
              "      <td>2018-12-24</td>\n",
              "    </tr>\n",
              "    <tr>\n",
              "      <th>3</th>\n",
              "      <td>2019-04-01</td>\n",
              "      <td>2019-04-01 00:29:58</td>\n",
              "      <td>view</td>\n",
              "      <td>android</td>\n",
              "      <td>3.0</td>\n",
              "      <td>1</td>\n",
              "      <td>1.0</td>\n",
              "      <td>CPC</td>\n",
              "      <td>46.7</td>\n",
              "      <td>0.0</td>\n",
              "      <td>45035.0</td>\n",
              "      <td>2020-05-07</td>\n",
              "      <td>-130371893</td>\n",
              "      <td>2018-12-24</td>\n",
              "    </tr>\n",
              "    <tr>\n",
              "      <th>4</th>\n",
              "      <td>2019-04-01</td>\n",
              "      <td>2019-04-01 00:51:54</td>\n",
              "      <td>view</td>\n",
              "      <td>android</td>\n",
              "      <td>3.0</td>\n",
              "      <td>1</td>\n",
              "      <td>1.0</td>\n",
              "      <td>CPC</td>\n",
              "      <td>46.7</td>\n",
              "      <td>0.0</td>\n",
              "      <td>45035.0</td>\n",
              "      <td>2020-05-07</td>\n",
              "      <td>-130371893</td>\n",
              "      <td>2018-12-24</td>\n",
              "    </tr>\n",
              "  </tbody>\n",
              "</table>\n",
              "</div>"
            ],
            "text/plain": [
              "      date_x                 time event platform  ad_id  client_union_id  \\\n",
              "0 2019-04-01  2019-04-01 00:08:51  view  android    3.0                1   \n",
              "1 2019-04-01  2019-04-01 00:09:36  view      ios    3.0                1   \n",
              "2 2019-04-01  2019-04-01 00:29:30  view      ios    3.0                1   \n",
              "3 2019-04-01  2019-04-01 00:29:58  view  android    3.0                1   \n",
              "4 2019-04-01  2019-04-01 00:51:54  view  android    3.0                1   \n",
              "\n",
              "   campaign_union_id ad_cost_type  ad_cost  has_video  target_audience_count  \\\n",
              "0                1.0          CPC     46.7        0.0                45035.0   \n",
              "1                1.0          CPC     46.7        0.0                45035.0   \n",
              "2                1.0          CPC     46.7        0.0                45035.0   \n",
              "3                1.0          CPC     46.7        0.0                45035.0   \n",
              "4                1.0          CPC     46.7        0.0                45035.0   \n",
              "\n",
              "      date_y  community_id create_date  \n",
              "0 2020-05-07    -130371893  2018-12-24  \n",
              "1 2020-05-07    -130371893  2018-12-24  \n",
              "2 2020-05-07    -130371893  2018-12-24  \n",
              "3 2020-05-07    -130371893  2018-12-24  \n",
              "4 2020-05-07    -130371893  2018-12-24  "
            ]
          },
          "execution_count": 91,
          "metadata": {},
          "output_type": "execute_result"
        }
      ]
    },
    {
      "cell_type": "code",
      "metadata": {
        "id": "MMmFcpl6K3Pq"
      },
      "source": [
        ""
      ],
      "execution_count": null,
      "outputs": []
    }
  ]
}